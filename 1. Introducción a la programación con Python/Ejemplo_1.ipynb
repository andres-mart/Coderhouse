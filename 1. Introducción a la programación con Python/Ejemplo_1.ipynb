{
 "cells": [
  {
   "attachments": {},
   "cell_type": "markdown",
   "metadata": {},
   "source": [
    "# Ejemplos de Clase Introd. a la programación con Python"
   ]
  },
  {
   "attachments": {},
   "cell_type": "markdown",
   "metadata": {},
   "source": [
    "## Tipos de Datos"
   ]
  },
  {
   "cell_type": "code",
   "execution_count": 3,
   "metadata": {},
   "outputs": [
    {
     "name": "stdout",
     "output_type": "stream",
     "text": [
      "<class 'bool'>\n",
      "[1, 23, 'str', True]\n",
      "(1, 56, 'str')\n"
     ]
    }
   ],
   "source": [
    "# Tipo de Datos Básicos\n",
    "x = True\n",
    "\n",
    "# Tipo de datos asociados a Python:\n",
    "# Listas\n",
    "lista = [1,23,'str',True]\n",
    "\n",
    "# Tuplas\n",
    "tupla = (1,56,'str')\n",
    "\n",
    "print(type(x))\n",
    "print(lista)\n",
    "print(tupla)"
   ]
  },
  {
   "attachments": {},
   "cell_type": "markdown",
   "metadata": {},
   "source": [
    "## Operadores"
   ]
  },
  {
   "cell_type": "code",
   "execution_count": 6,
   "metadata": {},
   "outputs": [
    {
     "name": "stdout",
     "output_type": "stream",
     "text": [
      "2.0\n"
     ]
    },
    {
     "data": {
      "text/plain": [
       "True"
      ]
     },
     "execution_count": 6,
     "metadata": {},
     "output_type": "execute_result"
    }
   ],
   "source": [
    "# Operadores Matemàticos:\n",
    "z = 5.5\n",
    "y = 2.5\n",
    "\n",
    "print(z // y)  # División entera\n",
    "\n",
    "# Operadores Lógicos\n",
    "a = [1,2,'David']\n",
    "b = [1,2,3]\n",
    "\n",
    "# Operadores de Identidad y Pertenencia\n",
    "'David' in a"
   ]
  },
  {
   "attachments": {},
   "cell_type": "markdown",
   "metadata": {},
   "source": [
    "## Ejercicio #1"
   ]
  },
  {
   "cell_type": "code",
   "execution_count": 8,
   "metadata": {},
   "outputs": [
    {
     "data": {
      "text/plain": [
       "34.13716694115407"
      ]
     },
     "execution_count": 8,
     "metadata": {},
     "output_type": "execute_result"
    }
   ],
   "source": [
    "import math\n",
    "\n",
    "b = 10\n",
    "a = 2\n",
    "r = 1.5\n",
    "\n",
    "# pi = 3.141516\n",
    "pi = math.pi\n",
    "\n",
    "# Calculamos el área del rectángulo y círculo respectivamente:\n",
    "area_rect = a*b\n",
    "area_circulo = pi*(r**2)\n",
    "\n",
    "# Calculamos el área total, sumamos e imprimimos el resultado:\n",
    "total_area = area_rect + (area_circulo*2)\n",
    "\n",
    "total_area"
   ]
  },
  {
   "attachments": {},
   "cell_type": "markdown",
   "metadata": {},
   "source": [
    "## Ejercicio #2"
   ]
  },
  {
   "cell_type": "code",
   "execution_count": 9,
   "metadata": {},
   "outputs": [
    {
     "data": {
      "text/plain": [
       "2249.9542042283474"
      ]
     },
     "execution_count": 9,
     "metadata": {},
     "output_type": "execute_result"
    }
   ],
   "source": [
    "r1 = 8      # Radio esfera\n",
    "r2 = 4.2    # Radio cono\n",
    "h = 5.7     # Altura del cono\n",
    "\n",
    "volumen_esfera = (4/3)*pi*(r1**3)\n",
    "volumen_cono = (1/3)*pi*(r2**2)*h\n",
    "\n",
    "# Calculamos el volúmen total e imprimimos:\n",
    "vol_total = volumen_esfera + volumen_cono\n",
    "vol_total"
   ]
  }
 ],
 "metadata": {
  "kernelspec": {
   "display_name": "Python 3",
   "language": "python",
   "name": "python3"
  },
  "language_info": {
   "codemirror_mode": {
    "name": "ipython",
    "version": 3
   },
   "file_extension": ".py",
   "mimetype": "text/x-python",
   "name": "python",
   "nbconvert_exporter": "python",
   "pygments_lexer": "ipython3",
   "version": "3.11.0"
  },
  "orig_nbformat": 4,
  "vscode": {
   "interpreter": {
    "hash": "c261aea317cc0286b3b3261fbba9abdec21eaa57589985bb7a274bf54d6cc0a7"
   }
  }
 },
 "nbformat": 4,
 "nbformat_minor": 2
}
