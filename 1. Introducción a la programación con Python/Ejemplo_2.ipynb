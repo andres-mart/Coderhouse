{
 "cells": [
  {
   "attachments": {},
   "cell_type": "markdown",
   "metadata": {},
   "source": [
    "## Introducción a la programación con Python (Parte II)"
   ]
  },
  {
   "attachments": {},
   "cell_type": "markdown",
   "metadata": {},
   "source": [
    "### Estructuras de control\n",
    "\n",
    "En Python, como en otros lenguajes de programación **estructurados**, se utilizan las **estructuras de control**. Las cuales pueden ser de tipo *condicional* (if) o *cíclicas* (for, while). "
   ]
  },
  {
   "attachments": {},
   "cell_type": "markdown",
   "metadata": {},
   "source": [
    "### Condicional: estructura IF\n",
    "La estructura condicional se basa en que una sentencia se ejecuta según el valor que se le atribuye a una variable booleana. Una variable booleana es aquella que tiene dos valores posibles (true o false). Por tanto, esta estructura se puede ejecutar de dos formas distintas, dependiendo del valor que tenga su variable."
   ]
  },
  {
   "cell_type": "code",
   "execution_count": 1,
   "metadata": {},
   "outputs": [
    {
     "name": "stdout",
     "output_type": "stream",
     "text": [
      "No se cumpplió\n"
     ]
    }
   ],
   "source": [
    "# IF\n",
    "condicion = False\n",
    "\n",
    "if (condicion):\n",
    "  print(\"Se cumplió la condición\")\n",
    "else:\n",
    "  print(\"No se cumpplió\")"
   ]
  },
  {
   "attachments": {},
   "cell_type": "markdown",
   "metadata": {},
   "source": [
    "Por ejemplo, podemos hablar de la condición para aprobar una materia. Si la nota es mayor o igual a 7 promociona, si es mayor o igual a 5 habilita, pero si es menor a 5 desaprueba:"
   ]
  },
  {
   "cell_type": "code",
   "execution_count": 2,
   "metadata": {},
   "outputs": [
    {
     "name": "stdout",
     "output_type": "stream",
     "text": [
      "Promociona\n"
     ]
    }
   ],
   "source": [
    "# Definimos el valor de 'nota':\n",
    "nota = 7\n",
    "\n",
    "if (nota >= 7):\n",
    "  print(\"Promociona\")\n",
    "elif (nota >= 5):\n",
    "  print(\"Aprobado\")\n",
    "else:\n",
    "  print(\"Desaprueba\")"
   ]
  },
  {
   "attachments": {},
   "cell_type": "markdown",
   "metadata": {},
   "source": [
    "### Iteración:  FOR y WHILE\n",
    "\n",
    "La estructura de repetición ejecuta una o un conjunto de sentencias siempre que una variable booleana sea verdadera. Es decir, son una forma de ejecutar un código de manera repetida. Para los bucles o iteraciones, los lenguajes de programación usan las estructuras ``while`` y ``for``. "
   ]
  },
  {
   "attachments": {},
   "cell_type": "markdown",
   "metadata": {},
   "source": [
    "### Estructura FOR\n",
    "\n",
    "Consta de:\n",
    "\n",
    "1. El nombre de la variable a utilizar (Ej: color)\n",
    "2. El conjunto de valores a recorrer (Ej: los colores)\n",
    "3. Se utiliza la palabra \"in\" para unirlos.\n",
    "\n",
    "El objeto a la derecha de \"in\" puede ser cualquier objeto que soporte la iteración. Si se puede pensar en un grupo de cosas (lista), probablemente se pueda hacer un bucle sobre él (iterar). "
   ]
  },
  {
   "cell_type": "code",
   "execution_count": 3,
   "metadata": {},
   "outputs": [
    {
     "name": "stdout",
     "output_type": "stream",
     "text": [
      "violeta\n",
      "azul\n",
      "verde\n",
      "amarillo\n"
     ]
    }
   ],
   "source": [
    "# Definimos la variable 'colores' en forma de lista:\n",
    "colores = ['violeta', 'azul', 'verde', 'amarillo']\n",
    "\n",
    "for color in colores:\n",
    "  print(color) "
   ]
  },
  {
   "cell_type": "code",
   "execution_count": 4,
   "metadata": {},
   "outputs": [
    {
     "name": "stdout",
     "output_type": "stream",
     "text": [
      "1\n",
      "2\n",
      "3\n",
      "4\n",
      "5\n"
     ]
    }
   ],
   "source": [
    "# Usamos otro ejemplo:\n",
    "numeros = [1,2,3,4,5]\n",
    "\n",
    "for numero in numeros:\n",
    "  print(numero)"
   ]
  },
  {
   "cell_type": "code",
   "execution_count": 5,
   "metadata": {},
   "outputs": [
    {
     "name": "stdout",
     "output_type": "stream",
     "text": [
      "p\n",
      "r\n",
      "u\n",
      "e\n",
      "b\n",
      "a\n"
     ]
    }
   ],
   "source": [
    "palabra = 'prueba'\n",
    "\n",
    "for letra in palabra:\n",
    "  print(letra)"
   ]
  },
  {
   "attachments": {},
   "cell_type": "markdown",
   "metadata": {},
   "source": [
    "Con el ciclo FOR se suele utilizar la función range(), la cual es una función que devuelve una secuencia de números. Por ejemplo, si queremos repetir alguna acción cierta cantidad de veces:"
   ]
  },
  {
   "cell_type": "code",
   "execution_count": 6,
   "metadata": {},
   "outputs": [
    {
     "name": "stdout",
     "output_type": "stream",
     "text": [
      "Esto es un ciclo!\n",
      "Esto es un ciclo!\n",
      "Esto es un ciclo!\n",
      "Esto es un ciclo!\n",
      "Esto es un ciclo!\n"
     ]
    }
   ],
   "source": [
    "for i in range(5): # Itera desde el primer valor (1) hasta el utimo valor -1 (en este caso 4)\n",
    "                     # Si no especificamos el primer valor en range, empieza por 0\n",
    "  print(\"Esto es un ciclo!\")"
   ]
  },
  {
   "cell_type": "code",
   "execution_count": 7,
   "metadata": {},
   "outputs": [
    {
     "name": "stdout",
     "output_type": "stream",
     "text": [
      "0 violeta\n",
      "1 azul\n",
      "2 verde\n",
      "3 amarillo\n"
     ]
    }
   ],
   "source": [
    "# Agregamos el numero de la iteración en 'colores':\n",
    "for i in range(len(colores)):\n",
    "  print(i, colores[i])"
   ]
  },
  {
   "cell_type": "code",
   "execution_count": 8,
   "metadata": {},
   "outputs": [
    {
     "data": {
      "text/plain": [
       "'azul'"
      ]
     },
     "execution_count": 8,
     "metadata": {},
     "output_type": "execute_result"
    }
   ],
   "source": [
    "# Accedemos a la posición '1' en colores:\n",
    "colores[1]"
   ]
  },
  {
   "attachments": {},
   "cell_type": "markdown",
   "metadata": {},
   "source": [
    "### Estructura WHILE\n",
    "\n",
    "El otro tipo de bucle en Python es el bucle ``while``, que itera hasta que se cumpla alguna condición."
   ]
  },
  {
   "cell_type": "code",
   "execution_count": 9,
   "metadata": {},
   "outputs": [
    {
     "name": "stdout",
     "output_type": "stream",
     "text": [
      "0\n",
      "1\n",
      "2\n",
      "3\n",
      "4\n"
     ]
    }
   ],
   "source": [
    "# WHILE\n",
    "\n",
    "i = 0 # Creamos un contador\n",
    "\n",
    "while (i < 5): # Mientras se cumpla la condición de que i es menor a 5 vuelve a entrar al ciclo e imprime i\n",
    "  print(i)\n",
    "  i+=1 # Incrementa en 1 el contador en cada iteración"
   ]
  },
  {
   "attachments": {},
   "cell_type": "markdown",
   "metadata": {},
   "source": [
    "## Funciones en Python\n",
    "\n",
    "Cuando usamos print(\"...\"), por ejemplo, estamos usando una función. Python tiene muchas funciones, pero además de las propias del lenguaje podemos crear nuestras propias funciones. \n",
    "\n",
    "Para crear una función, debemos definirla de la siguiente manera:\n",
    "\n",
    "\n",
    "\n",
    "```\n",
    "def funcion(parametro1, parametro2, ..., parametroN):\n",
    "  \"\"\"Descripción de lo que hace la función\"\"\"\n",
    "     # Cuerpo: aca iria el código, por ejemplo una suma. \n",
    "     return resultado # El 'return' es opcional, podría no devolver nada!\n",
    "```\n",
    "\n",
    "Tenemos tres partes:\n",
    "\n",
    "1. ``Parámetros``: elementos recibidos para llevar a cabo las operaciones definidas en el cuerpo de la función. Estos pueden ser incluso estructuras de datos.\n",
    "2. ``Cuerpo``: sección donde definimos las operaciones que se llevarán a cabo con el fin de producir un resultado. Aquí podemos definir variables e incluir estructuras de control.\n",
    "3. ``Retorno``: resultado de ejecutar la función. OPCIONAL, si no se espcifica retorna None. \n",
    "\n",
    "La descripción se llama ``docstring``, se escribe entre \"\"\" \"\"\" y sirve para documentar qué hace mi función. Si yo quiero usar una función y no se qué es lo que hace (cuál es su función), accedemos al docstring usando help().\n",
    "\n",
    "Nota: Las funciones de Python no tienen begin o end explícitos, ni llaves que marquen dónde empieza o termina su código. El único delimitador son dos puntos (:) y la indentación del propio código. Es decir, los bloques de código (if, bucles for, while, etc.) van definidos por su indentación. La identacion comienza un bloque y su ausencia lo termina."
   ]
  },
  {
   "attachments": {},
   "cell_type": "markdown",
   "metadata": {},
   "source": [
    "### Definimos una función que no retorna nada\n",
    "\n",
    "En ejemplo sencillo, vamos a definir una función cuyo único objetivo sea saludar a una persona. Para ello, vamos a pasarle como parámetro el nombre de esa persona cuando llamamemos a la función, y la función nos devolvera el saludo como: \"Hola, *nombre*!\". Fijénse que esta función no retorna ningún valor."
   ]
  },
  {
   "cell_type": "code",
   "execution_count": 11,
   "metadata": {},
   "outputs": [
    {
     "name": "stdout",
     "output_type": "stream",
     "text": [
      "Hola, estudiantes!\n"
     ]
    }
   ],
   "source": [
    "# Definimos la función\n",
    "def saludar(nombre=\"Mundo\"): # Si no pasamos nada, por defecto muestra mundo!\n",
    "  \"\"\"Función que saluda.\"\"\"\n",
    "  print(f\"Hola, {nombre}!\")\n",
    "  \n",
    "# Llamamos a la función \n",
    "saludar(\"estudiantes\")"
   ]
  },
  {
   "cell_type": "code",
   "execution_count": 12,
   "metadata": {},
   "outputs": [
    {
     "name": "stdout",
     "output_type": "stream",
     "text": [
      "Hola, Mundo!\n",
      "None\n"
     ]
    }
   ],
   "source": [
    "# Hacemos un print de saludar:\n",
    "print(saludar())"
   ]
  },
  {
   "attachments": {},
   "cell_type": "markdown",
   "metadata": {},
   "source": [
    "Resutla que la función no retorna nada, por eso aparece \"None\" cuando hacemos un print."
   ]
  },
  {
   "attachments": {},
   "cell_type": "markdown",
   "metadata": {},
   "source": [
    "### Función que sí retorna \n",
    "\n",
    "Para retornar algo, debemos de utilizar \"return\". Para ejemplificar, vamos a definir una función que mutiplique dos valores y nos devuelva el resultado de esa multiplicación. Traducido a código sería algo como:"
   ]
  },
  {
   "cell_type": "code",
   "execution_count": 13,
   "metadata": {},
   "outputs": [],
   "source": [
    "def multiplicar(a, b):\n",
    "  return a*b"
   ]
  },
  {
   "cell_type": "code",
   "execution_count": 14,
   "metadata": {},
   "outputs": [
    {
     "name": "stdout",
     "output_type": "stream",
     "text": [
      "3 x 4 = 12\n"
     ]
    }
   ],
   "source": [
    "print(\"3 x 4 =\", multiplicar(3,4))"
   ]
  }
 ],
 "metadata": {
  "kernelspec": {
   "display_name": "Python 3",
   "language": "python",
   "name": "python3"
  },
  "language_info": {
   "codemirror_mode": {
    "name": "ipython",
    "version": 3
   },
   "file_extension": ".py",
   "mimetype": "text/x-python",
   "name": "python",
   "nbconvert_exporter": "python",
   "pygments_lexer": "ipython3",
   "version": "3.11.0 (main, Oct 24 2022, 18:26:48) [MSC v.1933 64 bit (AMD64)]"
  },
  "orig_nbformat": 4,
  "vscode": {
   "interpreter": {
    "hash": "c261aea317cc0286b3b3261fbba9abdec21eaa57589985bb7a274bf54d6cc0a7"
   }
  }
 },
 "nbformat": 4,
 "nbformat_minor": 2
}
