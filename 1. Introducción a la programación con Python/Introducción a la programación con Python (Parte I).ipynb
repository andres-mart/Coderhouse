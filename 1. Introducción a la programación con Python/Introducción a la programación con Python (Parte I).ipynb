{
 "cells": [
  {
   "attachments": {},
   "cell_type": "markdown",
   "metadata": {},
   "source": [
    "# Introducción a la programación con Python (Parte I)"
   ]
  },
  {
   "attachments": {},
   "cell_type": "markdown",
   "metadata": {},
   "source": [
    "### Pensamiento Lógico\n",
    "En la expresión $x + y = z$ queremos representar que la suma de los números $x$ e $y$ dará como resultado el número $z$."
   ]
  },
  {
   "cell_type": "code",
   "execution_count": 2,
   "metadata": {},
   "outputs": [
    {
     "name": "stdout",
     "output_type": "stream",
     "text": [
      "El resultado de la operación es:  14\n"
     ]
    }
   ],
   "source": [
    "# Definir el valor de x\n",
    "x = 5\n",
    "\n",
    "# Definir el valor de y\n",
    "y = 9\n",
    "\n",
    "#Establecer la operación\n",
    "z = x + y\n",
    "\n",
    "# Imprimir resultados\n",
    "print('El resultado de la operación es: ', z)"
   ]
  },
  {
   "attachments": {},
   "cell_type": "markdown",
   "metadata": {},
   "source": [
    "### Práctica Rápida\n",
    "\n",
    "Ejecutamos y analizamos las salidas que se obtienen en cada una de las siguientes cajas de código. ¿Qué significan? ¿Tienen sentido?"
   ]
  },
  {
   "cell_type": "code",
   "execution_count": 6,
   "metadata": {},
   "outputs": [
    {
     "data": {
      "text/plain": [
       "int"
      ]
     },
     "execution_count": 6,
     "metadata": {},
     "output_type": "execute_result"
    }
   ],
   "source": [
    "x = 1\n",
    "\n",
    "# 'x' puede tomar diferentes tipos de datos:\n",
    "# x = 'k' (String)\n",
    "# x = 4.5 (float)\n",
    "# x = True (Boolean)\n",
    "\n",
    "type(x)"
   ]
  },
  {
   "cell_type": "code",
   "execution_count": 7,
   "metadata": {},
   "outputs": [
    {
     "name": "stdout",
     "output_type": "stream",
     "text": [
      "1\n",
      "Hola Mundo!\n"
     ]
    }
   ],
   "source": [
    "# Imprimimos en pantalla la salida de 'x'\n",
    "print(x)\n",
    "\n",
    "# Redifinimos 'x' con un valor string\n",
    "x = 'Hola Mundo!'\n",
    "print(x)"
   ]
  },
  {
   "cell_type": "code",
   "execution_count": 8,
   "metadata": {},
   "outputs": [
    {
     "name": "stdout",
     "output_type": "stream",
     "text": [
      "[1, 2, 3] [1, 2, 3]\n"
     ]
    }
   ],
   "source": [
    "# Definimos a 'x' como una lista\n",
    "x = [1,2,3]\n",
    "\n",
    "# Definimos a 'y' igual a 'x'\n",
    "y = x                           # Llamamos al mismo objeto\n",
    "print(x,y)"
   ]
  },
  {
   "cell_type": "code",
   "execution_count": 9,
   "metadata": {},
   "outputs": [
    {
     "name": "stdout",
     "output_type": "stream",
     "text": [
      "[1, 2, 3, 4]\n"
     ]
    }
   ],
   "source": [
    "# Agregamos el un valor al final de la lista de 'x'\n",
    "x.append(4)\n",
    "print(y)"
   ]
  },
  {
   "attachments": {},
   "cell_type": "markdown",
   "metadata": {},
   "source": [
    "### Operadores Aritméticos (Matemáticos)\n",
    "\n",
    "Estos operadores pueden asociarse a las operaciones matemáticas básicas. Por ejemplo:\n",
    "\n",
    "|Operador|Descripción|\n",
    "|:-------:|:-----------:|\n",
    "|a+b| Adición|\n",
    "|a-b| Sustracción|\n",
    "|a*b| Producto|\n",
    "|a/b| División|\n",
    "|a//b| División Entera|\n",
    "|a%b| Módulo|\n",
    "|a**b| Exponenciación|\n",
    "|-a| Negativo|"
   ]
  },
  {
   "cell_type": "code",
   "execution_count": 12,
   "metadata": {},
   "outputs": [
    {
     "data": {
      "text/plain": [
       "22"
      ]
     },
     "execution_count": 12,
     "metadata": {},
     "output_type": "execute_result"
    }
   ],
   "source": [
    "# Vemos un ejemplo de operadores.\n",
    "# Operaciones básicas:\n",
    "a = 3 * 4\n",
    "b = 30//3\n",
    "\n",
    "# Operaciones entre variables\n",
    "b+a"
   ]
  },
  {
   "attachments": {},
   "cell_type": "markdown",
   "metadata": {},
   "source": [
    "### Operadores de Asignación\n",
    "\n",
    "Estos operadores facilitan los cálculos repetitivos, como por ejemplo los ciclos.\n",
    "\n",
    "|Operador|Descripción|\n",
    "|:-------:|:-----------:|\n",
    "|a+=b|a = a + b|\n",
    "|a-=b|a = a - b|\n",
    "|a *= b|a = a * b|\n",
    "|a/=b|a = a / b|\n",
    "|a//=b|a = a // b|\n",
    "|a%=b|a = a % b |\n",
    "|a**=b|a = a ** b|"
   ]
  },
  {
   "cell_type": "code",
   "execution_count": 16,
   "metadata": {},
   "outputs": [
    {
     "name": "stdout",
     "output_type": "stream",
     "text": [
      "6\n"
     ]
    }
   ],
   "source": [
    "# Ejemplo de aplicación:\n",
    "x = 5\n",
    "x += 1\n",
    "print(x)"
   ]
  },
  {
   "attachments": {},
   "cell_type": "markdown",
   "metadata": {},
   "source": [
    "### Operadores de Comparación\n",
    "\n",
    "Estos operadores retornan un valor lógico (True o False) y son muy últiles para definir sentencias de control.\n",
    "\n",
    "|Operador|Descripción|\n",
    "|:-------:|:-----------:|\n",
    "|a==b|a = a + b|\n",
    "|a!=b|a = a - b|\n",
    "|a < b|a = a * b|\n",
    "|a > b|a = a / b|\n",
    "|a<=b|a = a // b|\n",
    "|a>=b|a = a % b |"
   ]
  },
  {
   "cell_type": "code",
   "execution_count": 17,
   "metadata": {},
   "outputs": [
    {
     "data": {
      "text/plain": [
       "False"
      ]
     },
     "execution_count": 17,
     "metadata": {},
     "output_type": "execute_result"
    }
   ],
   "source": [
    "# Ejemplos de aplicación\n",
    "5 == '5'  # Distintos tipo de datos"
   ]
  },
  {
   "attachments": {},
   "cell_type": "markdown",
   "metadata": {},
   "source": [
    "### Operadores de Identidad y Pertenencia\n",
    "\n",
    "Estos operadores retornan un valor lógico (True o False) y son muy últiles para definir sentencias de control.\n",
    "\n",
    "|Operador|Descripción|\n",
    "|:-------:|:-----------:|\n",
    "|a is b|a es el mismo objeto que b|\n",
    "|a is not b|a no es el mismo objeto que b|\n",
    "|a in b|a está contenido en b|\n",
    "|a not in b|a no está contenido en b|"
   ]
  },
  {
   "cell_type": "code",
   "execution_count": 20,
   "metadata": {},
   "outputs": [
    {
     "name": "stdout",
     "output_type": "stream",
     "text": [
      "True\n",
      "False\n"
     ]
    }
   ],
   "source": [
    "# Ejemplos de aplicación\n",
    "x = [1, 5 , 7]\n",
    "y = [4, 7, 10]\n",
    "\n",
    "print(5 in x)\n",
    "print(2 in y)"
   ]
  }
 ],
 "metadata": {
  "kernelspec": {
   "display_name": "Python 3",
   "language": "python",
   "name": "python3"
  },
  "language_info": {
   "codemirror_mode": {
    "name": "ipython",
    "version": 3
   },
   "file_extension": ".py",
   "mimetype": "text/x-python",
   "name": "python",
   "nbconvert_exporter": "python",
   "pygments_lexer": "ipython3",
   "version": "3.11.0 (main, Oct 24 2022, 18:26:48) [MSC v.1933 64 bit (AMD64)]"
  },
  "orig_nbformat": 4,
  "vscode": {
   "interpreter": {
    "hash": "c261aea317cc0286b3b3261fbba9abdec21eaa57589985bb7a274bf54d6cc0a7"
   }
  }
 },
 "nbformat": 4,
 "nbformat_minor": 2
}
