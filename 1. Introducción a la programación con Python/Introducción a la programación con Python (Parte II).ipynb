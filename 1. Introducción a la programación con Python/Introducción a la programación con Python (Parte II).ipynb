{
 "cells": [
  {
   "attachments": {},
   "cell_type": "markdown",
   "metadata": {},
   "source": [
    "# Introducción a la programación con Python (Parte II)"
   ]
  },
  {
   "attachments": {},
   "cell_type": "markdown",
   "metadata": {},
   "source": [
    "### Estructuras de datos: listas, tuplas, conjuntos y diccionarios\n",
    "\n",
    "Al iniciar un proyecto de analítica de datos resulta fundamental almacenar información en la máquina con el fin de procesarla de una manera eficiente. Las estructuras de datos resuelven esta necesidad, pues nos proveen diferentes formas de representar información computacionalmente. \n",
    "\n",
    "#### Listas\n",
    "Una lista permite representar una colección ordenada de cualquier cantidad de elementos. Estos elementos pueden ser números, palabras, otras listas, etc. Una lista es una estructura de datos flexible debido a que no necesariamente todos sus elementos tienen que ser del mismo tipo. Adicionalmente, ***es mutable debido a que podemos modificar sus elementos***.\n",
    "\n",
    "Para declarar una lista inciamos abriendo un corchete (`[ ]`), escribimos uno a uno sus elementos separados por medio de comas (`,`) y finalizamos cerrando el corchete."
   ]
  },
  {
   "cell_type": "code",
   "execution_count": 1,
   "metadata": {},
   "outputs": [
    {
     "name": "stdout",
     "output_type": "stream",
     "text": [
      "0\n",
      "1\n",
      "2\n",
      "3\n",
      "4\n",
      "5\n",
      "6\n",
      "7\n",
      "8\n",
      "9\n"
     ]
    }
   ],
   "source": [
    "for i in range(0,10):\n",
    "  print(i)"
   ]
  },
  {
   "cell_type": "code",
   "execution_count": 2,
   "metadata": {},
   "outputs": [
    {
     "data": {
      "text/plain": [
       "[25, 30, 15, 16, 13]"
      ]
     },
     "execution_count": 2,
     "metadata": {},
     "output_type": "execute_result"
    }
   ],
   "source": [
    "lista_edades = [25, 30, 15, 16, 13]\n",
    "lista_edades"
   ]
  },
  {
   "attachments": {},
   "cell_type": "markdown",
   "metadata": {},
   "source": [
    "#### Tuplas\n",
    "\n",
    "Las tuplas son otra estructura de datos ordenada que, al igual que las listas, pueden guardar diferentes tipos de datos o incluso elementos repetidos. No obstante, la principal diferencia es que ***son inmutables; esto significa que no se podemos añadir, alterar, ni eliminar elementos***. \n",
    "\n",
    "Para declarar una tupla empleamos paréntesis (`()`) y separamos los elementos contenidos por medio de comas."
   ]
  },
  {
   "cell_type": "code",
   "execution_count": 3,
   "metadata": {},
   "outputs": [
    {
     "data": {
      "text/plain": [
       "('Brasil',\n",
       " 'Uruguay',\n",
       " 'Argentina',\n",
       " 'Colombia',\n",
       " 'Perú',\n",
       " 'Chile',\n",
       " 'Paraguay',\n",
       " 'Ecuador',\n",
       " 'Bolivia',\n",
       " 'Venezuela')"
      ]
     },
     "execution_count": 3,
     "metadata": {},
     "output_type": "execute_result"
    }
   ],
   "source": [
    "tupla_eliminatorias_2018 = (\"Brasil\", \"Uruguay\", \"Argentina\", \"Colombia\", \"Perú\", \"Chile\", \"Paraguay\", \"Ecuador\", \"Bolivia\", \"Venezuela\") \n",
    "tupla_eliminatorias_2018"
   ]
  },
  {
   "attachments": {},
   "cell_type": "markdown",
   "metadata": {},
   "source": [
    "#### Diccionarios\n",
    "Los diccionarios son estructuras de datos no ordenadas que identifican relaciones de correspondencia entre llaves y valores. Los diccionarios buscan entonces indexar una colección de valores a una colección de llaves.\n",
    "\n",
    "**Ejemplo:**\n",
    "\n",
    "Un niño le pidió ayuda para crear un diccionario de la edad de su familia. Su mamá y su papá tienen 40 años cada uno, su hermana 8 años y su hermano 11 años. A continuación, se presenta un diagrama con las relaciones de correspondencia:"
   ]
  },
  {
   "cell_type": "code",
   "execution_count": 4,
   "metadata": {},
   "outputs": [],
   "source": [
    "familia = {\"Mama\": 40, \"Papa\": 40, \"Hermana\": 8, \"Hermano\": 11}"
   ]
  },
  {
   "attachments": {},
   "cell_type": "markdown",
   "metadata": {},
   "source": [
    "### Estructuras de Control\n",
    "\n",
    "En programación, las estructuras de control operan como señales que determinan si ejecutar o no ciertas operaciones y cuando hacerlo. Cuando programamos definimos este tipo de reglas sobre cómo se ejecuta un procedimiento. A estas reglas las llamamos condicionales y son parte fundamental de todo programa."
   ]
  },
  {
   "attachments": {},
   "cell_type": "markdown",
   "metadata": {},
   "source": [
    "#### Sentencia 'if'\n",
    "\n",
    "Para poder entrar a una película de terror hay que tener al menos 18 años. Por lo tanto, determinemos si una persona cumple o no con la condición. De este modo, si la persona tiene al menos 18 años imprimiremos “¡Puede entrar a la película!”, y de lo contrario imprimiremos “¡No puede entrar a la película!”."
   ]
  },
  {
   "cell_type": "code",
   "execution_count": 5,
   "metadata": {},
   "outputs": [
    {
     "name": "stdout",
     "output_type": "stream",
     "text": [
      "¡No puede entrar al cine!\n"
     ]
    }
   ],
   "source": [
    "# Declaramos la edad de la persona que quiere entrar:\n",
    "edad = 17\n",
    "\n",
    "# Evaluamos si cumple con las restricciones:\n",
    "if edad >= 18:\n",
    "    print(\"¡Puede entrar al cine!\")\n",
    "else:\n",
    "    print(\"¡No puede entrar al cine!\")"
   ]
  },
  {
   "attachments": {},
   "cell_type": "markdown",
   "metadata": {},
   "source": [
    "#### Ciclos"
   ]
  },
  {
   "attachments": {},
   "cell_type": "markdown",
   "metadata": {},
   "source": [
    "```python\n",
    "for indices in estructura_iterable:\n",
    "    bloque_de_codigo \n",
    "```\n",
    "Un ciclo `for` es una estructura de control que nos permite repetir un bloque de código varias veces. De esta forma, podemos recorrer los objetos de una estructura iterable con los índices de las posiciones u obteniendo directamente el objeto de cada posición."
   ]
  },
  {
   "cell_type": "code",
   "execution_count": 10,
   "metadata": {},
   "outputs": [
    {
     "name": "stdout",
     "output_type": "stream",
     "text": [
      "Japon\n",
      "China\n",
      "España\n",
      "Estados Unidos\n",
      "Indonesia\n",
      "Japon\n",
      "China\n",
      "España\n",
      "Estados Unidos\n",
      "Indonesia\n"
     ]
    }
   ],
   "source": [
    "paises = ['Japon', 'China', 'España', 'Estados Unidos', 'Indonesia']\n",
    "\n",
    "# Ejemplo 1\n",
    "for pais in paises:\n",
    "    print(pais)\n",
    "\n",
    "# Ejemplo 2\n",
    "for indice in range(len(paises)):\n",
    "    print (paises[indice])"
   ]
  },
  {
   "attachments": {},
   "cell_type": "markdown",
   "metadata": {},
   "source": [
    "```python  \n",
    "    while(condicion):\n",
    "        bloque_de_codigo\n",
    "``` \n",
    "Un ciclo `while` es una estructura de control que nos permite repetir un bloque de código dependiendo del cumplimiento de una condición. De esta manera, en cada iteración se evalua la condición y si su valor es `True`, se ejecuta el bloque de código; el ciclo se detiene cuando la condición retorna por primera vez `False`."
   ]
  },
  {
   "cell_type": "code",
   "execution_count": 11,
   "metadata": {},
   "outputs": [
    {
     "name": "stdout",
     "output_type": "stream",
     "text": [
      "1\n",
      "2\n",
      "3\n",
      "4\n",
      "5\n",
      "6\n"
     ]
    }
   ],
   "source": [
    "continuar = True\n",
    "numero = 1\n",
    "\n",
    "while continuar:\n",
    "    print(numero)\n",
    "    \n",
    "    if(numero%3 == 0 and not numero == 3):\n",
    "        continuar = False   # Podemos obtener el mismo resultado reemplazando esta línea de código por: break  \n",
    "\n",
    "    numero = numero + 1"
   ]
  },
  {
   "attachments": {},
   "cell_type": "markdown",
   "metadata": {},
   "source": [
    "##### Nota Importante: ciclo infinito\n",
    "\n",
    "Un ciclo infinito ocurre cuando la condición del `while` nunca retorna `False`. De esta forma, el ciclo se ejecutará infinitamente, lo cual no es deseable. Ejemplo:\n",
    "\n",
    "```python  \n",
    "    x = 1\n",
    "    while( x > 0 ):\n",
    "        x = x + 1\n",
    "```\n",
    "En este caso, `x` siempre será mayor a 0, por lo cual, el ciclo nunca parará."
   ]
  },
  {
   "attachments": {},
   "cell_type": "markdown",
   "metadata": {},
   "source": [
    "#### Desafío Genérico\n",
    "\n",
    "**Ejercicio 1:**\n",
    "El factorial x! se define como el producto de todos los números desde 1 a x.\n",
    "\n",
    "***Escribir el código para calcular el factorial de 5.***\n"
   ]
  },
  {
   "cell_type": "code",
   "execution_count": 28,
   "metadata": {},
   "outputs": [
    {
     "name": "stdout",
     "output_type": "stream",
     "text": [
      "0\n",
      "1\n",
      "4\n",
      "9\n",
      "16\n",
      "25\n"
     ]
    }
   ],
   "source": [
    "x = int(input('Escribe el número para calcular el factorial: '))\n",
    "factorial = 0\n",
    "\n",
    "for factorial in range(x+1):\n",
    "    factorial *= factorial\n",
    "    print(factorial)\n"
   ]
  }
 ],
 "metadata": {
  "kernelspec": {
   "display_name": "Python 3",
   "language": "python",
   "name": "python3"
  },
  "language_info": {
   "codemirror_mode": {
    "name": "ipython",
    "version": 3
   },
   "file_extension": ".py",
   "mimetype": "text/x-python",
   "name": "python",
   "nbconvert_exporter": "python",
   "pygments_lexer": "ipython3",
   "version": "3.11.0"
  },
  "orig_nbformat": 4,
  "vscode": {
   "interpreter": {
    "hash": "c261aea317cc0286b3b3261fbba9abdec21eaa57589985bb7a274bf54d6cc0a7"
   }
  }
 },
 "nbformat": 4,
 "nbformat_minor": 2
}
