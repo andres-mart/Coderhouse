{
 "cells": [
  {
   "cell_type": "code",
   "execution_count": 1,
   "metadata": {},
   "outputs": [
    {
     "name": "stdout",
     "output_type": "stream",
     "text": [
      "El arreglo aleatorio es: [31 81  9 46 64 16 28 36 81 26 97 29 53 11 35  3 90 11 17 16 51 58 70  3\n",
      " 56 81 76 84 40 67 99 37 92 25 15 44 94 99  1 59  1 64 83 77 99 46  1  6\n",
      " 41 66 92 85 39 81 98 80 46 24 93 78 10 97 97  6 96 39 18 87 57 81 95 35\n",
      " 92 87  5 61 98 52 39 81 60 28 32 17 19 60  7 16 99 95 85 82 93 99 56 23\n",
      " 45 76 87 77]\n",
      "Su mediana es: 57.5\n"
     ]
    }
   ],
   "source": [
    "import numpy as np\n",
    "\n",
    "## Generar un array aleatorio de 100 elementos. Calcular la mediana correspondiente.\n",
    "random_array = np.random.randint(100, size=100)\n",
    "#Calculamos la mediana.\n",
    "med_array = np.median(random_array)\n",
    "\n",
    "print(\"El arreglo aleatorio es:\", random_array)\n",
    "print(\"Su mediana es:\", med_array)"
   ]
  },
  {
   "cell_type": "code",
   "execution_count": 2,
   "metadata": {},
   "outputs": [
    {
     "name": "stdout",
     "output_type": "stream",
     "text": [
      "El factorial de 7 es: 5040\n"
     ]
    }
   ],
   "source": [
    "## Repetir ambos ejercicios, pero ahora utilizar las nuevas operaciones aprendidas con los ndarrays.\n",
    "\n",
    "## 1. Escribimos una función para calcular el factorial de un número cualquiera.\n",
    "\n",
    "import numpy as np\n",
    "\n",
    "def factorial(num):\n",
    "  if num == 0:\n",
    "    return 1\n",
    "  elif num < 1:\n",
    "    return \"El factorial de numero negativo no está definido.\"\n",
    "  else:\n",
    "    return np.math.factorial(num)\n",
    "\n",
    "num = int(input(\"Escribe un número para calcular el factorial: \\n\"))\n",
    "\n",
    "print(\"El factorial de\", num, \"es:\", factorial(num))"
   ]
  },
  {
   "cell_type": "code",
   "execution_count": 3,
   "metadata": {},
   "outputs": [
    {
     "name": "stdout",
     "output_type": "stream",
     "text": [
      "La sumatoria del intervalo entre 3 y 9 es: 42\n"
     ]
    }
   ],
   "source": [
    "## 2. Escribimos una función para calcular la suma de una serie.\n",
    "\n",
    "import numpy as np\n",
    "\n",
    "num_1 = int(input(\"Escribe el 1er número: \\n\"))\n",
    "num_2 = int(input(\"Escribe el 2do número: \\n\"))\n",
    "\n",
    "if num_1 > num_2:\n",
    "  print(\"No se puede efectuar la sumatoria.\")\n",
    "else:\n",
    "  array = np.arange(num_1, num_2+1)\n",
    "  sum = array.sum()\n",
    "\n",
    "print(\"La sumatoria del intervalo entre\", num_1,\"y\", num_2,\"es:\", sum)"
   ]
  },
  {
   "cell_type": "code",
   "execution_count": 8,
   "metadata": {},
   "outputs": [
    {
     "name": "stdout",
     "output_type": "stream",
     "text": [
      "La media es: 224831.35307872173\n",
      "La mediana es: 75000.0\n"
     ]
    }
   ],
   "source": [
    "## Calcular media y mediana de los sueldos netos.\n",
    "import numpy as np\n",
    "import csv\n",
    "\n",
    "data_path = open('...\\\\Salarios.csv')\n",
    "\n",
    "## Se almacena en la variable 'salario' los valores correspondiente a 'Salario mensual neto' del data frame.\n",
    "salario = np.genfromtxt(data_path, dtype = 'int', delimiter = ';', usecols = (5), skip_header = 1, filling_values = 0, encoding=\"ISO-8859-1\")\n",
    "\n",
    "media = np.mean(salario)\n",
    "mediana = np.median(salario)\n",
    "\n",
    "print(\"La media es:\", media)\n",
    "print(\"La mediana es:\", mediana)"
   ]
  }
 ],
 "metadata": {
  "kernelspec": {
   "display_name": "Python 3",
   "language": "python",
   "name": "python3"
  },
  "language_info": {
   "codemirror_mode": {
    "name": "ipython",
    "version": 3
   },
   "file_extension": ".py",
   "mimetype": "text/x-python",
   "name": "python",
   "nbconvert_exporter": "python",
   "pygments_lexer": "ipython3",
   "version": "3.11.0"
  },
  "orig_nbformat": 4,
  "vscode": {
   "interpreter": {
    "hash": "c261aea317cc0286b3b3261fbba9abdec21eaa57589985bb7a274bf54d6cc0a7"
   }
  }
 },
 "nbformat": 4,
 "nbformat_minor": 2
}
