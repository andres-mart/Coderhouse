{
 "cells": [
  {
   "attachments": {},
   "cell_type": "markdown",
   "metadata": {},
   "source": [
    "# Caso de Estudio N°1"
   ]
  },
  {
   "attachments": {},
   "cell_type": "markdown",
   "metadata": {},
   "source": [
    "1- El problema que se presenta es la disminución de la efectividad de las campañas de marketing de una institución financiera en los últimos 6 meses, lo cual ha llevado a que el indicador de efectividad caiga del 12% al 8%. El objetivo de negocio es aumentar la efectividad de las futuras campañas de marketing.\n",
    "\n",
    "2- En el problema de negocio se utilizan las siguientes variables:\n",
    "\n",
    " - Variables demográficas: age (edad), job (trabajo), marital (estado civil), education (nivel educativo).\n",
    "- Variables relacionadas con la situación financiera: default (crédito en mora), housing (crédito hipotecario), loan (crédito personal).\n",
    "- Variables de contacto y campaña: contact (canal de comunicación), month (último mes de contacto), day_of_week (último día de la semana de contacto), duration (duración de la llamada), campaign (número de contactos en la campaña actual), pdays (días desde la última gestión en campañas), previous (número de contactos antes de la campaña actual), poutcome (tipificación de aceptación en campaña anterior).\n",
    "- Variables económicas: emp.var.rate (tasa de variación del empleo), cons.price.idx (índice de precios al consumidor), cons.conf.idx (índice de confianza al consumidor), euribor3m (ratio de tipo de cambio medio en los últimos 3 meses), nr.employed (número de empleados).\n",
    "\n",
    "3- Para resolver este problema de negocio y cumplir con los objetivos planteados, se puede utilizar la ciencia o analítica de datos de la siguiente manera:\n",
    "\n",
    "a) Realizar un análisis exploratorio de datos: Se debe realizar un análisis detallado de los datos disponibles en el dataset BankMarketing.csv. Esto incluye comprender la distribución de las variables, identificar posibles relaciones o patrones entre las variables y analizar la tendencia de la efectividad en función de diferentes características.\n",
    "\n",
    "b) Identificar variables relevantes: Mediante técnicas de análisis estadístico y visualización de datos, es importante identificar las variables que tienen una mayor influencia en la efectividad de las campañas de marketing. Esto permitirá enfocar los esfuerzos en aquellas variables que tienen un impacto significativo.\n",
    "\n",
    "c) Modelado predictivo: Se pueden utilizar técnicas de aprendizaje automático (machine learning) para construir modelos predictivos que ayuden a predecir la efectividad de las campañas de marketing. Estos modelos pueden utilizar las variables disponibles para realizar predicciones y brindar información sobre las estrategias más efectivas.\n",
    "\n",
    "d) Segmentar clientes: Es posible realizar una segmentación de clientes basada en diferentes características demográficas, financieras y de contacto. Esto ayudará a identificar grupos de clientes con características similares que puedan tener comportamientos de respuesta similares ante las campañas de marketing.\n",
    "\n",
    "e) Optimizar estrategias: Utilizando los resultados del análisis y los modelos predictivos, se pueden desarrollar estrategias personalizadas para diferentes segmentos de clientes. Estas estrategias pueden incluir el ajuste de los canales de comunicación, la frecuencia de contacto, el contenido de las ofertas y la selección de momentos óptimos para realizar las campañas.\n",
    "\n",
    "f) Evaluación y mejora continua: Es importante evaluar regularmente los resultados de las campañas de marketing y ajustar las estrategias según sea necesario. Esto implica realizar un seguimiento de los indicadores de efectividad, realizar análisis de retorno de inversión (ROI) y recopilar comentarios de los clientes para mejorar continuamente las campañas futuras."
   ]
  },
  {
   "cell_type": "markdown",
   "metadata": {},
   "source": [
    "## Importamos librerías"
   ]
  },
  {
   "cell_type": "code",
   "execution_count": 20,
   "metadata": {},
   "outputs": [],
   "source": [
    "import pandas as pd\n",
    "import numpy as np\n",
    "from sklearn import preprocessing\n",
    "from sklearn.preprocessing import StandardScaler\n",
    "from sklearn.model_selection import train_test_split\n",
    "from sklearn.linear_model import LogisticRegression\n",
    "from sklearn.discriminant_analysis import LinearDiscriminantAnalysis\n",
    "from sklearn.tree import DecisionTreeClassifier\n",
    "from sklearn.naive_bayes import GaussianNB\n",
    "from sklearn.neighbors import KNeighborsClassifier\n",
    "from sklearn.svm import SVC\n",
    "from sklearn.ensemble import RandomForestClassifier\n",
    "from sklearn.ensemble import AdaBoostClassifier\n",
    "from sklearn.decomposition import PCA\n",
    "from sklearn import model_selection\n",
    "from sklearn.metrics import classification_report\n",
    "from sklearn.metrics import confusion_matrix\n",
    "from sklearn.metrics import accuracy_score\n",
    "import matplotlib.pyplot as plt\n",
    "%matplotlib inline\n",
    "import seaborn as sns"
   ]
  },
  {
   "cell_type": "markdown",
   "metadata": {},
   "source": [
    "### Cargamos nuestro dataset"
   ]
  },
  {
   "cell_type": "code",
   "execution_count": 21,
   "metadata": {},
   "outputs": [
    {
     "data": {
      "text/html": [
       "<div>\n",
       "<style scoped>\n",
       "    .dataframe tbody tr th:only-of-type {\n",
       "        vertical-align: middle;\n",
       "    }\n",
       "\n",
       "    .dataframe tbody tr th {\n",
       "        vertical-align: top;\n",
       "    }\n",
       "\n",
       "    .dataframe thead th {\n",
       "        text-align: right;\n",
       "    }\n",
       "</style>\n",
       "<table border=\"1\" class=\"dataframe\">\n",
       "  <thead>\n",
       "    <tr style=\"text-align: right;\">\n",
       "      <th></th>\n",
       "      <th>age</th>\n",
       "      <th>job</th>\n",
       "      <th>marital</th>\n",
       "      <th>education</th>\n",
       "      <th>default</th>\n",
       "      <th>housing</th>\n",
       "      <th>loan</th>\n",
       "      <th>contact</th>\n",
       "      <th>month</th>\n",
       "      <th>day_of_week</th>\n",
       "      <th>...</th>\n",
       "      <th>campaign</th>\n",
       "      <th>pdays</th>\n",
       "      <th>previous</th>\n",
       "      <th>poutcome</th>\n",
       "      <th>emp.var.rate</th>\n",
       "      <th>cons.price.idx</th>\n",
       "      <th>cons.conf.idx</th>\n",
       "      <th>euribor3m</th>\n",
       "      <th>nr.employed</th>\n",
       "      <th>y</th>\n",
       "    </tr>\n",
       "  </thead>\n",
       "  <tbody>\n",
       "    <tr>\n",
       "      <th>0</th>\n",
       "      <td>56</td>\n",
       "      <td>housemaid</td>\n",
       "      <td>married</td>\n",
       "      <td>basic.4y</td>\n",
       "      <td>no</td>\n",
       "      <td>no</td>\n",
       "      <td>no</td>\n",
       "      <td>telephone</td>\n",
       "      <td>may</td>\n",
       "      <td>mon</td>\n",
       "      <td>...</td>\n",
       "      <td>1</td>\n",
       "      <td>999</td>\n",
       "      <td>0</td>\n",
       "      <td>nonexistent</td>\n",
       "      <td>1.1</td>\n",
       "      <td>93.994</td>\n",
       "      <td>-36.4</td>\n",
       "      <td>4.857</td>\n",
       "      <td>5191.0</td>\n",
       "      <td>no</td>\n",
       "    </tr>\n",
       "    <tr>\n",
       "      <th>1</th>\n",
       "      <td>57</td>\n",
       "      <td>services</td>\n",
       "      <td>married</td>\n",
       "      <td>high.school</td>\n",
       "      <td>unknown</td>\n",
       "      <td>no</td>\n",
       "      <td>no</td>\n",
       "      <td>telephone</td>\n",
       "      <td>may</td>\n",
       "      <td>mon</td>\n",
       "      <td>...</td>\n",
       "      <td>1</td>\n",
       "      <td>999</td>\n",
       "      <td>0</td>\n",
       "      <td>nonexistent</td>\n",
       "      <td>1.1</td>\n",
       "      <td>93.994</td>\n",
       "      <td>-36.4</td>\n",
       "      <td>4.857</td>\n",
       "      <td>5191.0</td>\n",
       "      <td>no</td>\n",
       "    </tr>\n",
       "    <tr>\n",
       "      <th>2</th>\n",
       "      <td>37</td>\n",
       "      <td>services</td>\n",
       "      <td>married</td>\n",
       "      <td>high.school</td>\n",
       "      <td>no</td>\n",
       "      <td>yes</td>\n",
       "      <td>no</td>\n",
       "      <td>telephone</td>\n",
       "      <td>may</td>\n",
       "      <td>mon</td>\n",
       "      <td>...</td>\n",
       "      <td>1</td>\n",
       "      <td>999</td>\n",
       "      <td>0</td>\n",
       "      <td>nonexistent</td>\n",
       "      <td>1.1</td>\n",
       "      <td>93.994</td>\n",
       "      <td>-36.4</td>\n",
       "      <td>4.857</td>\n",
       "      <td>5191.0</td>\n",
       "      <td>no</td>\n",
       "    </tr>\n",
       "    <tr>\n",
       "      <th>3</th>\n",
       "      <td>40</td>\n",
       "      <td>admin.</td>\n",
       "      <td>married</td>\n",
       "      <td>basic.6y</td>\n",
       "      <td>no</td>\n",
       "      <td>no</td>\n",
       "      <td>no</td>\n",
       "      <td>telephone</td>\n",
       "      <td>may</td>\n",
       "      <td>mon</td>\n",
       "      <td>...</td>\n",
       "      <td>1</td>\n",
       "      <td>999</td>\n",
       "      <td>0</td>\n",
       "      <td>nonexistent</td>\n",
       "      <td>1.1</td>\n",
       "      <td>93.994</td>\n",
       "      <td>-36.4</td>\n",
       "      <td>4.857</td>\n",
       "      <td>5191.0</td>\n",
       "      <td>no</td>\n",
       "    </tr>\n",
       "    <tr>\n",
       "      <th>4</th>\n",
       "      <td>56</td>\n",
       "      <td>services</td>\n",
       "      <td>married</td>\n",
       "      <td>high.school</td>\n",
       "      <td>no</td>\n",
       "      <td>no</td>\n",
       "      <td>yes</td>\n",
       "      <td>telephone</td>\n",
       "      <td>may</td>\n",
       "      <td>mon</td>\n",
       "      <td>...</td>\n",
       "      <td>1</td>\n",
       "      <td>999</td>\n",
       "      <td>0</td>\n",
       "      <td>nonexistent</td>\n",
       "      <td>1.1</td>\n",
       "      <td>93.994</td>\n",
       "      <td>-36.4</td>\n",
       "      <td>4.857</td>\n",
       "      <td>5191.0</td>\n",
       "      <td>no</td>\n",
       "    </tr>\n",
       "  </tbody>\n",
       "</table>\n",
       "<p>5 rows × 21 columns</p>\n",
       "</div>"
      ],
      "text/plain": [
       "   age        job  marital    education  default housing loan    contact  \\\n",
       "0   56  housemaid  married     basic.4y       no      no   no  telephone   \n",
       "1   57   services  married  high.school  unknown      no   no  telephone   \n",
       "2   37   services  married  high.school       no     yes   no  telephone   \n",
       "3   40     admin.  married     basic.6y       no      no   no  telephone   \n",
       "4   56   services  married  high.school       no      no  yes  telephone   \n",
       "\n",
       "  month day_of_week  ...  campaign  pdays  previous     poutcome emp.var.rate  \\\n",
       "0   may         mon  ...         1    999         0  nonexistent          1.1   \n",
       "1   may         mon  ...         1    999         0  nonexistent          1.1   \n",
       "2   may         mon  ...         1    999         0  nonexistent          1.1   \n",
       "3   may         mon  ...         1    999         0  nonexistent          1.1   \n",
       "4   may         mon  ...         1    999         0  nonexistent          1.1   \n",
       "\n",
       "   cons.price.idx  cons.conf.idx  euribor3m  nr.employed   y  \n",
       "0          93.994          -36.4      4.857       5191.0  no  \n",
       "1          93.994          -36.4      4.857       5191.0  no  \n",
       "2          93.994          -36.4      4.857       5191.0  no  \n",
       "3          93.994          -36.4      4.857       5191.0  no  \n",
       "4          93.994          -36.4      4.857       5191.0  no  \n",
       "\n",
       "[5 rows x 21 columns]"
      ]
     },
     "execution_count": 21,
     "metadata": {},
     "output_type": "execute_result"
    }
   ],
   "source": [
    "df = pd.read_csv(\n",
    "    \"D://Coderhouse//10. Estudios de Casos de Modelos Analíticos//CSVs Casos//BankMarketing.csv\",\n",
    "    sep=\";\",\n",
    ")\n",
    "df.head()"
   ]
  },
  {
   "cell_type": "markdown",
   "metadata": {},
   "source": [
    "### Preprocesamos la información"
   ]
  },
  {
   "cell_type": "code",
   "execution_count": 22,
   "metadata": {},
   "outputs": [],
   "source": [
    "def categorize(df):\n",
    "    new_df = df.copy()\n",
    "    le = preprocessing.LabelEncoder()\n",
    "\n",
    "    new_df[\"job\"] = le.fit_transform(new_df[\"job\"])\n",
    "    new_df[\"marital\"] = le.fit_transform(new_df[\"marital\"])\n",
    "    new_df[\"education\"] = le.fit_transform(new_df[\"education\"])\n",
    "    new_df[\"default\"] = le.fit_transform(new_df[\"default\"])\n",
    "    new_df[\"housing\"] = le.fit_transform(new_df[\"housing\"])\n",
    "    new_df[\"month\"] = le.fit_transform(new_df[\"month\"])\n",
    "    new_df[\"loan\"] = le.fit_transform(new_df[\"loan\"])\n",
    "    new_df[\"contact\"] = le.fit_transform(new_df[\"contact\"])\n",
    "    new_df[\"day_of_week\"] = le.fit_transform(new_df[\"day_of_week\"])\n",
    "    new_df[\"poutcome\"] = le.fit_transform(new_df[\"poutcome\"])\n",
    "    new_df[\"y\"] = le.fit_transform(new_df[\"y\"])\n",
    "    return new_df"
   ]
  },
  {
   "cell_type": "code",
   "execution_count": 23,
   "metadata": {},
   "outputs": [],
   "source": [
    "# Reemplazamos \"basic.6y\", \"basic.4y\", \"basic.9y\" por solo \"basic\":\n",
    "df.replace([\"basic.6y\", \"basic.4y\", \"basic.9y\"], \"basic\", inplace=True)"
   ]
  },
  {
   "cell_type": "markdown",
   "metadata": {},
   "source": [
    "### Verificamos valores nulos"
   ]
  },
  {
   "cell_type": "code",
   "execution_count": 24,
   "metadata": {},
   "outputs": [
    {
     "data": {
      "text/plain": [
       "age               0\n",
       "job               0\n",
       "marital           0\n",
       "education         0\n",
       "default           0\n",
       "housing           0\n",
       "loan              0\n",
       "contact           0\n",
       "month             0\n",
       "day_of_week       0\n",
       "duration          0\n",
       "campaign          0\n",
       "pdays             0\n",
       "previous          0\n",
       "poutcome          0\n",
       "emp.var.rate      0\n",
       "cons.price.idx    0\n",
       "cons.conf.idx     0\n",
       "euribor3m         0\n",
       "nr.employed       0\n",
       "y                 0\n",
       "dtype: int64"
      ]
     },
     "execution_count": 24,
     "metadata": {},
     "output_type": "execute_result"
    }
   ],
   "source": [
    "df.isnull().sum()"
   ]
  },
  {
   "cell_type": "markdown",
   "metadata": {},
   "source": [
    "### Visualización"
   ]
  },
  {
   "cell_type": "code",
   "execution_count": 25,
   "metadata": {},
   "outputs": [
    {
     "data": {
      "text/plain": [
       "<Axes: xlabel='count', ylabel='job'>"
      ]
     },
     "execution_count": 25,
     "metadata": {},
     "output_type": "execute_result"
    },
    {
     "data": {
      "image/png": "[encoded data removed]",
      "text/plain": [
       "<Figure size 640x480 with 1 Axes>"
      ]
     },
     "metadata": {},
     "output_type": "display_data"
    }
   ],
   "source": [
    "sns.set(style=\"ticks\", color_codes=True)\n",
    "sns.countplot(y=\"job\", data=df)"
   ]
  },
  {
   "cell_type": "code",
   "execution_count": 26,
   "metadata": {},
   "outputs": [],
   "source": [
    "# Descartamos los valoers 'unknown':\n",
    "# df = df[df.job != \"unknown\"]"
   ]
  },
  {
   "cell_type": "code",
   "execution_count": 27,
   "metadata": {},
   "outputs": [
    {
     "data": {
      "text/plain": [
       "<Axes: xlabel='count', ylabel='marital'>"
      ]
     },
     "execution_count": 27,
     "metadata": {},
     "output_type": "execute_result"
    },
    {
     "data": {
      "image/png": "[encoded data removed]",
      "text/plain": [
       "<Figure size 640x480 with 1 Axes>"
      ]
     },
     "metadata": {},
     "output_type": "display_data"
    }
   ],
   "source": [
    "# Graficamos estados civiles:\n",
    "sns.countplot(y=\"marital\", data=df)"
   ]
  },
  {
   "cell_type": "code",
   "execution_count": 28,
   "metadata": {},
   "outputs": [
    {
     "data": {
      "text/plain": [
       "marital\n",
       "married     24928\n",
       "single      11568\n",
       "divorced     4612\n",
       "unknown        80\n",
       "Name: count, dtype: int64"
      ]
     },
     "execution_count": 28,
     "metadata": {},
     "output_type": "execute_result"
    }
   ],
   "source": [
    "df.marital.value_counts()"
   ]
  },
  {
   "cell_type": "code",
   "execution_count": 29,
   "metadata": {},
   "outputs": [
    {
     "data": {
      "text/plain": [
       "loan\n",
       "no         33950\n",
       "yes         6248\n",
       "unknown      990\n",
       "Name: count, dtype: int64"
      ]
     },
     "execution_count": 29,
     "metadata": {},
     "output_type": "execute_result"
    }
   ],
   "source": [
    "df.loan.value_counts()"
   ]
  },
  {
   "cell_type": "code",
   "execution_count": 30,
   "metadata": {},
   "outputs": [],
   "source": [
    "# Eliminamos valores 'unknown' de las columnas 'marital' y 'loan':\n",
    "df = df[df.marital != \"unknown\"]\n",
    "df = df[df.loan != \"unknown\"]"
   ]
  },
  {
   "cell_type": "code",
   "execution_count": 31,
   "metadata": {},
   "outputs": [
    {
     "data": {
      "text/plain": [
       "<Axes: xlabel='count', ylabel='education'>"
      ]
     },
     "execution_count": 31,
     "metadata": {},
     "output_type": "execute_result"
    },
    {
     "data": {
      "image/png": "[encoded data removed]",
      "text/plain": [
       "<Figure size 640x480 with 1 Axes>"
      ]
     },
     "metadata": {},
     "output_type": "display_data"
    }
   ],
   "source": [
    "sns.countplot(y=\"education\", data=df)"
   ]
  },
  {
   "cell_type": "code",
   "execution_count": 32,
   "metadata": {},
   "outputs": [
    {
     "data": {
      "text/plain": [
       "education\n",
       "basic                  12166\n",
       "university.degree      11860\n",
       "high.school             9281\n",
       "professional.course     5112\n",
       "unknown                 1682\n",
       "illiterate                18\n",
       "Name: count, dtype: int64"
      ]
     },
     "execution_count": 32,
     "metadata": {},
     "output_type": "execute_result"
    }
   ],
   "source": [
    "df.education.value_counts()"
   ]
  },
  {
   "cell_type": "code",
   "execution_count": 33,
   "metadata": {},
   "outputs": [],
   "source": [
    "# df = df[df.education != \"illiterate\"]"
   ]
  },
  {
   "cell_type": "markdown",
   "metadata": {},
   "source": [
    "Ahora, para deducir los valores que faltan en \"trabajo\" y \"educación\", utilizamos la tabulación cruzada entre \"trabajo\" y \"educación\". Nuestra hipótesis es que el \"trabajo\" está influido por la \"educación\" de una persona. Por lo tanto, podemos deducir el \"trabajo\" en función de la educación de la persona. Además, como sólo estamos rellenando los valores que faltan, no nos preocupa mucho la inferencia causal. Por lo tanto, podemos utilizar el trabajo para predecir la educación."
   ]
  },
  {
   "cell_type": "code",
   "execution_count": 34,
   "metadata": {},
   "outputs": [],
   "source": [
    "def cross_tab(df, f1, f2):\n",
    "    jobs = list(df[f1].unique())\n",
    "    edu = list(df[f2].unique())\n",
    "    dataframes = []\n",
    "    for e in edu:\n",
    "        dfe = df[df[f2] == e]\n",
    "        dfejob = dfe.groupby(f1).count()[f2]\n",
    "        dataframes.append(dfejob)\n",
    "    xx = pd.concat(dataframes, axis=1)\n",
    "    xx.columns = edu\n",
    "    xx = xx.fillna(0)\n",
    "    return xx"
   ]
  },
  {
   "cell_type": "code",
   "execution_count": 35,
   "metadata": {},
   "outputs": [
    {
     "data": {
      "text/html": [
       "<div>\n",
       "<style scoped>\n",
       "    .dataframe tbody tr th:only-of-type {\n",
       "        vertical-align: middle;\n",
       "    }\n",
       "\n",
       "    .dataframe tbody tr th {\n",
       "        vertical-align: top;\n",
       "    }\n",
       "\n",
       "    .dataframe thead th {\n",
       "        text-align: right;\n",
       "    }\n",
       "</style>\n",
       "<table border=\"1\" class=\"dataframe\">\n",
       "  <thead>\n",
       "    <tr style=\"text-align: right;\">\n",
       "      <th></th>\n",
       "      <th>basic</th>\n",
       "      <th>high.school</th>\n",
       "      <th>professional.course</th>\n",
       "      <th>unknown</th>\n",
       "      <th>university.degree</th>\n",
       "      <th>illiterate</th>\n",
       "    </tr>\n",
       "    <tr>\n",
       "      <th>job</th>\n",
       "      <th></th>\n",
       "      <th></th>\n",
       "      <th></th>\n",
       "      <th></th>\n",
       "      <th></th>\n",
       "      <th></th>\n",
       "    </tr>\n",
       "  </thead>\n",
       "  <tbody>\n",
       "    <tr>\n",
       "      <th>admin.</th>\n",
       "      <td>713</td>\n",
       "      <td>3245</td>\n",
       "      <td>355</td>\n",
       "      <td>244</td>\n",
       "      <td>5623</td>\n",
       "      <td>1.0</td>\n",
       "    </tr>\n",
       "    <tr>\n",
       "      <th>blue-collar</th>\n",
       "      <td>7159</td>\n",
       "      <td>858</td>\n",
       "      <td>443</td>\n",
       "      <td>441</td>\n",
       "      <td>92</td>\n",
       "      <td>8.0</td>\n",
       "    </tr>\n",
       "    <tr>\n",
       "      <th>entrepreneur</th>\n",
       "      <td>408</td>\n",
       "      <td>227</td>\n",
       "      <td>129</td>\n",
       "      <td>57</td>\n",
       "      <td>594</td>\n",
       "      <td>2.0</td>\n",
       "    </tr>\n",
       "    <tr>\n",
       "      <th>housemaid</th>\n",
       "      <td>624</td>\n",
       "      <td>170</td>\n",
       "      <td>59</td>\n",
       "      <td>41</td>\n",
       "      <td>133</td>\n",
       "      <td>1.0</td>\n",
       "    </tr>\n",
       "    <tr>\n",
       "      <th>management</th>\n",
       "      <td>343</td>\n",
       "      <td>291</td>\n",
       "      <td>85</td>\n",
       "      <td>122</td>\n",
       "      <td>2009</td>\n",
       "      <td>0.0</td>\n",
       "    </tr>\n",
       "    <tr>\n",
       "      <th>retired</th>\n",
       "      <td>794</td>\n",
       "      <td>267</td>\n",
       "      <td>235</td>\n",
       "      <td>94</td>\n",
       "      <td>278</td>\n",
       "      <td>3.0</td>\n",
       "    </tr>\n",
       "    <tr>\n",
       "      <th>self-employed</th>\n",
       "      <td>324</td>\n",
       "      <td>117</td>\n",
       "      <td>160</td>\n",
       "      <td>27</td>\n",
       "      <td>745</td>\n",
       "      <td>3.0</td>\n",
       "    </tr>\n",
       "    <tr>\n",
       "      <th>services</th>\n",
       "      <td>723</td>\n",
       "      <td>2616</td>\n",
       "      <td>213</td>\n",
       "      <td>146</td>\n",
       "      <td>164</td>\n",
       "      <td>0.0</td>\n",
       "    </tr>\n",
       "    <tr>\n",
       "      <th>student</th>\n",
       "      <td>132</td>\n",
       "      <td>349</td>\n",
       "      <td>42</td>\n",
       "      <td>163</td>\n",
       "      <td>165</td>\n",
       "      <td>0.0</td>\n",
       "    </tr>\n",
       "    <tr>\n",
       "      <th>technician</th>\n",
       "      <td>520</td>\n",
       "      <td>854</td>\n",
       "      <td>3241</td>\n",
       "      <td>204</td>\n",
       "      <td>1765</td>\n",
       "      <td>0.0</td>\n",
       "    </tr>\n",
       "    <tr>\n",
       "      <th>unemployed</th>\n",
       "      <td>322</td>\n",
       "      <td>250</td>\n",
       "      <td>138</td>\n",
       "      <td>19</td>\n",
       "      <td>253</td>\n",
       "      <td>0.0</td>\n",
       "    </tr>\n",
       "    <tr>\n",
       "      <th>unknown</th>\n",
       "      <td>104</td>\n",
       "      <td>37</td>\n",
       "      <td>12</td>\n",
       "      <td>124</td>\n",
       "      <td>39</td>\n",
       "      <td>0.0</td>\n",
       "    </tr>\n",
       "  </tbody>\n",
       "</table>\n",
       "</div>"
      ],
      "text/plain": [
       "               basic  high.school  professional.course  unknown  \\\n",
       "job                                                               \n",
       "admin.           713         3245                  355      244   \n",
       "blue-collar     7159          858                  443      441   \n",
       "entrepreneur     408          227                  129       57   \n",
       "housemaid        624          170                   59       41   \n",
       "management       343          291                   85      122   \n",
       "retired          794          267                  235       94   \n",
       "self-employed    324          117                  160       27   \n",
       "services         723         2616                  213      146   \n",
       "student          132          349                   42      163   \n",
       "technician       520          854                 3241      204   \n",
       "unemployed       322          250                  138       19   \n",
       "unknown          104           37                   12      124   \n",
       "\n",
       "               university.degree  illiterate  \n",
       "job                                           \n",
       "admin.                      5623         1.0  \n",
       "blue-collar                   92         8.0  \n",
       "entrepreneur                 594         2.0  \n",
       "housemaid                    133         1.0  \n",
       "management                  2009         0.0  \n",
       "retired                      278         3.0  \n",
       "self-employed                745         3.0  \n",
       "services                     164         0.0  \n",
       "student                      165         0.0  \n",
       "technician                  1765         0.0  \n",
       "unemployed                   253         0.0  \n",
       "unknown                       39         0.0  "
      ]
     },
     "execution_count": 35,
     "metadata": {},
     "output_type": "execute_result"
    }
   ],
   "source": [
    "cross_tab(df, \"job\", \"education\")"
   ]
  },
  {
   "cell_type": "code",
   "execution_count": 38,
   "metadata": {},
   "outputs": [
    {
     "data": {
      "text/plain": [
       "job\n",
       "retired          659\n",
       "housemaid         52\n",
       "admin.            47\n",
       "technician        33\n",
       "management        30\n",
       "unknown           21\n",
       "blue-collar       20\n",
       "self-employed      9\n",
       "entrepreneur       8\n",
       "unemployed         7\n",
       "services           2\n",
       "Name: count, dtype: int64"
      ]
     },
     "execution_count": 38,
     "metadata": {},
     "output_type": "execute_result"
    }
   ],
   "source": [
    "df[\"job\"][df[\"age\"] > 60].value_counts()"
   ]
  },
  {
   "cell_type": "markdown",
   "metadata": {},
   "source": [
    "**Inferir la educación a partir de los puestos de trabajo**: de la tabulación cruzada vemos que las personas con puestos directivos suelen tener un título universitario. Por lo tanto, siempre que \"job\" = 'management' y \"education\" = 'unknown', podemos sustituir \"education\" por \"university.degree\". Del mismo modo, \"job\" = \"services\" --> \"education\" = \"high.school\" y \"job\" = \"housemaid\" --> \"education\" = \"basic\".\n",
    "\n",
    "**Inferir empleos a partir de la educación**: si 'education' = 'basic' (generalizamos basic.4y', 'basic.6y' y 'basic.9y' a 'basic' previamente) entonces 'job' suele ser 'blue-collar'. Si 'education' = 'professional.course', entonces el 'trabajo' = 'technician'.\n",
    "\n",
    "**Inferir empleos a partir de la edad**: como podemos ver, si \"age\" > 60 años, el \"empleo\" es \"jubilado\", lo que tiene sentido.\n",
    "\n",
    "Al imputar los valores del empleo y la educación, tuvimos en cuenta que las correlaciones debían tener sentido en el mundo real. Si no lo tenían, no sustituíamos los valores que faltaban."
   ]
  },
  {
   "cell_type": "code",
   "execution_count": 36,
   "metadata": {},
   "outputs": [
    {
     "data": {
      "text/html": [
       "<div>\n",
       "<style scoped>\n",
       "    .dataframe tbody tr th:only-of-type {\n",
       "        vertical-align: middle;\n",
       "    }\n",
       "\n",
       "    .dataframe tbody tr th {\n",
       "        vertical-align: top;\n",
       "    }\n",
       "\n",
       "    .dataframe thead th {\n",
       "        text-align: right;\n",
       "    }\n",
       "</style>\n",
       "<table border=\"1\" class=\"dataframe\">\n",
       "  <thead>\n",
       "    <tr style=\"text-align: right;\">\n",
       "      <th></th>\n",
       "      <th>age</th>\n",
       "      <th>duration</th>\n",
       "      <th>campaign</th>\n",
       "      <th>pdays</th>\n",
       "      <th>previous</th>\n",
       "      <th>emp.var.rate</th>\n",
       "      <th>cons.price.idx</th>\n",
       "      <th>cons.conf.idx</th>\n",
       "      <th>euribor3m</th>\n",
       "      <th>nr.employed</th>\n",
       "    </tr>\n",
       "  </thead>\n",
       "  <tbody>\n",
       "    <tr>\n",
       "      <th>count</th>\n",
       "      <td>40119.000000</td>\n",
       "      <td>40119.000000</td>\n",
       "      <td>40119.000000</td>\n",
       "      <td>40119.000000</td>\n",
       "      <td>40119.000000</td>\n",
       "      <td>40119.000000</td>\n",
       "      <td>40119.000000</td>\n",
       "      <td>40119.000000</td>\n",
       "      <td>40119.000000</td>\n",
       "      <td>40119.000000</td>\n",
       "    </tr>\n",
       "    <tr>\n",
       "      <th>mean</th>\n",
       "      <td>40.025649</td>\n",
       "      <td>258.384855</td>\n",
       "      <td>2.566540</td>\n",
       "      <td>962.467210</td>\n",
       "      <td>0.172462</td>\n",
       "      <td>0.081665</td>\n",
       "      <td>93.574366</td>\n",
       "      <td>-40.507376</td>\n",
       "      <td>3.621063</td>\n",
       "      <td>5167.067724</td>\n",
       "    </tr>\n",
       "    <tr>\n",
       "      <th>std</th>\n",
       "      <td>10.421783</td>\n",
       "      <td>259.328590</td>\n",
       "      <td>2.762957</td>\n",
       "      <td>186.932089</td>\n",
       "      <td>0.493937</td>\n",
       "      <td>1.570349</td>\n",
       "      <td>0.578081</td>\n",
       "      <td>4.628831</td>\n",
       "      <td>1.734155</td>\n",
       "      <td>72.232576</td>\n",
       "    </tr>\n",
       "    <tr>\n",
       "      <th>min</th>\n",
       "      <td>17.000000</td>\n",
       "      <td>0.000000</td>\n",
       "      <td>1.000000</td>\n",
       "      <td>0.000000</td>\n",
       "      <td>0.000000</td>\n",
       "      <td>-3.400000</td>\n",
       "      <td>92.201000</td>\n",
       "      <td>-50.800000</td>\n",
       "      <td>0.634000</td>\n",
       "      <td>4963.600000</td>\n",
       "    </tr>\n",
       "    <tr>\n",
       "      <th>25%</th>\n",
       "      <td>32.000000</td>\n",
       "      <td>102.000000</td>\n",
       "      <td>1.000000</td>\n",
       "      <td>999.000000</td>\n",
       "      <td>0.000000</td>\n",
       "      <td>-1.800000</td>\n",
       "      <td>93.075000</td>\n",
       "      <td>-42.700000</td>\n",
       "      <td>1.344000</td>\n",
       "      <td>5099.100000</td>\n",
       "    </tr>\n",
       "    <tr>\n",
       "      <th>50%</th>\n",
       "      <td>38.000000</td>\n",
       "      <td>180.000000</td>\n",
       "      <td>2.000000</td>\n",
       "      <td>999.000000</td>\n",
       "      <td>0.000000</td>\n",
       "      <td>1.100000</td>\n",
       "      <td>93.749000</td>\n",
       "      <td>-41.800000</td>\n",
       "      <td>4.857000</td>\n",
       "      <td>5191.000000</td>\n",
       "    </tr>\n",
       "    <tr>\n",
       "      <th>75%</th>\n",
       "      <td>47.000000</td>\n",
       "      <td>320.000000</td>\n",
       "      <td>3.000000</td>\n",
       "      <td>999.000000</td>\n",
       "      <td>0.000000</td>\n",
       "      <td>1.400000</td>\n",
       "      <td>93.994000</td>\n",
       "      <td>-36.400000</td>\n",
       "      <td>4.961000</td>\n",
       "      <td>5228.100000</td>\n",
       "    </tr>\n",
       "    <tr>\n",
       "      <th>max</th>\n",
       "      <td>98.000000</td>\n",
       "      <td>4918.000000</td>\n",
       "      <td>43.000000</td>\n",
       "      <td>999.000000</td>\n",
       "      <td>7.000000</td>\n",
       "      <td>1.400000</td>\n",
       "      <td>94.767000</td>\n",
       "      <td>-26.900000</td>\n",
       "      <td>5.045000</td>\n",
       "      <td>5228.100000</td>\n",
       "    </tr>\n",
       "  </tbody>\n",
       "</table>\n",
       "</div>"
      ],
      "text/plain": [
       "                age      duration      campaign         pdays      previous  \\\n",
       "count  40119.000000  40119.000000  40119.000000  40119.000000  40119.000000   \n",
       "mean      40.025649    258.384855      2.566540    962.467210      0.172462   \n",
       "std       10.421783    259.328590      2.762957    186.932089      0.493937   \n",
       "min       17.000000      0.000000      1.000000      0.000000      0.000000   \n",
       "25%       32.000000    102.000000      1.000000    999.000000      0.000000   \n",
       "50%       38.000000    180.000000      2.000000    999.000000      0.000000   \n",
       "75%       47.000000    320.000000      3.000000    999.000000      0.000000   \n",
       "max       98.000000   4918.000000     43.000000    999.000000      7.000000   \n",
       "\n",
       "       emp.var.rate  cons.price.idx  cons.conf.idx     euribor3m   nr.employed  \n",
       "count  40119.000000    40119.000000   40119.000000  40119.000000  40119.000000  \n",
       "mean       0.081665       93.574366     -40.507376      3.621063   5167.067724  \n",
       "std        1.570349        0.578081       4.628831      1.734155     72.232576  \n",
       "min       -3.400000       92.201000     -50.800000      0.634000   4963.600000  \n",
       "25%       -1.800000       93.075000     -42.700000      1.344000   5099.100000  \n",
       "50%        1.100000       93.749000     -41.800000      4.857000   5191.000000  \n",
       "75%        1.400000       93.994000     -36.400000      4.961000   5228.100000  \n",
       "max        1.400000       94.767000     -26.900000      5.045000   5228.100000  "
      ]
     },
     "execution_count": 36,
     "metadata": {},
     "output_type": "execute_result"
    }
   ],
   "source": [
    "df.describe()"
   ]
  },
  {
   "cell_type": "code",
   "execution_count": 37,
   "metadata": {},
   "outputs": [
    {
     "data": {
      "text/plain": [
       "<Axes: xlabel='count', ylabel='y'>"
      ]
     },
     "execution_count": 37,
     "metadata": {},
     "output_type": "execute_result"
    },
    {
     "data": {
      "image/png": "[encoded data removed]",
      "text/plain": [
       "<Figure size 640x480 with 1 Axes>"
      ]
     },
     "metadata": {},
     "output_type": "display_data"
    }
   ],
   "source": [
    "sns.countplot(y=\"y\", data=df)"
   ]
  }
 ],
 "metadata": {
  "kernelspec": {
   "display_name": "coder_environment",
   "language": "python",
   "name": "python3"
  },
  "language_info": {
   "codemirror_mode": {
    "name": "ipython",
    "version": 3
   },
   "file_extension": ".py",
   "mimetype": "text/x-python",
   "name": "python",
   "nbconvert_exporter": "python",
   "pygments_lexer": "ipython3",
   "version": "3.11.3"
  },
  "orig_nbformat": 4
 },
 "nbformat": 4,
 "nbformat_minor": 2
}
