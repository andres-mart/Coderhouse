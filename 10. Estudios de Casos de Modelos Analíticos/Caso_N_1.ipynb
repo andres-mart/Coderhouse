{
 "cells": [
  {
   "attachments": {},
   "cell_type": "markdown",
   "metadata": {},
   "source": [
    "# Caso de Estudio N°1"
   ]
  },
  {
   "attachments": {},
   "cell_type": "markdown",
   "metadata": {},
   "source": [
    "1- El problema que se presenta es la disminución de la efectividad de las campañas de marketing de una institución financiera en los últimos 6 meses, lo cual ha llevado a que el indicador de efectividad caiga del 12% al 8%. El objetivo de negocio es aumentar la efectividad de las futuras campañas de marketing.\n",
    "\n",
    "2- En el problema de negocio se utilizan las siguientes variables:\n",
    "\n",
    " - Variables demográficas: age (edad), job (trabajo), marital (estado civil), education (nivel educativo).\n",
    "- Variables relacionadas con la situación financiera: default (crédito en mora), housing (crédito hipotecario), loan (crédito personal).\n",
    "- Variables de contacto y campaña: contact (canal de comunicación), month (último mes de contacto), day_of_week (último día de la semana de contacto), duration (duración de la llamada), campaign (número de contactos en la campaña actual), pdays (días desde la última gestión en campañas), previous (número de contactos antes de la campaña actual), poutcome (tipificación de aceptación en campaña anterior).\n",
    "- Variables económicas: emp.var.rate (tasa de variación del empleo), cons.price.idx (índice de precios al consumidor), cons.conf.idx (índice de confianza al consumidor), euribor3m (ratio de tipo de cambio medio en los últimos 3 meses), nr.employed (número de empleados).\n",
    "\n",
    "3- Para resolver este problema de negocio y cumplir con los objetivos planteados, se puede utilizar la ciencia o analítica de datos de la siguiente manera:\n",
    "\n",
    "a) Realizar un análisis exploratorio de datos: Se debe realizar un análisis detallado de los datos disponibles en el dataset BankMarketing.csv. Esto incluye comprender la distribución de las variables, identificar posibles relaciones o patrones entre las variables y analizar la tendencia de la efectividad en función de diferentes características.\n",
    "\n",
    "b) Identificar variables relevantes: Mediante técnicas de análisis estadístico y visualización de datos, es importante identificar las variables que tienen una mayor influencia en la efectividad de las campañas de marketing. Esto permitirá enfocar los esfuerzos en aquellas variables que tienen un impacto significativo.\n",
    "\n",
    "c) Modelado predictivo: Se pueden utilizar técnicas de aprendizaje automático (machine learning) para construir modelos predictivos que ayuden a predecir la efectividad de las campañas de marketing. Estos modelos pueden utilizar las variables disponibles para realizar predicciones y brindar información sobre las estrategias más efectivas.\n",
    "\n",
    "d) Segmentar clientes: Es posible realizar una segmentación de clientes basada en diferentes características demográficas, financieras y de contacto. Esto ayudará a identificar grupos de clientes con características similares que puedan tener comportamientos de respuesta similares ante las campañas de marketing.\n",
    "\n",
    "e) Optimizar estrategias: Utilizando los resultados del análisis y los modelos predictivos, se pueden desarrollar estrategias personalizadas para diferentes segmentos de clientes. Estas estrategias pueden incluir el ajuste de los canales de comunicación, la frecuencia de contacto, el contenido de las ofertas y la selección de momentos óptimos para realizar las campañas.\n",
    "\n",
    "f) Evaluación y mejora continua: Es importante evaluar regularmente los resultados de las campañas de marketing y ajustar las estrategias según sea necesario. Esto implica realizar un seguimiento de los indicadores de efectividad, realizar análisis de retorno de inversión (ROI) y recopilar comentarios de los clientes para mejorar continuamente las campañas futuras."
   ]
  },
  {
   "cell_type": "markdown",
   "metadata": {},
   "source": [
    "## Importamos librerías"
   ]
  },
  {
   "cell_type": "code",
   "execution_count": 44,
   "metadata": {},
   "outputs": [],
   "source": [
    "import pandas as pd\n",
    "import numpy as np\n",
    "from sklearn import preprocessing\n",
    "from sklearn.preprocessing import StandardScaler\n",
    "from sklearn.model_selection import train_test_split\n",
    "from sklearn.linear_model import LogisticRegression\n",
    "from sklearn.tree import DecisionTreeClassifier\n",
    "from sklearn.neighbors import KNeighborsClassifier\n",
    "from sklearn.svm import SVC\n",
    "from sklearn.ensemble import RandomForestClassifier\n",
    "from sklearn.ensemble import AdaBoostClassifier\n",
    "from xgboost import XGBClassifier\n",
    "from sklearn.decomposition import PCA\n",
    "from sklearn import model_selection\n",
    "from sklearn.metrics import classification_report\n",
    "from sklearn.metrics import confusion_matrix\n",
    "from sklearn.metrics import accuracy_score\n",
    "import time\n",
    "import matplotlib.pyplot as plt\n",
    "%matplotlib inline\n",
    "import seaborn as sns"
   ]
  },
  {
   "cell_type": "markdown",
   "metadata": {},
   "source": [
    "### Cargamos nuestro dataset"
   ]
  },
  {
   "cell_type": "code",
   "execution_count": 45,
   "metadata": {},
   "outputs": [
    {
     "data": {
      "text/html": [
       "<div>\n",
       "<style scoped>\n",
       "    .dataframe tbody tr th:only-of-type {\n",
       "        vertical-align: middle;\n",
       "    }\n",
       "\n",
       "    .dataframe tbody tr th {\n",
       "        vertical-align: top;\n",
       "    }\n",
       "\n",
       "    .dataframe thead th {\n",
       "        text-align: right;\n",
       "    }\n",
       "</style>\n",
       "<table border=\"1\" class=\"dataframe\">\n",
       "  <thead>\n",
       "    <tr style=\"text-align: right;\">\n",
       "      <th></th>\n",
       "      <th>age</th>\n",
       "      <th>job</th>\n",
       "      <th>marital</th>\n",
       "      <th>education</th>\n",
       "      <th>default</th>\n",
       "      <th>housing</th>\n",
       "      <th>loan</th>\n",
       "      <th>contact</th>\n",
       "      <th>month</th>\n",
       "      <th>day_of_week</th>\n",
       "      <th>...</th>\n",
       "      <th>campaign</th>\n",
       "      <th>pdays</th>\n",
       "      <th>previous</th>\n",
       "      <th>poutcome</th>\n",
       "      <th>emp.var.rate</th>\n",
       "      <th>cons.price.idx</th>\n",
       "      <th>cons.conf.idx</th>\n",
       "      <th>euribor3m</th>\n",
       "      <th>nr.employed</th>\n",
       "      <th>y</th>\n",
       "    </tr>\n",
       "  </thead>\n",
       "  <tbody>\n",
       "    <tr>\n",
       "      <th>0</th>\n",
       "      <td>56</td>\n",
       "      <td>housemaid</td>\n",
       "      <td>married</td>\n",
       "      <td>basic.4y</td>\n",
       "      <td>no</td>\n",
       "      <td>no</td>\n",
       "      <td>no</td>\n",
       "      <td>telephone</td>\n",
       "      <td>may</td>\n",
       "      <td>mon</td>\n",
       "      <td>...</td>\n",
       "      <td>1</td>\n",
       "      <td>999</td>\n",
       "      <td>0</td>\n",
       "      <td>nonexistent</td>\n",
       "      <td>1.1</td>\n",
       "      <td>93.994</td>\n",
       "      <td>-36.4</td>\n",
       "      <td>4.857</td>\n",
       "      <td>5191.0</td>\n",
       "      <td>no</td>\n",
       "    </tr>\n",
       "    <tr>\n",
       "      <th>1</th>\n",
       "      <td>57</td>\n",
       "      <td>services</td>\n",
       "      <td>married</td>\n",
       "      <td>high.school</td>\n",
       "      <td>unknown</td>\n",
       "      <td>no</td>\n",
       "      <td>no</td>\n",
       "      <td>telephone</td>\n",
       "      <td>may</td>\n",
       "      <td>mon</td>\n",
       "      <td>...</td>\n",
       "      <td>1</td>\n",
       "      <td>999</td>\n",
       "      <td>0</td>\n",
       "      <td>nonexistent</td>\n",
       "      <td>1.1</td>\n",
       "      <td>93.994</td>\n",
       "      <td>-36.4</td>\n",
       "      <td>4.857</td>\n",
       "      <td>5191.0</td>\n",
       "      <td>no</td>\n",
       "    </tr>\n",
       "    <tr>\n",
       "      <th>2</th>\n",
       "      <td>37</td>\n",
       "      <td>services</td>\n",
       "      <td>married</td>\n",
       "      <td>high.school</td>\n",
       "      <td>no</td>\n",
       "      <td>yes</td>\n",
       "      <td>no</td>\n",
       "      <td>telephone</td>\n",
       "      <td>may</td>\n",
       "      <td>mon</td>\n",
       "      <td>...</td>\n",
       "      <td>1</td>\n",
       "      <td>999</td>\n",
       "      <td>0</td>\n",
       "      <td>nonexistent</td>\n",
       "      <td>1.1</td>\n",
       "      <td>93.994</td>\n",
       "      <td>-36.4</td>\n",
       "      <td>4.857</td>\n",
       "      <td>5191.0</td>\n",
       "      <td>no</td>\n",
       "    </tr>\n",
       "    <tr>\n",
       "      <th>3</th>\n",
       "      <td>40</td>\n",
       "      <td>admin.</td>\n",
       "      <td>married</td>\n",
       "      <td>basic.6y</td>\n",
       "      <td>no</td>\n",
       "      <td>no</td>\n",
       "      <td>no</td>\n",
       "      <td>telephone</td>\n",
       "      <td>may</td>\n",
       "      <td>mon</td>\n",
       "      <td>...</td>\n",
       "      <td>1</td>\n",
       "      <td>999</td>\n",
       "      <td>0</td>\n",
       "      <td>nonexistent</td>\n",
       "      <td>1.1</td>\n",
       "      <td>93.994</td>\n",
       "      <td>-36.4</td>\n",
       "      <td>4.857</td>\n",
       "      <td>5191.0</td>\n",
       "      <td>no</td>\n",
       "    </tr>\n",
       "    <tr>\n",
       "      <th>4</th>\n",
       "      <td>56</td>\n",
       "      <td>services</td>\n",
       "      <td>married</td>\n",
       "      <td>high.school</td>\n",
       "      <td>no</td>\n",
       "      <td>no</td>\n",
       "      <td>yes</td>\n",
       "      <td>telephone</td>\n",
       "      <td>may</td>\n",
       "      <td>mon</td>\n",
       "      <td>...</td>\n",
       "      <td>1</td>\n",
       "      <td>999</td>\n",
       "      <td>0</td>\n",
       "      <td>nonexistent</td>\n",
       "      <td>1.1</td>\n",
       "      <td>93.994</td>\n",
       "      <td>-36.4</td>\n",
       "      <td>4.857</td>\n",
       "      <td>5191.0</td>\n",
       "      <td>no</td>\n",
       "    </tr>\n",
       "  </tbody>\n",
       "</table>\n",
       "<p>5 rows × 21 columns</p>\n",
       "</div>"
      ],
      "text/plain": [
       "   age        job  marital    education  default housing loan    contact  \\\n",
       "0   56  housemaid  married     basic.4y       no      no   no  telephone   \n",
       "1   57   services  married  high.school  unknown      no   no  telephone   \n",
       "2   37   services  married  high.school       no     yes   no  telephone   \n",
       "3   40     admin.  married     basic.6y       no      no   no  telephone   \n",
       "4   56   services  married  high.school       no      no  yes  telephone   \n",
       "\n",
       "  month day_of_week  ...  campaign  pdays  previous     poutcome emp.var.rate  \\\n",
       "0   may         mon  ...         1    999         0  nonexistent          1.1   \n",
       "1   may         mon  ...         1    999         0  nonexistent          1.1   \n",
       "2   may         mon  ...         1    999         0  nonexistent          1.1   \n",
       "3   may         mon  ...         1    999         0  nonexistent          1.1   \n",
       "4   may         mon  ...         1    999         0  nonexistent          1.1   \n",
       "\n",
       "   cons.price.idx  cons.conf.idx  euribor3m  nr.employed   y  \n",
       "0          93.994          -36.4      4.857       5191.0  no  \n",
       "1          93.994          -36.4      4.857       5191.0  no  \n",
       "2          93.994          -36.4      4.857       5191.0  no  \n",
       "3          93.994          -36.4      4.857       5191.0  no  \n",
       "4          93.994          -36.4      4.857       5191.0  no  \n",
       "\n",
       "[5 rows x 21 columns]"
      ]
     },
     "execution_count": 45,
     "metadata": {},
     "output_type": "execute_result"
    }
   ],
   "source": [
    "df = pd.read_csv(\n",
    "    \"D://Coderhouse//10. Estudios de Casos de Modelos Analíticos//CSVs Casos//BankMarketing.csv\",\n",
    "    sep=\";\",\n",
    ")\n",
    "df.head()"
   ]
  },
  {
   "cell_type": "markdown",
   "metadata": {},
   "source": [
    "### Preprocesamos la información"
   ]
  },
  {
   "cell_type": "code",
   "execution_count": 46,
   "metadata": {},
   "outputs": [],
   "source": [
    "# Creamos una instancia para codificar las variables categóricas:\n",
    "def categorize(df):\n",
    "    new_df = df.copy()\n",
    "    le = preprocessing.LabelEncoder()\n",
    "\n",
    "    new_df[\"job\"] = le.fit_transform(new_df[\"job\"])\n",
    "    new_df[\"marital\"] = le.fit_transform(new_df[\"marital\"])\n",
    "    new_df[\"education\"] = le.fit_transform(new_df[\"education\"])\n",
    "    new_df[\"default\"] = le.fit_transform(new_df[\"default\"])\n",
    "    new_df[\"housing\"] = le.fit_transform(new_df[\"housing\"])\n",
    "    new_df[\"month\"] = le.fit_transform(new_df[\"month\"])\n",
    "    new_df[\"loan\"] = le.fit_transform(new_df[\"loan\"])\n",
    "    new_df[\"contact\"] = le.fit_transform(new_df[\"contact\"])\n",
    "    new_df[\"day_of_week\"] = le.fit_transform(new_df[\"day_of_week\"])\n",
    "    new_df[\"poutcome\"] = le.fit_transform(new_df[\"poutcome\"])\n",
    "    new_df[\"y\"] = le.fit_transform(new_df[\"y\"])\n",
    "    return new_df"
   ]
  },
  {
   "cell_type": "code",
   "execution_count": 47,
   "metadata": {},
   "outputs": [],
   "source": [
    "# Reemplazamos \"basic.6y\", \"basic.4y\", \"basic.9y\" por solo \"basic\":\n",
    "df.replace([\"basic.6y\", \"basic.4y\", \"basic.9y\"], \"basic\", inplace=True)"
   ]
  },
  {
   "cell_type": "markdown",
   "metadata": {},
   "source": [
    "## Verificamos valores nulos"
   ]
  },
  {
   "cell_type": "code",
   "execution_count": 48,
   "metadata": {},
   "outputs": [
    {
     "data": {
      "text/plain": [
       "age               0\n",
       "job               0\n",
       "marital           0\n",
       "education         0\n",
       "default           0\n",
       "housing           0\n",
       "loan              0\n",
       "contact           0\n",
       "month             0\n",
       "day_of_week       0\n",
       "duration          0\n",
       "campaign          0\n",
       "pdays             0\n",
       "previous          0\n",
       "poutcome          0\n",
       "emp.var.rate      0\n",
       "cons.price.idx    0\n",
       "cons.conf.idx     0\n",
       "euribor3m         0\n",
       "nr.employed       0\n",
       "y                 0\n",
       "dtype: int64"
      ]
     },
     "execution_count": 48,
     "metadata": {},
     "output_type": "execute_result"
    }
   ],
   "source": [
    "df.isnull().sum()"
   ]
  },
  {
   "cell_type": "markdown",
   "metadata": {},
   "source": [
    "## Visualización"
   ]
  },
  {
   "cell_type": "code",
   "execution_count": 49,
   "metadata": {},
   "outputs": [
    {
     "data": {
      "text/plain": [
       "<Axes: xlabel='count', ylabel='job'>"
      ]
     },
     "execution_count": 49,
     "metadata": {},
     "output_type": "execute_result"
    },
    {
     "data": {
      "image/png": "[encoded data removed]",
      "text/plain": [
       "<Figure size 1000x800 with 1 Axes>"
      ]
     },
     "metadata": {},
     "output_type": "display_data"
    }
   ],
   "source": [
    "sns.set(style=\"ticks\", color_codes=True)\n",
    "sns.countplot(y=\"job\", data=df)"
   ]
  },
  {
   "cell_type": "code",
   "execution_count": 50,
   "metadata": {},
   "outputs": [],
   "source": [
    "# Descartamos los valoers 'unknown':\n",
    "df = df[df.job != \"unknown\"]"
   ]
  },
  {
   "cell_type": "code",
   "execution_count": 51,
   "metadata": {},
   "outputs": [
    {
     "data": {
      "text/plain": [
       "<Axes: xlabel='count', ylabel='marital'>"
      ]
     },
     "execution_count": 51,
     "metadata": {},
     "output_type": "execute_result"
    },
    {
     "data": {
      "image/png": "[encoded data removed]",
      "text/plain": [
       "<Figure size 1000x800 with 1 Axes>"
      ]
     },
     "metadata": {},
     "output_type": "display_data"
    }
   ],
   "source": [
    "# Graficamos estados civiles:\n",
    "sns.countplot(y=\"marital\", data=df)"
   ]
  },
  {
   "cell_type": "code",
   "execution_count": 52,
   "metadata": {},
   "outputs": [
    {
     "data": {
      "text/plain": [
       "marital\n",
       "married     24694\n",
       "single      11494\n",
       "divorced     4599\n",
       "unknown        71\n",
       "Name: count, dtype: int64"
      ]
     },
     "execution_count": 52,
     "metadata": {},
     "output_type": "execute_result"
    }
   ],
   "source": [
    "df.marital.value_counts()"
   ]
  },
  {
   "cell_type": "code",
   "execution_count": 53,
   "metadata": {},
   "outputs": [
    {
     "data": {
      "text/plain": [
       "loan\n",
       "no         33682\n",
       "yes         6191\n",
       "unknown      985\n",
       "Name: count, dtype: int64"
      ]
     },
     "execution_count": 53,
     "metadata": {},
     "output_type": "execute_result"
    }
   ],
   "source": [
    "df.loan.value_counts()"
   ]
  },
  {
   "cell_type": "code",
   "execution_count": 54,
   "metadata": {},
   "outputs": [],
   "source": [
    "# Eliminamos valores 'unknown' de las columnas 'marital' y 'loan':\n",
    "df = df[df.marital != \"unknown\"]\n",
    "df = df[df.loan != \"unknown\"]"
   ]
  },
  {
   "cell_type": "code",
   "execution_count": 55,
   "metadata": {},
   "outputs": [
    {
     "data": {
      "text/plain": [
       "<Axes: xlabel='count', ylabel='education'>"
      ]
     },
     "execution_count": 55,
     "metadata": {},
     "output_type": "execute_result"
    },
    {
     "data": {
      "image/png": "[encoded data removed]",
      "text/plain": [
       "<Figure size 1000x800 with 1 Axes>"
      ]
     },
     "metadata": {},
     "output_type": "display_data"
    }
   ],
   "source": [
    "sns.countplot(y=\"education\", data=df)"
   ]
  },
  {
   "cell_type": "code",
   "execution_count": 56,
   "metadata": {},
   "outputs": [
    {
     "data": {
      "text/plain": [
       "education\n",
       "basic                  12062\n",
       "university.degree      11821\n",
       "high.school             9244\n",
       "professional.course     5100\n",
       "unknown                 1558\n",
       "illiterate                18\n",
       "Name: count, dtype: int64"
      ]
     },
     "execution_count": 56,
     "metadata": {},
     "output_type": "execute_result"
    }
   ],
   "source": [
    "df.education.value_counts()"
   ]
  },
  {
   "cell_type": "code",
   "execution_count": 57,
   "metadata": {},
   "outputs": [],
   "source": [
    "# Eliminamos los valores correspondientes a 'iliterate' ya que no representan un gran porcentaje de nuestro conjunto de datos:\n",
    "df = df[df.education != \"illiterate\"]"
   ]
  },
  {
   "cell_type": "code",
   "execution_count": 58,
   "metadata": {},
   "outputs": [
    {
     "data": {
      "text/plain": [
       "<Axes: xlabel='count', ylabel='housing'>"
      ]
     },
     "execution_count": 58,
     "metadata": {},
     "output_type": "execute_result"
    },
    {
     "data": {
      "image/png": "[encoded data removed]",
      "text/plain": [
       "<Figure size 1000x800 with 1 Axes>"
      ]
     },
     "metadata": {},
     "output_type": "display_data"
    }
   ],
   "source": [
    "sns.countplot(y=\"housing\", data=df)"
   ]
  },
  {
   "cell_type": "code",
   "execution_count": 59,
   "metadata": {},
   "outputs": [
    {
     "data": {
      "text/plain": [
       "<Axes: xlabel='count', ylabel='y'>"
      ]
     },
     "execution_count": 59,
     "metadata": {},
     "output_type": "execute_result"
    },
    {
     "data": {
      "image/png": "[encoded data removed]",
      "text/plain": [
       "<Figure size 1000x800 with 1 Axes>"
      ]
     },
     "metadata": {},
     "output_type": "display_data"
    }
   ],
   "source": [
    "sns.countplot(y=\"y\", data=df)"
   ]
  },
  {
   "cell_type": "markdown",
   "metadata": {},
   "source": [
    "Ahora, para deducir los valores que faltan en \"job\" y \"education\", utilizamos la tabulación cruzada entre \"job\" y \"education\". Nuestra hipótesis es que \"job\" está influido por \"education\" de una persona. Por lo tanto, podemos deducir que \"job\" está en función de la educación de la persona. Además, como sólo estamos rellenando los valores que faltan, no nos preocupa mucho la inferencia causal. Por lo tanto, podemos utilizar el tipó de trabajo de la persona para predecir la educación."
   ]
  },
  {
   "cell_type": "code",
   "execution_count": 60,
   "metadata": {},
   "outputs": [],
   "source": [
    "# Creamos una tabla cruzada que toma el recuento de cada categoría que coincide con cada una de ellas (feat_1 y feat_2):\n",
    "def cross_tab(df, feat_1, feat_2):\n",
    "    jobs = list(df[feat_1].unique())\n",
    "    edu = list(df[feat_2].unique())\n",
    "    dataframes = []\n",
    "    for e in edu:\n",
    "        dfe = df[df[feat_2] == e]\n",
    "        dfejob = dfe.groupby(feat_1).count()[feat_2]\n",
    "        dataframes.append(dfejob)\n",
    "    xx = pd.concat(dataframes, axis=1)\n",
    "    xx.columns = edu\n",
    "    xx = xx.fillna(0)\n",
    "    return xx"
   ]
  },
  {
   "cell_type": "code",
   "execution_count": 61,
   "metadata": {},
   "outputs": [
    {
     "data": {
      "text/html": [
       "<div>\n",
       "<style scoped>\n",
       "    .dataframe tbody tr th:only-of-type {\n",
       "        vertical-align: middle;\n",
       "    }\n",
       "\n",
       "    .dataframe tbody tr th {\n",
       "        vertical-align: top;\n",
       "    }\n",
       "\n",
       "    .dataframe thead th {\n",
       "        text-align: right;\n",
       "    }\n",
       "</style>\n",
       "<table border=\"1\" class=\"dataframe\">\n",
       "  <thead>\n",
       "    <tr style=\"text-align: right;\">\n",
       "      <th></th>\n",
       "      <th>basic</th>\n",
       "      <th>high.school</th>\n",
       "      <th>professional.course</th>\n",
       "      <th>unknown</th>\n",
       "      <th>university.degree</th>\n",
       "    </tr>\n",
       "    <tr>\n",
       "      <th>job</th>\n",
       "      <th></th>\n",
       "      <th></th>\n",
       "      <th></th>\n",
       "      <th></th>\n",
       "      <th></th>\n",
       "    </tr>\n",
       "  </thead>\n",
       "  <tbody>\n",
       "    <tr>\n",
       "      <th>admin.</th>\n",
       "      <td>713</td>\n",
       "      <td>3245</td>\n",
       "      <td>355</td>\n",
       "      <td>244</td>\n",
       "      <td>5623</td>\n",
       "    </tr>\n",
       "    <tr>\n",
       "      <th>blue-collar</th>\n",
       "      <td>7159</td>\n",
       "      <td>858</td>\n",
       "      <td>443</td>\n",
       "      <td>441</td>\n",
       "      <td>92</td>\n",
       "    </tr>\n",
       "    <tr>\n",
       "      <th>entrepreneur</th>\n",
       "      <td>408</td>\n",
       "      <td>227</td>\n",
       "      <td>129</td>\n",
       "      <td>57</td>\n",
       "      <td>594</td>\n",
       "    </tr>\n",
       "    <tr>\n",
       "      <th>housemaid</th>\n",
       "      <td>624</td>\n",
       "      <td>170</td>\n",
       "      <td>59</td>\n",
       "      <td>41</td>\n",
       "      <td>133</td>\n",
       "    </tr>\n",
       "    <tr>\n",
       "      <th>management</th>\n",
       "      <td>343</td>\n",
       "      <td>291</td>\n",
       "      <td>85</td>\n",
       "      <td>122</td>\n",
       "      <td>2009</td>\n",
       "    </tr>\n",
       "    <tr>\n",
       "      <th>retired</th>\n",
       "      <td>794</td>\n",
       "      <td>267</td>\n",
       "      <td>235</td>\n",
       "      <td>94</td>\n",
       "      <td>278</td>\n",
       "    </tr>\n",
       "    <tr>\n",
       "      <th>self-employed</th>\n",
       "      <td>324</td>\n",
       "      <td>117</td>\n",
       "      <td>160</td>\n",
       "      <td>27</td>\n",
       "      <td>745</td>\n",
       "    </tr>\n",
       "    <tr>\n",
       "      <th>services</th>\n",
       "      <td>723</td>\n",
       "      <td>2616</td>\n",
       "      <td>213</td>\n",
       "      <td>146</td>\n",
       "      <td>164</td>\n",
       "    </tr>\n",
       "    <tr>\n",
       "      <th>student</th>\n",
       "      <td>132</td>\n",
       "      <td>349</td>\n",
       "      <td>42</td>\n",
       "      <td>163</td>\n",
       "      <td>165</td>\n",
       "    </tr>\n",
       "    <tr>\n",
       "      <th>technician</th>\n",
       "      <td>520</td>\n",
       "      <td>854</td>\n",
       "      <td>3241</td>\n",
       "      <td>204</td>\n",
       "      <td>1765</td>\n",
       "    </tr>\n",
       "    <tr>\n",
       "      <th>unemployed</th>\n",
       "      <td>322</td>\n",
       "      <td>250</td>\n",
       "      <td>138</td>\n",
       "      <td>19</td>\n",
       "      <td>253</td>\n",
       "    </tr>\n",
       "  </tbody>\n",
       "</table>\n",
       "</div>"
      ],
      "text/plain": [
       "               basic  high.school  professional.course  unknown  \\\n",
       "job                                                               \n",
       "admin.           713         3245                  355      244   \n",
       "blue-collar     7159          858                  443      441   \n",
       "entrepreneur     408          227                  129       57   \n",
       "housemaid        624          170                   59       41   \n",
       "management       343          291                   85      122   \n",
       "retired          794          267                  235       94   \n",
       "self-employed    324          117                  160       27   \n",
       "services         723         2616                  213      146   \n",
       "student          132          349                   42      163   \n",
       "technician       520          854                 3241      204   \n",
       "unemployed       322          250                  138       19   \n",
       "\n",
       "               university.degree  \n",
       "job                               \n",
       "admin.                      5623  \n",
       "blue-collar                   92  \n",
       "entrepreneur                 594  \n",
       "housemaid                    133  \n",
       "management                  2009  \n",
       "retired                      278  \n",
       "self-employed                745  \n",
       "services                     164  \n",
       "student                      165  \n",
       "technician                  1765  \n",
       "unemployed                   253  "
      ]
     },
     "execution_count": 61,
     "metadata": {},
     "output_type": "execute_result"
    }
   ],
   "source": [
    "cross_tab(df, \"job\", \"education\")"
   ]
  },
  {
   "cell_type": "code",
   "execution_count": 62,
   "metadata": {},
   "outputs": [
    {
     "data": {
      "text/plain": [
       "job\n",
       "retired          658\n",
       "housemaid         52\n",
       "admin.            47\n",
       "technician        33\n",
       "management        30\n",
       "blue-collar       20\n",
       "self-employed      9\n",
       "entrepreneur       8\n",
       "unemployed         7\n",
       "services           2\n",
       "Name: count, dtype: int64"
      ]
     },
     "execution_count": 62,
     "metadata": {},
     "output_type": "execute_result"
    }
   ],
   "source": [
    "df[\"job\"][df[\"age\"] > 60].value_counts()"
   ]
  },
  {
   "cell_type": "markdown",
   "metadata": {},
   "source": [
    "**Inferir la educación a partir de los puestos de trabajo**: de la tabulación cruzada vemos que las personas con puestos directivos suelen tener un título universitario. Por lo tanto, siempre que \"job\" = 'management' y \"education\" = 'unknown', podemos sustituir \"education\" por \"university.degree\". Del mismo modo, \"job\" = \"services\" --> \"education\" = \"high.school\" y \"job\" = \"housemaid\" --> \"education\" = \"basic\".\n",
    "\n",
    "**Inferir empleos a partir de la educación**: si 'education' = 'basic' (generalizamos basic.4y', 'basic.6y' y 'basic.9y' a 'basic' previamente) entonces 'job' suele ser 'blue-collar'. Si 'education' = 'professional.course', entonces 'job' = 'technician'.\n",
    "\n",
    "**Inferir empleos a partir de la edad**: como podemos ver, si \"age\" > 60 años, \"job\" es \"retired\", lo que tiene sentido.\n",
    "\n",
    "Al imputar los valores de job y education, tuvimos en cuenta que las correlaciones debían tener sentido en el mundo real. Si no lo tenían, no sustituíamos los valores que faltaban."
   ]
  },
  {
   "cell_type": "markdown",
   "metadata": {},
   "source": [
    "### Imputación de valores:"
   ]
  },
  {
   "cell_type": "code",
   "execution_count": 63,
   "metadata": {},
   "outputs": [],
   "source": [
    "df.loc[(df[\"age\"] > 60) & (df[\"job\"] == \"unknown\"), \"job\"] = \"retired\"\n",
    "df.loc[\n",
    "    (df[\"education\"] == \"unknown\") & (df[\"job\"] == \"management\"), \"education\"\n",
    "] = \"university.degree\"\n",
    "df.loc[\n",
    "    (df[\"education\"] == \"unknown\") & (df[\"job\"] == \"services\"), \"education\"\n",
    "] = \"high.school\"\n",
    "df.loc[\n",
    "    (df[\"education\"] == \"unknown\") & (df[\"job\"] == \"housemaid\"), \"education\"\n",
    "] = \"basic\"\n",
    "df.loc[(df[\"job\"] == \"unknown\") & (df[\"education\"] == \"basic\"), \"job\"] = \"blue-collar\"\n",
    "df.loc[\n",
    "    (df[\"job\"] == \"unknown\") & (df[\"education\"] == \"professional.course\"), \"job\"\n",
    "] = \"technician\""
   ]
  },
  {
   "cell_type": "code",
   "execution_count": 64,
   "metadata": {},
   "outputs": [
    {
     "data": {
      "text/html": [
       "<div>\n",
       "<style scoped>\n",
       "    .dataframe tbody tr th:only-of-type {\n",
       "        vertical-align: middle;\n",
       "    }\n",
       "\n",
       "    .dataframe tbody tr th {\n",
       "        vertical-align: top;\n",
       "    }\n",
       "\n",
       "    .dataframe thead th {\n",
       "        text-align: right;\n",
       "    }\n",
       "</style>\n",
       "<table border=\"1\" class=\"dataframe\">\n",
       "  <thead>\n",
       "    <tr style=\"text-align: right;\">\n",
       "      <th></th>\n",
       "      <th>basic</th>\n",
       "      <th>high.school</th>\n",
       "      <th>professional.course</th>\n",
       "      <th>unknown</th>\n",
       "      <th>university.degree</th>\n",
       "    </tr>\n",
       "    <tr>\n",
       "      <th>job</th>\n",
       "      <th></th>\n",
       "      <th></th>\n",
       "      <th></th>\n",
       "      <th></th>\n",
       "      <th></th>\n",
       "    </tr>\n",
       "  </thead>\n",
       "  <tbody>\n",
       "    <tr>\n",
       "      <th>admin.</th>\n",
       "      <td>713</td>\n",
       "      <td>3245</td>\n",
       "      <td>355</td>\n",
       "      <td>244.0</td>\n",
       "      <td>5623</td>\n",
       "    </tr>\n",
       "    <tr>\n",
       "      <th>blue-collar</th>\n",
       "      <td>7159</td>\n",
       "      <td>858</td>\n",
       "      <td>443</td>\n",
       "      <td>441.0</td>\n",
       "      <td>92</td>\n",
       "    </tr>\n",
       "    <tr>\n",
       "      <th>entrepreneur</th>\n",
       "      <td>408</td>\n",
       "      <td>227</td>\n",
       "      <td>129</td>\n",
       "      <td>57.0</td>\n",
       "      <td>594</td>\n",
       "    </tr>\n",
       "    <tr>\n",
       "      <th>housemaid</th>\n",
       "      <td>665</td>\n",
       "      <td>170</td>\n",
       "      <td>59</td>\n",
       "      <td>0.0</td>\n",
       "      <td>133</td>\n",
       "    </tr>\n",
       "    <tr>\n",
       "      <th>management</th>\n",
       "      <td>343</td>\n",
       "      <td>291</td>\n",
       "      <td>85</td>\n",
       "      <td>0.0</td>\n",
       "      <td>2131</td>\n",
       "    </tr>\n",
       "    <tr>\n",
       "      <th>retired</th>\n",
       "      <td>794</td>\n",
       "      <td>267</td>\n",
       "      <td>235</td>\n",
       "      <td>94.0</td>\n",
       "      <td>278</td>\n",
       "    </tr>\n",
       "    <tr>\n",
       "      <th>self-employed</th>\n",
       "      <td>324</td>\n",
       "      <td>117</td>\n",
       "      <td>160</td>\n",
       "      <td>27.0</td>\n",
       "      <td>745</td>\n",
       "    </tr>\n",
       "    <tr>\n",
       "      <th>services</th>\n",
       "      <td>723</td>\n",
       "      <td>2762</td>\n",
       "      <td>213</td>\n",
       "      <td>0.0</td>\n",
       "      <td>164</td>\n",
       "    </tr>\n",
       "    <tr>\n",
       "      <th>student</th>\n",
       "      <td>132</td>\n",
       "      <td>349</td>\n",
       "      <td>42</td>\n",
       "      <td>163.0</td>\n",
       "      <td>165</td>\n",
       "    </tr>\n",
       "    <tr>\n",
       "      <th>technician</th>\n",
       "      <td>520</td>\n",
       "      <td>854</td>\n",
       "      <td>3241</td>\n",
       "      <td>204.0</td>\n",
       "      <td>1765</td>\n",
       "    </tr>\n",
       "    <tr>\n",
       "      <th>unemployed</th>\n",
       "      <td>322</td>\n",
       "      <td>250</td>\n",
       "      <td>138</td>\n",
       "      <td>19.0</td>\n",
       "      <td>253</td>\n",
       "    </tr>\n",
       "  </tbody>\n",
       "</table>\n",
       "</div>"
      ],
      "text/plain": [
       "               basic  high.school  professional.course  unknown  \\\n",
       "job                                                               \n",
       "admin.           713         3245                  355    244.0   \n",
       "blue-collar     7159          858                  443    441.0   \n",
       "entrepreneur     408          227                  129     57.0   \n",
       "housemaid        665          170                   59      0.0   \n",
       "management       343          291                   85      0.0   \n",
       "retired          794          267                  235     94.0   \n",
       "self-employed    324          117                  160     27.0   \n",
       "services         723         2762                  213      0.0   \n",
       "student          132          349                   42    163.0   \n",
       "technician       520          854                 3241    204.0   \n",
       "unemployed       322          250                  138     19.0   \n",
       "\n",
       "               university.degree  \n",
       "job                               \n",
       "admin.                      5623  \n",
       "blue-collar                   92  \n",
       "entrepreneur                 594  \n",
       "housemaid                    133  \n",
       "management                  2131  \n",
       "retired                      278  \n",
       "self-employed                745  \n",
       "services                     164  \n",
       "student                      165  \n",
       "technician                  1765  \n",
       "unemployed                   253  "
      ]
     },
     "execution_count": 64,
     "metadata": {},
     "output_type": "execute_result"
    }
   ],
   "source": [
    "cross_tab(df, \"job\", \"education\")"
   ]
  },
  {
   "cell_type": "markdown",
   "metadata": {},
   "source": [
    "De esta forma hemos podido deducir los valores que faltaban en \"job\" y \"education\", reduciendo así el número de valores faltantes."
   ]
  },
  {
   "cell_type": "markdown",
   "metadata": {},
   "source": [
    "### Variables numéricas:"
   ]
  },
  {
   "cell_type": "code",
   "execution_count": 65,
   "metadata": {},
   "outputs": [],
   "source": [
    "def drawhist(df, feature):\n",
    "    plt.hist(df[feature])"
   ]
  },
  {
   "cell_type": "code",
   "execution_count": 66,
   "metadata": {},
   "outputs": [
    {
     "data": {
      "image/png": "[encoded data removed]",
      "text/plain": [
       "<Figure size 1000x800 with 1 Axes>"
      ]
     },
     "metadata": {},
     "output_type": "display_data"
    },
    {
     "data": {
      "image/png": "[encoded data removed]",
      "text/plain": [
       "<Figure size 1000x800 with 1 Axes>"
      ]
     },
     "metadata": {},
     "output_type": "display_data"
    }
   ],
   "source": [
    "drawhist(df, \"pdays\")\n",
    "plt.show()\n",
    "\n",
    "# Ploteamos todos los valores que no corresponden a valores faltantes:\n",
    "plt.hist(df.loc[df.pdays != 999, \"pdays\"])\n",
    "plt.show()"
   ]
  },
  {
   "cell_type": "code",
   "execution_count": 67,
   "metadata": {},
   "outputs": [
    {
     "data": {
      "text/plain": [
       "campaign\n",
       "1     17032\n",
       "2     10222\n",
       "3      5155\n",
       "4      2561\n",
       "5      1558\n",
       "6       947\n",
       "7       606\n",
       "8       385\n",
       "9       268\n",
       "10      214\n",
       "11      175\n",
       "12      119\n",
       "13       86\n",
       "14       66\n",
       "17       56\n",
       "16       48\n",
       "15       47\n",
       "18       31\n",
       "20       30\n",
       "19       25\n",
       "21       22\n",
       "22       17\n",
       "23       16\n",
       "24       15\n",
       "27       11\n",
       "29       10\n",
       "25        8\n",
       "28        8\n",
       "26        8\n",
       "31        7\n",
       "30        7\n",
       "35        5\n",
       "33        4\n",
       "32        4\n",
       "34        3\n",
       "42        2\n",
       "40        2\n",
       "43        2\n",
       "41        1\n",
       "37        1\n",
       "39        1\n",
       "Name: count, dtype: int64"
      ]
     },
     "execution_count": 67,
     "metadata": {},
     "output_type": "execute_result"
    }
   ],
   "source": [
    "df[\"campaign\"].value_counts()"
   ]
  },
  {
   "cell_type": "code",
   "execution_count": 68,
   "metadata": {},
   "outputs": [
    {
     "data": {
      "text/html": [
       "<div>\n",
       "<style scoped>\n",
       "    .dataframe tbody tr th:only-of-type {\n",
       "        vertical-align: middle;\n",
       "    }\n",
       "\n",
       "    .dataframe tbody tr th {\n",
       "        vertical-align: top;\n",
       "    }\n",
       "\n",
       "    .dataframe thead th {\n",
       "        text-align: right;\n",
       "    }\n",
       "</style>\n",
       "<table border=\"1\" class=\"dataframe\">\n",
       "  <thead>\n",
       "    <tr style=\"text-align: right;\">\n",
       "      <th></th>\n",
       "      <th>age</th>\n",
       "      <th>duration</th>\n",
       "      <th>campaign</th>\n",
       "      <th>pdays</th>\n",
       "      <th>previous</th>\n",
       "      <th>emp.var.rate</th>\n",
       "      <th>cons.price.idx</th>\n",
       "      <th>cons.conf.idx</th>\n",
       "      <th>euribor3m</th>\n",
       "      <th>nr.employed</th>\n",
       "    </tr>\n",
       "  </thead>\n",
       "  <tbody>\n",
       "    <tr>\n",
       "      <th>count</th>\n",
       "      <td>39785.000000</td>\n",
       "      <td>39785.000000</td>\n",
       "      <td>39785.000000</td>\n",
       "      <td>39785.000000</td>\n",
       "      <td>39785.000000</td>\n",
       "      <td>39785.000000</td>\n",
       "      <td>39785.000000</td>\n",
       "      <td>39785.000000</td>\n",
       "      <td>39785.000000</td>\n",
       "      <td>39785.000000</td>\n",
       "    </tr>\n",
       "    <tr>\n",
       "      <th>mean</th>\n",
       "      <td>39.976373</td>\n",
       "      <td>258.530728</td>\n",
       "      <td>2.566244</td>\n",
       "      <td>962.685409</td>\n",
       "      <td>0.172578</td>\n",
       "      <td>0.079882</td>\n",
       "      <td>93.573420</td>\n",
       "      <td>-40.521282</td>\n",
       "      <td>3.618843</td>\n",
       "      <td>5167.031901</td>\n",
       "    </tr>\n",
       "    <tr>\n",
       "      <th>std</th>\n",
       "      <td>10.400984</td>\n",
       "      <td>259.348853</td>\n",
       "      <td>2.763718</td>\n",
       "      <td>186.392277</td>\n",
       "      <td>0.494060</td>\n",
       "      <td>1.569592</td>\n",
       "      <td>0.577835</td>\n",
       "      <td>4.627971</td>\n",
       "      <td>1.734241</td>\n",
       "      <td>72.209256</td>\n",
       "    </tr>\n",
       "    <tr>\n",
       "      <th>min</th>\n",
       "      <td>17.000000</td>\n",
       "      <td>0.000000</td>\n",
       "      <td>1.000000</td>\n",
       "      <td>0.000000</td>\n",
       "      <td>0.000000</td>\n",
       "      <td>-3.400000</td>\n",
       "      <td>92.201000</td>\n",
       "      <td>-50.800000</td>\n",
       "      <td>0.634000</td>\n",
       "      <td>4963.600000</td>\n",
       "    </tr>\n",
       "    <tr>\n",
       "      <th>25%</th>\n",
       "      <td>32.000000</td>\n",
       "      <td>102.000000</td>\n",
       "      <td>1.000000</td>\n",
       "      <td>999.000000</td>\n",
       "      <td>0.000000</td>\n",
       "      <td>-1.800000</td>\n",
       "      <td>93.075000</td>\n",
       "      <td>-42.700000</td>\n",
       "      <td>1.344000</td>\n",
       "      <td>5099.100000</td>\n",
       "    </tr>\n",
       "    <tr>\n",
       "      <th>50%</th>\n",
       "      <td>38.000000</td>\n",
       "      <td>180.000000</td>\n",
       "      <td>2.000000</td>\n",
       "      <td>999.000000</td>\n",
       "      <td>0.000000</td>\n",
       "      <td>1.100000</td>\n",
       "      <td>93.749000</td>\n",
       "      <td>-41.800000</td>\n",
       "      <td>4.857000</td>\n",
       "      <td>5191.000000</td>\n",
       "    </tr>\n",
       "    <tr>\n",
       "      <th>75%</th>\n",
       "      <td>47.000000</td>\n",
       "      <td>320.000000</td>\n",
       "      <td>3.000000</td>\n",
       "      <td>999.000000</td>\n",
       "      <td>0.000000</td>\n",
       "      <td>1.400000</td>\n",
       "      <td>93.994000</td>\n",
       "      <td>-36.400000</td>\n",
       "      <td>4.961000</td>\n",
       "      <td>5228.100000</td>\n",
       "    </tr>\n",
       "    <tr>\n",
       "      <th>max</th>\n",
       "      <td>98.000000</td>\n",
       "      <td>4918.000000</td>\n",
       "      <td>43.000000</td>\n",
       "      <td>999.000000</td>\n",
       "      <td>7.000000</td>\n",
       "      <td>1.400000</td>\n",
       "      <td>94.767000</td>\n",
       "      <td>-26.900000</td>\n",
       "      <td>5.045000</td>\n",
       "      <td>5228.100000</td>\n",
       "    </tr>\n",
       "  </tbody>\n",
       "</table>\n",
       "</div>"
      ],
      "text/plain": [
       "                age      duration      campaign         pdays      previous  \\\n",
       "count  39785.000000  39785.000000  39785.000000  39785.000000  39785.000000   \n",
       "mean      39.976373    258.530728      2.566244    962.685409      0.172578   \n",
       "std       10.400984    259.348853      2.763718    186.392277      0.494060   \n",
       "min       17.000000      0.000000      1.000000      0.000000      0.000000   \n",
       "25%       32.000000    102.000000      1.000000    999.000000      0.000000   \n",
       "50%       38.000000    180.000000      2.000000    999.000000      0.000000   \n",
       "75%       47.000000    320.000000      3.000000    999.000000      0.000000   \n",
       "max       98.000000   4918.000000     43.000000    999.000000      7.000000   \n",
       "\n",
       "       emp.var.rate  cons.price.idx  cons.conf.idx     euribor3m   nr.employed  \n",
       "count  39785.000000    39785.000000   39785.000000  39785.000000  39785.000000  \n",
       "mean       0.079882       93.573420     -40.521282      3.618843   5167.031901  \n",
       "std        1.569592        0.577835       4.627971      1.734241     72.209256  \n",
       "min       -3.400000       92.201000     -50.800000      0.634000   4963.600000  \n",
       "25%       -1.800000       93.075000     -42.700000      1.344000   5099.100000  \n",
       "50%        1.100000       93.749000     -41.800000      4.857000   5191.000000  \n",
       "75%        1.400000       93.994000     -36.400000      4.961000   5228.100000  \n",
       "max        1.400000       94.767000     -26.900000      5.045000   5228.100000  "
      ]
     },
     "execution_count": 68,
     "metadata": {},
     "output_type": "execute_result"
    }
   ],
   "source": [
    "df.describe()"
   ]
  },
  {
   "cell_type": "markdown",
   "metadata": {},
   "source": [
    "**Missing values:** de la fuente de los datos (U.C. Irvine ML Repository), sabemos que los valores que faltan, o NaN's, se codifican como '999'. De la tabla anterior se desprende que sólo \"pdays\" tiene valores perdidos. Además, faltan la mayoría de los valores de \"pdays\".\n",
    "\n",
    "**Outliers:** Los valores atípicos se definen como *1.5 x Q3* (percentil 75). De la tabla anterior se desprende que sólo \"age\" y \"campaign\" tienen valores atípicos, ya que max(\"age\") y max(\"campaign\") > *1.5 x Q3(\"age\")* y, *> 1.5 x Q3(\"campaign\")* respectivamente.\n",
    "\n",
    "Observamos que el valor de estos *ourtliers* no es tan irreal (max('age')=98 y max('campaign')=43). Por lo tanto, no es necesario eliminarlos, ya que el modelo de predicción debe representar el mundo real. Esto mejora la generalizabilidad del modelo y lo hace robusto para situaciones del mundo real. Por lo tanto, los valores atípicos no se eliminan."
   ]
  },
  {
   "cell_type": "markdown",
   "metadata": {},
   "source": [
    "#### Missing values:"
   ]
  },
  {
   "cell_type": "code",
   "execution_count": 69,
   "metadata": {},
   "outputs": [
    {
     "data": {
      "text/plain": [
       "pdays\n",
       "999    96.34\n",
       "3       1.06\n",
       "6       0.99\n",
       "4       0.28\n",
       "9       0.16\n",
       "7       0.15\n",
       "2       0.15\n",
       "12      0.14\n",
       "10      0.12\n",
       "5       0.12\n",
       "13      0.09\n",
       "11      0.07\n",
       "1       0.06\n",
       "15      0.06\n",
       "14      0.05\n",
       "0       0.04\n",
       "8       0.04\n",
       "16      0.03\n",
       "17      0.02\n",
       "18      0.02\n",
       "22      0.01\n",
       "19      0.01\n",
       "21      0.01\n",
       "25      0.00\n",
       "26      0.00\n",
       "27      0.00\n",
       "20      0.00\n",
       "Name: count, dtype: float64"
      ]
     },
     "execution_count": 69,
     "metadata": {},
     "output_type": "execute_result"
    }
   ],
   "source": [
    "(((df[\"pdays\"].value_counts()) / len(df)) * 100).round(2)"
   ]
  },
  {
   "cell_type": "markdown",
   "metadata": {},
   "source": [
    "Como se observa, la cantidad de valores faltantes para la categoría 'pdays' es del 96%. No contando con suficiente información para reemplazar dichos valores procedemos a eliminar dicha columna."
   ]
  },
  {
   "cell_type": "code",
   "execution_count": 70,
   "metadata": {},
   "outputs": [],
   "source": [
    "# Eliminamos esta columna:\n",
    "df = df.drop(\"pdays\", axis=1)"
   ]
  },
  {
   "cell_type": "markdown",
   "metadata": {},
   "source": [
    "## Enconding de varibles categóricas"
   ]
  },
  {
   "cell_type": "code",
   "execution_count": 71,
   "metadata": {},
   "outputs": [],
   "source": [
    "data = categorize(df)\n",
    "data = data.convert_dtypes()"
   ]
  },
  {
   "cell_type": "code",
   "execution_count": 72,
   "metadata": {},
   "outputs": [
    {
     "data": {
      "text/html": [
       "<div>\n",
       "<style scoped>\n",
       "    .dataframe tbody tr th:only-of-type {\n",
       "        vertical-align: middle;\n",
       "    }\n",
       "\n",
       "    .dataframe tbody tr th {\n",
       "        vertical-align: top;\n",
       "    }\n",
       "\n",
       "    .dataframe thead th {\n",
       "        text-align: right;\n",
       "    }\n",
       "</style>\n",
       "<table border=\"1\" class=\"dataframe\">\n",
       "  <thead>\n",
       "    <tr style=\"text-align: right;\">\n",
       "      <th></th>\n",
       "      <th>age</th>\n",
       "      <th>job</th>\n",
       "      <th>marital</th>\n",
       "      <th>education</th>\n",
       "      <th>default</th>\n",
       "      <th>housing</th>\n",
       "      <th>loan</th>\n",
       "      <th>contact</th>\n",
       "      <th>month</th>\n",
       "      <th>day_of_week</th>\n",
       "      <th>duration</th>\n",
       "      <th>campaign</th>\n",
       "      <th>previous</th>\n",
       "      <th>poutcome</th>\n",
       "      <th>emp.var.rate</th>\n",
       "      <th>cons.price.idx</th>\n",
       "      <th>cons.conf.idx</th>\n",
       "      <th>euribor3m</th>\n",
       "      <th>nr.employed</th>\n",
       "      <th>y</th>\n",
       "    </tr>\n",
       "  </thead>\n",
       "  <tbody>\n",
       "    <tr>\n",
       "      <th>0</th>\n",
       "      <td>56</td>\n",
       "      <td>3</td>\n",
       "      <td>1</td>\n",
       "      <td>0</td>\n",
       "      <td>0</td>\n",
       "      <td>0</td>\n",
       "      <td>0</td>\n",
       "      <td>1</td>\n",
       "      <td>6</td>\n",
       "      <td>1</td>\n",
       "      <td>261</td>\n",
       "      <td>1</td>\n",
       "      <td>0</td>\n",
       "      <td>1</td>\n",
       "      <td>1.1</td>\n",
       "      <td>93.994</td>\n",
       "      <td>-36.4</td>\n",
       "      <td>4.857</td>\n",
       "      <td>5191.0</td>\n",
       "      <td>0</td>\n",
       "    </tr>\n",
       "    <tr>\n",
       "      <th>1</th>\n",
       "      <td>57</td>\n",
       "      <td>7</td>\n",
       "      <td>1</td>\n",
       "      <td>1</td>\n",
       "      <td>1</td>\n",
       "      <td>0</td>\n",
       "      <td>0</td>\n",
       "      <td>1</td>\n",
       "      <td>6</td>\n",
       "      <td>1</td>\n",
       "      <td>149</td>\n",
       "      <td>1</td>\n",
       "      <td>0</td>\n",
       "      <td>1</td>\n",
       "      <td>1.1</td>\n",
       "      <td>93.994</td>\n",
       "      <td>-36.4</td>\n",
       "      <td>4.857</td>\n",
       "      <td>5191.0</td>\n",
       "      <td>0</td>\n",
       "    </tr>\n",
       "    <tr>\n",
       "      <th>2</th>\n",
       "      <td>37</td>\n",
       "      <td>7</td>\n",
       "      <td>1</td>\n",
       "      <td>1</td>\n",
       "      <td>0</td>\n",
       "      <td>1</td>\n",
       "      <td>0</td>\n",
       "      <td>1</td>\n",
       "      <td>6</td>\n",
       "      <td>1</td>\n",
       "      <td>226</td>\n",
       "      <td>1</td>\n",
       "      <td>0</td>\n",
       "      <td>1</td>\n",
       "      <td>1.1</td>\n",
       "      <td>93.994</td>\n",
       "      <td>-36.4</td>\n",
       "      <td>4.857</td>\n",
       "      <td>5191.0</td>\n",
       "      <td>0</td>\n",
       "    </tr>\n",
       "    <tr>\n",
       "      <th>3</th>\n",
       "      <td>40</td>\n",
       "      <td>0</td>\n",
       "      <td>1</td>\n",
       "      <td>0</td>\n",
       "      <td>0</td>\n",
       "      <td>0</td>\n",
       "      <td>0</td>\n",
       "      <td>1</td>\n",
       "      <td>6</td>\n",
       "      <td>1</td>\n",
       "      <td>151</td>\n",
       "      <td>1</td>\n",
       "      <td>0</td>\n",
       "      <td>1</td>\n",
       "      <td>1.1</td>\n",
       "      <td>93.994</td>\n",
       "      <td>-36.4</td>\n",
       "      <td>4.857</td>\n",
       "      <td>5191.0</td>\n",
       "      <td>0</td>\n",
       "    </tr>\n",
       "    <tr>\n",
       "      <th>4</th>\n",
       "      <td>56</td>\n",
       "      <td>7</td>\n",
       "      <td>1</td>\n",
       "      <td>1</td>\n",
       "      <td>0</td>\n",
       "      <td>0</td>\n",
       "      <td>1</td>\n",
       "      <td>1</td>\n",
       "      <td>6</td>\n",
       "      <td>1</td>\n",
       "      <td>307</td>\n",
       "      <td>1</td>\n",
       "      <td>0</td>\n",
       "      <td>1</td>\n",
       "      <td>1.1</td>\n",
       "      <td>93.994</td>\n",
       "      <td>-36.4</td>\n",
       "      <td>4.857</td>\n",
       "      <td>5191.0</td>\n",
       "      <td>0</td>\n",
       "    </tr>\n",
       "  </tbody>\n",
       "</table>\n",
       "</div>"
      ],
      "text/plain": [
       "   age  job  marital  education  default  housing  loan  contact  month  \\\n",
       "0   56    3        1          0        0        0     0        1      6   \n",
       "1   57    7        1          1        1        0     0        1      6   \n",
       "2   37    7        1          1        0        1     0        1      6   \n",
       "3   40    0        1          0        0        0     0        1      6   \n",
       "4   56    7        1          1        0        0     1        1      6   \n",
       "\n",
       "   day_of_week  duration  campaign  previous  poutcome  emp.var.rate  \\\n",
       "0            1       261         1         0         1           1.1   \n",
       "1            1       149         1         0         1           1.1   \n",
       "2            1       226         1         0         1           1.1   \n",
       "3            1       151         1         0         1           1.1   \n",
       "4            1       307         1         0         1           1.1   \n",
       "\n",
       "   cons.price.idx  cons.conf.idx  euribor3m  nr.employed  y  \n",
       "0          93.994          -36.4      4.857       5191.0  0  \n",
       "1          93.994          -36.4      4.857       5191.0  0  \n",
       "2          93.994          -36.4      4.857       5191.0  0  \n",
       "3          93.994          -36.4      4.857       5191.0  0  \n",
       "4          93.994          -36.4      4.857       5191.0  0  "
      ]
     },
     "execution_count": 72,
     "metadata": {},
     "output_type": "execute_result"
    }
   ],
   "source": [
    "data.head()"
   ]
  },
  {
   "cell_type": "markdown",
   "metadata": {},
   "source": [
    "## Modelado"
   ]
  },
  {
   "cell_type": "markdown",
   "metadata": {},
   "source": [
    "### Set de prueba y entrenamiento:"
   ]
  },
  {
   "cell_type": "code",
   "execution_count": 73,
   "metadata": {},
   "outputs": [],
   "source": [
    "X = data.drop(\"y\", axis=1).values\n",
    "y = data[\"y\"].values\n",
    "X_train, X_test, y_train, y_test = train_test_split(\n",
    "    X, y, test_size=0.25, random_state=42\n",
    ")"
   ]
  },
  {
   "cell_type": "code",
   "execution_count": 74,
   "metadata": {},
   "outputs": [],
   "source": [
    "from sklearn.preprocessing import LabelEncoder\n",
    "\n",
    "le = LabelEncoder()\n",
    "y_train = le.fit_transform(y_train)\n",
    "y_test = le.transform(y_test)"
   ]
  },
  {
   "cell_type": "code",
   "execution_count": 75,
   "metadata": {},
   "outputs": [],
   "source": [
    "# Normalizamos el set de entrenamiento:\n",
    "\n",
    "scaler = StandardScaler()\n",
    "scaler.fit(X_train)\n",
    "X_train = scaler.fit_transform(X_train)"
   ]
  },
  {
   "cell_type": "code",
   "execution_count": 76,
   "metadata": {},
   "outputs": [],
   "source": [
    "# Creamos un objeto PCA que realizará el análisis de componentes principales y reducirá la dimensionalidad a 10 componentes principales:\n",
    "pca = PCA(n_components=10)\n",
    "pca.fit(X_train)\n",
    "X_train = pca.fit_transform(X_train)"
   ]
  },
  {
   "cell_type": "code",
   "execution_count": 77,
   "metadata": {},
   "outputs": [
    {
     "data": {
      "text/plain": [
       "(29838, 10)"
      ]
     },
     "execution_count": 77,
     "metadata": {},
     "output_type": "execute_result"
    }
   ],
   "source": [
    "# Verificamos:\n",
    "X_train.shape"
   ]
  },
  {
   "cell_type": "markdown",
   "metadata": {},
   "source": [
    "### Construimos diferentes modelos y verificamos utilizando 10 validaciones cruzadas:"
   ]
  },
  {
   "cell_type": "code",
   "execution_count": 78,
   "metadata": {},
   "outputs": [],
   "source": [
    "# Definimos los modelos:\n",
    "models = []\n",
    "models.append((\"LR\", LogisticRegression()))\n",
    "models.append((\"KNN\", KNeighborsClassifier()))\n",
    "models.append((\"Decison-Tree\", DecisionTreeClassifier()))\n",
    "models.append((\"SVM\", SVC()))\n",
    "models.append((\"RandForest\", RandomForestClassifier(max_depth=8, n_estimators=120)))\n",
    "models.append((\"ADA\", AdaBoostClassifier(n_estimators=120)))\n",
    "models.append((\"XGBoost\", XGBClassifier()))"
   ]
  },
  {
   "cell_type": "code",
   "execution_count": 79,
   "metadata": {},
   "outputs": [
    {
     "name": "stdout",
     "output_type": "stream",
     "text": [
      "LR: 0.9060260825643794, Runtime: 0.66 seconds\n",
      "KNN: 0.9015686409762559, Runtime: 9.68 seconds\n",
      "Decison-Tree: 0.8745897327932457, Runtime: 14.16 seconds\n",
      "SVM: 0.9088747877831393, Runtime: 241.07 seconds\n",
      "RandForest: 0.9045178711536959, Runtime: 188.24 seconds\n",
      "ADA: 0.904450858259359, Runtime: 195.48 seconds\n",
      "XGBoost: 0.9060259028147888, Runtime: 53.28 seconds\n"
     ]
    }
   ],
   "source": [
    "results = []\n",
    "names = []\n",
    "runtimes = []\n",
    "\n",
    "for name, model in models:\n",
    "    start_time = time.time()\n",
    "    kfold = model_selection.KFold(n_splits=10)\n",
    "    cv_results = model_selection.cross_val_score(\n",
    "        model, X_train, y_train, cv=kfold, scoring=\"accuracy\"\n",
    "    )\n",
    "    end_time = time.time()\n",
    "    runtime = end_time - start_time\n",
    "\n",
    "    results.append(cv_results)\n",
    "    names.append(name)\n",
    "    runtimes.append(runtime)\n",
    "    m = \"{}: {}, Runtime: {:.2f} seconds\".format(name, cv_results.mean(), runtime)\n",
    "    print(m)"
   ]
  },
  {
   "cell_type": "code",
   "execution_count": 80,
   "metadata": {},
   "outputs": [
    {
     "data": {
      "text/plain": [
       "<Axes: >"
      ]
     },
     "execution_count": 80,
     "metadata": {},
     "output_type": "execute_result"
    },
    {
     "data": {
      "image/png": "[encoded data removed]",
      "text/plain": [
       "<Figure size 1000x800 with 1 Axes>"
      ]
     },
     "metadata": {},
     "output_type": "display_data"
    }
   ],
   "source": [
    "results_df = pd.DataFrame(results, index=names).T\n",
    "sns.set(rc={\"figure.figsize\": (10, 8)})\n",
    "sns.boxplot(data=results_df)"
   ]
  },
  {
   "cell_type": "markdown",
   "metadata": {},
   "source": [
    "### Test con test data (datos de prueba)"
   ]
  },
  {
   "cell_type": "code",
   "execution_count": 84,
   "metadata": {},
   "outputs": [],
   "source": [
    "scaler.fit(X_test)\n",
    "X_test = scaler.fit_transform(X_test)"
   ]
  },
  {
   "cell_type": "code",
   "execution_count": 85,
   "metadata": {},
   "outputs": [],
   "source": [
    "pca.fit(X_test)\n",
    "X_test = pca.fit_transform(X_test)"
   ]
  },
  {
   "cell_type": "code",
   "execution_count": 86,
   "metadata": {},
   "outputs": [
    {
     "name": "stdout",
     "output_type": "stream",
     "text": [
      "Accuracy :  0.8870011058610636\n",
      "Confusion Matrix : \n",
      " [[8649  149]\n",
      " [ 975  174]]\n",
      "Classification Report: \n",
      "               precision    recall  f1-score   support\n",
      "\n",
      "           0       0.90      0.98      0.94      8798\n",
      "           1       0.54      0.15      0.24      1149\n",
      "\n",
      "    accuracy                           0.89      9947\n",
      "   macro avg       0.72      0.57      0.59      9947\n",
      "weighted avg       0.86      0.89      0.86      9947\n",
      "\n"
     ]
    }
   ],
   "source": [
    "lr = LogisticRegression()\n",
    "lr.fit(X_train, y_train)\n",
    "predictions = lr.predict(X_test)\n",
    "print(\"Accuracy : \", accuracy_score(y_test, predictions))\n",
    "print(\"Confusion Matrix : \\n\", confusion_matrix(y_test, predictions))\n",
    "print(\"Classification Report: \\n\", classification_report(y_test, predictions))"
   ]
  },
  {
   "cell_type": "markdown",
   "metadata": {},
   "source": [
    "## Conclusión"
   ]
  },
  {
   "cell_type": "markdown",
   "metadata": {},
   "source": [
    "Dado los resultados obtenidos, y considerando que hemos elegido la métrica de 'accuracy' para medir el rendimiento de nuestro modelo, concluimos que 'Logistic Regression' obtuvo el mejor resulado y en el menor runtime. Incluso modelos como 'SVM' y 'XGBoost' obtuvieron similares accuracies, pero tienen mayor runtime comparados con el modelo de Regresión Logística."
   ]
  }
 ],
 "metadata": {
  "kernelspec": {
   "display_name": "coder_environment",
   "language": "python",
   "name": "python3"
  },
  "language_info": {
   "codemirror_mode": {
    "name": "ipython",
    "version": 3
   },
   "file_extension": ".py",
   "mimetype": "text/x-python",
   "name": "python",
   "nbconvert_exporter": "python",
   "pygments_lexer": "ipython3",
   "version": "3.11.3"
  },
  "orig_nbformat": 4
 },
 "nbformat": 4,
 "nbformat_minor": 2
}
