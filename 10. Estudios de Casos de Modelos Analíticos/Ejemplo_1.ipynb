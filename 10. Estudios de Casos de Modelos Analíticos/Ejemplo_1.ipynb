{
 "cells": [
  {
   "attachments": {},
   "cell_type": "markdown",
   "metadata": {},
   "source": [
    "# Estudios de Casos de Modelos Analíticos I\n",
    "\n",
    "<br>**Contenido:**<br>\n",
    "**1-** Presentación de la librería yfinance<br>\n",
    "**2-** Presentación de la librería pandas-datareader<br>\n",
    "**3-** Predicciones utilizando Scikit-Learn"
   ]
  },
  {
   "cell_type": "code",
   "execution_count": null,
   "metadata": {},
   "outputs": [],
   "source": [
    "import pandas as pd\n",
    "import matplotlib.pyplot as plt\n",
    "import yfinance as yf\n",
    "import seaborn as sns\n",
    "import pandas_datareader.data as web\n",
    "import datetime"
   ]
  },
  {
   "attachments": {},
   "cell_type": "markdown",
   "metadata": {},
   "source": [
    "# 1- Yfinance\n",
    "**Instalación para Jupyter:**\n",
    "    pip install yfinance<br>\n",
    "**Instalación para Colab:** !pip install yfinance<br>\n",
    "**Documentación:**\n",
    "    https://pypi.org/project/yfinance/"
   ]
  },
  {
   "cell_type": "code",
   "execution_count": null,
   "metadata": {},
   "outputs": [],
   "source": [
    "BMA_yf = yf.Ticker(\"BMA.BA\")\n",
    "GGAL_yf = yf.Ticker(\"GGAL.BA\")\n",
    "BPAT_yf = yf.Ticker(\"BPAT.BA\")\n",
    "BBAR_yf = yf.Ticker(\"BBAR.BA\")\n",
    "BRIO_yf = yf.Ticker(\"BRIO.BA\")\n",
    "empresas = [BMA_yf, GGAL_yf, BPAT_yf, BBAR_yf, BRIO_yf]"
   ]
  },
  {
   "cell_type": "code",
   "execution_count": null,
   "metadata": {},
   "outputs": [],
   "source": [
    "BMA_yf.info"
   ]
  },
  {
   "cell_type": "code",
   "execution_count": null,
   "metadata": {},
   "outputs": [],
   "source": [
    "def convertir_DataFrame(empresas):\n",
    "    marketCap_values = []\n",
    "    empleados_values = []\n",
    "    cierre_values = []\n",
    "    EPS_values = []\n",
    "    index_df = []\n",
    "    for item in empresas:\n",
    "        marketCap_values.append(item.info[\"marketCap\"] / 1000000000)\n",
    "        empleados_values.append(item.info.get(\"fullTimeEmployees\", None))\n",
    "        cierre_values.append(item.info[\"previousClose\"])\n",
    "        EPS_values.append(item.info[\"trailingEps\"])\n",
    "        symbol = item.info[\"symbol\"]\n",
    "        index_df.append(symbol)\n",
    "        data_df = {\n",
    "            \"Capitalización de Mercado\": marketCap_values,\n",
    "            \"Cantidad de Empleados\": empleados_values,\n",
    "            \"Último Cierre\": cierre_values,\n",
    "            \"Ganancias por acción\": EPS_values,\n",
    "        }\n",
    "    full_df = pd.DataFrame(data=data_df, index=index_df)\n",
    "    return full_df"
   ]
  },
  {
   "cell_type": "code",
   "execution_count": null,
   "metadata": {},
   "outputs": [],
   "source": [
    "empresas_df = convertir_DataFrame(empresas)\n",
    "empresas_df.head()"
   ]
  },
  {
   "cell_type": "code",
   "execution_count": null,
   "metadata": {},
   "outputs": [],
   "source": [
    "barras = sns.barplot(\n",
    "    data=empresas_df, x=empresas_df.index, y=empresas_df[\"Capitalización de Mercado\"]\n",
    ")\n",
    "barras.axhline(empresas_df[\"Capitalización de Mercado\"].mean(), color=\"purple\")\n",
    "plt.show()"
   ]
  },
  {
   "cell_type": "code",
   "execution_count": null,
   "metadata": {},
   "outputs": [],
   "source": [
    "barras = sns.barplot(\n",
    "    data=empresas_df, x=empresas_df.index, y=empresas_df[\"Cantidad de Empleados\"]\n",
    ")\n",
    "barras.axhline(empresas_df[\"Cantidad de Empleados\"].mean(), color=\"purple\")\n",
    "plt.show()"
   ]
  },
  {
   "cell_type": "code",
   "execution_count": null,
   "metadata": {},
   "outputs": [],
   "source": [
    "scatter = sns.scatterplot(\n",
    "    data=empresas_df,\n",
    "    x=empresas_df[\"Último Cierre\"],\n",
    "    y=empresas_df[\"Ganancias por acción\"],\n",
    "    s=empresas_df[\"Capitalización de Mercado\"],\n",
    "    hue=empresas_df.index,\n",
    ")\n",
    "plt.legend(bbox_to_anchor=(1.05, 1), loc=2, borderaxespad=0)\n",
    "plt.show()"
   ]
  },
  {
   "attachments": {},
   "cell_type": "markdown",
   "metadata": {},
   "source": [
    "# 2- Pandas-datareader\n",
    "**Instalación para Jupyter:**\n",
    "    pip install pandas-datareader<br>\n",
    "**Instalación para Colab:** !pip install --upgrade pandas_datareader<br>\n",
    "En caso de no funcionar, volver a ejecutar tras haber reiniciado el entorno de ejecución.\n",
    "**Documentación:**\n",
    "    https://pandas-datareader.readthedocs.io/en/latest/"
   ]
  },
  {
   "cell_type": "code",
   "execution_count": null,
   "metadata": {},
   "outputs": [],
   "source": [
    "comienzo = datetime.datetime(2022, 1, 1)\n",
    "final = datetime.datetime(2022, 12, 1)\n",
    "\n",
    "df = web.DataReader(\"NFLX\", \"yahoo\", comienzo, final)\n",
    "df.tail()"
   ]
  },
  {
   "cell_type": "code",
   "execution_count": null,
   "metadata": {},
   "outputs": [],
   "source": [
    "comienzo = datetime.datetime(2022, 1, 1)\n",
    "final = datetime.datetime(2022, 12, 1)\n",
    "\n",
    "df = web.DataReader(\"NFLX\", \"yahoo\", comienzo, final)\n",
    "df.tail()"
   ]
  },
  {
   "cell_type": "code",
   "execution_count": null,
   "metadata": {},
   "outputs": [],
   "source": [
    "comienzo = datetime.datetime(2022, 1, 1)\n",
    "final = datetime.datetime(2022, 12, 1)\n",
    "\n",
    "df = web.DataReader(\"NFLX\", \"yahoo\", comienzo, final)\n",
    "df.tail()"
   ]
  },
  {
   "cell_type": "code",
   "execution_count": null,
   "metadata": {},
   "outputs": [],
   "source": [
    "df[\"Adj Close\"].plot()"
   ]
  },
  {
   "cell_type": "code",
   "execution_count": null,
   "metadata": {},
   "outputs": [],
   "source": [
    "total_df = web.DataReader(\n",
    "    [\"FB\", \"AMZN\", \"AAPL\", \"NFLX\", \"GOOG\", \"MSFT\"], \"yahoo\", start=comienzo, end=final\n",
    ")[\"Adj Close\"]\n",
    "total_df.head()"
   ]
  },
  {
   "cell_type": "code",
   "execution_count": null,
   "metadata": {},
   "outputs": [],
   "source": [
    "total_df.tail()"
   ]
  },
  {
   "attachments": {},
   "cell_type": "markdown",
   "metadata": {},
   "source": [
    "### Calculamos si hay Correlación"
   ]
  },
  {
   "cell_type": "code",
   "execution_count": null,
   "metadata": {},
   "outputs": [],
   "source": [
    "correl = total_df.corr()\n",
    "correl"
   ]
  },
  {
   "cell_type": "code",
   "execution_count": null,
   "metadata": {},
   "outputs": [],
   "source": [
    "plt.imshow(correl, cmap=\"hot\", interpolation=\"None\")  # probar interpolation = 'quadric'\n",
    "plt.colorbar()\n",
    "plt.xticks(range(len(correl)), correl.columns)\n",
    "plt.yticks(range(len(correl)), correl.columns)\n",
    "plt.show()"
   ]
  },
  {
   "attachments": {},
   "cell_type": "markdown",
   "metadata": {},
   "source": [
    "### Data Readers Disponibles\n",
    "<br> Banco Mundial\n",
    "<br> Reserva Federal de EE.UU.\n",
    "<br> OCDE\n",
    "<br>https://pandas-datareader.readthedocs.io/en/latest/readers/index.html"
   ]
  },
  {
   "attachments": {},
   "cell_type": "markdown",
   "metadata": {},
   "source": [
    "# 3- Scikit-Learn"
   ]
  },
  {
   "cell_type": "code",
   "execution_count": null,
   "metadata": {},
   "outputs": [],
   "source": [
    "import math\n",
    "import numpy as np\n",
    "from sklearn.linear_model import LinearRegression\n",
    "from sklearn.neighbors import KNeighborsRegressor\n",
    "from sklearn import preprocessing\n",
    "from sklearn.linear_model import Ridge\n",
    "from sklearn.preprocessing import PolynomialFeatures\n",
    "from sklearn.pipeline import make_pipeline\n",
    "from sklearn.model_selection import train_test_split\n",
    "\n",
    "import matplotlib as mpl\n",
    "from matplotlib import style"
   ]
  },
  {
   "cell_type": "code",
   "execution_count": null,
   "metadata": {},
   "outputs": [],
   "source": [
    "# pd.options.display.width = 0\n",
    "# Vamos a trabajar con Datos de Netflix (NFLX).\n",
    "# Por si quieren probar con otros datos, también subí archivos de Disney (DIS) y Bitcoin (BTC-USD)\n",
    "NFLX_df = pd.read_csv(\"NFLX.csv\")\n",
    "print(NFLX_df.head())\n",
    "\n",
    "close_px = NFLX_df[\"Adj Close\"]\n",
    "\n",
    "# Preparo un DataFrame con menos datos\n",
    "shorter_df = NFLX_df.loc[:, [\"Adj Close\", \"Volume\"]]"
   ]
  },
  {
   "cell_type": "code",
   "execution_count": null,
   "metadata": {},
   "outputs": [],
   "source": [
    "shorter_df.head()"
   ]
  },
  {
   "cell_type": "code",
   "execution_count": null,
   "metadata": {},
   "outputs": [],
   "source": [
    "# Chequear si hay algún Nan\n",
    "shorter_df.isnull().values.any()"
   ]
  },
  {
   "cell_type": "code",
   "execution_count": null,
   "metadata": {},
   "outputs": [],
   "source": [
    "# Nos deshacemos de los Nan\n",
    "# shorter_df.fillna(value=-99999, inplace=True)"
   ]
  },
  {
   "cell_type": "code",
   "execution_count": null,
   "metadata": {},
   "outputs": [],
   "source": [
    "# Calculo cuánto es el 1%, respecto de los datos para predecir\n",
    "separados_1p = int(math.ceil(0.01 * len(shorter_df)))\n",
    "\n",
    "# Separamos el \"precio de cierre ajustado\"\n",
    "forecast_col = \"Adj Close\"\n",
    "shorter_df[\"label\"] = shorter_df[forecast_col].shift(-separados_1p)\n",
    "X = np.array(shorter_df.drop([\"label\"], 1))\n",
    "\n",
    "# Hacemos un preprocesamiento de X, para que tengan la misma distribución para Regresión Lineal\n",
    "X = preprocessing.scale(X)\n",
    "\n",
    "# Preparamos X para la generación y evaluación del modelo\n",
    "X_lately = X[-separados_1p:]\n",
    "X = X[:-separados_1p]\n",
    "\n",
    "# Separamos a label y lo identificamos como y\n",
    "y = np.array(shorter_df[\"label\"])\n",
    "y = y[:-separados_1p]"
   ]
  },
  {
   "cell_type": "code",
   "execution_count": null,
   "metadata": {},
   "outputs": [],
   "source": [
    "# Separamos los datos para Train y test, en un 80% - 20%\n",
    "train, test = train_test_split(NFLX_df, test_size=0.20)\n",
    "\n",
    "# Hacemos un Reshape a X_train\n",
    "X_train = np.array(train.index).reshape(-1, 1)\n",
    "y_train = train[\"Adj Close\"]\n",
    "\n",
    "# Regresión Lineal\n",
    "clfreg = LinearRegression(n_jobs=-1)\n",
    "clfreg.fit(X_train, y_train)\n",
    "\n",
    "# Regresión Cuadrática\n",
    "clfpoly2 = make_pipeline(PolynomialFeatures(2), Ridge())\n",
    "clfpoly2.fit(X_train, y_train)\n",
    "\n",
    "# KNN\n",
    "clfknn = KNeighborsRegressor(n_neighbors=2)\n",
    "clfknn.fit(X_train, y_train)\n",
    "\n",
    "X_test = np.array(test.index).reshape(-1, 1)\n",
    "y_test = test[\"Adj Close\"]\n",
    "\n",
    "# Generamos un array de Y con los valores que se predicen\n",
    "y_pred_reg = clfreg.predict(X_test)\n",
    "y_pred_poly2 = clfpoly2.predict(X_test)\n",
    "y_pred_knn = clfknn.predict(X_test)"
   ]
  },
  {
   "attachments": {},
   "cell_type": "markdown",
   "metadata": {},
   "source": [
    "### Predicción mediante Regresión Lineal"
   ]
  },
  {
   "cell_type": "code",
   "execution_count": null,
   "metadata": {},
   "outputs": [],
   "source": [
    "plt.scatter(y_test, y_pred_reg)\n",
    "\n",
    "plt.xlabel(\"Precio Real\")\n",
    "plt.ylabel(\"Predicciones\")\n",
    "\n",
    "plt.title(\"Predicción mediante Regresión Lineal\")\n",
    "plt.grid()\n",
    "plt.show()"
   ]
  },
  {
   "attachments": {},
   "cell_type": "markdown",
   "metadata": {},
   "source": [
    "### Predicción mediante Regresión Cuadrática"
   ]
  },
  {
   "cell_type": "code",
   "execution_count": null,
   "metadata": {},
   "outputs": [],
   "source": [
    "plt.scatter(y_test, y_pred_poly2)\n",
    "plt.grid()\n",
    "plt.xlabel(\"Precio Real\")\n",
    "plt.ylabel(\"Predicciones\")\n",
    "\n",
    "plt.title(\"Predicción mediante Regresión Cuadrática\")\n",
    "\n",
    "plt.show()"
   ]
  },
  {
   "attachments": {},
   "cell_type": "markdown",
   "metadata": {},
   "source": [
    "### Predicción mediante KNN"
   ]
  },
  {
   "cell_type": "code",
   "execution_count": null,
   "metadata": {},
   "outputs": [],
   "source": [
    "plt.scatter(y_test, y_pred_knn)\n",
    "plt.grid()\n",
    "plt.xlabel(\"Precio Real\")\n",
    "plt.ylabel(\"Predicciones\")\n",
    "\n",
    "plt.title(\"Predicción mediante KNN\")\n",
    "\n",
    "plt.show()"
   ]
  }
 ],
 "metadata": {
  "kernelspec": {
   "display_name": "coder_environment",
   "language": "python",
   "name": "python3"
  },
  "language_info": {
   "codemirror_mode": {
    "name": "ipython",
    "version": 3
   },
   "file_extension": ".py",
   "mimetype": "text/x-python",
   "name": "python",
   "nbconvert_exporter": "python",
   "pygments_lexer": "ipython3",
   "version": "3.11.3"
  },
  "orig_nbformat": 4
 },
 "nbformat": 4,
 "nbformat_minor": 2
}
