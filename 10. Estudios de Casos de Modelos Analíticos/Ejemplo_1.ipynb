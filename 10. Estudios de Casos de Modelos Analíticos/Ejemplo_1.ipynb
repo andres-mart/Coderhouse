{
 "cells": [
  {
   "attachments": {},
   "cell_type": "markdown",
   "metadata": {},
   "source": [
    "# Estudios de Casos de Modelos Analíticos I\n",
    "\n",
    "<br>**Contenido:**<br>\n",
    "**1-** Presentación de la librería yfinance<br>\n",
    "**2-** Presentación de la librería pandas-datareader<br>\n",
    "**3-** Predicciones utilizando Scikit-Learn"
   ]
  },
  {
   "cell_type": "code",
   "execution_count": 6,
   "metadata": {},
   "outputs": [],
   "source": [
    "import pandas as pd\n",
    "import matplotlib.pyplot as plt\n",
    "import yfinance as yf\n",
    "import seaborn as sns\n",
    "import pandas_datareader.data as web\n",
    "import datetime"
   ]
  },
  {
   "attachments": {},
   "cell_type": "markdown",
   "metadata": {},
   "source": [
    "# 1- Yfinance\n",
    "**Instalación para Jupyter:**\n",
    "    pip install yfinance<br>\n",
    "**Instalación para Colab:** !pip install yfinance<br>\n",
    "**Documentación:**\n",
    "    https://pypi.org/project/yfinance/"
   ]
  },
  {
   "cell_type": "code",
   "execution_count": 7,
   "metadata": {},
   "outputs": [],
   "source": [
    "BMA_yf = yf.Ticker(\"BMA.BA\")\n",
    "GGAL_yf = yf.Ticker(\"GGAL.BA\")\n",
    "BPAT_yf = yf.Ticker(\"BPAT.BA\")\n",
    "BBAR_yf = yf.Ticker(\"BBAR.BA\")\n",
    "BRIO_yf = yf.Ticker(\"BRIO.BA\")\n",
    "empresas = [BMA_yf, GGAL_yf, BPAT_yf, BBAR_yf, BRIO_yf]"
   ]
  },
  {
   "cell_type": "code",
   "execution_count": 8,
   "metadata": {},
   "outputs": [
    {
     "data": {
      "text/plain": [
       "{'address1': 'Avenida Eduardo Madero 1182',\n",
       " 'city': 'Buenos Aires',\n",
       " 'country': 'Argentina',\n",
       " 'phone': '54 11 5222 6500',\n",
       " 'fax': '54 11 5222 8969',\n",
       " 'website': 'https://www.macro.com.ar',\n",
       " 'industry': 'Banks—Regional',\n",
       " 'industryDisp': 'Banks—Regional',\n",
       " 'sector': 'Financial Services',\n",
       " 'longBusinessSummary': 'Banco Macro S.A. provides various banking products and services to retail and corporate customers in Argentina. It offers various retail banking products and services, such as savings and checking accounts, time deposits, credit and debit cards, consumer finance loans, mortgage loans, automobile loans, overdrafts, credit-related services, home and car insurance coverage, tax collection, utility payments, automated teller machines (ATMs), and money transfers. The company also provides personal loans, document discounts, residential mortgages, overdrafts, pledged loans, and credit card loans to retail customers. In addition, it offers corporate banking products and services, including deposits, lending, check cashing advances and factoring, guaranteed loans, credit lines for financing foreign trade, and cash management services; and trust, payroll, and financial agency services, as well as corporate credit cards and other specialty products; and working capital facilities, credit for investment projects, and leasing and foreign trade transactions. Further, the company provides transaction services, such as cash management, collection services, payments to suppliers, payroll services, foreign exchange transactions, and foreign trade services; information services comprising Datanet and Interpymes services to corporate customers; and Internet and mobile banking services. Additionally, it offers short-term and medium-to-long-term corporate lending products. Banco Macro S.A. was incorporated in 1966 and is headquartered in Buenos Aires, Argentina.',\n",
       " 'fullTimeEmployees': 7756,\n",
       " 'companyOfficers': [{'maxAge': 1,\n",
       "   'name': 'Mr. Gustavo  Alejandro Manriquez',\n",
       "   'age': 53,\n",
       "   'title': 'GM & CEO',\n",
       "   'yearBorn': 1969,\n",
       "   'exercisedValue': 0,\n",
       "   'unexercisedValue': 0},\n",
       "  {'maxAge': 1,\n",
       "   'name': 'Mr. Jorge  Francisco Scarinci',\n",
       "   'age': 52,\n",
       "   'title': 'CFO, Fin. Mang. & IR Mang.',\n",
       "   'yearBorn': 1970,\n",
       "   'exercisedValue': 0,\n",
       "   'unexercisedValue': 0},\n",
       "  {'maxAge': 1,\n",
       "   'name': 'Mr. Ernesto  Eduardo Medina',\n",
       "   'age': 55,\n",
       "   'title': 'Operations & Technology Mang.',\n",
       "   'yearBorn': 1967,\n",
       "   'exercisedValue': 0,\n",
       "   'unexercisedValue': 0},\n",
       "  {'maxAge': 1,\n",
       "   'name': 'Mr. Marcelo  Agustin Devoto',\n",
       "   'age': 46,\n",
       "   'title': 'Investment Banking Mang.',\n",
       "   'yearBorn': 1976,\n",
       "   'exercisedValue': 0,\n",
       "   'unexercisedValue': 0},\n",
       "  {'maxAge': 1,\n",
       "   'name': 'Mr. Gerardo  Adrian Alvarez',\n",
       "   'age': 53,\n",
       "   'title': 'Admin. & HR Mang.',\n",
       "   'yearBorn': 1969,\n",
       "   'exercisedValue': 0,\n",
       "   'unexercisedValue': 0},\n",
       "  {'maxAge': 1,\n",
       "   'name': 'Mr. Ernesto  Lopez',\n",
       "   'age': 50,\n",
       "   'title': 'Legal Mang.',\n",
       "   'yearBorn': 1972,\n",
       "   'exercisedValue': 0,\n",
       "   'unexercisedValue': 0},\n",
       "  {'maxAge': 1,\n",
       "   'name': 'Mr. Gustavo Emilio Pessagno',\n",
       "   'age': 51,\n",
       "   'title': 'Compliance Mang.',\n",
       "   'yearBorn': 1971,\n",
       "   'exercisedValue': 0,\n",
       "   'unexercisedValue': 0},\n",
       "  {'maxAge': 1,\n",
       "   'name': 'Mr. Francisco  Muro',\n",
       "   'age': 49,\n",
       "   'title': 'Distribution & Sales Mang.',\n",
       "   'yearBorn': 1973,\n",
       "   'exercisedValue': 0,\n",
       "   'unexercisedValue': 0},\n",
       "  {'maxAge': 1,\n",
       "   'name': 'Ms. Ana María  Magdalena Marcet',\n",
       "   'age': 61,\n",
       "   'title': 'Credit Risk Mang.',\n",
       "   'yearBorn': 1961,\n",
       "   'exercisedValue': 0,\n",
       "   'unexercisedValue': 0},\n",
       "  {'maxAge': 1,\n",
       "   'name': 'Lic. Brian  Anthony',\n",
       "   'age': 49,\n",
       "   'title': 'Commercial banking manager',\n",
       "   'yearBorn': 1973,\n",
       "   'exercisedValue': 0,\n",
       "   'unexercisedValue': 0}],\n",
       " 'maxAge': 86400,\n",
       " 'priceHint': 2,\n",
       " 'previousClose': 1349.4,\n",
       " 'open': 1360.0,\n",
       " 'dayLow': 1360.0,\n",
       " 'dayHigh': 1409.95,\n",
       " 'regularMarketPreviousClose': 1349.4,\n",
       " 'regularMarketOpen': 1360.0,\n",
       " 'regularMarketDayLow': 1360.0,\n",
       " 'regularMarketDayHigh': 1409.95,\n",
       " 'dividendRate': 25.99,\n",
       " 'dividendYield': 0.0202,\n",
       " 'exDividendDate': 1669939200,\n",
       " 'beta': 1.867123,\n",
       " 'forwardPE': 12.708219,\n",
       " 'volume': 118107,\n",
       " 'regularMarketVolume': 118107,\n",
       " 'averageVolume': 296353,\n",
       " 'averageVolume10days': 418670,\n",
       " 'averageDailyVolume10Day': 418670,\n",
       " 'bid': 1383.3,\n",
       " 'ask': 1383.55,\n",
       " 'bidSize': 0,\n",
       " 'askSize': 0,\n",
       " 'marketCap': 1036636061696,\n",
       " 'fiftyTwoWeekLow': 214.52371,\n",
       " 'fiftyTwoWeekHigh': 1409.95,\n",
       " 'priceToSalesTrailing12Months': 1.9509754,\n",
       " 'fiftyDayAverage': 798.488,\n",
       " 'twoHundredDayAverage': 547.96313,\n",
       " 'trailingAnnualDividendRate': 117.359,\n",
       " 'trailingAnnualDividendYield': 0.086971246,\n",
       " 'currency': 'ARS',\n",
       " 'enterpriseValue': -342236987392,\n",
       " 'profitMargins': 0.07195,\n",
       " 'floatShares': 227094066,\n",
       " 'sharesOutstanding': 746587008,\n",
       " 'heldPercentInsiders': 0.33637002,\n",
       " 'heldPercentInstitutions': 0.31409,\n",
       " 'impliedSharesOutstanding': 0,\n",
       " 'bookValue': 989.502,\n",
       " 'priceToBook': 1.4032311,\n",
       " 'lastFiscalYearEnd': 1672444800,\n",
       " 'nextFiscalYearEnd': 1703980800,\n",
       " 'mostRecentQuarter': 1680220800,\n",
       " 'earningsQuarterlyGrowth': 0.383,\n",
       " 'netIncomeToCommon': 38231588864,\n",
       " 'trailingEps': -806.08,\n",
       " 'forwardEps': 109.26,\n",
       " 'pegRatio': 8.11,\n",
       " 'lastSplitFactor': '1.090364:1',\n",
       " 'lastSplitDate': 1687824000,\n",
       " 'enterpriseToRevenue': -0.644,\n",
       " '52WeekChange': 4.686655,\n",
       " 'SandP52WeekChange': 0.14653182,\n",
       " 'lastDividendValue': 2.574162,\n",
       " 'lastDividendDate': 1669939200,\n",
       " 'exchange': 'BUE',\n",
       " 'quoteType': 'EQUITY',\n",
       " 'symbol': 'BMA.BA',\n",
       " 'underlyingSymbol': 'BMA.BA',\n",
       " 'shortName': 'BANCO MACRO S.A.',\n",
       " 'longName': 'Banco Macro S.A.',\n",
       " 'firstTradeDateEpochUtc': 946908000,\n",
       " 'timeZoneFullName': 'America/Argentina/Buenos_Aires',\n",
       " 'timeZoneShortName': 'ART',\n",
       " 'uuid': '9df6d9ac-b364-34e3-9a58-2b94c479bdaa',\n",
       " 'messageBoardId': 'finmb_878443',\n",
       " 'gmtOffSetMilliseconds': -10800000,\n",
       " 'currentPrice': 1388.5,\n",
       " 'targetHighPrice': 2540.0,\n",
       " 'targetLowPrice': 311.0,\n",
       " 'targetMeanPrice': 1234.66,\n",
       " 'targetMedianPrice': 1365.3,\n",
       " 'recommendationMean': 2.6,\n",
       " 'recommendationKey': 'hold',\n",
       " 'numberOfAnalystOpinions': 5,\n",
       " 'totalCash': 442424000512,\n",
       " 'totalCashPerShare': 691.922,\n",
       " 'totalDebt': 98773000192,\n",
       " 'totalRevenue': 531342458880,\n",
       " 'revenuePerShare': 830.985,\n",
       " 'returnOnAssets': 0.021440001,\n",
       " 'returnOnEquity': 0.08365,\n",
       " 'grossProfits': 491988000000,\n",
       " 'earningsGrowth': 0.384,\n",
       " 'revenueGrowth': 1.229,\n",
       " 'grossMargins': 0.0,\n",
       " 'ebitdaMargins': 0.0,\n",
       " 'operatingMargins': 0.11257,\n",
       " 'financialCurrency': 'ARS',\n",
       " 'trailingPegRatio': None}"
      ]
     },
     "execution_count": 8,
     "metadata": {},
     "output_type": "execute_result"
    }
   ],
   "source": [
    "BMA_yf.info"
   ]
  },
  {
   "cell_type": "code",
   "execution_count": 9,
   "metadata": {},
   "outputs": [],
   "source": [
    "def convertir_DataFrame(empresas):\n",
    "    marketCap_values = []\n",
    "    empleados_values = []\n",
    "    cierre_values = []\n",
    "    EPS_values = []\n",
    "    index_df = []\n",
    "    for item in empresas:\n",
    "        marketCap_values.append(item.info[\"marketCap\"] / 1000000000)\n",
    "        empleados_values.append(item.info.get(\"fullTimeEmployees\", None))\n",
    "        cierre_values.append(item.info[\"previousClose\"])\n",
    "        EPS_values.append(item.info[\"trailingEps\"])\n",
    "        symbol = item.info[\"symbol\"]\n",
    "        index_df.append(symbol)\n",
    "        data_df = {\n",
    "            \"Capitalización de Mercado\": marketCap_values,\n",
    "            \"Cantidad de Empleados\": empleados_values,\n",
    "            \"Último Cierre\": cierre_values,\n",
    "            \"Ganancias por acción\": EPS_values,\n",
    "        }\n",
    "    full_df = pd.DataFrame(data=data_df, index=index_df)\n",
    "    return full_df"
   ]
  },
  {
   "cell_type": "code",
   "execution_count": 10,
   "metadata": {},
   "outputs": [
    {
     "data": {
      "text/html": [
       "<div>\n",
       "<style scoped>\n",
       "    .dataframe tbody tr th:only-of-type {\n",
       "        vertical-align: middle;\n",
       "    }\n",
       "\n",
       "    .dataframe tbody tr th {\n",
       "        vertical-align: top;\n",
       "    }\n",
       "\n",
       "    .dataframe thead th {\n",
       "        text-align: right;\n",
       "    }\n",
       "</style>\n",
       "<table border=\"1\" class=\"dataframe\">\n",
       "  <thead>\n",
       "    <tr style=\"text-align: right;\">\n",
       "      <th></th>\n",
       "      <th>Capitalización de Mercado</th>\n",
       "      <th>Cantidad de Empleados</th>\n",
       "      <th>Último Cierre</th>\n",
       "      <th>Ganancias por acción</th>\n",
       "    </tr>\n",
       "  </thead>\n",
       "  <tbody>\n",
       "    <tr>\n",
       "      <th>BMA.BA</th>\n",
       "      <td>1036.636062</td>\n",
       "      <td>7756.0</td>\n",
       "      <td>1349.40</td>\n",
       "      <td>-806.08</td>\n",
       "    </tr>\n",
       "    <tr>\n",
       "      <th>GGAL.BA</th>\n",
       "      <td>1296.989946</td>\n",
       "      <td>8742.0</td>\n",
       "      <td>854.95</td>\n",
       "      <td>32.97</td>\n",
       "    </tr>\n",
       "    <tr>\n",
       "      <th>BPAT.BA</th>\n",
       "      <td>200.556282</td>\n",
       "      <td>2944.0</td>\n",
       "      <td>274.50</td>\n",
       "      <td>27.74</td>\n",
       "    </tr>\n",
       "    <tr>\n",
       "      <th>BBAR.BA</th>\n",
       "      <td>643.345547</td>\n",
       "      <td>5957.0</td>\n",
       "      <td>1026.95</td>\n",
       "      <td>4.74</td>\n",
       "    </tr>\n",
       "    <tr>\n",
       "      <th>BRIO.BA</th>\n",
       "      <td>121.608815</td>\n",
       "      <td>NaN</td>\n",
       "      <td>33.50</td>\n",
       "      <td>2.64</td>\n",
       "    </tr>\n",
       "  </tbody>\n",
       "</table>\n",
       "</div>"
      ],
      "text/plain": [
       "         Capitalización de Mercado  Cantidad de Empleados  Último Cierre  \\\n",
       "BMA.BA                 1036.636062                 7756.0        1349.40   \n",
       "GGAL.BA                1296.989946                 8742.0         854.95   \n",
       "BPAT.BA                 200.556282                 2944.0         274.50   \n",
       "BBAR.BA                 643.345547                 5957.0        1026.95   \n",
       "BRIO.BA                 121.608815                    NaN          33.50   \n",
       "\n",
       "         Ganancias por acción  \n",
       "BMA.BA                -806.08  \n",
       "GGAL.BA                 32.97  \n",
       "BPAT.BA                 27.74  \n",
       "BBAR.BA                  4.74  \n",
       "BRIO.BA                  2.64  "
      ]
     },
     "execution_count": 10,
     "metadata": {},
     "output_type": "execute_result"
    }
   ],
   "source": [
    "empresas_df = convertir_DataFrame(empresas)\n",
    "empresas_df.head()"
   ]
  },
  {
   "cell_type": "code",
   "execution_count": 11,
   "metadata": {},
   "outputs": [
    {
     "data": {
      "image/png": "[encoded data removed]",
      "text/plain": [
       "<Figure size 640x480 with 1 Axes>"
      ]
     },
     "metadata": {},
     "output_type": "display_data"
    }
   ],
   "source": [
    "barras = sns.barplot(\n",
    "    data=empresas_df, x=empresas_df.index, y=empresas_df[\"Capitalización de Mercado\"]\n",
    ")\n",
    "barras.axhline(empresas_df[\"Capitalización de Mercado\"].mean(), color=\"purple\")\n",
    "plt.show()"
   ]
  },
  {
   "cell_type": "code",
   "execution_count": 12,
   "metadata": {},
   "outputs": [
    {
     "data": {
      "image/png": "[encoded data removed]",
      "text/plain": [
       "<Figure size 640x480 with 1 Axes>"
      ]
     },
     "metadata": {},
     "output_type": "display_data"
    }
   ],
   "source": [
    "barras = sns.barplot(\n",
    "    data=empresas_df, x=empresas_df.index, y=empresas_df[\"Cantidad de Empleados\"]\n",
    ")\n",
    "barras.axhline(empresas_df[\"Cantidad de Empleados\"].mean(), color=\"purple\")\n",
    "plt.show()"
   ]
  },
  {
   "cell_type": "code",
   "execution_count": 13,
   "metadata": {},
   "outputs": [
    {
     "data": {
      "image/png": "[encoded data removed]",
      "text/plain": [
       "<Figure size 640x480 with 1 Axes>"
      ]
     },
     "metadata": {},
     "output_type": "display_data"
    }
   ],
   "source": [
    "scatter = sns.scatterplot(\n",
    "    data=empresas_df,\n",
    "    x=empresas_df[\"Último Cierre\"],\n",
    "    y=empresas_df[\"Ganancias por acción\"],\n",
    "    s=empresas_df[\"Capitalización de Mercado\"],\n",
    "    hue=empresas_df.index,\n",
    ")\n",
    "plt.legend(bbox_to_anchor=(1.05, 1), loc=2, borderaxespad=0)\n",
    "plt.show()"
   ]
  },
  {
   "attachments": {},
   "cell_type": "markdown",
   "metadata": {},
   "source": [
    "# 2- Pandas-datareader\n",
    "**Instalación para Jupyter:**\n",
    "    pip install pandas-datareader<br>\n",
    "**Instalación para Colab:** !pip install --upgrade pandas_datareader<br>\n",
    "En caso de no funcionar, volver a ejecutar tras haber reiniciado el entorno de ejecución.\n",
    "**Documentación:**\n",
    "    https://pandas-datareader.readthedocs.io/en/latest/"
   ]
  },
  {
   "cell_type": "code",
   "execution_count": null,
   "metadata": {},
   "outputs": [],
   "source": [
    "comienzo = datetime.datetime(2020, 1, 1)\n",
    "final = datetime.datetime(2021, 12, 7)\n",
    "\n",
    "df = web.DataReader(\"NFLX\", \"yahoo\", comienzo, final)\n",
    "df.tail()"
   ]
  },
  {
   "cell_type": "code",
   "execution_count": null,
   "metadata": {},
   "outputs": [],
   "source": [
    "import requests\n",
    "\n",
    "comienzo = datetime.datetime(2020, 1, 1)\n",
    "final = datetime.datetime(2021, 12, 7)\n",
    "\n",
    "session = requests.Session()\n",
    "session.request(\"GET\", \"https://finance.yahoo.com\", timeout=10)\n",
    "\n",
    "df = web.DataReader(\"NFLX\", \"yahoo\", comienzo, final, session=session)"
   ]
  },
  {
   "cell_type": "code",
   "execution_count": null,
   "metadata": {},
   "outputs": [],
   "source": [
    "# # Establecemos el inicio del período bajo análisis:\n",
    "# comienzo = datetime.datetime(2022, 1, 1)\n",
    "\n",
    "# # Establecemos el final del período bajo análisis:\n",
    "# final = datetime.datetime(2022, 12, 31)\n",
    "# df = yf.Ticker(\"NFLX\")\n",
    "\n",
    "# # Introducimos los parámetros para obtener la información:\n",
    "# print(df.history(start=comienzo, end=final))"
   ]
  },
  {
   "cell_type": "code",
   "execution_count": null,
   "metadata": {},
   "outputs": [],
   "source": [
    "df[\"Adj Close\"].plot()"
   ]
  },
  {
   "cell_type": "code",
   "execution_count": null,
   "metadata": {},
   "outputs": [],
   "source": [
    "total_df = web.DataReader(\n",
    "    [\"FB\", \"AMZN\", \"AAPL\", \"NFLX\", \"GOOG\", \"MSFT\"], \"yahoo\", start=comienzo, end=final\n",
    ")[\"Adj Close\"]\n",
    "total_df.head()"
   ]
  },
  {
   "cell_type": "code",
   "execution_count": null,
   "metadata": {},
   "outputs": [],
   "source": [
    "total_df.tail()"
   ]
  },
  {
   "attachments": {},
   "cell_type": "markdown",
   "metadata": {},
   "source": [
    "### Calculamos si hay Correlación"
   ]
  },
  {
   "cell_type": "code",
   "execution_count": null,
   "metadata": {},
   "outputs": [],
   "source": [
    "correl = total_df.corr()\n",
    "correl"
   ]
  },
  {
   "cell_type": "code",
   "execution_count": null,
   "metadata": {},
   "outputs": [],
   "source": [
    "plt.imshow(correl, cmap=\"hot\", interpolation=\"None\")  # probar interpolation = 'quadric'\n",
    "plt.colorbar()\n",
    "plt.xticks(range(len(correl)), correl.columns)\n",
    "plt.yticks(range(len(correl)), correl.columns)\n",
    "plt.show()"
   ]
  },
  {
   "attachments": {},
   "cell_type": "markdown",
   "metadata": {},
   "source": [
    "### Data Readers Disponibles\n",
    "<br> Banco Mundial\n",
    "<br> Reserva Federal de EE.UU.\n",
    "<br> OCDE\n",
    "<br>https://pandas-datareader.readthedocs.io/en/latest/readers/index.html"
   ]
  },
  {
   "attachments": {},
   "cell_type": "markdown",
   "metadata": {},
   "source": [
    "# 3- Scikit-Learn"
   ]
  },
  {
   "cell_type": "code",
   "execution_count": null,
   "metadata": {},
   "outputs": [],
   "source": [
    "import math\n",
    "import numpy as np\n",
    "from sklearn.linear_model import LinearRegression\n",
    "from sklearn.neighbors import KNeighborsRegressor\n",
    "from sklearn import preprocessing\n",
    "from sklearn.linear_model import Ridge\n",
    "from sklearn.preprocessing import PolynomialFeatures\n",
    "from sklearn.pipeline import make_pipeline\n",
    "from sklearn.model_selection import train_test_split\n",
    "\n",
    "import matplotlib as mpl\n",
    "from matplotlib import style"
   ]
  },
  {
   "cell_type": "code",
   "execution_count": null,
   "metadata": {},
   "outputs": [],
   "source": [
    "# pd.options.display.width = 0\n",
    "# Vamos a trabajar con Datos de Netflix (NFLX).\n",
    "# Por si quieren probar con otros datos, también subí archivos de Disney (DIS) y Bitcoin (BTC-USD)\n",
    "NFLX_df = pd.read_csv(\"NFLX.csv\")\n",
    "print(NFLX_df.head())\n",
    "\n",
    "close_px = NFLX_df[\"Adj Close\"]\n",
    "\n",
    "# Preparo un DataFrame con menos datos\n",
    "shorter_df = NFLX_df.loc[:, [\"Adj Close\", \"Volume\"]]"
   ]
  },
  {
   "cell_type": "code",
   "execution_count": null,
   "metadata": {},
   "outputs": [],
   "source": [
    "shorter_df.head()"
   ]
  },
  {
   "cell_type": "code",
   "execution_count": null,
   "metadata": {},
   "outputs": [],
   "source": [
    "# Chequear si hay algún Nan\n",
    "shorter_df.isnull().values.any()"
   ]
  },
  {
   "cell_type": "code",
   "execution_count": null,
   "metadata": {},
   "outputs": [],
   "source": [
    "# Nos deshacemos de los Nan\n",
    "# shorter_df.fillna(value=-99999, inplace=True)"
   ]
  },
  {
   "cell_type": "code",
   "execution_count": null,
   "metadata": {},
   "outputs": [],
   "source": [
    "# Calculo cuánto es el 1%, respecto de los datos para predecir\n",
    "separados_1p = int(math.ceil(0.01 * len(shorter_df)))\n",
    "\n",
    "# Separamos el \"precio de cierre ajustado\"\n",
    "forecast_col = \"Adj Close\"\n",
    "shorter_df[\"label\"] = shorter_df[forecast_col].shift(-separados_1p)\n",
    "X = np.array(shorter_df.drop([\"label\"], 1))\n",
    "\n",
    "# Hacemos un preprocesamiento de X, para que tengan la misma distribución para Regresión Lineal\n",
    "X = preprocessing.scale(X)\n",
    "\n",
    "# Preparamos X para la generación y evaluación del modelo\n",
    "X_lately = X[-separados_1p:]\n",
    "X = X[:-separados_1p]\n",
    "\n",
    "# Separamos a label y lo identificamos como y\n",
    "y = np.array(shorter_df[\"label\"])\n",
    "y = y[:-separados_1p]"
   ]
  },
  {
   "cell_type": "code",
   "execution_count": null,
   "metadata": {},
   "outputs": [],
   "source": [
    "# Separamos los datos para Train y test, en un 80% - 20%\n",
    "train, test = train_test_split(NFLX_df, test_size=0.20)\n",
    "\n",
    "# Hacemos un Reshape a X_train\n",
    "X_train = np.array(train.index).reshape(-1, 1)\n",
    "y_train = train[\"Adj Close\"]\n",
    "\n",
    "# Regresión Lineal\n",
    "clfreg = LinearRegression(n_jobs=-1)\n",
    "clfreg.fit(X_train, y_train)\n",
    "\n",
    "# Regresión Cuadrática\n",
    "clfpoly2 = make_pipeline(PolynomialFeatures(2), Ridge())\n",
    "clfpoly2.fit(X_train, y_train)\n",
    "\n",
    "# KNN\n",
    "clfknn = KNeighborsRegressor(n_neighbors=2)\n",
    "clfknn.fit(X_train, y_train)\n",
    "\n",
    "X_test = np.array(test.index).reshape(-1, 1)\n",
    "y_test = test[\"Adj Close\"]\n",
    "\n",
    "# Generamos un array de Y con los valores que se predicen\n",
    "y_pred_reg = clfreg.predict(X_test)\n",
    "y_pred_poly2 = clfpoly2.predict(X_test)\n",
    "y_pred_knn = clfknn.predict(X_test)"
   ]
  },
  {
   "attachments": {},
   "cell_type": "markdown",
   "metadata": {},
   "source": [
    "### Predicción mediante Regresión Lineal"
   ]
  },
  {
   "cell_type": "code",
   "execution_count": null,
   "metadata": {},
   "outputs": [],
   "source": [
    "plt.scatter(y_test, y_pred_reg)\n",
    "\n",
    "plt.xlabel(\"Precio Real\")\n",
    "plt.ylabel(\"Predicciones\")\n",
    "\n",
    "plt.title(\"Predicción mediante Regresión Lineal\")\n",
    "plt.grid()\n",
    "plt.show()"
   ]
  },
  {
   "attachments": {},
   "cell_type": "markdown",
   "metadata": {},
   "source": [
    "### Predicción mediante Regresión Cuadrática"
   ]
  },
  {
   "cell_type": "code",
   "execution_count": null,
   "metadata": {},
   "outputs": [],
   "source": [
    "plt.scatter(y_test, y_pred_poly2)\n",
    "plt.grid()\n",
    "plt.xlabel(\"Precio Real\")\n",
    "plt.ylabel(\"Predicciones\")\n",
    "\n",
    "plt.title(\"Predicción mediante Regresión Cuadrática\")\n",
    "\n",
    "plt.show()"
   ]
  },
  {
   "attachments": {},
   "cell_type": "markdown",
   "metadata": {},
   "source": [
    "### Predicción mediante KNN"
   ]
  },
  {
   "cell_type": "code",
   "execution_count": null,
   "metadata": {},
   "outputs": [],
   "source": [
    "plt.scatter(y_test, y_pred_knn)\n",
    "plt.grid()\n",
    "plt.xlabel(\"Precio Real\")\n",
    "plt.ylabel(\"Predicciones\")\n",
    "\n",
    "plt.title(\"Predicción mediante KNN\")\n",
    "\n",
    "plt.show()"
   ]
  }
 ],
 "metadata": {
  "kernelspec": {
   "display_name": "coder_environment",
   "language": "python",
   "name": "python3"
  },
  "language_info": {
   "codemirror_mode": {
    "name": "ipython",
    "version": 3
   },
   "file_extension": ".py",
   "mimetype": "text/x-python",
   "name": "python",
   "nbconvert_exporter": "python",
   "pygments_lexer": "ipython3",
   "version": "3.11.3"
  },
  "orig_nbformat": 4
 },
 "nbformat": 4,
 "nbformat_minor": 2
}
