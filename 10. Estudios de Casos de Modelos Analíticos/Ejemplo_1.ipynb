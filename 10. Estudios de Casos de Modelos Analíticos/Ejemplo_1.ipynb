{
 "cells": [
  {
   "attachments": {},
   "cell_type": "markdown",
   "metadata": {},
   "source": [
    "# Estudios de Casos de Modelos Analíticos I\n",
    "\n",
    "<br>**Contenido:**<br>\n",
    "**1-** Presentación de la librería yfinance<br>\n",
    "**2-** Presentación de la librería pandas-datareader<br>\n",
    "**3-** Predicciones utilizando Scikit-Learn"
   ]
  },
  {
   "cell_type": "code",
   "execution_count": 26,
   "metadata": {},
   "outputs": [],
   "source": [
    "import pandas as pd\n",
    "import matplotlib.pyplot as plt\n",
    "import yfinance as yf\n",
    "import seaborn as sns\n",
    "import pandas_datareader.data as web\n",
    "import datetime"
   ]
  },
  {
   "attachments": {},
   "cell_type": "markdown",
   "metadata": {},
   "source": [
    "# 1- Yfinance\n",
    "**Instalación para Jupyter:**\n",
    "    pip install yfinance<br>\n",
    "**Instalación para Colab:** !pip install yfinance<br>\n",
    "**Documentación:**\n",
    "    https://pypi.org/project/yfinance/"
   ]
  },
  {
   "cell_type": "code",
   "execution_count": 27,
   "metadata": {},
   "outputs": [],
   "source": [
    "BMA_yf = yf.Ticker(\"BMA.BA\")\n",
    "GGAL_yf = yf.Ticker(\"GGAL.BA\")\n",
    "BPAT_yf = yf.Ticker(\"BPAT.BA\")\n",
    "BBAR_yf = yf.Ticker(\"BBAR.BA\")\n",
    "BRIO_yf = yf.Ticker(\"BRIO.BA\")\n",
    "empresas = [BMA_yf, GGAL_yf, BPAT_yf, BBAR_yf, BRIO_yf]"
   ]
  },
  {
   "cell_type": "code",
   "execution_count": 28,
   "metadata": {},
   "outputs": [
    {
     "data": {
      "text/plain": [
       "{'address1': 'Avenida Eduardo Madero 1182',\n",
       " 'city': 'Buenos Aires',\n",
       " 'country': 'Argentina',\n",
       " 'phone': '54 11 5222 6500',\n",
       " 'fax': '54 11 5222 8969',\n",
       " 'website': 'https://www.macro.com.ar',\n",
       " 'industry': 'Banks—Regional',\n",
       " 'industryDisp': 'Banks—Regional',\n",
       " 'sector': 'Financial Services',\n",
       " 'longBusinessSummary': 'Banco Macro S.A. provides various banking products and services to retail and corporate customers in Argentina. It offers various retail banking products and services, such as savings and checking accounts, time deposits, credit and debit cards, consumer finance loans, mortgage loans, automobile loans, overdrafts, credit-related services, home and car insurance coverage, tax collection, utility payments, automated teller machines (ATMs), and money transfers. The company also provides personal loans, document discounts, residential mortgages, overdrafts, pledged loans, and credit card loans to retail customers. In addition, it offers corporate banking products and services, including deposits, lending, check cashing advances and factoring, guaranteed loans, credit lines for financing foreign trade, and cash management services; and trust, payroll, and financial agency services, as well as corporate credit cards and other specialty products; and working capital facilities, credit for investment projects, and leasing and foreign trade transactions. Further, the company provides transaction services, such as cash management, collection services, payments to suppliers, payroll services, foreign exchange transactions, and foreign trade services; information services comprising Datanet and Interpymes services to corporate customers; and Internet and mobile banking services. Additionally, it offers short-term and medium-to-long-term corporate lending products. Banco Macro S.A. was incorporated in 1966 and is headquartered in Buenos Aires, Argentina.',\n",
       " 'fullTimeEmployees': 7756,\n",
       " 'companyOfficers': [{'maxAge': 1,\n",
       "   'name': 'Mr. Gustavo  Alejandro Manriquez',\n",
       "   'age': 53,\n",
       "   'title': 'GM & CEO',\n",
       "   'yearBorn': 1969,\n",
       "   'exercisedValue': 0,\n",
       "   'unexercisedValue': 0},\n",
       "  {'maxAge': 1,\n",
       "   'name': 'Mr. Jorge  Francisco Scarinci',\n",
       "   'age': 52,\n",
       "   'title': 'CFO, Fin. Mang. & IR Mang.',\n",
       "   'yearBorn': 1970,\n",
       "   'exercisedValue': 0,\n",
       "   'unexercisedValue': 0},\n",
       "  {'maxAge': 1,\n",
       "   'name': 'Mr. Ernesto  Eduardo Medina',\n",
       "   'age': 55,\n",
       "   'title': 'Operations & Technology Mang.',\n",
       "   'yearBorn': 1967,\n",
       "   'exercisedValue': 0,\n",
       "   'unexercisedValue': 0},\n",
       "  {'maxAge': 1,\n",
       "   'name': 'Mr. Marcelo  Agustin Devoto',\n",
       "   'age': 46,\n",
       "   'title': 'Investment Banking Mang.',\n",
       "   'yearBorn': 1976,\n",
       "   'exercisedValue': 0,\n",
       "   'unexercisedValue': 0},\n",
       "  {'maxAge': 1,\n",
       "   'name': 'Mr. Gerardo  Adrian Alvarez',\n",
       "   'age': 53,\n",
       "   'title': 'Admin. & HR Mang.',\n",
       "   'yearBorn': 1969,\n",
       "   'exercisedValue': 0,\n",
       "   'unexercisedValue': 0},\n",
       "  {'maxAge': 1,\n",
       "   'name': 'Mr. Ernesto  Lopez',\n",
       "   'age': 50,\n",
       "   'title': 'Legal Mang.',\n",
       "   'yearBorn': 1972,\n",
       "   'exercisedValue': 0,\n",
       "   'unexercisedValue': 0},\n",
       "  {'maxAge': 1,\n",
       "   'name': 'Mr. Gustavo Emilio Pessagno',\n",
       "   'age': 51,\n",
       "   'title': 'Compliance Mang.',\n",
       "   'yearBorn': 1971,\n",
       "   'exercisedValue': 0,\n",
       "   'unexercisedValue': 0},\n",
       "  {'maxAge': 1,\n",
       "   'name': 'Mr. Francisco  Muro',\n",
       "   'age': 49,\n",
       "   'title': 'Distribution & Sales Mang.',\n",
       "   'yearBorn': 1973,\n",
       "   'exercisedValue': 0,\n",
       "   'unexercisedValue': 0},\n",
       "  {'maxAge': 1,\n",
       "   'name': 'Ms. Ana María  Magdalena Marcet',\n",
       "   'age': 61,\n",
       "   'title': 'Credit Risk Mang.',\n",
       "   'yearBorn': 1961,\n",
       "   'exercisedValue': 0,\n",
       "   'unexercisedValue': 0},\n",
       "  {'maxAge': 1,\n",
       "   'name': 'Lic. Brian  Anthony',\n",
       "   'age': 49,\n",
       "   'title': 'Commercial banking manager',\n",
       "   'yearBorn': 1973,\n",
       "   'exercisedValue': 0,\n",
       "   'unexercisedValue': 0}],\n",
       " 'maxAge': 86400,\n",
       " 'priceHint': 2,\n",
       " 'previousClose': 1289.3,\n",
       " 'open': 0.0,\n",
       " 'dayLow': 0.0,\n",
       " 'dayHigh': 0.0,\n",
       " 'regularMarketPreviousClose': 1289.3,\n",
       " 'regularMarketOpen': 0.0,\n",
       " 'regularMarketDayLow': 0.0,\n",
       " 'regularMarketDayHigh': 0.0,\n",
       " 'dividendRate': 25.99,\n",
       " 'dividendYield': 0.0202,\n",
       " 'exDividendDate': 1669939200,\n",
       " 'beta': 1.867123,\n",
       " 'forwardPE': 12.072122,\n",
       " 'volume': 0,\n",
       " 'regularMarketVolume': 0,\n",
       " 'averageVolume': 264771,\n",
       " 'averageVolume10days': 339825,\n",
       " 'averageDailyVolume10Day': 339825,\n",
       " 'bid': 0.0,\n",
       " 'ask': 0.0,\n",
       " 'bidSize': 0,\n",
       " 'askSize': 0,\n",
       " 'marketCap': 984748261376,\n",
       " 'fiftyTwoWeekLow': 0.0,\n",
       " 'fiftyTwoWeekHigh': 1364.2,\n",
       " 'priceToSalesTrailing12Months': 1.8533212,\n",
       " 'fiftyDayAverage': 856.87616,\n",
       " 'twoHundredDayAverage': 592.60565,\n",
       " 'trailingAnnualDividendRate': 117.359,\n",
       " 'trailingAnnualDividendYield': 0.09102536,\n",
       " 'currency': 'ARS',\n",
       " 'enterpriseValue': -342236987392,\n",
       " 'profitMargins': 0.07195,\n",
       " 'floatShares': 227094066,\n",
       " 'sharesOutstanding': 746587008,\n",
       " 'heldPercentInsiders': 0.33637002,\n",
       " 'heldPercentInstitutions': 0.31409,\n",
       " 'impliedSharesOutstanding': 0,\n",
       " 'bookValue': 989.502,\n",
       " 'priceToBook': 1.3329937,\n",
       " 'lastFiscalYearEnd': 1672444800,\n",
       " 'nextFiscalYearEnd': 1703980800,\n",
       " 'mostRecentQuarter': 1680220800,\n",
       " 'earningsQuarterlyGrowth': 0.383,\n",
       " 'netIncomeToCommon': 38231588864,\n",
       " 'trailingEps': -806.08,\n",
       " 'forwardEps': 109.26,\n",
       " 'pegRatio': 7.75,\n",
       " 'lastSplitFactor': '1.090364:1',\n",
       " 'lastSplitDate': 1687824000,\n",
       " 'enterpriseToRevenue': -0.644,\n",
       " '52WeekChange': 4.5729833,\n",
       " 'SandP52WeekChange': 0.11492491,\n",
       " 'lastDividendValue': 2.574162,\n",
       " 'lastDividendDate': 1669939200,\n",
       " 'exchange': 'BUE',\n",
       " 'quoteType': 'EQUITY',\n",
       " 'symbol': 'BMA.BA',\n",
       " 'underlyingSymbol': 'BMA.BA',\n",
       " 'shortName': 'BANCO MACRO S.A.',\n",
       " 'longName': 'Banco Macro S.A.',\n",
       " 'firstTradeDateEpochUtc': 946908000,\n",
       " 'timeZoneFullName': 'America/Argentina/Buenos_Aires',\n",
       " 'timeZoneShortName': 'ART',\n",
       " 'uuid': '9df6d9ac-b364-34e3-9a58-2b94c479bdaa',\n",
       " 'messageBoardId': 'finmb_878443',\n",
       " 'gmtOffSetMilliseconds': -10800000,\n",
       " 'currentPrice': 1319.0,\n",
       " 'targetHighPrice': 2540.0,\n",
       " 'targetLowPrice': 311.0,\n",
       " 'targetMeanPrice': 1234.66,\n",
       " 'targetMedianPrice': 1365.3,\n",
       " 'recommendationMean': 2.6,\n",
       " 'recommendationKey': 'hold',\n",
       " 'numberOfAnalystOpinions': 5,\n",
       " 'totalCash': 442424000512,\n",
       " 'totalCashPerShare': 691.922,\n",
       " 'totalDebt': 98773000192,\n",
       " 'totalRevenue': 531342458880,\n",
       " 'revenuePerShare': 830.985,\n",
       " 'returnOnAssets': 0.021440001,\n",
       " 'returnOnEquity': 0.08365,\n",
       " 'grossProfits': 491988000000,\n",
       " 'earningsGrowth': 0.384,\n",
       " 'revenueGrowth': 1.229,\n",
       " 'grossMargins': 0.0,\n",
       " 'ebitdaMargins': 0.0,\n",
       " 'operatingMargins': 0.11257,\n",
       " 'financialCurrency': 'ARS',\n",
       " 'trailingPegRatio': None}"
      ]
     },
     "execution_count": 28,
     "metadata": {},
     "output_type": "execute_result"
    }
   ],
   "source": [
    "BMA_yf.info"
   ]
  },
  {
   "cell_type": "code",
   "execution_count": 29,
   "metadata": {},
   "outputs": [],
   "source": [
    "def convertir_DataFrame(empresas):\n",
    "    marketCap_values = []\n",
    "    empleados_values = []\n",
    "    cierre_values = []\n",
    "    EPS_values = []\n",
    "    index_df = []\n",
    "    for item in empresas:\n",
    "        marketCap_values.append(item.info[\"marketCap\"] / 1000000000)\n",
    "        empleados_values.append(item.info.get(\"fullTimeEmployees\", None))\n",
    "        cierre_values.append(item.info[\"previousClose\"])\n",
    "        EPS_values.append(item.info[\"trailingEps\"])\n",
    "        symbol = item.info[\"symbol\"]\n",
    "        index_df.append(symbol)\n",
    "        data_df = {\n",
    "            \"Capitalización de Mercado\": marketCap_values,\n",
    "            \"Cantidad de Empleados\": empleados_values,\n",
    "            \"Último Cierre\": cierre_values,\n",
    "            \"Ganancias por acción\": EPS_values,\n",
    "        }\n",
    "    full_df = pd.DataFrame(data=data_df, index=index_df)\n",
    "    return full_df"
   ]
  },
  {
   "cell_type": "code",
   "execution_count": 30,
   "metadata": {},
   "outputs": [
    {
     "data": {
      "text/html": [
       "<div>\n",
       "<style scoped>\n",
       "    .dataframe tbody tr th:only-of-type {\n",
       "        vertical-align: middle;\n",
       "    }\n",
       "\n",
       "    .dataframe tbody tr th {\n",
       "        vertical-align: top;\n",
       "    }\n",
       "\n",
       "    .dataframe thead th {\n",
       "        text-align: right;\n",
       "    }\n",
       "</style>\n",
       "<table border=\"1\" class=\"dataframe\">\n",
       "  <thead>\n",
       "    <tr style=\"text-align: right;\">\n",
       "      <th></th>\n",
       "      <th>Capitalización de Mercado</th>\n",
       "      <th>Cantidad de Empleados</th>\n",
       "      <th>Último Cierre</th>\n",
       "      <th>Ganancias por acción</th>\n",
       "    </tr>\n",
       "  </thead>\n",
       "  <tbody>\n",
       "    <tr>\n",
       "      <th>BMA.BA</th>\n",
       "      <td>984.748261</td>\n",
       "      <td>7756.0</td>\n",
       "      <td>1289.30</td>\n",
       "      <td>-806.08</td>\n",
       "    </tr>\n",
       "    <tr>\n",
       "      <th>GGAL.BA</th>\n",
       "      <td>1281.505624</td>\n",
       "      <td>8742.0</td>\n",
       "      <td>843.15</td>\n",
       "      <td>33.86</td>\n",
       "    </tr>\n",
       "    <tr>\n",
       "      <th>BPAT.BA</th>\n",
       "      <td>192.896156</td>\n",
       "      <td>2944.0</td>\n",
       "      <td>281.00</td>\n",
       "      <td>27.07</td>\n",
       "    </tr>\n",
       "    <tr>\n",
       "      <th>BBAR.BA</th>\n",
       "      <td>621.900661</td>\n",
       "      <td>5957.0</td>\n",
       "      <td>1001.50</td>\n",
       "      <td>4.74</td>\n",
       "    </tr>\n",
       "    <tr>\n",
       "      <th>BRIO.BA</th>\n",
       "      <td>121.608815</td>\n",
       "      <td>NaN</td>\n",
       "      <td>33.50</td>\n",
       "      <td>2.64</td>\n",
       "    </tr>\n",
       "  </tbody>\n",
       "</table>\n",
       "</div>"
      ],
      "text/plain": [
       "         Capitalización de Mercado  Cantidad de Empleados  Último Cierre  \\\n",
       "BMA.BA                  984.748261                 7756.0        1289.30   \n",
       "GGAL.BA                1281.505624                 8742.0         843.15   \n",
       "BPAT.BA                 192.896156                 2944.0         281.00   \n",
       "BBAR.BA                 621.900661                 5957.0        1001.50   \n",
       "BRIO.BA                 121.608815                    NaN          33.50   \n",
       "\n",
       "         Ganancias por acción  \n",
       "BMA.BA                -806.08  \n",
       "GGAL.BA                 33.86  \n",
       "BPAT.BA                 27.07  \n",
       "BBAR.BA                  4.74  \n",
       "BRIO.BA                  2.64  "
      ]
     },
     "execution_count": 30,
     "metadata": {},
     "output_type": "execute_result"
    }
   ],
   "source": [
    "empresas_df = convertir_DataFrame(empresas)\n",
    "empresas_df.head()"
   ]
  },
  {
   "cell_type": "code",
   "execution_count": 31,
   "metadata": {},
   "outputs": [
    {
     "data": {
      "image/png": "[encoded data removed]",
      "text/plain": [
       "<Figure size 640x480 with 1 Axes>"
      ]
     },
     "metadata": {},
     "output_type": "display_data"
    }
   ],
   "source": [
    "barras = sns.barplot(\n",
    "    data=empresas_df, x=empresas_df.index, y=empresas_df[\"Capitalización de Mercado\"]\n",
    ")\n",
    "barras.axhline(empresas_df[\"Capitalización de Mercado\"].mean(), color=\"purple\")\n",
    "plt.show()"
   ]
  },
  {
   "cell_type": "code",
   "execution_count": 32,
   "metadata": {},
   "outputs": [
    {
     "data": {
      "image/png": "[encoded data removed]",
      "text/plain": [
       "<Figure size 640x480 with 1 Axes>"
      ]
     },
     "metadata": {},
     "output_type": "display_data"
    }
   ],
   "source": [
    "barras = sns.barplot(\n",
    "    data=empresas_df, x=empresas_df.index, y=empresas_df[\"Cantidad de Empleados\"]\n",
    ")\n",
    "barras.axhline(empresas_df[\"Cantidad de Empleados\"].mean(), color=\"purple\")\n",
    "plt.show()"
   ]
  },
  {
   "cell_type": "code",
   "execution_count": 33,
   "metadata": {},
   "outputs": [
    {
     "data": {
      "image/png": "[encoded data removed]",
      "text/plain": [
       "<Figure size 640x480 with 1 Axes>"
      ]
     },
     "metadata": {},
     "output_type": "display_data"
    }
   ],
   "source": [
    "scatter = sns.scatterplot(\n",
    "    data=empresas_df,\n",
    "    x=empresas_df[\"Último Cierre\"],\n",
    "    y=empresas_df[\"Ganancias por acción\"],\n",
    "    s=empresas_df[\"Capitalización de Mercado\"],\n",
    "    hue=empresas_df.index,\n",
    ")\n",
    "plt.legend(bbox_to_anchor=(1.05, 1), loc=2, borderaxespad=0)\n",
    "plt.show()"
   ]
  },
  {
   "attachments": {},
   "cell_type": "markdown",
   "metadata": {},
   "source": [
    "# 2- Pandas-datareader\n",
    "**Instalación para Jupyter:**\n",
    "    pip install pandas-datareader<br>\n",
    "**Instalación para Colab:** !pip install --upgrade pandas_datareader<br>\n",
    "En caso de no funcionar, volver a ejecutar tras haber reiniciado el entorno de ejecución.\n",
    "**Documentación:**\n",
    "    https://pandas-datareader.readthedocs.io/en/latest/"
   ]
  },
  {
   "cell_type": "code",
   "execution_count": 34,
   "metadata": {},
   "outputs": [
    {
     "ename": "ConnectionError",
     "evalue": "HTTPSConnectionPool(host='finance.yahoo.com', port=443): Read timed out.",
     "output_type": "error",
     "traceback": [
      "\u001b[1;31m---------------------------------------------------------------------------\u001b[0m",
      "\u001b[1;31mTimeoutError\u001b[0m                              Traceback (most recent call last)",
      "File \u001b[1;32md:\\Coderhouse\\coder_environment\\Lib\\site-packages\\urllib3\\response.py:710\u001b[0m, in \u001b[0;36mHTTPResponse._error_catcher\u001b[1;34m(self)\u001b[0m\n\u001b[0;32m    709\u001b[0m \u001b[39mtry\u001b[39;00m:\n\u001b[1;32m--> 710\u001b[0m     \u001b[39myield\u001b[39;00m\n\u001b[0;32m    712\u001b[0m \u001b[39mexcept\u001b[39;00m SocketTimeout \u001b[39mas\u001b[39;00m e:\n\u001b[0;32m    713\u001b[0m     \u001b[39m# FIXME: Ideally we'd like to include the url in the ReadTimeoutError but\u001b[39;00m\n\u001b[0;32m    714\u001b[0m     \u001b[39m# there is yet no clean way to get at it from this context.\u001b[39;00m\n",
      "File \u001b[1;32md:\\Coderhouse\\coder_environment\\Lib\\site-packages\\urllib3\\response.py:1080\u001b[0m, in \u001b[0;36mHTTPResponse.read_chunked\u001b[1;34m(self, amt, decode_content)\u001b[0m\n\u001b[0;32m   1079\u001b[0m     \u001b[39mbreak\u001b[39;00m\n\u001b[1;32m-> 1080\u001b[0m chunk \u001b[39m=\u001b[39m \u001b[39mself\u001b[39;49m\u001b[39m.\u001b[39;49m_handle_chunk(amt)\n\u001b[0;32m   1081\u001b[0m decoded \u001b[39m=\u001b[39m \u001b[39mself\u001b[39m\u001b[39m.\u001b[39m_decode(\n\u001b[0;32m   1082\u001b[0m     chunk, decode_content\u001b[39m=\u001b[39mdecode_content, flush_decoder\u001b[39m=\u001b[39m\u001b[39mFalse\u001b[39;00m\n\u001b[0;32m   1083\u001b[0m )\n",
      "File \u001b[1;32md:\\Coderhouse\\coder_environment\\Lib\\site-packages\\urllib3\\response.py:1022\u001b[0m, in \u001b[0;36mHTTPResponse._handle_chunk\u001b[1;34m(self, amt)\u001b[0m\n\u001b[0;32m   1021\u001b[0m \u001b[39melif\u001b[39;00m \u001b[39mself\u001b[39m\u001b[39m.\u001b[39mchunk_left \u001b[39mis\u001b[39;00m \u001b[39mnot\u001b[39;00m \u001b[39mNone\u001b[39;00m \u001b[39mand\u001b[39;00m amt \u001b[39m<\u001b[39m \u001b[39mself\u001b[39m\u001b[39m.\u001b[39mchunk_left:\n\u001b[1;32m-> 1022\u001b[0m     value \u001b[39m=\u001b[39m \u001b[39mself\u001b[39;49m\u001b[39m.\u001b[39;49m_fp\u001b[39m.\u001b[39;49m_safe_read(amt)  \u001b[39m# type: ignore[union-attr]\u001b[39;00m\n\u001b[0;32m   1023\u001b[0m     \u001b[39mself\u001b[39m\u001b[39m.\u001b[39mchunk_left \u001b[39m=\u001b[39m \u001b[39mself\u001b[39m\u001b[39m.\u001b[39mchunk_left \u001b[39m-\u001b[39m amt\n",
      "File \u001b[1;32mC:\\Program Files\\WindowsApps\\PythonSoftwareFoundation.Python.3.11_3.11.1008.0_x64__qbz5n2kfra8p0\\Lib\\http\\client.py:631\u001b[0m, in \u001b[0;36mHTTPResponse._safe_read\u001b[1;34m(self, amt)\u001b[0m\n\u001b[0;32m    625\u001b[0m \u001b[39m\u001b[39m\u001b[39m\"\"\"Read the number of bytes requested.\u001b[39;00m\n\u001b[0;32m    626\u001b[0m \n\u001b[0;32m    627\u001b[0m \u001b[39mThis function should be used when <amt> bytes \"should\" be present for\u001b[39;00m\n\u001b[0;32m    628\u001b[0m \u001b[39mreading. If the bytes are truly not available (due to EOF), then the\u001b[39;00m\n\u001b[0;32m    629\u001b[0m \u001b[39mIncompleteRead exception can be used to detect the problem.\u001b[39;00m\n\u001b[0;32m    630\u001b[0m \u001b[39m\"\"\"\u001b[39;00m\n\u001b[1;32m--> 631\u001b[0m data \u001b[39m=\u001b[39m \u001b[39mself\u001b[39m\u001b[39m.\u001b[39mfp\u001b[39m.\u001b[39mread(amt)\n\u001b[0;32m    632\u001b[0m \u001b[39mif\u001b[39;00m \u001b[39mlen\u001b[39m(data) \u001b[39m<\u001b[39m amt:\n",
      "File \u001b[1;32mC:\\Program Files\\WindowsApps\\PythonSoftwareFoundation.Python.3.11_3.11.1008.0_x64__qbz5n2kfra8p0\\Lib\\socket.py:706\u001b[0m, in \u001b[0;36mSocketIO.readinto\u001b[1;34m(self, b)\u001b[0m\n\u001b[0;32m    705\u001b[0m \u001b[39mtry\u001b[39;00m:\n\u001b[1;32m--> 706\u001b[0m     \u001b[39mreturn\u001b[39;00m \u001b[39mself\u001b[39;49m\u001b[39m.\u001b[39;49m_sock\u001b[39m.\u001b[39;49mrecv_into(b)\n\u001b[0;32m    707\u001b[0m \u001b[39mexcept\u001b[39;00m timeout:\n",
      "File \u001b[1;32mC:\\Program Files\\WindowsApps\\PythonSoftwareFoundation.Python.3.11_3.11.1008.0_x64__qbz5n2kfra8p0\\Lib\\ssl.py:1278\u001b[0m, in \u001b[0;36mSSLSocket.recv_into\u001b[1;34m(self, buffer, nbytes, flags)\u001b[0m\n\u001b[0;32m   1275\u001b[0m         \u001b[39mraise\u001b[39;00m \u001b[39mValueError\u001b[39;00m(\n\u001b[0;32m   1276\u001b[0m           \u001b[39m\"\u001b[39m\u001b[39mnon-zero flags not allowed in calls to recv_into() on \u001b[39m\u001b[39m%s\u001b[39;00m\u001b[39m\"\u001b[39m \u001b[39m%\u001b[39m\n\u001b[0;32m   1277\u001b[0m           \u001b[39mself\u001b[39m\u001b[39m.\u001b[39m\u001b[39m__class__\u001b[39m)\n\u001b[1;32m-> 1278\u001b[0m     \u001b[39mreturn\u001b[39;00m \u001b[39mself\u001b[39;49m\u001b[39m.\u001b[39;49mread(nbytes, buffer)\n\u001b[0;32m   1279\u001b[0m \u001b[39melse\u001b[39;00m:\n",
      "File \u001b[1;32mC:\\Program Files\\WindowsApps\\PythonSoftwareFoundation.Python.3.11_3.11.1008.0_x64__qbz5n2kfra8p0\\Lib\\ssl.py:1134\u001b[0m, in \u001b[0;36mSSLSocket.read\u001b[1;34m(self, len, buffer)\u001b[0m\n\u001b[0;32m   1133\u001b[0m \u001b[39mif\u001b[39;00m buffer \u001b[39mis\u001b[39;00m \u001b[39mnot\u001b[39;00m \u001b[39mNone\u001b[39;00m:\n\u001b[1;32m-> 1134\u001b[0m     \u001b[39mreturn\u001b[39;00m \u001b[39mself\u001b[39;49m\u001b[39m.\u001b[39;49m_sslobj\u001b[39m.\u001b[39;49mread(\u001b[39mlen\u001b[39;49m, buffer)\n\u001b[0;32m   1135\u001b[0m \u001b[39melse\u001b[39;00m:\n",
      "\u001b[1;31mTimeoutError\u001b[0m: The read operation timed out",
      "\nThe above exception was the direct cause of the following exception:\n",
      "\u001b[1;31mReadTimeoutError\u001b[0m                          Traceback (most recent call last)",
      "File \u001b[1;32md:\\Coderhouse\\coder_environment\\Lib\\site-packages\\requests\\models.py:816\u001b[0m, in \u001b[0;36mResponse.iter_content.<locals>.generate\u001b[1;34m()\u001b[0m\n\u001b[0;32m    815\u001b[0m \u001b[39mtry\u001b[39;00m:\n\u001b[1;32m--> 816\u001b[0m     \u001b[39myield from\u001b[39;00m \u001b[39mself\u001b[39m\u001b[39m.\u001b[39mraw\u001b[39m.\u001b[39mstream(chunk_size, decode_content\u001b[39m=\u001b[39m\u001b[39mTrue\u001b[39;00m)\n\u001b[0;32m    817\u001b[0m \u001b[39mexcept\u001b[39;00m ProtocolError \u001b[39mas\u001b[39;00m e:\n",
      "File \u001b[1;32md:\\Coderhouse\\coder_environment\\Lib\\site-packages\\urllib3\\response.py:937\u001b[0m, in \u001b[0;36mHTTPResponse.stream\u001b[1;34m(self, amt, decode_content)\u001b[0m\n\u001b[0;32m    936\u001b[0m \u001b[39mif\u001b[39;00m \u001b[39mself\u001b[39m\u001b[39m.\u001b[39mchunked \u001b[39mand\u001b[39;00m \u001b[39mself\u001b[39m\u001b[39m.\u001b[39msupports_chunked_reads():\n\u001b[1;32m--> 937\u001b[0m     \u001b[39myield from\u001b[39;00m \u001b[39mself\u001b[39m\u001b[39m.\u001b[39mread_chunked(amt, decode_content\u001b[39m=\u001b[39mdecode_content)\n\u001b[0;32m    938\u001b[0m \u001b[39melse\u001b[39;00m:\n",
      "File \u001b[1;32md:\\Coderhouse\\coder_environment\\Lib\\site-packages\\urllib3\\response.py:1065\u001b[0m, in \u001b[0;36mHTTPResponse.read_chunked\u001b[1;34m(self, amt, decode_content)\u001b[0m\n\u001b[0;32m   1060\u001b[0m     \u001b[39mraise\u001b[39;00m BodyNotHttplibCompatible(\n\u001b[0;32m   1061\u001b[0m         \u001b[39m\"\u001b[39m\u001b[39mBody should be http.client.HTTPResponse like. \u001b[39m\u001b[39m\"\u001b[39m\n\u001b[0;32m   1062\u001b[0m         \u001b[39m\"\u001b[39m\u001b[39mIt should have have an fp attribute which returns raw chunks.\u001b[39m\u001b[39m\"\u001b[39m\n\u001b[0;32m   1063\u001b[0m     )\n\u001b[1;32m-> 1065\u001b[0m \u001b[39mwith\u001b[39;49;00m \u001b[39mself\u001b[39;49m\u001b[39m.\u001b[39;49m_error_catcher():\n\u001b[0;32m   1066\u001b[0m     \u001b[39m# Don't bother reading the body of a HEAD request.\u001b[39;49;00m\n\u001b[0;32m   1067\u001b[0m     \u001b[39mif\u001b[39;49;00m \u001b[39mself\u001b[39;49m\u001b[39m.\u001b[39;49m_original_response \u001b[39mand\u001b[39;49;00m is_response_to_head(\u001b[39mself\u001b[39;49m\u001b[39m.\u001b[39;49m_original_response):\n",
      "File \u001b[1;32mC:\\Program Files\\WindowsApps\\PythonSoftwareFoundation.Python.3.11_3.11.1008.0_x64__qbz5n2kfra8p0\\Lib\\contextlib.py:155\u001b[0m, in \u001b[0;36m_GeneratorContextManager.__exit__\u001b[1;34m(self, typ, value, traceback)\u001b[0m\n\u001b[0;32m    154\u001b[0m \u001b[39mtry\u001b[39;00m:\n\u001b[1;32m--> 155\u001b[0m     \u001b[39mself\u001b[39m\u001b[39m.\u001b[39mgen\u001b[39m.\u001b[39mthrow(typ, value, traceback)\n\u001b[0;32m    156\u001b[0m \u001b[39mexcept\u001b[39;00m \u001b[39mStopIteration\u001b[39;00m \u001b[39mas\u001b[39;00m exc:\n\u001b[0;32m    157\u001b[0m     \u001b[39m# Suppress StopIteration *unless* it's the same exception that\u001b[39;00m\n\u001b[0;32m    158\u001b[0m     \u001b[39m# was passed to throw().  This prevents a StopIteration\u001b[39;00m\n\u001b[0;32m    159\u001b[0m     \u001b[39m# raised inside the \"with\" statement from being suppressed.\u001b[39;00m\n",
      "File \u001b[1;32md:\\Coderhouse\\coder_environment\\Lib\\site-packages\\urllib3\\response.py:715\u001b[0m, in \u001b[0;36mHTTPResponse._error_catcher\u001b[1;34m(self)\u001b[0m\n\u001b[0;32m    712\u001b[0m \u001b[39mexcept\u001b[39;00m SocketTimeout \u001b[39mas\u001b[39;00m e:\n\u001b[0;32m    713\u001b[0m     \u001b[39m# FIXME: Ideally we'd like to include the url in the ReadTimeoutError but\u001b[39;00m\n\u001b[0;32m    714\u001b[0m     \u001b[39m# there is yet no clean way to get at it from this context.\u001b[39;00m\n\u001b[1;32m--> 715\u001b[0m     \u001b[39mraise\u001b[39;00m ReadTimeoutError(\u001b[39mself\u001b[39m\u001b[39m.\u001b[39m_pool, \u001b[39mNone\u001b[39;00m, \u001b[39m\"\u001b[39m\u001b[39mRead timed out.\u001b[39m\u001b[39m\"\u001b[39m) \u001b[39mfrom\u001b[39;00m \u001b[39me\u001b[39;00m  \u001b[39m# type: ignore[arg-type]\u001b[39;00m\n\u001b[0;32m    717\u001b[0m \u001b[39mexcept\u001b[39;00m BaseSSLError \u001b[39mas\u001b[39;00m e:\n\u001b[0;32m    718\u001b[0m     \u001b[39m# FIXME: Is there a better way to differentiate between SSLErrors?\u001b[39;00m\n",
      "\u001b[1;31mReadTimeoutError\u001b[0m: HTTPSConnectionPool(host='finance.yahoo.com', port=443): Read timed out.",
      "\nDuring handling of the above exception, another exception occurred:\n",
      "\u001b[1;31mConnectionError\u001b[0m                           Traceback (most recent call last)",
      "Cell \u001b[1;32mIn[34], line 4\u001b[0m\n\u001b[0;32m      1\u001b[0m comienzo \u001b[39m=\u001b[39m datetime\u001b[39m.\u001b[39mdatetime(\u001b[39m2022\u001b[39m, \u001b[39m1\u001b[39m, \u001b[39m1\u001b[39m)\n\u001b[0;32m      2\u001b[0m final \u001b[39m=\u001b[39m datetime\u001b[39m.\u001b[39mdatetime(\u001b[39m2022\u001b[39m, \u001b[39m12\u001b[39m, \u001b[39m1\u001b[39m)\n\u001b[1;32m----> 4\u001b[0m df \u001b[39m=\u001b[39m web\u001b[39m.\u001b[39;49mDataReader(\u001b[39m\"\u001b[39;49m\u001b[39mNFLX\u001b[39;49m\u001b[39m\"\u001b[39;49m, \u001b[39m\"\u001b[39;49m\u001b[39myahoo\u001b[39;49m\u001b[39m\"\u001b[39;49m, comienzo, final)\n\u001b[0;32m      5\u001b[0m df\u001b[39m.\u001b[39mtail()\n",
      "File \u001b[1;32md:\\Coderhouse\\coder_environment\\Lib\\site-packages\\pandas\\util\\_decorators.py:210\u001b[0m, in \u001b[0;36mdeprecate_kwarg.<locals>._deprecate_kwarg.<locals>.wrapper\u001b[1;34m(*args, **kwargs)\u001b[0m\n\u001b[0;32m    208\u001b[0m         \u001b[39mraise\u001b[39;00m \u001b[39mTypeError\u001b[39;00m(msg)\n\u001b[0;32m    209\u001b[0m     kwargs[new_arg_name] \u001b[39m=\u001b[39m new_arg_value\n\u001b[1;32m--> 210\u001b[0m \u001b[39mreturn\u001b[39;00m func(\u001b[39m*\u001b[39;49margs, \u001b[39m*\u001b[39;49m\u001b[39m*\u001b[39;49mkwargs)\n",
      "File \u001b[1;32md:\\Coderhouse\\coder_environment\\Lib\\site-packages\\pandas_datareader\\data.py:379\u001b[0m, in \u001b[0;36mDataReader\u001b[1;34m(name, data_source, start, end, retry_count, pause, session, api_key)\u001b[0m\n\u001b[0;32m    367\u001b[0m     \u001b[39mraise\u001b[39;00m \u001b[39mNotImplementedError\u001b[39;00m(msg)\n\u001b[0;32m    369\u001b[0m \u001b[39mif\u001b[39;00m data_source \u001b[39m==\u001b[39m \u001b[39m\"\u001b[39m\u001b[39myahoo\u001b[39m\u001b[39m\"\u001b[39m:\n\u001b[0;32m    370\u001b[0m     \u001b[39mreturn\u001b[39;00m YahooDailyReader(\n\u001b[0;32m    371\u001b[0m         symbols\u001b[39m=\u001b[39;49mname,\n\u001b[0;32m    372\u001b[0m         start\u001b[39m=\u001b[39;49mstart,\n\u001b[0;32m    373\u001b[0m         end\u001b[39m=\u001b[39;49mend,\n\u001b[0;32m    374\u001b[0m         adjust_price\u001b[39m=\u001b[39;49m\u001b[39mFalse\u001b[39;49;00m,\n\u001b[0;32m    375\u001b[0m         chunksize\u001b[39m=\u001b[39;49m\u001b[39m25\u001b[39;49m,\n\u001b[0;32m    376\u001b[0m         retry_count\u001b[39m=\u001b[39;49mretry_count,\n\u001b[0;32m    377\u001b[0m         pause\u001b[39m=\u001b[39;49mpause,\n\u001b[0;32m    378\u001b[0m         session\u001b[39m=\u001b[39;49msession,\n\u001b[1;32m--> 379\u001b[0m     )\u001b[39m.\u001b[39;49mread()\n\u001b[0;32m    381\u001b[0m \u001b[39melif\u001b[39;00m data_source \u001b[39m==\u001b[39m \u001b[39m\"\u001b[39m\u001b[39miex\u001b[39m\u001b[39m\"\u001b[39m:\n\u001b[0;32m    382\u001b[0m     \u001b[39mreturn\u001b[39;00m IEXDailyReader(\n\u001b[0;32m    383\u001b[0m         symbols\u001b[39m=\u001b[39mname,\n\u001b[0;32m    384\u001b[0m         start\u001b[39m=\u001b[39mstart,\n\u001b[1;32m   (...)\u001b[0m\n\u001b[0;32m    390\u001b[0m         session\u001b[39m=\u001b[39msession,\n\u001b[0;32m    391\u001b[0m     )\u001b[39m.\u001b[39mread()\n",
      "File \u001b[1;32md:\\Coderhouse\\coder_environment\\Lib\\site-packages\\pandas_datareader\\base.py:253\u001b[0m, in \u001b[0;36m_DailyBaseReader.read\u001b[1;34m(self)\u001b[0m\n\u001b[0;32m    251\u001b[0m \u001b[39m# If a single symbol, (e.g., 'GOOG')\u001b[39;00m\n\u001b[0;32m    252\u001b[0m \u001b[39mif\u001b[39;00m \u001b[39misinstance\u001b[39m(\u001b[39mself\u001b[39m\u001b[39m.\u001b[39msymbols, (string_types, \u001b[39mint\u001b[39m)):\n\u001b[1;32m--> 253\u001b[0m     df \u001b[39m=\u001b[39m \u001b[39mself\u001b[39;49m\u001b[39m.\u001b[39;49m_read_one_data(\u001b[39mself\u001b[39;49m\u001b[39m.\u001b[39;49murl, params\u001b[39m=\u001b[39;49m\u001b[39mself\u001b[39;49m\u001b[39m.\u001b[39;49m_get_params(\u001b[39mself\u001b[39;49m\u001b[39m.\u001b[39;49msymbols))\n\u001b[0;32m    254\u001b[0m \u001b[39m# Or multiple symbols, (e.g., ['GOOG', 'AAPL', 'MSFT'])\u001b[39;00m\n\u001b[0;32m    255\u001b[0m \u001b[39melif\u001b[39;00m \u001b[39misinstance\u001b[39m(\u001b[39mself\u001b[39m\u001b[39m.\u001b[39msymbols, DataFrame):\n",
      "File \u001b[1;32md:\\Coderhouse\\coder_environment\\Lib\\site-packages\\pandas_datareader\\yahoo\\daily.py:149\u001b[0m, in \u001b[0;36mYahooDailyReader._read_one_data\u001b[1;34m(self, url, params)\u001b[0m\n\u001b[0;32m    146\u001b[0m \u001b[39mdel\u001b[39;00m params[\u001b[39m\"\u001b[39m\u001b[39msymbol\u001b[39m\u001b[39m\"\u001b[39m]\n\u001b[0;32m    147\u001b[0m url \u001b[39m=\u001b[39m url\u001b[39m.\u001b[39mformat(symbol)\n\u001b[1;32m--> 149\u001b[0m resp \u001b[39m=\u001b[39m \u001b[39mself\u001b[39;49m\u001b[39m.\u001b[39;49m_get_response(url, params\u001b[39m=\u001b[39;49mparams, headers\u001b[39m=\u001b[39;49m\u001b[39mself\u001b[39;49m\u001b[39m.\u001b[39;49mheaders)\n\u001b[0;32m    150\u001b[0m ptrn \u001b[39m=\u001b[39m \u001b[39mr\u001b[39m\u001b[39m\"\u001b[39m\u001b[39mroot\u001b[39m\u001b[39m\\\u001b[39m\u001b[39m.App\u001b[39m\u001b[39m\\\u001b[39m\u001b[39m.main = (.*?);\u001b[39m\u001b[39m\\\u001b[39m\u001b[39mn}\u001b[39m\u001b[39m\\\u001b[39m\u001b[39m(this\u001b[39m\u001b[39m\\\u001b[39m\u001b[39m)\u001b[39m\u001b[39m\\\u001b[39m\u001b[39m);\u001b[39m\u001b[39m\"\u001b[39m\n\u001b[0;32m    151\u001b[0m \u001b[39mtry\u001b[39;00m:\n",
      "File \u001b[1;32md:\\Coderhouse\\coder_environment\\Lib\\site-packages\\pandas_datareader\\base.py:155\u001b[0m, in \u001b[0;36m_BaseReader._get_response\u001b[1;34m(self, url, params, headers)\u001b[0m\n\u001b[0;32m    153\u001b[0m last_response_text \u001b[39m=\u001b[39m \u001b[39m\"\u001b[39m\u001b[39m\"\u001b[39m\n\u001b[0;32m    154\u001b[0m \u001b[39mfor\u001b[39;00m _ \u001b[39min\u001b[39;00m \u001b[39mrange\u001b[39m(\u001b[39mself\u001b[39m\u001b[39m.\u001b[39mretry_count \u001b[39m+\u001b[39m \u001b[39m1\u001b[39m):\n\u001b[1;32m--> 155\u001b[0m     response \u001b[39m=\u001b[39m \u001b[39mself\u001b[39;49m\u001b[39m.\u001b[39;49msession\u001b[39m.\u001b[39;49mget(\n\u001b[0;32m    156\u001b[0m         url, params\u001b[39m=\u001b[39;49mparams, headers\u001b[39m=\u001b[39;49mheaders, timeout\u001b[39m=\u001b[39;49m\u001b[39mself\u001b[39;49m\u001b[39m.\u001b[39;49mtimeout\n\u001b[0;32m    157\u001b[0m     )\n\u001b[0;32m    158\u001b[0m     \u001b[39mif\u001b[39;00m response\u001b[39m.\u001b[39mstatus_code \u001b[39m==\u001b[39m requests\u001b[39m.\u001b[39mcodes\u001b[39m.\u001b[39mok:\n\u001b[0;32m    159\u001b[0m         \u001b[39mreturn\u001b[39;00m response\n",
      "File \u001b[1;32md:\\Coderhouse\\coder_environment\\Lib\\site-packages\\requests\\sessions.py:602\u001b[0m, in \u001b[0;36mSession.get\u001b[1;34m(self, url, **kwargs)\u001b[0m\n\u001b[0;32m    594\u001b[0m \u001b[39m\u001b[39m\u001b[39mr\u001b[39m\u001b[39m\"\"\"Sends a GET request. Returns :class:`Response` object.\u001b[39;00m\n\u001b[0;32m    595\u001b[0m \n\u001b[0;32m    596\u001b[0m \u001b[39m:param url: URL for the new :class:`Request` object.\u001b[39;00m\n\u001b[0;32m    597\u001b[0m \u001b[39m:param \\*\\*kwargs: Optional arguments that ``request`` takes.\u001b[39;00m\n\u001b[0;32m    598\u001b[0m \u001b[39m:rtype: requests.Response\u001b[39;00m\n\u001b[0;32m    599\u001b[0m \u001b[39m\"\"\"\u001b[39;00m\n\u001b[0;32m    601\u001b[0m kwargs\u001b[39m.\u001b[39msetdefault(\u001b[39m\"\u001b[39m\u001b[39mallow_redirects\u001b[39m\u001b[39m\"\u001b[39m, \u001b[39mTrue\u001b[39;00m)\n\u001b[1;32m--> 602\u001b[0m \u001b[39mreturn\u001b[39;00m \u001b[39mself\u001b[39;49m\u001b[39m.\u001b[39;49mrequest(\u001b[39m\"\u001b[39;49m\u001b[39mGET\u001b[39;49m\u001b[39m\"\u001b[39;49m, url, \u001b[39m*\u001b[39;49m\u001b[39m*\u001b[39;49mkwargs)\n",
      "File \u001b[1;32md:\\Coderhouse\\coder_environment\\Lib\\site-packages\\requests\\sessions.py:589\u001b[0m, in \u001b[0;36mSession.request\u001b[1;34m(self, method, url, params, data, headers, cookies, files, auth, timeout, allow_redirects, proxies, hooks, stream, verify, cert, json)\u001b[0m\n\u001b[0;32m    584\u001b[0m send_kwargs \u001b[39m=\u001b[39m {\n\u001b[0;32m    585\u001b[0m     \u001b[39m\"\u001b[39m\u001b[39mtimeout\u001b[39m\u001b[39m\"\u001b[39m: timeout,\n\u001b[0;32m    586\u001b[0m     \u001b[39m\"\u001b[39m\u001b[39mallow_redirects\u001b[39m\u001b[39m\"\u001b[39m: allow_redirects,\n\u001b[0;32m    587\u001b[0m }\n\u001b[0;32m    588\u001b[0m send_kwargs\u001b[39m.\u001b[39mupdate(settings)\n\u001b[1;32m--> 589\u001b[0m resp \u001b[39m=\u001b[39m \u001b[39mself\u001b[39;49m\u001b[39m.\u001b[39;49msend(prep, \u001b[39m*\u001b[39;49m\u001b[39m*\u001b[39;49msend_kwargs)\n\u001b[0;32m    591\u001b[0m \u001b[39mreturn\u001b[39;00m resp\n",
      "File \u001b[1;32md:\\Coderhouse\\coder_environment\\Lib\\site-packages\\requests\\sessions.py:747\u001b[0m, in \u001b[0;36mSession.send\u001b[1;34m(self, request, **kwargs)\u001b[0m\n\u001b[0;32m    744\u001b[0m         \u001b[39mpass\u001b[39;00m\n\u001b[0;32m    746\u001b[0m \u001b[39mif\u001b[39;00m \u001b[39mnot\u001b[39;00m stream:\n\u001b[1;32m--> 747\u001b[0m     r\u001b[39m.\u001b[39;49mcontent\n\u001b[0;32m    749\u001b[0m \u001b[39mreturn\u001b[39;00m r\n",
      "File \u001b[1;32md:\\Coderhouse\\coder_environment\\Lib\\site-packages\\requests\\models.py:899\u001b[0m, in \u001b[0;36mResponse.content\u001b[1;34m(self)\u001b[0m\n\u001b[0;32m    897\u001b[0m         \u001b[39mself\u001b[39m\u001b[39m.\u001b[39m_content \u001b[39m=\u001b[39m \u001b[39mNone\u001b[39;00m\n\u001b[0;32m    898\u001b[0m     \u001b[39melse\u001b[39;00m:\n\u001b[1;32m--> 899\u001b[0m         \u001b[39mself\u001b[39m\u001b[39m.\u001b[39m_content \u001b[39m=\u001b[39m \u001b[39mb\u001b[39m\u001b[39m\"\u001b[39m\u001b[39m\"\u001b[39m\u001b[39m.\u001b[39mjoin(\u001b[39mself\u001b[39m\u001b[39m.\u001b[39miter_content(CONTENT_CHUNK_SIZE)) \u001b[39mor\u001b[39;00m \u001b[39mb\u001b[39m\u001b[39m\"\u001b[39m\u001b[39m\"\u001b[39m\n\u001b[0;32m    901\u001b[0m \u001b[39mself\u001b[39m\u001b[39m.\u001b[39m_content_consumed \u001b[39m=\u001b[39m \u001b[39mTrue\u001b[39;00m\n\u001b[0;32m    902\u001b[0m \u001b[39m# don't need to release the connection; that's been handled by urllib3\u001b[39;00m\n\u001b[0;32m    903\u001b[0m \u001b[39m# since we exhausted the data.\u001b[39;00m\n",
      "File \u001b[1;32md:\\Coderhouse\\coder_environment\\Lib\\site-packages\\requests\\models.py:822\u001b[0m, in \u001b[0;36mResponse.iter_content.<locals>.generate\u001b[1;34m()\u001b[0m\n\u001b[0;32m    820\u001b[0m     \u001b[39mraise\u001b[39;00m ContentDecodingError(e)\n\u001b[0;32m    821\u001b[0m \u001b[39mexcept\u001b[39;00m ReadTimeoutError \u001b[39mas\u001b[39;00m e:\n\u001b[1;32m--> 822\u001b[0m     \u001b[39mraise\u001b[39;00m \u001b[39mConnectionError\u001b[39;00m(e)\n\u001b[0;32m    823\u001b[0m \u001b[39mexcept\u001b[39;00m SSLError \u001b[39mas\u001b[39;00m e:\n\u001b[0;32m    824\u001b[0m     \u001b[39mraise\u001b[39;00m RequestsSSLError(e)\n",
      "\u001b[1;31mConnectionError\u001b[0m: HTTPSConnectionPool(host='finance.yahoo.com', port=443): Read timed out."
     ]
    }
   ],
   "source": [
    "comienzo = datetime.datetime(2022, 1, 1)\n",
    "final = datetime.datetime(2022, 12, 1)\n",
    "\n",
    "df = web.DataReader(\"NFLX\", \"yahoo\", comienzo, final)\n",
    "df.tail()"
   ]
  },
  {
   "cell_type": "code",
   "execution_count": null,
   "metadata": {},
   "outputs": [
    {
     "ename": "TypeError",
     "evalue": "string indices must be integers, not 'str'",
     "output_type": "error",
     "traceback": [
      "\u001b[1;31m---------------------------------------------------------------------------\u001b[0m\n",
      "\u001b[1;31mTypeError\u001b[0m                                 Traceback (most recent call last)\n",
      "Cell \u001b[1;32mIn[25], line 4\u001b[0m\n",
      "\u001b[0;32m      1\u001b[0m comienzo \u001b[39m=\u001b[39m datetime\u001b[39m.\u001b[39mdatetime(\u001b[39m2022\u001b[39m, \u001b[39m1\u001b[39m, \u001b[39m1\u001b[39m)\n",
      "\u001b[0;32m      2\u001b[0m final \u001b[39m=\u001b[39m datetime\u001b[39m.\u001b[39mdatetime(\u001b[39m2022\u001b[39m, \u001b[39m12\u001b[39m, \u001b[39m1\u001b[39m)\n",
      "\u001b[1;32m----> 4\u001b[0m df \u001b[39m=\u001b[39m web\u001b[39m.\u001b[39;49mDataReader(\u001b[39m\"\u001b[39;49m\u001b[39mNFLX\u001b[39;49m\u001b[39m\"\u001b[39;49m, \u001b[39m\"\u001b[39;49m\u001b[39myahoo\u001b[39;49m\u001b[39m\"\u001b[39;49m, comienzo, final)\n",
      "\u001b[0;32m      5\u001b[0m df\u001b[39m.\u001b[39mtail()\n",
      "\n",
      "File \u001b[1;32md:\\Coderhouse\\coder_environment\\Lib\\site-packages\\pandas\\util\\_decorators.py:210\u001b[0m, in \u001b[0;36mdeprecate_kwarg.<locals>._deprecate_kwarg.<locals>.wrapper\u001b[1;34m(*args, **kwargs)\u001b[0m\n",
      "\u001b[0;32m    208\u001b[0m         \u001b[39mraise\u001b[39;00m \u001b[39mTypeError\u001b[39;00m(msg)\n",
      "\u001b[0;32m    209\u001b[0m     kwargs[new_arg_name] \u001b[39m=\u001b[39m new_arg_value\n",
      "\u001b[1;32m--> 210\u001b[0m \u001b[39mreturn\u001b[39;00m func(\u001b[39m*\u001b[39;49margs, \u001b[39m*\u001b[39;49m\u001b[39m*\u001b[39;49mkwargs)\n",
      "\n",
      "File \u001b[1;32md:\\Coderhouse\\coder_environment\\Lib\\site-packages\\pandas_datareader\\data.py:379\u001b[0m, in \u001b[0;36mDataReader\u001b[1;34m(name, data_source, start, end, retry_count, pause, session, api_key)\u001b[0m\n",
      "\u001b[0;32m    367\u001b[0m     \u001b[39mraise\u001b[39;00m \u001b[39mNotImplementedError\u001b[39;00m(msg)\n",
      "\u001b[0;32m    369\u001b[0m \u001b[39mif\u001b[39;00m data_source \u001b[39m==\u001b[39m \u001b[39m\"\u001b[39m\u001b[39myahoo\u001b[39m\u001b[39m\"\u001b[39m:\n",
      "\u001b[0;32m    370\u001b[0m     \u001b[39mreturn\u001b[39;00m YahooDailyReader(\n",
      "\u001b[0;32m    371\u001b[0m         symbols\u001b[39m=\u001b[39;49mname,\n",
      "\u001b[0;32m    372\u001b[0m         start\u001b[39m=\u001b[39;49mstart,\n",
      "\u001b[0;32m    373\u001b[0m         end\u001b[39m=\u001b[39;49mend,\n",
      "\u001b[0;32m    374\u001b[0m         adjust_price\u001b[39m=\u001b[39;49m\u001b[39mFalse\u001b[39;49;00m,\n",
      "\u001b[0;32m    375\u001b[0m         chunksize\u001b[39m=\u001b[39;49m\u001b[39m25\u001b[39;49m,\n",
      "\u001b[0;32m    376\u001b[0m         retry_count\u001b[39m=\u001b[39;49mretry_count,\n",
      "\u001b[0;32m    377\u001b[0m         pause\u001b[39m=\u001b[39;49mpause,\n",
      "\u001b[0;32m    378\u001b[0m         session\u001b[39m=\u001b[39;49msession,\n",
      "\u001b[1;32m--> 379\u001b[0m     )\u001b[39m.\u001b[39;49mread()\n",
      "\u001b[0;32m    381\u001b[0m \u001b[39melif\u001b[39;00m data_source \u001b[39m==\u001b[39m \u001b[39m\"\u001b[39m\u001b[39miex\u001b[39m\u001b[39m\"\u001b[39m:\n",
      "\u001b[0;32m    382\u001b[0m     \u001b[39mreturn\u001b[39;00m IEXDailyReader(\n",
      "\u001b[0;32m    383\u001b[0m         symbols\u001b[39m=\u001b[39mname,\n",
      "\u001b[0;32m    384\u001b[0m         start\u001b[39m=\u001b[39mstart,\n",
      "\u001b[1;32m   (...)\u001b[0m\n",
      "\u001b[0;32m    390\u001b[0m         session\u001b[39m=\u001b[39msession,\n",
      "\u001b[0;32m    391\u001b[0m     )\u001b[39m.\u001b[39mread()\n",
      "\n",
      "File \u001b[1;32md:\\Coderhouse\\coder_environment\\Lib\\site-packages\\pandas_datareader\\base.py:253\u001b[0m, in \u001b[0;36m_DailyBaseReader.read\u001b[1;34m(self)\u001b[0m\n",
      "\u001b[0;32m    251\u001b[0m \u001b[39m# If a single symbol, (e.g., 'GOOG')\u001b[39;00m\n",
      "\u001b[0;32m    252\u001b[0m \u001b[39mif\u001b[39;00m \u001b[39misinstance\u001b[39m(\u001b[39mself\u001b[39m\u001b[39m.\u001b[39msymbols, (string_types, \u001b[39mint\u001b[39m)):\n",
      "\u001b[1;32m--> 253\u001b[0m     df \u001b[39m=\u001b[39m \u001b[39mself\u001b[39;49m\u001b[39m.\u001b[39;49m_read_one_data(\u001b[39mself\u001b[39;49m\u001b[39m.\u001b[39;49murl, params\u001b[39m=\u001b[39;49m\u001b[39mself\u001b[39;49m\u001b[39m.\u001b[39;49m_get_params(\u001b[39mself\u001b[39;49m\u001b[39m.\u001b[39;49msymbols))\n",
      "\u001b[0;32m    254\u001b[0m \u001b[39m# Or multiple symbols, (e.g., ['GOOG', 'AAPL', 'MSFT'])\u001b[39;00m\n",
      "\u001b[0;32m    255\u001b[0m \u001b[39melif\u001b[39;00m \u001b[39misinstance\u001b[39m(\u001b[39mself\u001b[39m\u001b[39m.\u001b[39msymbols, DataFrame):\n",
      "\n",
      "File \u001b[1;32md:\\Coderhouse\\coder_environment\\Lib\\site-packages\\pandas_datareader\\yahoo\\daily.py:153\u001b[0m, in \u001b[0;36mYahooDailyReader._read_one_data\u001b[1;34m(self, url, params)\u001b[0m\n",
      "\u001b[0;32m    151\u001b[0m \u001b[39mtry\u001b[39;00m:\n",
      "\u001b[0;32m    152\u001b[0m     j \u001b[39m=\u001b[39m json\u001b[39m.\u001b[39mloads(re\u001b[39m.\u001b[39msearch(ptrn, resp\u001b[39m.\u001b[39mtext, re\u001b[39m.\u001b[39mDOTALL)\u001b[39m.\u001b[39mgroup(\u001b[39m1\u001b[39m))\n",
      "\u001b[1;32m--> 153\u001b[0m     data \u001b[39m=\u001b[39m j[\u001b[39m\"\u001b[39;49m\u001b[39mcontext\u001b[39;49m\u001b[39m\"\u001b[39;49m][\u001b[39m\"\u001b[39;49m\u001b[39mdispatcher\u001b[39;49m\u001b[39m\"\u001b[39;49m][\u001b[39m\"\u001b[39;49m\u001b[39mstores\u001b[39;49m\u001b[39m\"\u001b[39;49m][\u001b[39m\"\u001b[39;49m\u001b[39mHistoricalPriceStore\u001b[39;49m\u001b[39m\"\u001b[39;49m]\n",
      "\u001b[0;32m    154\u001b[0m \u001b[39mexcept\u001b[39;00m \u001b[39mKeyError\u001b[39;00m:\n",
      "\u001b[0;32m    155\u001b[0m     msg \u001b[39m=\u001b[39m \u001b[39m\"\u001b[39m\u001b[39mNo data fetched for symbol \u001b[39m\u001b[39m{}\u001b[39;00m\u001b[39m using \u001b[39m\u001b[39m{}\u001b[39;00m\u001b[39m\"\u001b[39m\n",
      "\n",
      "\u001b[1;31mTypeError\u001b[0m: string indices must be integers, not 'str'"
     ]
    }
   ],
   "source": [
    "comienzo = datetime.datetime(2022, 1, 1)\n",
    "final = datetime.datetime(2022, 12, 1)\n",
    "\n",
    "df = web.DataReader(\"NFLX\", \"yahoo\", comienzo, final)\n",
    "df.tail()"
   ]
  },
  {
   "cell_type": "code",
   "execution_count": null,
   "metadata": {},
   "outputs": [
    {
     "ename": "TypeError",
     "evalue": "string indices must be integers, not 'str'",
     "output_type": "error",
     "traceback": [
      "\u001b[1;31m---------------------------------------------------------------------------\u001b[0m\n",
      "\u001b[1;31mTypeError\u001b[0m                                 Traceback (most recent call last)\n",
      "Cell \u001b[1;32mIn[25], line 4\u001b[0m\n",
      "\u001b[0;32m      1\u001b[0m comienzo \u001b[39m=\u001b[39m datetime\u001b[39m.\u001b[39mdatetime(\u001b[39m2022\u001b[39m, \u001b[39m1\u001b[39m, \u001b[39m1\u001b[39m)\n",
      "\u001b[0;32m      2\u001b[0m final \u001b[39m=\u001b[39m datetime\u001b[39m.\u001b[39mdatetime(\u001b[39m2022\u001b[39m, \u001b[39m12\u001b[39m, \u001b[39m1\u001b[39m)\n",
      "\u001b[1;32m----> 4\u001b[0m df \u001b[39m=\u001b[39m web\u001b[39m.\u001b[39;49mDataReader(\u001b[39m\"\u001b[39;49m\u001b[39mNFLX\u001b[39;49m\u001b[39m\"\u001b[39;49m, \u001b[39m\"\u001b[39;49m\u001b[39myahoo\u001b[39;49m\u001b[39m\"\u001b[39;49m, comienzo, final)\n",
      "\u001b[0;32m      5\u001b[0m df\u001b[39m.\u001b[39mtail()\n",
      "\n",
      "File \u001b[1;32md:\\Coderhouse\\coder_environment\\Lib\\site-packages\\pandas\\util\\_decorators.py:210\u001b[0m, in \u001b[0;36mdeprecate_kwarg.<locals>._deprecate_kwarg.<locals>.wrapper\u001b[1;34m(*args, **kwargs)\u001b[0m\n",
      "\u001b[0;32m    208\u001b[0m         \u001b[39mraise\u001b[39;00m \u001b[39mTypeError\u001b[39;00m(msg)\n",
      "\u001b[0;32m    209\u001b[0m     kwargs[new_arg_name] \u001b[39m=\u001b[39m new_arg_value\n",
      "\u001b[1;32m--> 210\u001b[0m \u001b[39mreturn\u001b[39;00m func(\u001b[39m*\u001b[39;49margs, \u001b[39m*\u001b[39;49m\u001b[39m*\u001b[39;49mkwargs)\n",
      "\n",
      "File \u001b[1;32md:\\Coderhouse\\coder_environment\\Lib\\site-packages\\pandas_datareader\\data.py:379\u001b[0m, in \u001b[0;36mDataReader\u001b[1;34m(name, data_source, start, end, retry_count, pause, session, api_key)\u001b[0m\n",
      "\u001b[0;32m    367\u001b[0m     \u001b[39mraise\u001b[39;00m \u001b[39mNotImplementedError\u001b[39;00m(msg)\n",
      "\u001b[0;32m    369\u001b[0m \u001b[39mif\u001b[39;00m data_source \u001b[39m==\u001b[39m \u001b[39m\"\u001b[39m\u001b[39myahoo\u001b[39m\u001b[39m\"\u001b[39m:\n",
      "\u001b[0;32m    370\u001b[0m     \u001b[39mreturn\u001b[39;00m YahooDailyReader(\n",
      "\u001b[0;32m    371\u001b[0m         symbols\u001b[39m=\u001b[39;49mname,\n",
      "\u001b[0;32m    372\u001b[0m         start\u001b[39m=\u001b[39;49mstart,\n",
      "\u001b[0;32m    373\u001b[0m         end\u001b[39m=\u001b[39;49mend,\n",
      "\u001b[0;32m    374\u001b[0m         adjust_price\u001b[39m=\u001b[39;49m\u001b[39mFalse\u001b[39;49;00m,\n",
      "\u001b[0;32m    375\u001b[0m         chunksize\u001b[39m=\u001b[39;49m\u001b[39m25\u001b[39;49m,\n",
      "\u001b[0;32m    376\u001b[0m         retry_count\u001b[39m=\u001b[39;49mretry_count,\n",
      "\u001b[0;32m    377\u001b[0m         pause\u001b[39m=\u001b[39;49mpause,\n",
      "\u001b[0;32m    378\u001b[0m         session\u001b[39m=\u001b[39;49msession,\n",
      "\u001b[1;32m--> 379\u001b[0m     )\u001b[39m.\u001b[39;49mread()\n",
      "\u001b[0;32m    381\u001b[0m \u001b[39melif\u001b[39;00m data_source \u001b[39m==\u001b[39m \u001b[39m\"\u001b[39m\u001b[39miex\u001b[39m\u001b[39m\"\u001b[39m:\n",
      "\u001b[0;32m    382\u001b[0m     \u001b[39mreturn\u001b[39;00m IEXDailyReader(\n",
      "\u001b[0;32m    383\u001b[0m         symbols\u001b[39m=\u001b[39mname,\n",
      "\u001b[0;32m    384\u001b[0m         start\u001b[39m=\u001b[39mstart,\n",
      "\u001b[1;32m   (...)\u001b[0m\n",
      "\u001b[0;32m    390\u001b[0m         session\u001b[39m=\u001b[39msession,\n",
      "\u001b[0;32m    391\u001b[0m     )\u001b[39m.\u001b[39mread()\n",
      "\n",
      "File \u001b[1;32md:\\Coderhouse\\coder_environment\\Lib\\site-packages\\pandas_datareader\\base.py:253\u001b[0m, in \u001b[0;36m_DailyBaseReader.read\u001b[1;34m(self)\u001b[0m\n",
      "\u001b[0;32m    251\u001b[0m \u001b[39m# If a single symbol, (e.g., 'GOOG')\u001b[39;00m\n",
      "\u001b[0;32m    252\u001b[0m \u001b[39mif\u001b[39;00m \u001b[39misinstance\u001b[39m(\u001b[39mself\u001b[39m\u001b[39m.\u001b[39msymbols, (string_types, \u001b[39mint\u001b[39m)):\n",
      "\u001b[1;32m--> 253\u001b[0m     df \u001b[39m=\u001b[39m \u001b[39mself\u001b[39;49m\u001b[39m.\u001b[39;49m_read_one_data(\u001b[39mself\u001b[39;49m\u001b[39m.\u001b[39;49murl, params\u001b[39m=\u001b[39;49m\u001b[39mself\u001b[39;49m\u001b[39m.\u001b[39;49m_get_params(\u001b[39mself\u001b[39;49m\u001b[39m.\u001b[39;49msymbols))\n",
      "\u001b[0;32m    254\u001b[0m \u001b[39m# Or multiple symbols, (e.g., ['GOOG', 'AAPL', 'MSFT'])\u001b[39;00m\n",
      "\u001b[0;32m    255\u001b[0m \u001b[39melif\u001b[39;00m \u001b[39misinstance\u001b[39m(\u001b[39mself\u001b[39m\u001b[39m.\u001b[39msymbols, DataFrame):\n",
      "\n",
      "File \u001b[1;32md:\\Coderhouse\\coder_environment\\Lib\\site-packages\\pandas_datareader\\yahoo\\daily.py:153\u001b[0m, in \u001b[0;36mYahooDailyReader._read_one_data\u001b[1;34m(self, url, params)\u001b[0m\n",
      "\u001b[0;32m    151\u001b[0m \u001b[39mtry\u001b[39;00m:\n",
      "\u001b[0;32m    152\u001b[0m     j \u001b[39m=\u001b[39m json\u001b[39m.\u001b[39mloads(re\u001b[39m.\u001b[39msearch(ptrn, resp\u001b[39m.\u001b[39mtext, re\u001b[39m.\u001b[39mDOTALL)\u001b[39m.\u001b[39mgroup(\u001b[39m1\u001b[39m))\n",
      "\u001b[1;32m--> 153\u001b[0m     data \u001b[39m=\u001b[39m j[\u001b[39m\"\u001b[39;49m\u001b[39mcontext\u001b[39;49m\u001b[39m\"\u001b[39;49m][\u001b[39m\"\u001b[39;49m\u001b[39mdispatcher\u001b[39;49m\u001b[39m\"\u001b[39;49m][\u001b[39m\"\u001b[39;49m\u001b[39mstores\u001b[39;49m\u001b[39m\"\u001b[39;49m][\u001b[39m\"\u001b[39;49m\u001b[39mHistoricalPriceStore\u001b[39;49m\u001b[39m\"\u001b[39;49m]\n",
      "\u001b[0;32m    154\u001b[0m \u001b[39mexcept\u001b[39;00m \u001b[39mKeyError\u001b[39;00m:\n",
      "\u001b[0;32m    155\u001b[0m     msg \u001b[39m=\u001b[39m \u001b[39m\"\u001b[39m\u001b[39mNo data fetched for symbol \u001b[39m\u001b[39m{}\u001b[39;00m\u001b[39m using \u001b[39m\u001b[39m{}\u001b[39;00m\u001b[39m\"\u001b[39m\n",
      "\n",
      "\u001b[1;31mTypeError\u001b[0m: string indices must be integers, not 'str'"
     ]
    }
   ],
   "source": [
    "comienzo = datetime.datetime(2022, 1, 1)\n",
    "final = datetime.datetime(2022, 12, 1)\n",
    "\n",
    "df = web.DataReader(\"NFLX\", \"yahoo\", comienzo, final)\n",
    "df.tail()"
   ]
  },
  {
   "cell_type": "code",
   "execution_count": null,
   "metadata": {},
   "outputs": [],
   "source": [
    "df[\"Adj Close\"].plot()"
   ]
  },
  {
   "cell_type": "code",
   "execution_count": null,
   "metadata": {},
   "outputs": [],
   "source": [
    "total_df = web.DataReader(\n",
    "    [\"FB\", \"AMZN\", \"AAPL\", \"NFLX\", \"GOOG\", \"MSFT\"], \"yahoo\", start=comienzo, end=final\n",
    ")[\"Adj Close\"]\n",
    "total_df.head()"
   ]
  },
  {
   "cell_type": "code",
   "execution_count": null,
   "metadata": {},
   "outputs": [],
   "source": [
    "total_df.tail()"
   ]
  },
  {
   "attachments": {},
   "cell_type": "markdown",
   "metadata": {},
   "source": [
    "### Calculamos si hay Correlación"
   ]
  },
  {
   "cell_type": "code",
   "execution_count": null,
   "metadata": {},
   "outputs": [],
   "source": [
    "correl = total_df.corr()\n",
    "correl"
   ]
  },
  {
   "cell_type": "code",
   "execution_count": null,
   "metadata": {},
   "outputs": [],
   "source": [
    "plt.imshow(correl, cmap=\"hot\", interpolation=\"None\")  # probar interpolation = 'quadric'\n",
    "plt.colorbar()\n",
    "plt.xticks(range(len(correl)), correl.columns)\n",
    "plt.yticks(range(len(correl)), correl.columns)\n",
    "plt.show()"
   ]
  },
  {
   "attachments": {},
   "cell_type": "markdown",
   "metadata": {},
   "source": [
    "### Data Readers Disponibles\n",
    "<br> Banco Mundial\n",
    "<br> Reserva Federal de EE.UU.\n",
    "<br> OCDE\n",
    "<br>https://pandas-datareader.readthedocs.io/en/latest/readers/index.html"
   ]
  },
  {
   "attachments": {},
   "cell_type": "markdown",
   "metadata": {},
   "source": [
    "# 3- Scikit-Learn"
   ]
  },
  {
   "cell_type": "code",
   "execution_count": null,
   "metadata": {},
   "outputs": [],
   "source": [
    "import math\n",
    "import numpy as np\n",
    "from sklearn.linear_model import LinearRegression\n",
    "from sklearn.neighbors import KNeighborsRegressor\n",
    "from sklearn import preprocessing\n",
    "from sklearn.linear_model import Ridge\n",
    "from sklearn.preprocessing import PolynomialFeatures\n",
    "from sklearn.pipeline import make_pipeline\n",
    "from sklearn.model_selection import train_test_split\n",
    "\n",
    "import matplotlib as mpl\n",
    "from matplotlib import style"
   ]
  },
  {
   "cell_type": "code",
   "execution_count": null,
   "metadata": {},
   "outputs": [],
   "source": [
    "# pd.options.display.width = 0\n",
    "# Vamos a trabajar con Datos de Netflix (NFLX).\n",
    "# Por si quieren probar con otros datos, también subí archivos de Disney (DIS) y Bitcoin (BTC-USD)\n",
    "NFLX_df = pd.read_csv(\"NFLX.csv\")\n",
    "print(NFLX_df.head())\n",
    "\n",
    "close_px = NFLX_df[\"Adj Close\"]\n",
    "\n",
    "# Preparo un DataFrame con menos datos\n",
    "shorter_df = NFLX_df.loc[:, [\"Adj Close\", \"Volume\"]]"
   ]
  },
  {
   "cell_type": "code",
   "execution_count": null,
   "metadata": {},
   "outputs": [],
   "source": [
    "shorter_df.head()"
   ]
  },
  {
   "cell_type": "code",
   "execution_count": null,
   "metadata": {},
   "outputs": [],
   "source": [
    "# Chequear si hay algún Nan\n",
    "shorter_df.isnull().values.any()"
   ]
  },
  {
   "cell_type": "code",
   "execution_count": null,
   "metadata": {},
   "outputs": [],
   "source": [
    "# Nos deshacemos de los Nan\n",
    "# shorter_df.fillna(value=-99999, inplace=True)"
   ]
  },
  {
   "cell_type": "code",
   "execution_count": null,
   "metadata": {},
   "outputs": [],
   "source": [
    "# Calculo cuánto es el 1%, respecto de los datos para predecir\n",
    "separados_1p = int(math.ceil(0.01 * len(shorter_df)))\n",
    "\n",
    "# Separamos el \"precio de cierre ajustado\"\n",
    "forecast_col = \"Adj Close\"\n",
    "shorter_df[\"label\"] = shorter_df[forecast_col].shift(-separados_1p)\n",
    "X = np.array(shorter_df.drop([\"label\"], 1))\n",
    "\n",
    "# Hacemos un preprocesamiento de X, para que tengan la misma distribución para Regresión Lineal\n",
    "X = preprocessing.scale(X)\n",
    "\n",
    "# Preparamos X para la generación y evaluación del modelo\n",
    "X_lately = X[-separados_1p:]\n",
    "X = X[:-separados_1p]\n",
    "\n",
    "# Separamos a label y lo identificamos como y\n",
    "y = np.array(shorter_df[\"label\"])\n",
    "y = y[:-separados_1p]"
   ]
  },
  {
   "cell_type": "code",
   "execution_count": null,
   "metadata": {},
   "outputs": [],
   "source": [
    "# Separamos los datos para Train y test, en un 80% - 20%\n",
    "train, test = train_test_split(NFLX_df, test_size=0.20)\n",
    "\n",
    "# Hacemos un Reshape a X_train\n",
    "X_train = np.array(train.index).reshape(-1, 1)\n",
    "y_train = train[\"Adj Close\"]\n",
    "\n",
    "# Regresión Lineal\n",
    "clfreg = LinearRegression(n_jobs=-1)\n",
    "clfreg.fit(X_train, y_train)\n",
    "\n",
    "# Regresión Cuadrática\n",
    "clfpoly2 = make_pipeline(PolynomialFeatures(2), Ridge())\n",
    "clfpoly2.fit(X_train, y_train)\n",
    "\n",
    "# KNN\n",
    "clfknn = KNeighborsRegressor(n_neighbors=2)\n",
    "clfknn.fit(X_train, y_train)\n",
    "\n",
    "X_test = np.array(test.index).reshape(-1, 1)\n",
    "y_test = test[\"Adj Close\"]\n",
    "\n",
    "# Generamos un array de Y con los valores que se predicen\n",
    "y_pred_reg = clfreg.predict(X_test)\n",
    "y_pred_poly2 = clfpoly2.predict(X_test)\n",
    "y_pred_knn = clfknn.predict(X_test)"
   ]
  },
  {
   "attachments": {},
   "cell_type": "markdown",
   "metadata": {},
   "source": [
    "### Predicción mediante Regresión Lineal"
   ]
  },
  {
   "cell_type": "code",
   "execution_count": null,
   "metadata": {},
   "outputs": [],
   "source": [
    "plt.scatter(y_test, y_pred_reg)\n",
    "\n",
    "plt.xlabel(\"Precio Real\")\n",
    "plt.ylabel(\"Predicciones\")\n",
    "\n",
    "plt.title(\"Predicción mediante Regresión Lineal\")\n",
    "plt.grid()\n",
    "plt.show()"
   ]
  },
  {
   "attachments": {},
   "cell_type": "markdown",
   "metadata": {},
   "source": [
    "### Predicción mediante Regresión Cuadrática"
   ]
  },
  {
   "cell_type": "code",
   "execution_count": null,
   "metadata": {},
   "outputs": [],
   "source": [
    "plt.scatter(y_test, y_pred_poly2)\n",
    "plt.grid()\n",
    "plt.xlabel(\"Precio Real\")\n",
    "plt.ylabel(\"Predicciones\")\n",
    "\n",
    "plt.title(\"Predicción mediante Regresión Cuadrática\")\n",
    "\n",
    "plt.show()"
   ]
  },
  {
   "attachments": {},
   "cell_type": "markdown",
   "metadata": {},
   "source": [
    "### Predicción mediante KNN"
   ]
  },
  {
   "cell_type": "code",
   "execution_count": null,
   "metadata": {},
   "outputs": [],
   "source": [
    "plt.scatter(y_test, y_pred_knn)\n",
    "plt.grid()\n",
    "plt.xlabel(\"Precio Real\")\n",
    "plt.ylabel(\"Predicciones\")\n",
    "\n",
    "plt.title(\"Predicción mediante KNN\")\n",
    "\n",
    "plt.show()"
   ]
  }
 ],
 "metadata": {
  "kernelspec": {
   "display_name": "coder_environment",
   "language": "python",
   "name": "python3"
  },
  "language_info": {
   "codemirror_mode": {
    "name": "ipython",
    "version": 3
   },
   "file_extension": ".py",
   "mimetype": "text/x-python",
   "name": "python",
   "nbconvert_exporter": "python",
   "pygments_lexer": "ipython3",
   "version": "3.11.3"
  },
  "orig_nbformat": 4
 },
 "nbformat": 4,
 "nbformat_minor": 2
}
