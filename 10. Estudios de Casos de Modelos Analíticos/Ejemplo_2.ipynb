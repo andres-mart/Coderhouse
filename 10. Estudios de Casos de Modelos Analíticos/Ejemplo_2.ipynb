{
 "cells": [
  {
   "cell_type": "markdown",
   "id": "a6534a5f",
   "metadata": {},
   "source": [
    "# Supuestos en Regresión Lineal"
   ]
  },
  {
   "cell_type": "code",
   "execution_count": 19,
   "id": "0edcab87",
   "metadata": {},
   "outputs": [],
   "source": [
    "import pandas as pd\n",
    "import numpy as np\n",
    "import statsmodels.api as sm\n",
    "import statsmodels.stats.api as sms"
   ]
  },
  {
   "cell_type": "code",
   "execution_count": 20,
   "id": "ac16f89a",
   "metadata": {},
   "outputs": [
    {
     "data": {
      "text/html": [
       "<div>\n",
       "<style scoped>\n",
       "    .dataframe tbody tr th:only-of-type {\n",
       "        vertical-align: middle;\n",
       "    }\n",
       "\n",
       "    .dataframe tbody tr th {\n",
       "        vertical-align: top;\n",
       "    }\n",
       "\n",
       "    .dataframe thead th {\n",
       "        text-align: right;\n",
       "    }\n",
       "</style>\n",
       "<table border=\"1\" class=\"dataframe\">\n",
       "  <thead>\n",
       "    <tr style=\"text-align: right;\">\n",
       "      <th></th>\n",
       "      <th>Population</th>\n",
       "      <th>Income</th>\n",
       "      <th>Illiteracy</th>\n",
       "      <th>Life Exp</th>\n",
       "      <th>Murder</th>\n",
       "      <th>HS Grad</th>\n",
       "      <th>Frost</th>\n",
       "      <th>Area</th>\n",
       "    </tr>\n",
       "  </thead>\n",
       "  <tbody>\n",
       "    <tr>\n",
       "      <th>0</th>\n",
       "      <td>3615</td>\n",
       "      <td>3624</td>\n",
       "      <td>2.1</td>\n",
       "      <td>69.05</td>\n",
       "      <td>15.1</td>\n",
       "      <td>41.3</td>\n",
       "      <td>20</td>\n",
       "      <td>50708</td>\n",
       "    </tr>\n",
       "    <tr>\n",
       "      <th>1</th>\n",
       "      <td>365</td>\n",
       "      <td>6315</td>\n",
       "      <td>1.5</td>\n",
       "      <td>69.31</td>\n",
       "      <td>11.3</td>\n",
       "      <td>66.7</td>\n",
       "      <td>152</td>\n",
       "      <td>566432</td>\n",
       "    </tr>\n",
       "    <tr>\n",
       "      <th>2</th>\n",
       "      <td>2212</td>\n",
       "      <td>4530</td>\n",
       "      <td>1.8</td>\n",
       "      <td>70.55</td>\n",
       "      <td>7.8</td>\n",
       "      <td>58.1</td>\n",
       "      <td>15</td>\n",
       "      <td>113417</td>\n",
       "    </tr>\n",
       "    <tr>\n",
       "      <th>3</th>\n",
       "      <td>2110</td>\n",
       "      <td>3378</td>\n",
       "      <td>1.9</td>\n",
       "      <td>70.66</td>\n",
       "      <td>10.1</td>\n",
       "      <td>39.9</td>\n",
       "      <td>65</td>\n",
       "      <td>51945</td>\n",
       "    </tr>\n",
       "    <tr>\n",
       "      <th>4</th>\n",
       "      <td>21198</td>\n",
       "      <td>5114</td>\n",
       "      <td>1.1</td>\n",
       "      <td>71.71</td>\n",
       "      <td>10.3</td>\n",
       "      <td>62.6</td>\n",
       "      <td>20</td>\n",
       "      <td>156361</td>\n",
       "    </tr>\n",
       "  </tbody>\n",
       "</table>\n",
       "</div>"
      ],
      "text/plain": [
       "   Population  Income  Illiteracy  Life Exp  Murder  HS Grad  Frost    Area\n",
       "0        3615    3624         2.1     69.05    15.1     41.3     20   50708\n",
       "1         365    6315         1.5     69.31    11.3     66.7    152  566432\n",
       "2        2212    4530         1.8     70.55     7.8     58.1     15  113417\n",
       "3        2110    3378         1.9     70.66    10.1     39.9     65   51945\n",
       "4       21198    5114         1.1     71.71    10.3     62.6     20  156361"
      ]
     },
     "execution_count": 20,
     "metadata": {},
     "output_type": "execute_result"
    }
   ],
   "source": [
    "df = pd.read_csv(\n",
    "    \"D://Coderhouse//10. Estudios de Casos de Modelos Analíticos//statex77.csv\"\n",
    ")\n",
    "df.head()"
   ]
  },
  {
   "cell_type": "markdown",
   "id": "e122b5d2",
   "metadata": {},
   "source": [
    "Luego de crear nuestro dataframe a partir de las columnas seleccionadas, utilizamos la librería 'statsmdodels' para realizar el análisis de regresión lineal.\n",
    "\n",
    "En el siguiente código agregamos una columna constante ('sm.add_constant(X)') de unos a la izquierda del dataframe. Esto se hace para que la regresión lineal pueda tener un término independiente (o intercepto) en el modelo. Esta columna constante es necesaria para algunos análisis estadísticos, como la regresión lineal, donde queremos ajustar una línea que no necesariamente pasa por el origen."
   ]
  },
  {
   "cell_type": "code",
   "execution_count": 21,
   "id": "2393577f",
   "metadata": {},
   "outputs": [
    {
     "data": {
      "text/html": [
       "<div>\n",
       "<style scoped>\n",
       "    .dataframe tbody tr th:only-of-type {\n",
       "        vertical-align: middle;\n",
       "    }\n",
       "\n",
       "    .dataframe tbody tr th {\n",
       "        vertical-align: top;\n",
       "    }\n",
       "\n",
       "    .dataframe thead th {\n",
       "        text-align: right;\n",
       "    }\n",
       "</style>\n",
       "<table border=\"1\" class=\"dataframe\">\n",
       "  <thead>\n",
       "    <tr style=\"text-align: right;\">\n",
       "      <th></th>\n",
       "      <th>const</th>\n",
       "      <th>Population</th>\n",
       "      <th>Income</th>\n",
       "      <th>Illiteracy</th>\n",
       "      <th>Murder</th>\n",
       "      <th>HS Grad</th>\n",
       "      <th>Frost</th>\n",
       "      <th>Area</th>\n",
       "    </tr>\n",
       "  </thead>\n",
       "  <tbody>\n",
       "    <tr>\n",
       "      <th>0</th>\n",
       "      <td>1.0</td>\n",
       "      <td>3615</td>\n",
       "      <td>3624</td>\n",
       "      <td>2.1</td>\n",
       "      <td>15.1</td>\n",
       "      <td>41.3</td>\n",
       "      <td>20</td>\n",
       "      <td>50708</td>\n",
       "    </tr>\n",
       "    <tr>\n",
       "      <th>1</th>\n",
       "      <td>1.0</td>\n",
       "      <td>365</td>\n",
       "      <td>6315</td>\n",
       "      <td>1.5</td>\n",
       "      <td>11.3</td>\n",
       "      <td>66.7</td>\n",
       "      <td>152</td>\n",
       "      <td>566432</td>\n",
       "    </tr>\n",
       "    <tr>\n",
       "      <th>2</th>\n",
       "      <td>1.0</td>\n",
       "      <td>2212</td>\n",
       "      <td>4530</td>\n",
       "      <td>1.8</td>\n",
       "      <td>7.8</td>\n",
       "      <td>58.1</td>\n",
       "      <td>15</td>\n",
       "      <td>113417</td>\n",
       "    </tr>\n",
       "    <tr>\n",
       "      <th>3</th>\n",
       "      <td>1.0</td>\n",
       "      <td>2110</td>\n",
       "      <td>3378</td>\n",
       "      <td>1.9</td>\n",
       "      <td>10.1</td>\n",
       "      <td>39.9</td>\n",
       "      <td>65</td>\n",
       "      <td>51945</td>\n",
       "    </tr>\n",
       "    <tr>\n",
       "      <th>4</th>\n",
       "      <td>1.0</td>\n",
       "      <td>21198</td>\n",
       "      <td>5114</td>\n",
       "      <td>1.1</td>\n",
       "      <td>10.3</td>\n",
       "      <td>62.6</td>\n",
       "      <td>20</td>\n",
       "      <td>156361</td>\n",
       "    </tr>\n",
       "  </tbody>\n",
       "</table>\n",
       "</div>"
      ],
      "text/plain": [
       "   const  Population  Income  Illiteracy  Murder  HS Grad  Frost    Area\n",
       "0    1.0        3615    3624         2.1    15.1     41.3     20   50708\n",
       "1    1.0         365    6315         1.5    11.3     66.7    152  566432\n",
       "2    1.0        2212    4530         1.8     7.8     58.1     15  113417\n",
       "3    1.0        2110    3378         1.9    10.1     39.9     65   51945\n",
       "4    1.0       21198    5114         1.1    10.3     62.6     20  156361"
      ]
     },
     "execution_count": 21,
     "metadata": {},
     "output_type": "execute_result"
    }
   ],
   "source": [
    "X = df.loc[\n",
    "    :, [\"Population\", \"Income\", \"Illiteracy\", \"Murder\", \"HS Grad\", \"Frost\", \"Area\"]\n",
    "]\n",
    "X = sm.add_constant(X)\n",
    "X.head()"
   ]
  },
  {
   "cell_type": "code",
   "execution_count": 22,
   "id": "3d3b9277",
   "metadata": {},
   "outputs": [
    {
     "data": {
      "text/plain": [
       "0    69.05\n",
       "1    69.31\n",
       "2    70.55\n",
       "3    70.66\n",
       "4    71.71\n",
       "Name: Life Exp, dtype: float64"
      ]
     },
     "execution_count": 22,
     "metadata": {},
     "output_type": "execute_result"
    }
   ],
   "source": [
    "# Visualizamos los valores de nuestra varibale objetivo:\n",
    "Y = df[\"Life Exp\"]\n",
    "Y.head()"
   ]
  },
  {
   "cell_type": "markdown",
   "id": "633ad0d8",
   "metadata": {},
   "source": [
    "Ahora, creamos un modelo de regresión lineal utilizando la librería 'statsmodels'. En este caso, utilizamos el método de mínimos cuadrados 'OSL' junto con las variables de respuesta 'Y' y, el dataframe 'X' (contiene las variables predictoras)."
   ]
  },
  {
   "cell_type": "code",
   "execution_count": 23,
   "id": "1f377954",
   "metadata": {},
   "outputs": [
    {
     "name": "stdout",
     "output_type": "stream",
     "text": [
      "                            OLS Regression Results                            \n",
      "==============================================================================\n",
      "Dep. Variable:               Life Exp   R-squared:                       0.736\n",
      "Model:                            OLS   Adj. R-squared:                  0.692\n",
      "Method:                 Least Squares   F-statistic:                     16.74\n",
      "Date:                Thu, 03 Aug 2023   Prob (F-statistic):           2.53e-10\n",
      "Time:                        06:08:24   Log-Likelihood:                -51.855\n",
      "No. Observations:                  50   AIC:                             119.7\n",
      "Df Residuals:                      42   BIC:                             135.0\n",
      "Df Model:                           7                                         \n",
      "Covariance Type:            nonrobust                                         \n",
      "==============================================================================\n",
      "                 coef    std err          t      P>|t|      [0.025      0.975]\n",
      "------------------------------------------------------------------------------\n",
      "const         70.9432      1.748     40.586      0.000      67.416      74.471\n",
      "Population   5.18e-05   2.92e-05      1.775      0.083    -7.1e-06       0.000\n",
      "Income      -2.18e-05      0.000     -0.089      0.929      -0.001       0.000\n",
      "Illiteracy     0.0338      0.366      0.092      0.927      -0.705       0.773\n",
      "Murder        -0.3011      0.047     -6.459      0.000      -0.395      -0.207\n",
      "HS Grad        0.0489      0.023      2.098      0.042       0.002       0.096\n",
      "Frost         -0.0057      0.003     -1.825      0.075      -0.012       0.001\n",
      "Area       -7.383e-08   1.67e-06     -0.044      0.965   -3.44e-06    3.29e-06\n",
      "==============================================================================\n",
      "Omnibus:                        2.385   Durbin-Watson:                   1.929\n",
      "Prob(Omnibus):                  0.303   Jarque-Bera (JB):                1.420\n",
      "Skew:                          -0.081   Prob(JB):                        0.492\n",
      "Kurtosis:                       2.190   Cond. No.                     1.85e+06\n",
      "==============================================================================\n",
      "\n",
      "Notes:\n",
      "[1] Standard Errors assume that the covariance matrix of the errors is correctly specified.\n",
      "[2] The condition number is large, 1.85e+06. This might indicate that there are\n",
      "strong multicollinearity or other numerical problems.\n"
     ]
    }
   ],
   "source": [
    "mod = sm.OLS(Y, X)\n",
    "res = mod.fit()\n",
    "print(res.summary())"
   ]
  },
  {
   "cell_type": "markdown",
   "id": "c6f0ed28",
   "metadata": {},
   "source": [
    "Realizamos el mismo proceso descrito anteriormente y seleccionamos solo 4 variables predictoras. Agregamos una columna constante y procedemos a realizar la regresión lineal."
   ]
  },
  {
   "cell_type": "code",
   "execution_count": 24,
   "id": "218b53dd",
   "metadata": {},
   "outputs": [
    {
     "data": {
      "text/html": [
       "<div>\n",
       "<style scoped>\n",
       "    .dataframe tbody tr th:only-of-type {\n",
       "        vertical-align: middle;\n",
       "    }\n",
       "\n",
       "    .dataframe tbody tr th {\n",
       "        vertical-align: top;\n",
       "    }\n",
       "\n",
       "    .dataframe thead th {\n",
       "        text-align: right;\n",
       "    }\n",
       "</style>\n",
       "<table border=\"1\" class=\"dataframe\">\n",
       "  <thead>\n",
       "    <tr style=\"text-align: right;\">\n",
       "      <th></th>\n",
       "      <th>const</th>\n",
       "      <th>Population</th>\n",
       "      <th>Murder</th>\n",
       "      <th>HS Grad</th>\n",
       "      <th>Frost</th>\n",
       "    </tr>\n",
       "  </thead>\n",
       "  <tbody>\n",
       "    <tr>\n",
       "      <th>0</th>\n",
       "      <td>1.0</td>\n",
       "      <td>3615</td>\n",
       "      <td>15.1</td>\n",
       "      <td>41.3</td>\n",
       "      <td>20</td>\n",
       "    </tr>\n",
       "    <tr>\n",
       "      <th>1</th>\n",
       "      <td>1.0</td>\n",
       "      <td>365</td>\n",
       "      <td>11.3</td>\n",
       "      <td>66.7</td>\n",
       "      <td>152</td>\n",
       "    </tr>\n",
       "    <tr>\n",
       "      <th>2</th>\n",
       "      <td>1.0</td>\n",
       "      <td>2212</td>\n",
       "      <td>7.8</td>\n",
       "      <td>58.1</td>\n",
       "      <td>15</td>\n",
       "    </tr>\n",
       "    <tr>\n",
       "      <th>3</th>\n",
       "      <td>1.0</td>\n",
       "      <td>2110</td>\n",
       "      <td>10.1</td>\n",
       "      <td>39.9</td>\n",
       "      <td>65</td>\n",
       "    </tr>\n",
       "    <tr>\n",
       "      <th>4</th>\n",
       "      <td>1.0</td>\n",
       "      <td>21198</td>\n",
       "      <td>10.3</td>\n",
       "      <td>62.6</td>\n",
       "      <td>20</td>\n",
       "    </tr>\n",
       "  </tbody>\n",
       "</table>\n",
       "</div>"
      ],
      "text/plain": [
       "   const  Population  Murder  HS Grad  Frost\n",
       "0    1.0        3615    15.1     41.3     20\n",
       "1    1.0         365    11.3     66.7    152\n",
       "2    1.0        2212     7.8     58.1     15\n",
       "3    1.0        2110    10.1     39.9     65\n",
       "4    1.0       21198    10.3     62.6     20"
      ]
     },
     "execution_count": 24,
     "metadata": {},
     "output_type": "execute_result"
    }
   ],
   "source": [
    "X_red = df.loc[:, [\"Population\", \"Murder\", \"HS Grad\", \"Frost\"]]\n",
    "X_red = sm.add_constant(X_red)\n",
    "X_red.head()"
   ]
  },
  {
   "cell_type": "code",
   "execution_count": 25,
   "id": "1303ee16",
   "metadata": {},
   "outputs": [
    {
     "name": "stdout",
     "output_type": "stream",
     "text": [
      "                            OLS Regression Results                            \n",
      "==============================================================================\n",
      "Dep. Variable:               Life Exp   R-squared:                       0.736\n",
      "Model:                            OLS   Adj. R-squared:                  0.713\n",
      "Method:                 Least Squares   F-statistic:                     31.37\n",
      "Date:                Thu, 03 Aug 2023   Prob (F-statistic):           1.70e-12\n",
      "Time:                        06:08:24   Log-Likelihood:                -51.866\n",
      "No. Observations:                  50   AIC:                             113.7\n",
      "Df Residuals:                      45   BIC:                             123.3\n",
      "Df Model:                           4                                         \n",
      "Covariance Type:            nonrobust                                         \n",
      "==============================================================================\n",
      "                 coef    std err          t      P>|t|      [0.025      0.975]\n",
      "------------------------------------------------------------------------------\n",
      "const         71.0271      0.953     74.542      0.000      69.108      72.946\n",
      "Population  5.014e-05   2.51e-05      1.996      0.052   -4.54e-07       0.000\n",
      "Murder        -0.3001      0.037     -8.199      0.000      -0.374      -0.226\n",
      "HS Grad        0.0466      0.015      3.142      0.003       0.017       0.076\n",
      "Frost         -0.0059      0.002     -2.455      0.018      -0.011      -0.001\n",
      "==============================================================================\n",
      "Omnibus:                        2.444   Durbin-Watson:                   1.914\n",
      "Prob(Omnibus):                  0.295   Jarque-Bera (JB):                1.426\n",
      "Skew:                          -0.065   Prob(JB):                        0.490\n",
      "Kurtosis:                       2.183   Cond. No.                     5.74e+04\n",
      "==============================================================================\n",
      "\n",
      "Notes:\n",
      "[1] Standard Errors assume that the covariance matrix of the errors is correctly specified.\n",
      "[2] The condition number is large, 5.74e+04. This might indicate that there are\n",
      "strong multicollinearity or other numerical problems.\n"
     ]
    }
   ],
   "source": [
    "mod_red = sm.OLS(Y, X_red)\n",
    "res_red = mod_red.fit()\n",
    "print(res_red.summary())"
   ]
  },
  {
   "cell_type": "markdown",
   "id": "11a540b7",
   "metadata": {},
   "source": [
    "Como conclusión podemos decir que, ambas regresiones obtuvieron un R-cuadrado similar, lo que indica que ambas capturan una cantidad similar de la variabilidad en la esperanza de vida. Sin embargo, el segundo modelo, que utiliza solo cuatro variables predictoras, parece ser más parsimonioso y, por lo tanto, podría ser preferible ya que utiliza menos variables para lograr una predicción similar. Es posible que las variables \"Population\", \"Murder\", \"HS Grad\" y \"Frost\" sean las que mejor expliquen la variabilidad en la esperanza de vida de los datos en cuestión."
   ]
  },
  {
   "cell_type": "markdown",
   "id": "335fb801",
   "metadata": {},
   "source": [
    "## Verificación de supuestos\n",
    "\n",
    "A continuación se verificará que el modelo cumpla los supuestos de la regresión lineal:\n",
    "\n",
    "* Los errores tienen media cero.\n",
    "\n",
    "* Los errores tienen la misma varianza \\(σ^2\\).\n",
    "\n",
    "* Los errores son independientes entre sí.\n",
    "\n",
    "* Los errores tienen una distribución Normal."
   ]
  },
  {
   "cell_type": "markdown",
   "id": "a07e823a",
   "metadata": {},
   "source": [
    "### Media cero\n",
    "Para verificar este supuesto se realizará un diagrama de dispersión de los residuos frente a cada una de las variables independientes del modelo. Con estos diagramas se busca identificar si los residuos siguen algún tipo de comportamiento, por ejemplo, que todos los residuos tengan valores positivos o que aparentemente se distribuyan alrededor de una curva."
   ]
  },
  {
   "cell_type": "markdown",
   "id": "de832a9f",
   "metadata": {},
   "source": [
    " > Los *residuos* son las diferencias entre los valores observados y los valores predichos por el modelo para cada punto de datos en el conjunto de datos. Matemáticamente, el residuo para un punto de datos específico se calcula restando el valor observado (la variable dependiente real) del valor predicho por el modelo para ese mismo punto.\n",
    "\n",
    " > El análisis de los residuos también nos ayuda a identificar problemas en el modelo, como heterocedasticidad (variabilidad de los residuos que cambia a lo largo del rango de valores), falta de linealidad, presencia de valores atípicos, etc."
   ]
  },
  {
   "cell_type": "code",
   "execution_count": 26,
   "id": "3d72a665",
   "metadata": {},
   "outputs": [
    {
     "data": {
      "text/plain": [
       "-2.745537130977027e-13"
      ]
     },
     "execution_count": 26,
     "metadata": {},
     "output_type": "execute_result"
    }
   ],
   "source": [
    "# Utilizamos el atributo '.resid' para obtener los residuos del modelo:\n",
    "residuos = res_red.resid\n",
    "np.mean(residuos)"
   ]
  },
  {
   "cell_type": "markdown",
   "id": "3fa2aad9",
   "metadata": {},
   "source": [
    "Como podemos observar el promedio de los residuos es relativamente cero, podemos asumir que el modelo está haciendo predicciones relativamente precisas."
   ]
  },
  {
   "cell_type": "code",
   "execution_count": 27,
   "id": "3954e42e",
   "metadata": {},
   "outputs": [
    {
     "data": {
      "image/png": "[encoded data removed]",
      "text/plain": [
       "<Figure size 640x480 with 1 Axes>"
      ]
     },
     "metadata": {},
     "output_type": "display_data"
    }
   ],
   "source": [
    "# Graicamos la distribución de los residuos:\n",
    "\n",
    "import matplotlib.pyplot as plt\n",
    "\n",
    "plt.scatter(df[\"Murder\"], residuos)\n",
    "plt.plot(df[\"Murder\"], [0] * len(df), color=\"red\", linewidth=3)\n",
    "plt.xlabel(\"Murder\")\n",
    "plt.ylabel(\"Residuos\")\n",
    "plt.show()"
   ]
  },
  {
   "cell_type": "markdown",
   "id": "44e93359",
   "metadata": {},
   "source": [
    "### Varianza constante\n",
    "Para verificar el supuesto de varianza constante o homoscedasticidad se utilizarán dos métodos. El primero de ellos consiste en construir un diagramas de dispersión de los residuos contra los valores proyectados $(\\hat{y}_i)$ de la siguiente forma:"
   ]
  },
  {
   "cell_type": "code",
   "execution_count": 28,
   "id": "d476b5de",
   "metadata": {},
   "outputs": [
    {
     "data": {
      "image/png": "[encoded data removed]",
      "text/plain": [
       "<Figure size 640x480 with 1 Axes>"
      ]
     },
     "metadata": {},
     "output_type": "display_data"
    }
   ],
   "source": [
    "proyectado = res.fittedvalues\n",
    "plt.scatter(proyectado, residuos)\n",
    "plt.xlabel(\"Poyectados\")\n",
    "plt.ylabel(\"Residuos\")\n",
    "plt.show()"
   ]
  },
  {
   "cell_type": "markdown",
   "id": "6c4e2e1e",
   "metadata": {},
   "source": [
    "En este caso los residuos parecen distribuirse en una misma franja y por lo tanto no se encuentran indicios claros de heterocedasticidad *(En estadística se dice que un modelo de regresión lineal presenta heterocedasticidad cuando la varianza de los errores no es constante en todas las observaciones realizadas)*. Sin embargo, este método es subjetivo por lo que se utilizará la prueba de Breusch Pagan para determinar si hay presencia de homocedasticidad. En la prueba de Breusch Pagan se tienen las siguientes hipótesis:\n",
    "\n",
    " $H_0$: Hay homocedasticidad\n",
    "\n",
    "$H_a$: Hay heterocedasticidad"
   ]
  },
  {
   "cell_type": "code",
   "execution_count": 29,
   "id": "d02434be",
   "metadata": {},
   "outputs": [
    {
     "data": {
      "text/html": [
       "<div>\n",
       "<style scoped>\n",
       "    .dataframe tbody tr th:only-of-type {\n",
       "        vertical-align: middle;\n",
       "    }\n",
       "\n",
       "    .dataframe tbody tr th {\n",
       "        vertical-align: top;\n",
       "    }\n",
       "\n",
       "    .dataframe thead th {\n",
       "        text-align: right;\n",
       "    }\n",
       "</style>\n",
       "<table border=\"1\" class=\"dataframe\">\n",
       "  <thead>\n",
       "    <tr style=\"text-align: right;\">\n",
       "      <th></th>\n",
       "      <th>Breusch-Pagan</th>\n",
       "    </tr>\n",
       "  </thead>\n",
       "  <tbody>\n",
       "    <tr>\n",
       "      <th>Lagrange multiplier statistic</th>\n",
       "      <td>8.763756</td>\n",
       "    </tr>\n",
       "    <tr>\n",
       "      <th>p-value</th>\n",
       "      <td>0.270065</td>\n",
       "    </tr>\n",
       "    <tr>\n",
       "      <th>f-value</th>\n",
       "      <td>1.275153</td>\n",
       "    </tr>\n",
       "    <tr>\n",
       "      <th>f p-value</th>\n",
       "      <td>0.285845</td>\n",
       "    </tr>\n",
       "  </tbody>\n",
       "</table>\n",
       "</div>"
      ],
      "text/plain": [
       "                               Breusch-Pagan\n",
       "Lagrange multiplier statistic       8.763756\n",
       "p-value                             0.270065\n",
       "f-value                             1.275153\n",
       "f p-value                           0.285845"
      ]
     },
     "execution_count": 29,
     "metadata": {},
     "output_type": "execute_result"
    }
   ],
   "source": [
    "# Breusch - Pagan:\n",
    "name = [\"Lagrange multiplier statistic\", \"p-value\", \"f-value\", \"f p-value\"]\n",
    "# 'residuos' es el array de residuos y 'res.model.exog' es la matriz de variables independientes utilizadas en el modelo:\n",
    "test = sms.het_breuschpagan(residuos, res.model.exog)\n",
    "pd.DataFrame(list(test), index=name, columns=[\"Breusch-Pagan\"])"
   ]
  },
  {
   "cell_type": "markdown",
   "id": "e38e1fb8",
   "metadata": {},
   "source": [
    "1. Lagrange multiplier statistic: 8.763756\n",
    "- Esta estadística es una medida del grado de heterocedasticidad. Valores más grandes indican una mayor evidencia de heterocedasticidad.\n",
    "\n",
    "2. p-value: 0.270065\n",
    "\n",
    "- Es la probabilidad asociada con la prueba estadística. En este caso, el p-value corresponde a la probabilidad de observar el valor de la estadística del multiplicador de Lagrange si la heterocedasticidad no está presente en los residuos.\n",
    "Si el valor p es pequeño (generalmente menor que 0.05), se considera evidencia en contra de la hipótesis nula de homocedasticidad (varianza constante) y sugiere que la heterocedasticidad podría estar presente.\n",
    "En este caso, el valor p es mayor que 0.05, lo que sugiere que no hay suficiente evidencia para rechazar la hipótesis nula de homocedasticidad. Sin embargo, esto no garantiza que la homocedasticidad esté presente, solo indica que no hay suficiente evidencia para decir lo contrario.\n",
    "\n",
    "3. f-value: 1.275153\n",
    "\n",
    "- Esta es otra estadística que se utiliza en el test de Breusch-Pagan para evaluar la heterocedasticidad. Al igual que el estadístico del multiplicador de Lagrange, valores más grandes indican más evidencia de heterocedasticidad.\n",
    "\n",
    "4. f p-value (valor p del estadístico F): 0.285845\n",
    "\n",
    "- Similar al p-value anterior, este valor p está asociado al estadístico F. Al igual que con el valor p anterior, un valor mayor que 0.05 indica que no hay suficiente evidencia para rechazar la hipótesis nula de homocedasticidad.\n",
    "En resumen, en función de los resultados proporcionados:\n",
    "\n",
    "**Conclusión:**\n",
    "- No hay suficiente evidencia para afirmar que los residuos presentan heterocedasticidad.\n",
    "- Los p-values para ambas pruebas (p-value y p-value del estadístico F) son mayores que 0.05, lo que sugiere que la varianza constante (homocedasticidad) podría estar presente en los residuos. Sin embargo, esto no garantiza que no haya heterocedasticidad; simplemente indica que no hay suficiente evidencia en contra de la hipótesis de homocedasticidad."
   ]
  },
  {
   "cell_type": "code",
   "execution_count": 30,
   "id": "c288ec8a",
   "metadata": {},
   "outputs": [
    {
     "data": {
      "text/html": [
       "<div>\n",
       "<style scoped>\n",
       "    .dataframe tbody tr th:only-of-type {\n",
       "        vertical-align: middle;\n",
       "    }\n",
       "\n",
       "    .dataframe tbody tr th {\n",
       "        vertical-align: top;\n",
       "    }\n",
       "\n",
       "    .dataframe thead th {\n",
       "        text-align: right;\n",
       "    }\n",
       "</style>\n",
       "<table border=\"1\" class=\"dataframe\">\n",
       "  <thead>\n",
       "    <tr style=\"text-align: right;\">\n",
       "      <th></th>\n",
       "      <th>Goldfeld-Quant</th>\n",
       "    </tr>\n",
       "  </thead>\n",
       "  <tbody>\n",
       "    <tr>\n",
       "      <th>F statistic</th>\n",
       "      <td>0.632208</td>\n",
       "    </tr>\n",
       "    <tr>\n",
       "      <th>p-value</th>\n",
       "      <td>0.823175</td>\n",
       "    </tr>\n",
       "    <tr>\n",
       "      <th>type</th>\n",
       "      <td>increasing</td>\n",
       "    </tr>\n",
       "  </tbody>\n",
       "</table>\n",
       "</div>"
      ],
      "text/plain": [
       "            Goldfeld-Quant\n",
       "F statistic       0.632208\n",
       "p-value           0.823175\n",
       "type            increasing"
      ]
     },
     "execution_count": 30,
     "metadata": {},
     "output_type": "execute_result"
    }
   ],
   "source": [
    "# Goldfeld-Quandt:\n",
    "name = [\"F statistic\", \"p-value\", \"type\"]\n",
    "test = sms.het_goldfeldquandt(residuos, res.model.exog)\n",
    "pd.DataFrame(list(test), index=name, columns=[\"Goldfeld-Quant\"])"
   ]
  },
  {
   "cell_type": "markdown",
   "id": "7a44c765",
   "metadata": {},
   "source": [
    "### Normalidad\n",
    "Para verificar el supuesto de normalidad es posible utilizar los [gráficos cuartil-cuartil o Q-Q plot](https://es.wikipedia.org/wiki/Gr%C3%A1fico_Q-Q) e histogramas:"
   ]
  },
  {
   "cell_type": "markdown",
   "id": "5662dc68",
   "metadata": {},
   "source": [
    "La prueba de normalidad es una herramienta en estadísticas que se usa para verificar si los datos que tenemos se asemejan a una distribución normal, también conocida como la \"curva de campana\". La distribución normal es muy común y tiene propiedades matemáticas que facilitan el análisis estadístico.\n",
    "\n",
    "Cuando realizamos un análisis estadístico, a menudo asumimos que nuestros datos siguen una distribución normal. Sin embargo, en la vida real, los datos pueden variar y no siempre encajarán perfectamente en una distribución normal. La prueba de normalidad ayuda a verificar si esta suposición es razonable o si nuestros datos son significativamente diferentes de una distribución normal.\n",
    "\n",
    "La prueba de normalidad compara los datos que tenemos con lo que esperaríamos ver en una distribución normal. Si los datos son muy diferentes de lo que se espera en una distribución normal, la prueba puede indicar que los datos no son normalmente distribuidos.\n",
    "\n",
    "Los residuos son las diferencias entre los valores observados y los valores predichos por el modelo de regresión. Si los residuos se distribuyen de manera aproximadamente normal, eso indica que el modelo se ajusta bien a los datos y que las estimaciones de los coeficientes son más confiables."
   ]
  },
  {
   "cell_type": "code",
   "execution_count": 31,
   "id": "9823067f",
   "metadata": {},
   "outputs": [],
   "source": [
    "from scipy import stats"
   ]
  },
  {
   "cell_type": "code",
   "execution_count": 32,
   "id": "4a9bff17",
   "metadata": {},
   "outputs": [
    {
     "data": {
      "text/plain": [
       "Text(0.5, 1.0, 'Q-Q plot')"
      ]
     },
     "execution_count": 32,
     "metadata": {},
     "output_type": "execute_result"
    },
    {
     "data": {
      "image/png": "[encoded data removed]",
      "text/plain": [
       "<Figure size 640x480 with 1 Axes>"
      ]
     },
     "metadata": {},
     "output_type": "display_data"
    }
   ],
   "source": [
    "# El siguiente código compara los cuantiles de los residuos con los cuantiles esperados de una distribución normal:\n",
    "sm.ProbPlot(res_red.resid).qqplot(line=\"s\")\n",
    "plt.title(\"Q-Q plot\")"
   ]
  },
  {
   "cell_type": "markdown",
   "id": "e412bbe0",
   "metadata": {},
   "source": [
    "$H_0$: Los residuos siguen una distribución Normal\n",
    "\n",
    "$H_a$: Los residuos no siguen una distribución Normal"
   ]
  },
  {
   "cell_type": "code",
   "execution_count": 33,
   "id": "300d546b",
   "metadata": {},
   "outputs": [
    {
     "name": "stdout",
     "output_type": "stream",
     "text": [
      "Jarque-Bera test ---- statistic: 1.4262, p-value: 0.4901138054404208\n",
      "Shapiro-Wilk test ---- statistic: 0.9794, p-value: 0.5250\n",
      "Kolmogorov-Smirnov test ---- statistic: 0.1294, p-value: 0.3424\n",
      "Anderson-Darling test ---- statistic: 0.3602, 5% critical value: 0.7360\n"
     ]
    }
   ],
   "source": [
    "jb = stats.jarque_bera(\n",
    "    res_red.resid\n",
    ")  #  Realiza el test de Jarque-Bera para evaluar si los residuos siguen una distribución normal.\n",
    "sw = stats.shapiro(\n",
    "    res_red.resid\n",
    ")  #  Realiza el test de Shapiro-Wilk para verificar la normalidad de los residuos.\n",
    "ad = stats.anderson(\n",
    "    res_red.resid, dist=\"norm\"\n",
    ")  # Realiza el test de Anderson-Darling para la normalidad de los residuos.\n",
    "ks = stats.kstest(\n",
    "    res_red.resid, \"norm\"\n",
    ")  # Realiza el test de Kolmogorov-Smirnov para evaluar si los residuos siguen una distribución normal.\n",
    "\n",
    "print(f\"Jarque-Bera test ---- statistic: {jb[0]:.4f}, p-value: {jb[1]}\")\n",
    "print(f\"Shapiro-Wilk test ---- statistic: {sw[0]:.4f}, p-value: {sw[1]:.4f}\")\n",
    "print(\n",
    "    f\"Kolmogorov-Smirnov test ---- statistic: {ks.statistic:.4f}, p-value: {ks.pvalue:.4f}\"\n",
    ")\n",
    "print(\n",
    "    f\"Anderson-Darling test ---- statistic: {ad.statistic:.4f}, 5% critical value: {ad.critical_values[2]:.4f}\"\n",
    ")"
   ]
  },
  {
   "cell_type": "markdown",
   "id": "53f8ccb3",
   "metadata": {},
   "source": [
    "Utilizando una significancia del 5% no se rechaza la hipótesis nula, por lo que se puede decir que el modelo cumple el supuesto de normalidad."
   ]
  },
  {
   "cell_type": "markdown",
   "id": "49832612",
   "metadata": {},
   "source": [
    "### Independencia\n",
    "Para verificar el supuesto de independencia se utilizará la [prueba de Durbin-Watson](https://es.wikipedia.org/wiki/Estad%C3%ADstico_de_Durbin-Watson). Con esto se busca determinar si los errores se encuentran correlacionados entre sí o autocorrelacionados. Esta prueba utiliza las siguientes hipótesis:\n",
    "\n",
    "$H_0$: No hay presencia de autocorrelación\n",
    "\n",
    "$H_a$: Hay presencia de autocorrelación"
   ]
  },
  {
   "cell_type": "code",
   "execution_count": 34,
   "id": "6a9d4baf",
   "metadata": {},
   "outputs": [
    {
     "name": "stdout",
     "output_type": "stream",
     "text": [
      "Valores de 1.5 < d < 2.5 normalmente muestran que no hay autocorrelacion\n",
      "0 a 2 < hay autocorrelacion positiva\n",
      "> 2 a 4 hay autocorrelacion negativa\n",
      "-------------------------------------\n",
      "Durbin-Watson: 1.913997407729607\n"
     ]
    }
   ],
   "source": [
    "from statsmodels.stats.stattools import durbin_watson\n",
    "\n",
    "durbinWatson = durbin_watson(residuos)\n",
    "print(\"Valores de 1.5 < d < 2.5 normalmente muestran que no hay autocorrelacion\")\n",
    "print(\"0 a 2 < hay autocorrelacion positiva\")\n",
    "print(\"> 2 a 4 hay autocorrelacion negativa\")\n",
    "print(\"-------------------------------------\")\n",
    "print(\"Durbin-Watson:\", durbinWatson)"
   ]
  },
  {
   "cell_type": "code",
   "execution_count": 35,
   "id": "94d31bd4",
   "metadata": {},
   "outputs": [
    {
     "name": "stderr",
     "output_type": "stream",
     "text": [
      "C:\\Users\\Andres\\AppData\\Local\\Temp\\ipykernel_17644\\1635941238.py:4: UserWarning: Matplotlib is currently using module://matplotlib_inline.backend_inline, which is a non-GUI backend, so cannot show the figure.\n",
      "  acf.show()\n"
     ]
    },
    {
     "data": {
      "image/png": "[encoded data removed]",
      "text/plain": [
       "<Figure size 640x480 with 1 Axes>"
      ]
     },
     "metadata": {},
     "output_type": "display_data"
    }
   ],
   "source": [
    "import statsmodels.tsa.api as smt\n",
    "\n",
    "acf = smt.graphics.plot_acf(res_red.resid, lags=40, alpha=0.05)\n",
    "acf.show()"
   ]
  },
  {
   "cell_type": "markdown",
   "id": "ab6d3fe6",
   "metadata": {},
   "source": [
    "### No multicolinealidad\n",
    "Por último se realizará una prueba adicional para verificar que no exista presencia de multicolinealidad. Para esto se calcula el factor de inflación de la varianza (VIF) para cada una de las variables independientes del modelo, con el que se dirá que existe alta multicolinealidad cuando el VIF es mayor a 10."
   ]
  },
  {
   "cell_type": "code",
   "execution_count": 36,
   "id": "bb3e2c94",
   "metadata": {},
   "outputs": [
    {
     "data": {
      "text/html": [
       "<div>\n",
       "<style scoped>\n",
       "    .dataframe tbody tr th:only-of-type {\n",
       "        vertical-align: middle;\n",
       "    }\n",
       "\n",
       "    .dataframe tbody tr th {\n",
       "        vertical-align: top;\n",
       "    }\n",
       "\n",
       "    .dataframe thead th {\n",
       "        text-align: right;\n",
       "    }\n",
       "</style>\n",
       "<table border=\"1\" class=\"dataframe\">\n",
       "  <thead>\n",
       "    <tr style=\"text-align: right;\">\n",
       "      <th></th>\n",
       "      <th>Population</th>\n",
       "      <th>Murder</th>\n",
       "      <th>HS Grad</th>\n",
       "      <th>Frost</th>\n",
       "    </tr>\n",
       "  </thead>\n",
       "  <tbody>\n",
       "    <tr>\n",
       "      <th>vif</th>\n",
       "      <td>1.189835</td>\n",
       "      <td>1.727844</td>\n",
       "      <td>1.356791</td>\n",
       "      <td>1.498077</td>\n",
       "    </tr>\n",
       "  </tbody>\n",
       "</table>\n",
       "</div>"
      ],
      "text/plain": [
       "     Population    Murder   HS Grad     Frost\n",
       "vif    1.189835  1.727844  1.356791  1.498077"
      ]
     },
     "execution_count": 36,
     "metadata": {},
     "output_type": "execute_result"
    }
   ],
   "source": [
    "# Importamos la función variance_inflation_factor del módulo statsmodels.stats.outliers_influence\n",
    "from statsmodels.stats.outliers_influence import variance_inflation_factor\n",
    "\n",
    "# Calculamos el VIF para cada variable en X_red (matriz de variables predictoras reducidas)\n",
    "# VIF mide la multicolinealidad entre variables, cuánto se \"infla\" la varianza de un coeficiente debido a la correlación con otras variables\n",
    "vif = [variance_inflation_factor(X_red.values, i) for i in range(X_red.shape[1])]\n",
    "\n",
    "# Creamos un DataFrame con los resultados de VIF para cada variable\n",
    "# Usamos las columnas seleccionadas (\"Population\", \"Murder\", \"HS Grad\", \"Frost\") como índices\n",
    "# Excluimos el primer valor de VIF (que corresponde al intercepto constante)\n",
    "pd.DataFrame(\n",
    "    {\"vif\": vif[1:]},\n",
    "    index=df.loc[:, [\"Population\", \"Murder\", \"HS Grad\", \"Frost\"]].columns,\n",
    ").T"
   ]
  },
  {
   "cell_type": "markdown",
   "id": "75eaab5d",
   "metadata": {},
   "source": [
    "Luego de analizar los resultados del factor de inflación de la varianza, los resultados sugieren que no hay multicolinealidad."
   ]
  },
  {
   "cell_type": "markdown",
   "id": "4ea3ae4b",
   "metadata": {},
   "source": [
    "### Ejercicio Propuesto Práctica\n",
    "\n",
    "**Utilice el conjunto de datos Ejercicio_Supuestos en la carpeta**\n",
    "\n",
    "La revista Biometry publicó en el año de 1981 los siguientes datos que relacionan la contaminación del aire observada en 41 ciudades de los Estados Unidos con un conjunto de seis variables explicativas definidas en los términos siguientes:\n",
    "\n",
    "y: concentración promedio anual de dióxido de azufre (microgramos por metro cúbico)\n",
    "x1: temperatura promedio anual (ºF)\n",
    "x2: número de fábricas que emplean 20 o más trabajadores\n",
    "\n",
    "x3: número de habitantes (en miles) según el censo de 1970\n",
    "x4: velocidad promedio anual del viento (millas por hora)\n",
    "x5: precipitación promedio anual (pulgadas)\n",
    "x6: número promedio de días con lluvias al año\n",
    "\n",
    "Se desea construir un modelo que permita caracterizar la relación entre la contaminación del aire y las seis variables explicativas, como también predecir el nivel de contaminación que se obtendría para ciertos valores de las variables explicativas previamente definidos.\n",
    "\n",
    "1.\tGrafique la variable y vs. cada una de las variables explicativas. A partir de los gráficos, determine si se requieren términos de orden superior para representar en el modelo alguna de las variables explicativas.\n",
    "2.\t¿Existe alguna evidencia de multicolinealidad entre las variables explicativas del modelo? Utilice en su diagnóstico:\n",
    "    a.\tDiagramas de dispersión\n",
    "    b.\tMatriz de correlaciones\n",
    "3.\tCalcule el factor de inflación de varianza para cada una de las variables explicativas de un modelo lineal que relaciona y con las variables x1 a x6. A partir de estos factores, ¿considera usted que hay un problema de multicolinealidad entre las variables explicativas? \n",
    "4.\t¿Cuáles variables explican en mayor grado la contaminación del aire?\n",
    "5.\tRealice una reducción de variables, luego con el modelo reducido responda:\n",
    "    a.\t¿ los residuos siguen una distribución normal? Justifique su respuesta.\n",
    "    b.\t¿ se satisface el supuesto de varianza constante? Justifique su respuesta.\n",
    "6.\tEstime la concentración promedio anual de dióxido de azufre en el aire en una ciudad que reporta los siguientes valores para las seis variables explicativas: x1 = 60, x2 = 150, x3 = 600, x4 = 10, x5 = 40, x6 = 100"
   ]
  },
  {
   "cell_type": "code",
   "execution_count": null,
   "id": "82e3494a",
   "metadata": {},
   "outputs": [],
   "source": []
  }
 ],
 "metadata": {
  "kernelspec": {
   "display_name": "Python 3",
   "language": "python",
   "name": "python3"
  },
  "language_info": {
   "codemirror_mode": {
    "name": "ipython",
    "version": 3
   },
   "file_extension": ".py",
   "mimetype": "text/x-python",
   "name": "python",
   "nbconvert_exporter": "python",
   "pygments_lexer": "ipython3",
   "version": "3.11.3"
  }
 },
 "nbformat": 4,
 "nbformat_minor": 5
}
