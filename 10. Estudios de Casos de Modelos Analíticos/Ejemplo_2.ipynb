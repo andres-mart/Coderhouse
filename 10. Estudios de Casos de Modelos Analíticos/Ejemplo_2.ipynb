{
 "cells": [
  {
   "cell_type": "markdown",
   "id": "a6534a5f",
   "metadata": {},
   "source": [
    "# Supuestos en Regresión Lineal"
   ]
  },
  {
   "cell_type": "code",
   "execution_count": null,
   "id": "0edcab87",
   "metadata": {},
   "outputs": [],
   "source": [
    "import pandas as pd\n",
    "import numpy as np\n",
    "import statsmodels.api as sm\n",
    "import statsmodels.stats.api as sms"
   ]
  },
  {
   "cell_type": "code",
   "execution_count": null,
   "id": "ac16f89a",
   "metadata": {},
   "outputs": [],
   "source": [
    "df = pd.read_csv(\n",
    "    \"D://Coderhouse//10. Estudios de Casos de Modelos Analíticos//statex77.csv\"\n",
    ")\n",
    "df"
   ]
  },
  {
   "cell_type": "code",
   "execution_count": null,
   "id": "2393577f",
   "metadata": {},
   "outputs": [],
   "source": [
    "X = df.loc[\n",
    "    :, [\"Population\", \"Income\", \"Illiteracy\", \"Murder\", \"HS Grad\", \"Frost\", \"Area\"]\n",
    "]\n",
    "X = sm.add_constant(X)\n",
    "X"
   ]
  },
  {
   "cell_type": "code",
   "execution_count": null,
   "id": "3d3b9277",
   "metadata": {},
   "outputs": [],
   "source": [
    "Y = df[\"Life Exp\"]\n",
    "Y"
   ]
  },
  {
   "cell_type": "code",
   "execution_count": null,
   "id": "1f377954",
   "metadata": {},
   "outputs": [],
   "source": [
    "mod = sm.OLS(Y, X)\n",
    "res = mod.fit()\n",
    "print(res.summary())"
   ]
  },
  {
   "cell_type": "code",
   "execution_count": null,
   "id": "218b53dd",
   "metadata": {},
   "outputs": [],
   "source": [
    "X_red = df.loc[:, [\"Population\", \"Murder\", \"HS Grad\", \"Frost\"]]\n",
    "X_red = sm.add_constant(X_red)\n",
    "X_red"
   ]
  },
  {
   "cell_type": "code",
   "execution_count": null,
   "id": "1303ee16",
   "metadata": {},
   "outputs": [],
   "source": [
    "mod_red = sm.OLS(Y, X_red)\n",
    "res_red = mod_red.fit()\n",
    "print(res_red.summary())"
   ]
  },
  {
   "cell_type": "markdown",
   "id": "335fb801",
   "metadata": {},
   "source": [
    "## Verificación de supuestos\n",
    "\n",
    "A continuación se verificará que el modelo cumpla los supuestos de la regresión lineal:\n",
    "\n",
    "* Los errores tienen media cero.\n",
    "\n",
    "* Los errores tienen la misma varianza \\(σ^2\\).\n",
    "\n",
    "* Los errores son independientes entre sí.\n",
    "\n",
    "* Los errores tienen una distribución Normal."
   ]
  },
  {
   "cell_type": "markdown",
   "id": "a07e823a",
   "metadata": {},
   "source": [
    "### Media cero\n",
    "Para verificar este supuesto se realizará un diagrama de dispersión de los residuos frente a cada una de las variables independientes del modelo. Con estos diagramas se busca identificar si los residuos siguen algún tipo de comportamiento, por ejemplo, que todos los residuos tengan valores positivos o que aparentemente se distribuyan alrededor de una curva."
   ]
  },
  {
   "cell_type": "code",
   "execution_count": null,
   "id": "3954e42e",
   "metadata": {},
   "outputs": [],
   "source": [
    "import matplotlib.pyplot as plt\n",
    "\n",
    "plt.scatter(df[\"Murder\"], residuos)\n",
    "plt.plot(df[\"Murder\"], [0] * len(df), color=\"red\", linewidth=3)\n",
    "plt.xlabel(\"Murder\")\n",
    "plt.ylabel(\"Residuos\")\n",
    "plt.show()"
   ]
  },
  {
   "cell_type": "code",
   "execution_count": null,
   "id": "3d72a665",
   "metadata": {},
   "outputs": [],
   "source": [
    "residuos = res_red.resid\n",
    "np.mean(residuos)"
   ]
  },
  {
   "cell_type": "markdown",
   "id": "44e93359",
   "metadata": {},
   "source": [
    "### Varianza constante\n",
    "Para verificar el supuesto de varianza constante o homoscedasticidad se utilizarán dos métodos. El primero de ellos consiste en construir un diagramas de dispersión de los residuos contra los valores proyectados $(\\hat{y}_i)$ de la siguiente forma:"
   ]
  },
  {
   "cell_type": "code",
   "execution_count": null,
   "id": "d476b5de",
   "metadata": {},
   "outputs": [],
   "source": [
    "proyectado = res.fittedvalues\n",
    "plt.scatter(proyectado, residuos)\n",
    "plt.xlabel(\"Poyectados\")\n",
    "plt.ylabel(\"Residuos\")\n",
    "plt.show()"
   ]
  },
  {
   "cell_type": "markdown",
   "id": "6c4e2e1e",
   "metadata": {},
   "source": [
    "En este caso los residuos parecen distribuirse en una misma franja y por lo tanto no se encuentran indicios claros de heterocedasticidad. Sin embargo, este método es subjetivo por lo que se utilizará la prueba de Breusch Pagan para determinar si hay presencia de homocedasticidad. En la prueba de Breusch Pagan se tienen las siguientes hipótesis:\n",
    "\n",
    "$H_0$: Hay homocedasticidad\n",
    "$H_a$: Hay heterocedasticidad"
   ]
  },
  {
   "cell_type": "code",
   "execution_count": null,
   "id": "d02434be",
   "metadata": {},
   "outputs": [],
   "source": [
    "# Breusch - Pagan\n",
    "name = [\"Lagrange multiplier statistic\", \"p-value\", \"f-value\", \"f p-value\"]\n",
    "test = sms.het_breuschpagan(residuos, res.model.exog)\n",
    "pd.DataFrame(list(test), index=name, columns=[\"Breusch-Pagan\"])"
   ]
  },
  {
   "cell_type": "code",
   "execution_count": null,
   "id": "c288ec8a",
   "metadata": {},
   "outputs": [],
   "source": [
    "# Goldfeld-Quandt\n",
    "name = [\"F statistic\", \"p-value\", \"type\"]\n",
    "test = sms.het_goldfeldquandt(residuos, res.model.exog)\n",
    "pd.DataFrame(list(test), index=name, columns=[\"Goldfeld-Quant\"])"
   ]
  },
  {
   "cell_type": "markdown",
   "id": "7a44c765",
   "metadata": {},
   "source": [
    "### Normalidad\n",
    "Para verificar el supuesto de normalidad es posible utilizar los gráficos cuartil-cuartil o Q-Q plot e histogramas:"
   ]
  },
  {
   "cell_type": "code",
   "execution_count": null,
   "id": "9823067f",
   "metadata": {},
   "outputs": [],
   "source": [
    "from scipy import stats"
   ]
  },
  {
   "cell_type": "code",
   "execution_count": null,
   "id": "4a9bff17",
   "metadata": {},
   "outputs": [],
   "source": [
    "sm.ProbPlot(res_red.resid).qqplot(line=\"s\")\n",
    "plt.title(\"Q-Q plot\")"
   ]
  },
  {
   "cell_type": "markdown",
   "id": "e412bbe0",
   "metadata": {},
   "source": [
    "$H_0$: Los residuos siguen una distribución Normal\n",
    "\n",
    "$H_a$: Los residuos no siguen una distribución Normal"
   ]
  },
  {
   "cell_type": "code",
   "execution_count": null,
   "id": "300d546b",
   "metadata": {},
   "outputs": [],
   "source": [
    "jb = stats.jarque_bera(res_red.resid)\n",
    "sw = stats.shapiro(res_red.resid)\n",
    "ad = stats.anderson(res_red.resid, dist=\"norm\")\n",
    "ks = stats.kstest(res_red.resid, \"norm\")\n",
    "\n",
    "print(f\"Jarque-Bera test ---- statistic: {jb[0]:.4f}, p-value: {jb[1]}\")\n",
    "print(f\"Shapiro-Wilk test ---- statistic: {sw[0]:.4f}, p-value: {sw[1]:.4f}\")\n",
    "print(\n",
    "    f\"Kolmogorov-Smirnov test ---- statistic: {ks.statistic:.4f}, p-value: {ks.pvalue:.4f}\"\n",
    ")\n",
    "print(\n",
    "    f\"Anderson-Darling test ---- statistic: {ad.statistic:.4f}, 5% critical value: {ad.critical_values[2]:.4f}\"\n",
    ")"
   ]
  },
  {
   "cell_type": "markdown",
   "id": "53f8ccb3",
   "metadata": {},
   "source": [
    "Utilizando una significancia del 5% no se rechaza la hipótesis nula, por lo que se puede decir que el modelo cumple el supuesto de normalidad."
   ]
  },
  {
   "cell_type": "markdown",
   "id": "49832612",
   "metadata": {},
   "source": [
    "### Independencia\n",
    "Para verificar el supuesto de independencia se utilizará la prueba de Durbin-Watson. Con esto se busca determinar si los errores se encuentran correlacionados entre sí o autocorrelacionados. Esta prueba utiliza las siguientes hipótesis:\n",
    "\n",
    "$H_0$: No hay presencia de autocorrelación\n",
    "$H_a$: Hay presencia de autocorrelación"
   ]
  },
  {
   "cell_type": "code",
   "execution_count": null,
   "id": "6a9d4baf",
   "metadata": {},
   "outputs": [],
   "source": [
    "from statsmodels.stats.stattools import durbin_watson\n",
    "\n",
    "durbinWatson = durbin_watson(residuos)\n",
    "print(\"Valores de 1.5 < d < 2.5 normalmente muestran que no hay autocorrelacion\")\n",
    "print(\"0 a 2< hay autocorrelacion positiva\")\n",
    "print(\">2 a 4 hay autocorrelacion negativa\")\n",
    "print(\"-------------------------------------\")\n",
    "print(\"Durbin-Watson:\", durbinWatson)"
   ]
  },
  {
   "cell_type": "code",
   "execution_count": null,
   "id": "94d31bd4",
   "metadata": {},
   "outputs": [],
   "source": [
    "import statsmodels.tsa.api as smt\n",
    "\n",
    "acf = smt.graphics.plot_acf(res_red.resid, lags=40, alpha=0.05)\n",
    "acf.show()"
   ]
  },
  {
   "cell_type": "markdown",
   "id": "ab6d3fe6",
   "metadata": {},
   "source": [
    "### No multicolinealidad\n",
    "Por último se realizará una prueba adicional para verificar que no exista presencia de multicolinealidad. Para esto se calcula el factor de inflación de la varianza (VIF) para cada una de las variables independientes del modelo, con el que se dirá que existe alta multicolinealidad cuando el VIF es mayor a 10."
   ]
  },
  {
   "cell_type": "code",
   "execution_count": null,
   "id": "bb3e2c94",
   "metadata": {},
   "outputs": [],
   "source": [
    "from statsmodels.stats.outliers_influence import variance_inflation_factor\n",
    "\n",
    "vif = [variance_inflation_factor(X_red.values, i) for i in range(X_red.shape[1])]\n",
    "pd.DataFrame(\n",
    "    {\"vif\": vif[1:]},\n",
    "    index=df.loc[:, [\"Population\", \"Murder\", \"HS Grad\", \"Frost\"]].columns,\n",
    ").T"
   ]
  },
  {
   "cell_type": "markdown",
   "id": "4ea3ae4b",
   "metadata": {},
   "source": [
    "### Ejercicio Propuesto Práctica\n",
    "\n",
    "**Utilice el conjunto de datos Ejercicio_Supuestos en la carpeta**\n",
    "\n",
    "La revista Biometry publicó en el año de 1981 los siguientes datos que relacionan la contaminación del aire observada en 41 ciudades de los Estados Unidos con un conjunto de seis variables explicativas definidas en los términos siguientes:\n",
    "\n",
    "y: concentración promedio anual de dióxido de azufre (microgramos por metro cúbico)\n",
    "x1: temperatura promedio anual (ºF)\n",
    "x2: número de fábricas que emplean 20 o más trabajadores\n",
    "\n",
    "x3: número de habitantes (en miles) según el censo de 1970\n",
    "x4: velocidad promedio anual del viento (millas por hora)\n",
    "x5: precipitación promedio anual (pulgadas)\n",
    "x6: número promedio de días con lluvias al año\n",
    "\n",
    "Se desea construir un modelo que permita caracterizar la relación entre la contaminación del aire y las seis variables explicativas, como también predecir el nivel de contaminación que se obtendría para ciertos valores de las variables explicativas previamente definidos.\n",
    "\n",
    "1.\tGrafique la variable y vs. cada una de las variables explicativas. A partir de los gráficos, determine si se requieren términos de orden superior para representar en el modelo alguna de las variables explicativas.\n",
    "2.\t¿Existe alguna evidencia de multicolinealidad entre las variables explicativas del modelo? Utilice en su diagnóstico:\n",
    "    a.\tDiagramas de dispersión\n",
    "    b.\tMatriz de correlaciones\n",
    "3.\tCalcule el factor de inflación de varianza para cada una de las variables explicativas de un modelo lineal que relaciona y con las variables x1 a x6. A partir de estos factores, ¿considera usted que hay un problema de multicolinealidad entre las variables explicativas? \n",
    "4.\t¿Cuáles variables explican en mayor grado la contaminación del aire?\n",
    "5.\tRealice una reducción de variables, luego con el modelo reducido responda:\n",
    "    a.\t¿ los residuos siguen una distribución normal? Justifique su respuesta.\n",
    "    b.\t¿ se satisface el supuesto de varianza constante? Justifique su respuesta.\n",
    "6.\tEstime la concentración promedio anual de dióxido de azufre en el aire en una ciudad que reporta los siguientes valores para las seis variables explicativas: x1 = 60, x2 = 150, x3 = 600, x4 = 10, x5 = 40, x6 = 100"
   ]
  },
  {
   "cell_type": "code",
   "execution_count": null,
   "id": "82e3494a",
   "metadata": {},
   "outputs": [],
   "source": []
  }
 ],
 "metadata": {
  "kernelspec": {
   "display_name": "Python 3",
   "language": "python",
   "name": "python3"
  },
  "language_info": {
   "codemirror_mode": {
    "name": "ipython",
    "version": 3
   },
   "file_extension": ".py",
   "mimetype": "text/x-python",
   "name": "python",
   "nbconvert_exporter": "python",
   "pygments_lexer": "ipython3",
   "version": "3.11.3"
  }
 },
 "nbformat": 4,
 "nbformat_minor": 5
}
