{
 "cells": [
  {
   "cell_type": "markdown",
   "id": "d06f5388",
   "metadata": {},
   "source": [
    "# Data Wrangling I"
   ]
  },
  {
   "cell_type": "markdown",
   "id": "1ce06057",
   "metadata": {},
   "source": [
    "## Objetivos\n",
    "\n",
    "1. Establecer la importancia del Data Wrangling en la analítica de datos.\n",
    "2. Realizar operaciones para modificar y limpiar datos usando `pandas`.\n",
    "3. Realizar operaciones para unir bases de datos usando `pandas`."
   ]
  },
  {
   "cell_type": "markdown",
   "id": "58cdaa23",
   "metadata": {},
   "source": [
    "# Modificar y limpiar datos utilizando `pandas`\n",
    "\n",
    "## 1. Modificar cadenas de texto contenidas en `Series` utilizando la librería `pandas`\n",
    "\n",
    "En `pandas`, las cadenas de texto contenidas en una `Serie` (o en columnas de un `DataFrame`) heredan varios métodos propios de los objetos de tipo cadena de texto. Para acceder a ellos los llamamos del módulo `Series.str` (o `DataFrame.str`).\n",
    "    \n",
    "A continuación explicamos la documentación de algunos de los métodos más comunes: `split`, `get_dummies`, `capitalize`, `lower`, `upper` y `strip`.\n",
    "\n",
    "* `split`: divide cada cadena de la `Serie` cada vez que encuentra la subcadena especificada en el parámetro `pat`. Utilizamos el parámetro `n` para limitar la cantidad de divisiones que realizamos las cadenas. Utilizamos el parámetro `expand` para retornar los segmentos de las cadenas en un `DataFrame` (`expand = True`) o en una `Serie` de listas (`expand = false`). <br><br>\n",
    "\n",
    "* `get_dummies`: crea un `DataFrame` donde las columnas corresponden a cada uno de los valores únicos de la `Serie`, las filas corresponden a los elementos de la `Serie` y los valores son binarios (`0` o `1`) dependiendo de si el elemento toma el valor que indica la columna.<br><br>\n",
    "\n",
    "* `capitalize`: revisa si el primer caracter de cada cadena es una letra minúscula y lo convierte en mayúscula y vuelve minúscula el resto de las letras en la cadena.    <br><br>\n",
    "\n",
    "* `lower`: convierte todas las letras de cada cadena en minúsculas.<br><br>\n",
    "    \n",
    "* `upper`: convierte todas las letras de cada cadena en mayúsculas.    <br><br>\n",
    "    \n",
    "* `strip`: elimina del inicio y del final de cada cadena de la `Serie`, la subcadena especificada en el parámetro `to_strip`. Si la subcadena no es especificada, por defecto se supone la subcadena `\" \"` (espacio)."
   ]
  },
  {
   "cell_type": "markdown",
   "id": "9a0dab77",
   "metadata": {},
   "source": [
    "Importamos el paquete `pandas`."
   ]
  },
  {
   "cell_type": "code",
   "execution_count": 1,
   "id": "92a5ee0c",
   "metadata": {},
   "outputs": [],
   "source": [
    "import pandas as pd"
   ]
  },
  {
   "cell_type": "markdown",
   "id": "4be437ba",
   "metadata": {},
   "source": [
    "##### Ejemplo 1\n",
    "\n",
    "En la siguiente celda de código declaramos una `Serie` con el nombre de algunos libros. Se nos pide que extraigamos el artículo del título de los libros que se encuentran dentro del `DataFrame`."
   ]
  },
  {
   "cell_type": "code",
   "execution_count": 2,
   "id": "9380b606",
   "metadata": {
    "scrolled": false
   },
   "outputs": [
    {
     "data": {
      "text/plain": [
       "0    El\n",
       "1    La\n",
       "2    La\n",
       "dtype: object"
      ]
     },
     "execution_count": 2,
     "metadata": {},
     "output_type": "execute_result"
    }
   ],
   "source": [
    "serie_libros = pd.Series([\"El Extranjero\", \"La Peste\", \"La Caída\"])\n",
    "serie_articulos = serie_libros.str[\n",
    "    :2\n",
    "]  # Tomamos los primeros dos caracteres del título.\n",
    "serie_articulos"
   ]
  },
  {
   "cell_type": "markdown",
   "id": "c0fa0591",
   "metadata": {},
   "source": [
    "Puede cumplirse lo mismo con el método `split`, como se ve a continuación:"
   ]
  },
  {
   "cell_type": "code",
   "execution_count": 3,
   "id": "cc400d08",
   "metadata": {
    "scrolled": false
   },
   "outputs": [
    {
     "data": {
      "text/plain": [
       "0    El\n",
       "1    La\n",
       "2    La\n",
       "Name: 0, dtype: object"
      ]
     },
     "execution_count": 3,
     "metadata": {},
     "output_type": "execute_result"
    }
   ],
   "source": [
    "serie_articulos = serie_libros.str.split(\" \", expand=True)\n",
    "serie_articulos[0]"
   ]
  },
  {
   "cell_type": "markdown",
   "id": "14973722",
   "metadata": {},
   "source": [
    "## 2. Representar fechas utilizando la librería `datetime`\n",
    "\n",
    "Una de las grandes ventajas de la programación de rutinas de código en Python es la versatilidad que ofrece. El caso de la manipulación de información temporal no es la excepción, en tanto Python permite representar los principales formatos de fechas que se usan en lenguajes de manipulación de bases de datos como SQL. El principal módulo a importar para trabajar con fechas es `datetime`. \n",
    "\n",
    "### 2.1. El módulo `datetime`\n",
    "\n",
    "La principal característica del módulo `datetime` es que permite trabajar simultáneamente con fechas (*Dates*) y tiempos (*Time*). Es decir, al crear un objeto con el módulo `datetime`, este contendrá la información de la fecha (día, mes y año) y un registro detallado del dato de tiempo (hora, minuto, segundo, microsegundo). Para importar el módulo `datetime` se puede usar la siguiente sintaxis:\n",
    "\n",
    "    from datetime import datetime\n",
    "    \n",
    "Esta sintaxis permite declarar de forma directa objetos de tipo `datetime` ya que importa los métodos del módulo (y no todo el paquete) `datetime`. Así, resulta innecesario referenciar nuevamente un objeto de este módulo. Para declarar una fecha se usa la siguiente sintaxis, empleando valores enteros como argumentos: \n",
    "\n",
    "    fecha = datetime(año, mes, dia)\n",
    "    \n",
    "A esta fecha se le asignará por defecto la primera hora del día (00:00:00). Si se desea, también se puede especificar el total de la información como en la siguiente declaración:\n",
    "\n",
    "    tiempo = datetime(año, mes, dia, hora, minuto, segundo, microsegundo)\n",
    "    \n",
    "A continuación, trabajaremos los principales métodos del módulo `datetime`.\n",
    "\n",
    "\n",
    "### 2.2. Métodos de los objetos tipo `datetime`\n",
    "\n",
    "|<center>Métodos</center>|<center>Descripción</center>|\n",
    "|:-|:-|\n",
    "|`weekday()`| Obtiene el día de la semana correspondiente a la fecha|\n",
    "|`isoweekday()`| Obtiene el día de la semana correspondiente a la fecha en formato ISO|\n",
    "|`__format__(formato)` | Confiere a un `datetime` el `formato` especificado|\n",
    "|`replace()` | Permite modificar cualquiera de los valores de una fecha particular (año, mes, dia)|\n",
    "\n",
    "### 2.3 Métodos del módulo `datetime`\n",
    "\n",
    "|<center>Métodos</center>|<center>Descripción</center>|\n",
    "|:-|:-|\n",
    "|`stftime(formato)` | Retorna una cadena de texto con la información de la fecha según el `formato` especificado|\n",
    "|`strptime(cadena_fecha)` | Crea un `datetime` con base en una fecha descrita por una cadena de texto (`cadena_fecha`)|\n",
    "\n",
    "Para usar los métodos `stftime` y `strptime` se usan las siguientes convenciones:\n",
    "\n",
    "|<center>Convención</center>|<center>Descripción</center>|\n",
    "|:-:|:-|\n",
    "|`'%a'`|Referencia los primeros caracteres del día de la semana 'Wed'|\n",
    "|`'%A'`|Referencia el nombre completo 'Wednesday' |\n",
    "|`'%B'`|Referencia el nombre completo del mes 'Septiembre'|\n",
    "|`'%w'`|Referencia el día de la semana con números del 0 al 6 donde el Domingo es el 0 |\n",
    "|`'%m'`|Referencia el número del mes del '01' al '12' |\n",
    "|`'%p'`|Referencia la hora en formato AM/PM|\n",
    "|`'%y'`|Referencia el año usando únicamente los últimos dos dígitos |\n",
    "|`'%Y'`|Referencia el año usando todos los dígitos |\n",
    "|`'%Z'`|Referencia la zona horaria|\n",
    "|`'%z'`|Referencia la zona horaria en formato UTC|\n",
    "|`'%j'`|Referencia el día del año del '001' al '366' |\n",
    "|`'%W'`|Referencia el día |\n",
    "|`'%U'`|Referencia el número de la semana en el año desde el '00' hasta el '53'|\n",
    "\n",
    "Ejemplificaremos el uso de los métodos `strftime` y `strptime` según estas."
   ]
  },
  {
   "cell_type": "markdown",
   "id": "b4c95f78",
   "metadata": {},
   "source": [
    "Importamos el módulo `datetime`."
   ]
  },
  {
   "cell_type": "code",
   "execution_count": 4,
   "id": "60f2bf1d",
   "metadata": {},
   "outputs": [],
   "source": [
    "from datetime import datetime"
   ]
  },
  {
   "cell_type": "markdown",
   "id": "5b479e17",
   "metadata": {},
   "source": [
    "##### Ejemplo 2\n",
    "\n",
    "Vamos a convertir la cadena de texto con formato `\"%y-%m-%d\"` en un objeto `datetime`."
   ]
  },
  {
   "cell_type": "code",
   "execution_count": 5,
   "id": "a67fc0d8",
   "metadata": {
    "scrolled": false
   },
   "outputs": [
    {
     "data": {
      "text/plain": [
       "datetime.datetime(2018, 12, 31, 0, 0)"
      ]
     },
     "execution_count": 5,
     "metadata": {},
     "output_type": "execute_result"
    }
   ],
   "source": [
    "cadena_fecha = \"18-12-31\"\n",
    "fecha = datetime.strptime(cadena_fecha, \"%y-%m-%d\")\n",
    "fecha"
   ]
  },
  {
   "cell_type": "markdown",
   "id": "7a01488f",
   "metadata": {},
   "source": [
    "También se habría podido lograr esta fecha con la cadena de texto que contiene todos los dígitos del año:"
   ]
  },
  {
   "cell_type": "code",
   "execution_count": 6,
   "id": "58b921c2",
   "metadata": {},
   "outputs": [
    {
     "data": {
      "text/plain": [
       "datetime.datetime(2018, 12, 31, 0, 0)"
      ]
     },
     "execution_count": 6,
     "metadata": {},
     "output_type": "execute_result"
    }
   ],
   "source": [
    "cadena_fecha = \"2018-12-31\"\n",
    "fecha = datetime.strptime(cadena_fecha, \"%Y-%m-%d\")\n",
    "fecha"
   ]
  },
  {
   "cell_type": "markdown",
   "id": "88e91c66",
   "metadata": {},
   "source": [
    "Recuerde que también se puede recuperar la cadena de texto original sobre la cual se creó la fecha usando el método `strftime`."
   ]
  },
  {
   "cell_type": "code",
   "execution_count": 7,
   "id": "9b0d450a",
   "metadata": {},
   "outputs": [
    {
     "data": {
      "text/plain": [
       "'2018-12-31'"
      ]
     },
     "execution_count": 7,
     "metadata": {},
     "output_type": "execute_result"
    }
   ],
   "source": [
    "cadena_fecha = datetime.strftime(fecha, \"%Y-%m-%d\")\n",
    "cadena_fecha  # tipo: cadena de texto"
   ]
  },
  {
   "cell_type": "markdown",
   "id": "eb6aef77",
   "metadata": {},
   "source": [
    "### 2.3. Columnas con formato de fechas\n",
    "\n",
    "Una vez conocemos el procedimiento para transformar cadenas de texto en objetos `datetime` podemos pensar en cómo transformar columnas o `Series` de enteros o cadenas de texto en fechas. La manera más frecuente es por medio del método `to_datetime` de `pandas`: \n",
    "\n",
    "    to_datetime(arg = cadena_fecha, UTC = None, format = None)\n",
    "\n",
    "A continuación, describimos el uso de los parámetros.\n",
    "\n",
    "* `arg`: cadena de texto, entero, lista, arreglo o fecha (`datetime`) a transformar en una fecha (`datetime`). <br><br>\n",
    "\n",
    "* `UTC`: especifica la zona horaria.<br><br>\n",
    "\n",
    "* `format`: recibe una cadena de texto que indica el formato de la fecha según las convenciones."
   ]
  },
  {
   "cell_type": "markdown",
   "id": "289d17a2",
   "metadata": {},
   "source": [
    "##### Ejemplo 3\n",
    "\n",
    "En la celda de código a continuación, importamos el índice de los títulos de deuda pública de los TES de Corto Plazo para los años comprendidos entre el 2010 y 2019. Estos datos fueron descargados directamente de la página de la Bolsa de Valores de Colombia disponible en las referencias. Declaramos un `DataFrame` indexado por su columna `\"fecha\"`.\n",
    "\n",
    "Empecemos inspeccionando la base de datos:"
   ]
  },
  {
   "cell_type": "code",
   "execution_count": 8,
   "id": "8d73e4e1",
   "metadata": {
    "scrolled": false
   },
   "outputs": [
    {
     "name": "stdout",
     "output_type": "stream",
     "text": [
      "<class 'pandas.core.frame.DataFrame'>\n",
      "Index: 2902 entries, nan to nan\n",
      "Data columns (total 8 columns):\n",
      " #   Column               Non-Null Count  Dtype  \n",
      "---  ------               --------------  -----  \n",
      " 0   Fecha                2902 non-null   int64  \n",
      " 1   Indice               2902 non-null   object \n",
      " 2   Valor Hoy            2902 non-null   float64\n",
      " 3   Valor Ayer           2902 non-null   float64\n",
      " 4   Variacion %          2902 non-null   float64\n",
      " 5   VariaciÃ³n Absoluta  2902 non-null   float64\n",
      " 6   Variacion 12 meses   2902 non-null   float64\n",
      " 7   VariaciÃ³n Anual     2902 non-null   float64\n",
      "dtypes: float64(6), int64(1), object(1)\n",
      "memory usage: 204.0+ KB\n"
     ]
    }
   ],
   "source": [
    "dfTES = pd.read_excel(\"Indices.xls\", index_col=0, header=1)\n",
    "dfTES.info()"
   ]
  },
  {
   "cell_type": "markdown",
   "id": "81012b7d",
   "metadata": {},
   "source": [
    "Notamos que la base de datos está indexada por el número de fila, por lo que podemos indexar el `DataFrame` en la fecha sin perder información, como se muestra a continuación:"
   ]
  },
  {
   "cell_type": "code",
   "execution_count": 9,
   "id": "ccd48497",
   "metadata": {
    "scrolled": false
   },
   "outputs": [
    {
     "data": {
      "text/plain": [
       "DatetimeIndex(['2010-01-01', '2010-01-02', '2010-01-03', '2010-01-04',\n",
       "               '2010-01-05', '2010-01-06', '2010-01-07', '2010-01-08',\n",
       "               '2010-01-09', '2010-01-10',\n",
       "               ...\n",
       "               '2019-12-16', '2019-12-17', '2019-12-18', '2019-12-19',\n",
       "               '2019-12-20', '2019-12-23', '2019-12-24', '2019-12-26',\n",
       "               '2019-12-27', '2019-12-30'],\n",
       "              dtype='datetime64[ns]', name='Fecha', length=2902, freq=None)"
      ]
     },
     "execution_count": 9,
     "metadata": {},
     "output_type": "execute_result"
    }
   ],
   "source": [
    "dfTES.index = pd.to_datetime(dfTES[\"Fecha\"], format=\"%Y%m%d\")\n",
    "dfTES.index"
   ]
  },
  {
   "cell_type": "markdown",
   "id": "01a21b6c",
   "metadata": {},
   "source": [
    "Como el índice es de tipo `datetime`, podemos utilizar los métodos de este módulo. Por ejemplo, `weekday` para el día de la semana."
   ]
  },
  {
   "cell_type": "code",
   "execution_count": 10,
   "id": "d42dbf32",
   "metadata": {
    "scrolled": false
   },
   "outputs": [
    {
     "data": {
      "text/plain": [
       "Index([4, 5, 6, 0, 1, 2, 3, 4, 5, 6,\n",
       "       ...\n",
       "       0, 1, 2, 3, 4, 0, 1, 3, 4, 0],\n",
       "      dtype='int32', name='Fecha', length=2902)"
      ]
     },
     "execution_count": 10,
     "metadata": {},
     "output_type": "execute_result"
    }
   ],
   "source": [
    "dfTES.index.weekday"
   ]
  },
  {
   "cell_type": "markdown",
   "id": "1489d057",
   "metadata": {},
   "source": [
    "## 3. Imputar datos faltantes en un `DataFrame`, utilizando la librería `pandas`.\n",
    "\n",
    "### 3.1. Representación de datos faltantes dentro de Python\n",
    "\n",
    "Python cuenta con dos alternativas para representar datos faltantes: el objeto `None` y el valor `nan` (*Not a Number*) del paquete `numpy`. El valor `nan` es almacenado como un objeto de tipo `float`. Así, podemos aplicar métodos de `numpy` sobre arreglos numéricos, incluso si contienen valores `nan`. Dado que `nan` es un elemento del paquete, podemos asignarlo a variables o invocarlo de la misma manera que cualquier método o constante.\n",
    "\n",
    "Importemos el paquete `numpy`."
   ]
  },
  {
   "cell_type": "code",
   "execution_count": 11,
   "id": "0423c727",
   "metadata": {},
   "outputs": [],
   "source": [
    "import numpy as np"
   ]
  },
  {
   "cell_type": "markdown",
   "id": "188ff7c2",
   "metadata": {},
   "source": [
    "Al aplicar métodos de `numpy` sobre arreglos que contienen valores `nan`, el resultado suele ser `nan`."
   ]
  },
  {
   "cell_type": "code",
   "execution_count": 12,
   "id": "70d23e3e",
   "metadata": {
    "scrolled": true
   },
   "outputs": [
    {
     "data": {
      "text/plain": [
       "nan"
      ]
     },
     "execution_count": 12,
     "metadata": {},
     "output_type": "execute_result"
    }
   ],
   "source": [
    "numeros = np.array([1, 2, 3, 4, np.nan])\n",
    "promedio = np.mean(numeros)\n",
    "promedio"
   ]
  },
  {
   "cell_type": "markdown",
   "id": "1d8052a1",
   "metadata": {},
   "source": [
    "Pese a no ser un número, `nan` es de tipo numérico (`float`)."
   ]
  },
  {
   "cell_type": "code",
   "execution_count": 13,
   "id": "7020f861",
   "metadata": {},
   "outputs": [
    {
     "data": {
      "text/plain": [
       "float"
      ]
     },
     "execution_count": 13,
     "metadata": {},
     "output_type": "execute_result"
    }
   ],
   "source": [
    "type(np.nan)"
   ]
  },
  {
   "cell_type": "markdown",
   "id": "f65cd755",
   "metadata": {},
   "source": [
    "En este caso, para poder calcular el promedio utilizamos el método `nanmean`, el cual omite los valores `nan`."
   ]
  },
  {
   "cell_type": "code",
   "execution_count": 14,
   "id": "1fb7eab0",
   "metadata": {
    "scrolled": false
   },
   "outputs": [
    {
     "data": {
      "text/plain": [
       "2.5"
      ]
     },
     "execution_count": 14,
     "metadata": {},
     "output_type": "execute_result"
    }
   ],
   "source": [
    "numeros = np.array([1, 2, 3, 4, np.nan])\n",
    "promedio = np.nanmean(numeros)\n",
    "promedio"
   ]
  },
  {
   "cell_type": "markdown",
   "id": "e2440795",
   "metadata": {},
   "source": [
    "Ninguno de estos métodos sirve para un objeto `None`, ya que `numpy` no lo tiene definido como de tipo numérico. Veamos un ejemplo."
   ]
  },
  {
   "cell_type": "code",
   "execution_count": 15,
   "id": "72f6065f",
   "metadata": {
    "scrolled": false
   },
   "outputs": [
    {
     "name": "stdout",
     "output_type": "stream",
     "text": [
      "El arreglo tiene valores faltantes.\n",
      "El arreglo contiene valores no numéricos.\n"
     ]
    }
   ],
   "source": [
    "numeros = np.array([1, 2, 3, 4, None])\n",
    "try:\n",
    "    np.mean(numeros)\n",
    "except:\n",
    "    print(\"El arreglo tiene valores faltantes.\")\n",
    "try:\n",
    "    np.nanmean(numeros)\n",
    "except:\n",
    "    print(\"El arreglo contiene valores no numéricos.\")"
   ]
  },
  {
   "cell_type": "markdown",
   "id": "2e98b91a",
   "metadata": {},
   "source": [
    "### 3.2. Imputar datos faltantes utilizando la librería `pandas `\n",
    "\n",
    "Debido a que `numpy` puede operar sobre los objetos `nan` y no sobre los `None`, `pandas` representa los datos faltantes en una `Serie` con el valor `nan`. Al introducir valores faltantes dentro de una `Serie`, `pandas` transforma el tipo de dato para que sea compatible con el de los valores `nan`. \n",
    "\n",
    "Al introducir un valor `nan` a una `Serie`, `pandas`:\n",
    "\n",
    "* convierte la `Serie` en tipo `float`, si este es una `Serie` de enteros.<br><br>\n",
    "* convierte la `Serie` en tipo `object`, si este es una `Serie` de valores lógicos.<br><br>\n",
    "* conserva el tipo de la `Serie`, si este es de tipo `float` u `object`.\n",
    "\n",
    "**Nota:** recuerda que toda la información aplicable a una `Serie` es igualmente aplicable a una columna de un `DataFrame`."
   ]
  },
  {
   "cell_type": "markdown",
   "id": "5f4e9f19",
   "metadata": {},
   "source": [
    "##### Ejemplo 4\n",
    "\n",
    "Para ilustrar el cambio de tipo de dato, creamos una `Serie` con los enteros del 1 al 10. Ya creado, reemplazamos el primer elemento por un `nan`."
   ]
  },
  {
   "cell_type": "code",
   "execution_count": 16,
   "id": "79016d14",
   "metadata": {
    "scrolled": false
   },
   "outputs": [
    {
     "data": {
      "text/plain": [
       "0      NaN\n",
       "1      1.0\n",
       "2      2.0\n",
       "3      3.0\n",
       "4      4.0\n",
       "5      5.0\n",
       "6      6.0\n",
       "7      7.0\n",
       "8      8.0\n",
       "9      9.0\n",
       "10    10.0\n",
       "dtype: float64"
      ]
     },
     "execution_count": 16,
     "metadata": {},
     "output_type": "execute_result"
    }
   ],
   "source": [
    "numeros = pd.Series(range(11), dtype=int)\n",
    "numeros[0] = np.nan\n",
    "numeros"
   ]
  },
  {
   "cell_type": "markdown",
   "id": "2a6bd406",
   "metadata": {},
   "source": [
    "Confirmamos que la `Serie` en la variable `numeros` pasó de ser de tipo entero a ser de tipo `float`. Ahora bien, ¿cómo haríamos para detectar los faltantes y después eliminarlos o reemplazarlos?. Hay varias maneras, una de ellas es usar los métodos `notnull` e `isnull`. Estos métodos generan una `Serie` de booleanos que identifican los datos faltantes con el valor de `True` para el método `isnull` y `False` para el método `notnull`. El siguiente ejemplo ilustra el uso del método `notnull`."
   ]
  },
  {
   "cell_type": "markdown",
   "id": "3de19558",
   "metadata": {},
   "source": [
    "##### Ejemplo 5\n",
    "\n",
    "Vamos a usar el método `notnull` para eliminar los datos faltantes de la `Serie` en la celda de código:"
   ]
  },
  {
   "cell_type": "code",
   "execution_count": 17,
   "id": "e0d00dbe",
   "metadata": {
    "scrolled": false
   },
   "outputs": [
    {
     "data": {
      "text/plain": [
       "0     0.0\n",
       "1     1.0\n",
       "2     2.0\n",
       "3     3.0\n",
       "4     4.0\n",
       "5     NaN\n",
       "6     6.0\n",
       "7     7.0\n",
       "8     8.0\n",
       "9     9.0\n",
       "10    NaN\n",
       "dtype: float64"
      ]
     },
     "execution_count": 17,
     "metadata": {},
     "output_type": "execute_result"
    }
   ],
   "source": [
    "numeros = pd.Series([*range(5), np.nan, *range(6, 10), np.nan])\n",
    "numeros"
   ]
  },
  {
   "cell_type": "code",
   "execution_count": 18,
   "id": "ff553773",
   "metadata": {},
   "outputs": [
    {
     "data": {
      "text/plain": [
       "0    0.0\n",
       "1    1.0\n",
       "2    2.0\n",
       "3    3.0\n",
       "4    4.0\n",
       "6    6.0\n",
       "7    7.0\n",
       "8    8.0\n",
       "9    9.0\n",
       "dtype: float64"
      ]
     },
     "execution_count": 18,
     "metadata": {},
     "output_type": "execute_result"
    }
   ],
   "source": [
    "numeros = numeros[numeros.notnull()]\n",
    "numeros  # Se quitaron las filas con índices 5 y 10"
   ]
  },
  {
   "cell_type": "markdown",
   "id": "3d54b791",
   "metadata": {},
   "source": [
    "### 3.3. Métodos para imputar faltantes utilizando la librería `pandas`\n",
    "\n",
    "Existen dos métodos en `pandas` para manipular los datos faltantes: `dropna` y `fillna`.\n",
    "\n",
    "#### Método `dropna`\n",
    "\n",
    "Este método elimina aquellas columnas o filas que contengan entradas `nan`. \n",
    "\n",
    "    DataFrame.dropna(axis = 0, how = 'any', thresh = 0, subset = DataFrame.columns)\n",
    "\n",
    "* `axis`: indica si aplicar el método sobre sobre las filas (`axis = 0`) o sobre las columnas (`axis = 1`). Por defecto es sobre las filas.<br><br>\n",
    "\n",
    "* `how`: <br><br>\n",
    "    * `how = 'any'`: elimina la fila o la columna si contiene al menos un faltante.\n",
    "    * `how = 'all'`: elimina la fila o la columna si solo contiene faltantes.<br><br>\n",
    "\n",
    "* `thresh`: elimina todas las filas o columnas con más datos faltantes que el umbral (de tipo `int`) especificado. <br><br>\n",
    "\n",
    "* `subset`: permite seleccionar un subconjunto de columnas o de filas sobre el cual aplicar el método."
   ]
  },
  {
   "cell_type": "markdown",
   "id": "4429a37d",
   "metadata": {},
   "source": [
    "##### Ejemplo 6\n",
    "\n",
    "A continuación, declaramos un `DataFrame` para ejemplificar el uso del método `dropna`."
   ]
  },
  {
   "cell_type": "code",
   "execution_count": 19,
   "id": "d7bb85a3",
   "metadata": {
    "scrolled": true
   },
   "outputs": [
    {
     "data": {
      "text/html": [
       "<div>\n",
       "<style scoped>\n",
       "    .dataframe tbody tr th:only-of-type {\n",
       "        vertical-align: middle;\n",
       "    }\n",
       "\n",
       "    .dataframe tbody tr th {\n",
       "        vertical-align: top;\n",
       "    }\n",
       "\n",
       "    .dataframe thead th {\n",
       "        text-align: right;\n",
       "    }\n",
       "</style>\n",
       "<table border=\"1\" class=\"dataframe\">\n",
       "  <thead>\n",
       "    <tr style=\"text-align: right;\">\n",
       "      <th></th>\n",
       "      <th>A</th>\n",
       "      <th>B</th>\n",
       "      <th>C</th>\n",
       "      <th>D</th>\n",
       "    </tr>\n",
       "  </thead>\n",
       "  <tbody>\n",
       "    <tr>\n",
       "      <th>0</th>\n",
       "      <td>1.0</td>\n",
       "      <td>NaN</td>\n",
       "      <td>NaN</td>\n",
       "      <td>2.0</td>\n",
       "    </tr>\n",
       "    <tr>\n",
       "      <th>1</th>\n",
       "      <td>NaN</td>\n",
       "      <td>NaN</td>\n",
       "      <td>1.0</td>\n",
       "      <td>NaN</td>\n",
       "    </tr>\n",
       "    <tr>\n",
       "      <th>2</th>\n",
       "      <td>NaN</td>\n",
       "      <td>0.0</td>\n",
       "      <td>NaN</td>\n",
       "      <td>2.0</td>\n",
       "    </tr>\n",
       "  </tbody>\n",
       "</table>\n",
       "</div>"
      ],
      "text/plain": [
       "     A    B    C    D\n",
       "0  1.0  NaN  NaN  2.0\n",
       "1  NaN  NaN  1.0  NaN\n",
       "2  NaN  0.0  NaN  2.0"
      ]
     },
     "execution_count": 19,
     "metadata": {},
     "output_type": "execute_result"
    }
   ],
   "source": [
    "tabla_numeros = pd.DataFrame(\n",
    "    [[1, np.nan, np.nan, 2], [np.nan, np.nan, 1, np.nan], [np.nan, 0, np.nan, 2]],\n",
    "    columns=[\"A\", \"B\", \"C\", \"D\"],\n",
    ")\n",
    "tabla_numeros"
   ]
  },
  {
   "cell_type": "markdown",
   "id": "973bda5d",
   "metadata": {},
   "source": [
    "Utilizamos el método `dropna` para eliminar aquellas filas que solo contienen datos faltantes en el subconjunto de columnas `A` y `C`."
   ]
  },
  {
   "cell_type": "code",
   "execution_count": 20,
   "id": "ca021877",
   "metadata": {},
   "outputs": [
    {
     "data": {
      "text/html": [
       "<div>\n",
       "<style scoped>\n",
       "    .dataframe tbody tr th:only-of-type {\n",
       "        vertical-align: middle;\n",
       "    }\n",
       "\n",
       "    .dataframe tbody tr th {\n",
       "        vertical-align: top;\n",
       "    }\n",
       "\n",
       "    .dataframe thead th {\n",
       "        text-align: right;\n",
       "    }\n",
       "</style>\n",
       "<table border=\"1\" class=\"dataframe\">\n",
       "  <thead>\n",
       "    <tr style=\"text-align: right;\">\n",
       "      <th></th>\n",
       "      <th>A</th>\n",
       "      <th>B</th>\n",
       "      <th>C</th>\n",
       "      <th>D</th>\n",
       "    </tr>\n",
       "  </thead>\n",
       "  <tbody>\n",
       "    <tr>\n",
       "      <th>0</th>\n",
       "      <td>1.0</td>\n",
       "      <td>NaN</td>\n",
       "      <td>NaN</td>\n",
       "      <td>2.0</td>\n",
       "    </tr>\n",
       "    <tr>\n",
       "      <th>1</th>\n",
       "      <td>NaN</td>\n",
       "      <td>NaN</td>\n",
       "      <td>1.0</td>\n",
       "      <td>NaN</td>\n",
       "    </tr>\n",
       "  </tbody>\n",
       "</table>\n",
       "</div>"
      ],
      "text/plain": [
       "     A   B    C    D\n",
       "0  1.0 NaN  NaN  2.0\n",
       "1  NaN NaN  1.0  NaN"
      ]
     },
     "execution_count": 20,
     "metadata": {},
     "output_type": "execute_result"
    }
   ],
   "source": [
    "tabla_numeros.dropna(how=\"all\", subset=[\"A\", \"C\"])"
   ]
  },
  {
   "cell_type": "markdown",
   "id": "e8e1737b",
   "metadata": {},
   "source": [
    "#### Método `fillna`\n",
    "\n",
    "    DataFrame.fillna(value = None, method = None, axis = None, inplace = False, limit = 0)\n",
    "\n",
    "* `value`: indica el valor o diccionario de valores para imputar en las entradas `nan`.<br><br>\n",
    "\n",
    "* `method`:<br><br>\n",
    "    * `method = 'ffil'`: (*forward fill*) rellena cada dato faltante con el dato no faltante anterior.   \n",
    "    * `method = 'bfill'`: (*backward fill*) rellena cada dato faltante con el dato no faltante siguiente.<br><br>\n",
    "\n",
    "* `axis`: <br><br>\n",
    "    * `0`: aplica el método sobre las filas.\n",
    "    * `1`: aplica el método sobre las columnas.<br><br>\n",
    "\n",
    "* `inplace`:<br><br>\n",
    "    * `inplace = True`: aplica los cambios sobre la variable que invoca el método.\n",
    "    * `inplace = False`: aplica los cambios sobre una copia de la variable que invoca el método.<br><br>\n",
    "\n",
    "* `limit`: limita el número máximo de datos a imputar hacia adelante (o hacia atrás), según lo especificado en el parámetro `method`."
   ]
  },
  {
   "cell_type": "markdown",
   "id": "d19676b6",
   "metadata": {},
   "source": [
    "##### Ejemplo 7\n",
    "\n",
    "Vamos a completar los datos del siguiente `DataFrame` reemplazando los valores faltantes por su anterior no faltante en la misma fila."
   ]
  },
  {
   "cell_type": "code",
   "execution_count": 21,
   "id": "2c5cbe07",
   "metadata": {},
   "outputs": [
    {
     "data": {
      "text/html": [
       "<div>\n",
       "<style scoped>\n",
       "    .dataframe tbody tr th:only-of-type {\n",
       "        vertical-align: middle;\n",
       "    }\n",
       "\n",
       "    .dataframe tbody tr th {\n",
       "        vertical-align: top;\n",
       "    }\n",
       "\n",
       "    .dataframe thead th {\n",
       "        text-align: right;\n",
       "    }\n",
       "</style>\n",
       "<table border=\"1\" class=\"dataframe\">\n",
       "  <thead>\n",
       "    <tr style=\"text-align: right;\">\n",
       "      <th></th>\n",
       "      <th>A</th>\n",
       "      <th>B</th>\n",
       "      <th>C</th>\n",
       "      <th>D</th>\n",
       "    </tr>\n",
       "  </thead>\n",
       "  <tbody>\n",
       "    <tr>\n",
       "      <th>0</th>\n",
       "      <td>1.0</td>\n",
       "      <td>NaN</td>\n",
       "      <td>NaN</td>\n",
       "      <td>2.0</td>\n",
       "    </tr>\n",
       "    <tr>\n",
       "      <th>1</th>\n",
       "      <td>NaN</td>\n",
       "      <td>NaN</td>\n",
       "      <td>1.0</td>\n",
       "      <td>NaN</td>\n",
       "    </tr>\n",
       "    <tr>\n",
       "      <th>2</th>\n",
       "      <td>NaN</td>\n",
       "      <td>0.0</td>\n",
       "      <td>NaN</td>\n",
       "      <td>2.0</td>\n",
       "    </tr>\n",
       "  </tbody>\n",
       "</table>\n",
       "</div>"
      ],
      "text/plain": [
       "     A    B    C    D\n",
       "0  1.0  NaN  NaN  2.0\n",
       "1  NaN  NaN  1.0  NaN\n",
       "2  NaN  0.0  NaN  2.0"
      ]
     },
     "execution_count": 21,
     "metadata": {},
     "output_type": "execute_result"
    }
   ],
   "source": [
    "tabla_numeros = pd.DataFrame(\n",
    "    [[1, np.nan, np.nan, 2], [np.nan, np.nan, 1, np.nan], [np.nan, 0, np.nan, 2]],\n",
    "    columns=[\"A\", \"B\", \"C\", \"D\"],\n",
    ")\n",
    "tabla_numeros"
   ]
  },
  {
   "cell_type": "markdown",
   "id": "c37856f4",
   "metadata": {},
   "source": [
    "Para esto, debemos especificar `axis = 1`. Además, como utilizaremos los valores precedentes, especificamos `method = ffill`."
   ]
  },
  {
   "cell_type": "code",
   "execution_count": 22,
   "id": "8fde604a",
   "metadata": {},
   "outputs": [
    {
     "data": {
      "text/html": [
       "<div>\n",
       "<style scoped>\n",
       "    .dataframe tbody tr th:only-of-type {\n",
       "        vertical-align: middle;\n",
       "    }\n",
       "\n",
       "    .dataframe tbody tr th {\n",
       "        vertical-align: top;\n",
       "    }\n",
       "\n",
       "    .dataframe thead th {\n",
       "        text-align: right;\n",
       "    }\n",
       "</style>\n",
       "<table border=\"1\" class=\"dataframe\">\n",
       "  <thead>\n",
       "    <tr style=\"text-align: right;\">\n",
       "      <th></th>\n",
       "      <th>A</th>\n",
       "      <th>B</th>\n",
       "      <th>C</th>\n",
       "      <th>D</th>\n",
       "    </tr>\n",
       "  </thead>\n",
       "  <tbody>\n",
       "    <tr>\n",
       "      <th>0</th>\n",
       "      <td>1.0</td>\n",
       "      <td>1.0</td>\n",
       "      <td>1.0</td>\n",
       "      <td>2.0</td>\n",
       "    </tr>\n",
       "    <tr>\n",
       "      <th>1</th>\n",
       "      <td>NaN</td>\n",
       "      <td>NaN</td>\n",
       "      <td>1.0</td>\n",
       "      <td>1.0</td>\n",
       "    </tr>\n",
       "    <tr>\n",
       "      <th>2</th>\n",
       "      <td>NaN</td>\n",
       "      <td>0.0</td>\n",
       "      <td>0.0</td>\n",
       "      <td>2.0</td>\n",
       "    </tr>\n",
       "  </tbody>\n",
       "</table>\n",
       "</div>"
      ],
      "text/plain": [
       "     A    B    C    D\n",
       "0  1.0  1.0  1.0  2.0\n",
       "1  NaN  NaN  1.0  1.0\n",
       "2  NaN  0.0  0.0  2.0"
      ]
     },
     "execution_count": 22,
     "metadata": {},
     "output_type": "execute_result"
    }
   ],
   "source": [
    "tabla_numeros = tabla_numeros.fillna(axis=1, method=\"ffill\")\n",
    "tabla_numeros"
   ]
  },
  {
   "cell_type": "markdown",
   "id": "5f8903f7",
   "metadata": {},
   "source": [
    "##### Ejemplo 8\n",
    "\n",
    "Imputamos cada una de las entradas faltantes (columna `A`, fila `1`; columna `A`, fila `2`; columna `B` , fila `1`) del objeto `tabla_numeros` con el valor del promedio de la columna a la que pertenece."
   ]
  },
  {
   "cell_type": "code",
   "execution_count": 23,
   "id": "0dad0d3c",
   "metadata": {},
   "outputs": [
    {
     "data": {
      "text/html": [
       "<div>\n",
       "<style scoped>\n",
       "    .dataframe tbody tr th:only-of-type {\n",
       "        vertical-align: middle;\n",
       "    }\n",
       "\n",
       "    .dataframe tbody tr th {\n",
       "        vertical-align: top;\n",
       "    }\n",
       "\n",
       "    .dataframe thead th {\n",
       "        text-align: right;\n",
       "    }\n",
       "</style>\n",
       "<table border=\"1\" class=\"dataframe\">\n",
       "  <thead>\n",
       "    <tr style=\"text-align: right;\">\n",
       "      <th></th>\n",
       "      <th>A</th>\n",
       "      <th>B</th>\n",
       "      <th>C</th>\n",
       "      <th>D</th>\n",
       "    </tr>\n",
       "  </thead>\n",
       "  <tbody>\n",
       "    <tr>\n",
       "      <th>0</th>\n",
       "      <td>1.0</td>\n",
       "      <td>1.0</td>\n",
       "      <td>1.0</td>\n",
       "      <td>2.0</td>\n",
       "    </tr>\n",
       "    <tr>\n",
       "      <th>1</th>\n",
       "      <td>1.0</td>\n",
       "      <td>0.5</td>\n",
       "      <td>1.0</td>\n",
       "      <td>1.0</td>\n",
       "    </tr>\n",
       "    <tr>\n",
       "      <th>2</th>\n",
       "      <td>1.0</td>\n",
       "      <td>0.0</td>\n",
       "      <td>0.0</td>\n",
       "      <td>2.0</td>\n",
       "    </tr>\n",
       "  </tbody>\n",
       "</table>\n",
       "</div>"
      ],
      "text/plain": [
       "     A    B    C    D\n",
       "0  1.0  1.0  1.0  2.0\n",
       "1  1.0  0.5  1.0  1.0\n",
       "2  1.0  0.0  0.0  2.0"
      ]
     },
     "execution_count": 23,
     "metadata": {},
     "output_type": "execute_result"
    }
   ],
   "source": [
    "tabla_numeros = tabla_numeros.fillna(tabla_numeros.mean())\n",
    "tabla_numeros"
   ]
  },
  {
   "cell_type": "markdown",
   "id": "07f16852",
   "metadata": {},
   "source": [
    "\n",
    "# Unir bases de datos utilizando `pandas`\n",
    "\n",
    "La información para analizar un problema no siempre se encuentra toda en un mismo archivo. Por lo anterior, es necesario unir la información disponible de múltiples fuentes en una misma base de datos. A continuación, expondremos los métodos disponibles en `pandas` para llevar a cabo esa tarea."
   ]
  },
  {
   "cell_type": "markdown",
   "id": "a366963c",
   "metadata": {},
   "source": [
    "## 4. Unir bases de datos \n",
    "\n",
    "Unir bases de datos significa consolidar la información existente en dos o más bases de datos de acuerdo con la coincidencia, bien sea de sus columnas, o de sus filas."
   ]
  },
  {
   "cell_type": "markdown",
   "id": "1c7f917a",
   "metadata": {},
   "source": [
    "### 4.1. Unir bases de datos por coincidencia de columnas\n",
    "\n",
    "#### Método `append`\n",
    "\n",
    "Agrega a un `DataFrame` las filas de otro según coincidan las columnas en los dos.\n",
    "\n",
    "    DataFrame.append(other, ignore_index = False, verify_integrity = False, sort = False) \n",
    "\n",
    "Debido a que se usa la coincidencia de columnas. Si el `DataDrame` que llama el método tiene $n$ filas y el `DataFrame` por parámetro tiene $m$ filas, el `DataFrame` resultante tendrá $n+m$ filas. A continuación una explicación de los parámetros.\n",
    "\n",
    "* `other`: el `DataFrame` a unir. <br><br>\n",
    "\n",
    "* `ignore_index`: es `False` por defecto.<br><br>\n",
    "\n",
    "    * `ignore_index = True`: la base de datos resultante no tendrá en cuenta los índices de ninguno de los dos `DataFrame` y asignará un índice numérico desde $0$ hasta $n+m-1$.\n",
    "\n",
    "    * `ignore_index = False`: el índice de la base de datos resultante conserva los índices de los dos `DataFrame` originales.<br><br>\n",
    "\n",
    "* `verify_integrity`: solo aplica si `ignore_index = False`. Por defecto, `verify_index = False`.<br><br>\n",
    "\n",
    "    * `verify_integrity = True`: arroja `ValueError` si en el `DataFrame` resultante hay indices duplicados.\n",
    "\n",
    "    * `verify_integrity = False`: permite tener índices repetidos en el `DataFrame` resultante.<br><br>\n",
    "\n",
    "* `sort`: Por defecto, `sort = False`.<br><br>\n",
    "\n",
    "    * `sort = True`: asigna un orden lexicográfico a las columnas del `DataFrame` resultante.\n",
    "\n",
    "    * `sort = False`: preserva el orden en el que aparecen las columnas de los `DataFrame` originales."
   ]
  },
  {
   "cell_type": "markdown",
   "id": "e4fae1c4",
   "metadata": {},
   "source": [
    "##### Ejemplo 9\n",
    "\n",
    "En la celda de código encontramos dos `DataFrame`. Se nos pide unirlos con base en la coincidencia de sus columnas. Las columnas del `DafaFrame` resultante deben estar ordenadas."
   ]
  },
  {
   "cell_type": "code",
   "execution_count": 24,
   "id": "65d42e2f",
   "metadata": {},
   "outputs": [],
   "source": [
    "df = pd.DataFrame([[1, 2], [3, 4]], columns=[\"B\", \"A\"])\n",
    "\n",
    "df2 = pd.DataFrame([[3, 2, 4], [3, 4, 6]], columns=[\"C\", \"A\", \"B\"])"
   ]
  },
  {
   "cell_type": "markdown",
   "id": "057baa6e",
   "metadata": {},
   "source": [
    "Usamos el método `concat`, ingresando como parámetro `df2` y estableciendo `sort = True` para ordenar las columnas."
   ]
  },
  {
   "cell_type": "code",
   "execution_count": 26,
   "id": "bf0c3f8b",
   "metadata": {},
   "outputs": [
    {
     "data": {
      "text/html": [
       "<div>\n",
       "<style scoped>\n",
       "    .dataframe tbody tr th:only-of-type {\n",
       "        vertical-align: middle;\n",
       "    }\n",
       "\n",
       "    .dataframe tbody tr th {\n",
       "        vertical-align: top;\n",
       "    }\n",
       "\n",
       "    .dataframe thead th {\n",
       "        text-align: right;\n",
       "    }\n",
       "</style>\n",
       "<table border=\"1\" class=\"dataframe\">\n",
       "  <thead>\n",
       "    <tr style=\"text-align: right;\">\n",
       "      <th></th>\n",
       "      <th>A</th>\n",
       "      <th>B</th>\n",
       "      <th>C</th>\n",
       "    </tr>\n",
       "  </thead>\n",
       "  <tbody>\n",
       "    <tr>\n",
       "      <th>0</th>\n",
       "      <td>2</td>\n",
       "      <td>1</td>\n",
       "      <td>NaN</td>\n",
       "    </tr>\n",
       "    <tr>\n",
       "      <th>1</th>\n",
       "      <td>4</td>\n",
       "      <td>3</td>\n",
       "      <td>NaN</td>\n",
       "    </tr>\n",
       "    <tr>\n",
       "      <th>0</th>\n",
       "      <td>2</td>\n",
       "      <td>4</td>\n",
       "      <td>3.0</td>\n",
       "    </tr>\n",
       "    <tr>\n",
       "      <th>1</th>\n",
       "      <td>4</td>\n",
       "      <td>6</td>\n",
       "      <td>3.0</td>\n",
       "    </tr>\n",
       "  </tbody>\n",
       "</table>\n",
       "</div>"
      ],
      "text/plain": [
       "   A  B    C\n",
       "0  2  1  NaN\n",
       "1  4  3  NaN\n",
       "0  2  4  3.0\n",
       "1  4  6  3.0"
      ]
     },
     "execution_count": 26,
     "metadata": {},
     "output_type": "execute_result"
    }
   ],
   "source": [
    "pd.concat([df, df2], sort=True)"
   ]
  },
  {
   "cell_type": "markdown",
   "id": "1da328f7",
   "metadata": {},
   "source": [
    "### 4.2. Unir bases de datos por coincidencia de filas\n",
    "\n",
    "Estos métodos agregan a un `DataFrame` las columnas de otro según coincidan las filas en los dos.\n",
    "\n",
    "#### Método `join`\n",
    "\n",
    "Agrega a un `DataFrame` las columnas de otro según coincidan los indices en los dos. Puede usarse una columna en lugar de su índice para el `DataFrame` que llama al método.\n",
    "\n",
    "    DataFrame.join(other, on = None, how = 'left', lsuffix = '', rsuffix = '', sort = False)\n",
    "\n",
    "A continuación una explicación de los parámetros.\n",
    "\n",
    "* `other`: el `DataFrame` a unir.<br><br>\n",
    "\n",
    "* `on`: permite usar una o varias columnas del `DataFrame` que llama al método para encontrar las coincidencias. De no especificarla, se encuentran las coincidencias en los índices.<br><br>\n",
    "\n",
    "* `how`: es `\"left\"` por defecto.<br><br>\n",
    "\n",
    "    * `how = \"left\"`: el `DataFrame` resultante tendrá el mismo número de filas que el `DataFrame` que llama al método, ya que se usan solo las coincidencias con el índice o columna de este `Dataframe`.\n",
    "\n",
    "    * `how = \"right\"`: el `DataFrame` resultante tendrá el mismo número de filas que el `DataFrame` entra por parámetro, ya que se usan solo las coincidencias con el índice o columna de este `Dataframe`.\n",
    "\n",
    "    * `how = \"outer\"`: el `DataFrame` resultante tendrá todas las filas de ambos `DataFrame`, ya que se aceptan todas las coincidencias y no coincidencias de ambos `DataFrame`. \n",
    "\n",
    "    * `how = \"inner\"`: el `DataFrame` resultante solo tendrá los índices que existan en ambos `DataFrame`.<br><br>\n",
    "\n",
    "* `lsufix`: si hay una o más columnas que tienen el mismo nombre en ambos `DataFrames`, se le puede asignar un sufijo a las columnas del `DataFrame` que llama al método para así diferenciarlas de las columnas del otro `DataFrame`.<br><br>\n",
    "\n",
    "* `rsuffix`: si hay una o más columnas que tienen el mismo nombre en ambos `DataFrame`, se les puede asignar un sufijo a las columnas del `DataFrame` que entra por parámetro para así diferenciarlas de las columnas del `DataFrame` que llama al método.<br><br>\n",
    " \n",
    "* `sort`: es `False` por defecto.<br><br>\n",
    "\n",
    "    * `sort = True`: asigna un orden lexicográfico a las filas del `DataFrame` resultante.\n",
    "\n",
    "    * `sort = False`: preserva el orden en el que aparecen las filas de los `DataFrame` originales."
   ]
  },
  {
   "cell_type": "markdown",
   "id": "068e80f5",
   "metadata": {},
   "source": [
    "#### Método `merge`\n",
    "\n",
    "Agrega a un `DataFrame` las columnas de otro según coincidan los indices en los dos. Puede usarse una columna en lugar de su índice para ambos `DataFrame`. En este sentido, `merge` es más flexible que `join`, puesto que permite usar las coincidencias con las columnas del otro `DataFrame`.\n",
    "\n",
    "    DataFrame.merge(right, how = 'inner', on = None, left_on = None, right_on = None, left_index = False, right_index = False, sort = False, suffixes = ('_x', '_y'), indicator = False)\n",
    "\n",
    "A continuación una explicación de los parámetros. \n",
    "\n",
    "* `right`: el `DataFrame` a unir.<br><br>\n",
    "\n",
    "* `how`: se tienen las mismas opciones que con el método `join`: `\"left\"`, `\"right\"`, `\"outer\"` e `\"inner\"`.<br><br>\n",
    "\n",
    "* `on`: nombre de una columna que se encuentre en ambos `DataFrame` para identificar las coincidencias de la unión. Alternativamente pueden usarse los parámetros `left_on` (o `left_index`) y `right_on` (o `right_index`).<br><br>\n",
    "\n",
    "* `left_on`: nombres de las columnas del `DataFrame` que llama al método, utilizadas para identificar las coincidencias.<br><br>\n",
    "\n",
    "* `right_on`: nombres de las columnas del `DataFrame` que entra por parámetro, utilizadas para identificar las coincidencias.<br><br>\n",
    "\n",
    "* `left_index`: es `False` por defecto.<br><br>\n",
    "\n",
    "    * `left_index = True`: especifica que se usa el índice del `DataFrame` que llama al método, para identificar las coincidencias.\n",
    "\n",
    "    * `left_index = False`: toma las columnas especificadas en `on` o en `left_on`.<br><br>\n",
    "\n",
    "* `right_index`: es `False` por defecto.<br><br>\n",
    "\n",
    "    * `right_index = True`: especifica que se usa el índice del `DataFrame` que entra por parámetro, para identificar las coincidencias.\n",
    "\n",
    "    * `right_index = False`: toma las columnas especificadas en `on` o en `right_on`.<br><br>\n",
    "\n",
    "* `sort`: es `False` por defecto.<br><br>\n",
    "\n",
    "    * `sort = True`: asigna un orden lexicográfico a las filas del `DataFrame` resultante.\n",
    "\n",
    "    * `sort = False`: preserva el orden en el que aparecen las filas de los `DataFrame` originales.<br><br>\n",
    "\n",
    "* `suffixes`: recibe una tupla de dos posiciones con los sufijos que se usarán para distinguir en caso de que existan columnas de nombre repetido.<br><br>\n",
    "\n",
    "* `indicator`: agrega una columna que indica el `DataFrame` del cual proviene la fila."
   ]
  },
  {
   "cell_type": "markdown",
   "id": "747a4879",
   "metadata": {},
   "source": [
    "#### Uniones uno a uno\n",
    "\n",
    "Recordemos que la llave de una base de datos es una columna cuyos registros no se repiten. Podemos usar esta llave para indexar nuestro `DataFrame` y este puede estar compuesto por una o más columnas.\n",
    "\n",
    "La unión uno a uno se hace entre dos bases de datos de acuerdo con las coincidencias entre las llaves de ambas. Se entiende como una unión uno a uno, ya que en ambas bases de datos las llaves deben ser únicas y por lo tanto no existen coincidencias repetidas."
   ]
  },
  {
   "cell_type": "markdown",
   "id": "3201e378",
   "metadata": {},
   "source": [
    "##### Ejemplo 10\n",
    "\n",
    "Consideremos los siguientes `DataFrame`."
   ]
  },
  {
   "cell_type": "code",
   "execution_count": 27,
   "id": "9a442f1d",
   "metadata": {},
   "outputs": [],
   "source": [
    "df = pd.DataFrame([[1, 2], [3, 4], [1, 2]], columns=[\"A\", \"B\"])\n",
    "\n",
    "df2 = pd.DataFrame([[3, 2, 4], [3, 4, 1]], columns=[\"C\", \"D\", \"E\"])"
   ]
  },
  {
   "cell_type": "markdown",
   "id": "85f7dc4c",
   "metadata": {},
   "source": [
    "Debemos agregar a `df` las columnas de `df2` según coincidencia de índices uno a uno, preservar todas las filas de `df` y solo las filas que coinciden de `df2`.\n",
    "\n",
    "Utilicemos el método `merge`, especificando que la unión será por coincidencias interiores (que suceden en ambos) y activando las opciones de `left_index` y `right_index`."
   ]
  },
  {
   "cell_type": "code",
   "execution_count": 28,
   "id": "1f021db2",
   "metadata": {
    "scrolled": false
   },
   "outputs": [
    {
     "data": {
      "text/html": [
       "<div>\n",
       "<style scoped>\n",
       "    .dataframe tbody tr th:only-of-type {\n",
       "        vertical-align: middle;\n",
       "    }\n",
       "\n",
       "    .dataframe tbody tr th {\n",
       "        vertical-align: top;\n",
       "    }\n",
       "\n",
       "    .dataframe thead th {\n",
       "        text-align: right;\n",
       "    }\n",
       "</style>\n",
       "<table border=\"1\" class=\"dataframe\">\n",
       "  <thead>\n",
       "    <tr style=\"text-align: right;\">\n",
       "      <th></th>\n",
       "      <th>A</th>\n",
       "      <th>B</th>\n",
       "      <th>C</th>\n",
       "      <th>D</th>\n",
       "      <th>E</th>\n",
       "    </tr>\n",
       "  </thead>\n",
       "  <tbody>\n",
       "    <tr>\n",
       "      <th>0</th>\n",
       "      <td>1</td>\n",
       "      <td>2</td>\n",
       "      <td>3</td>\n",
       "      <td>2</td>\n",
       "      <td>4</td>\n",
       "    </tr>\n",
       "    <tr>\n",
       "      <th>1</th>\n",
       "      <td>3</td>\n",
       "      <td>4</td>\n",
       "      <td>3</td>\n",
       "      <td>4</td>\n",
       "      <td>1</td>\n",
       "    </tr>\n",
       "  </tbody>\n",
       "</table>\n",
       "</div>"
      ],
      "text/plain": [
       "   A  B  C  D  E\n",
       "0  1  2  3  2  4\n",
       "1  3  4  3  4  1"
      ]
     },
     "execution_count": 28,
     "metadata": {},
     "output_type": "execute_result"
    }
   ],
   "source": [
    "df3 = df.merge(df2, how=\"inner\", left_index=True, right_index=True)\n",
    "df3"
   ]
  },
  {
   "cell_type": "markdown",
   "id": "3bf843c1",
   "metadata": {},
   "source": [
    "Alternativamente, podemos utilizar el método `join`. Con este solo necesitamos dos argumentos, puesto que por defecto se usa el índice para la coincidencia de filas de los `DataFrame`."
   ]
  },
  {
   "cell_type": "code",
   "execution_count": 29,
   "id": "c34af111",
   "metadata": {
    "scrolled": true
   },
   "outputs": [
    {
     "data": {
      "text/html": [
       "<div>\n",
       "<style scoped>\n",
       "    .dataframe tbody tr th:only-of-type {\n",
       "        vertical-align: middle;\n",
       "    }\n",
       "\n",
       "    .dataframe tbody tr th {\n",
       "        vertical-align: top;\n",
       "    }\n",
       "\n",
       "    .dataframe thead th {\n",
       "        text-align: right;\n",
       "    }\n",
       "</style>\n",
       "<table border=\"1\" class=\"dataframe\">\n",
       "  <thead>\n",
       "    <tr style=\"text-align: right;\">\n",
       "      <th></th>\n",
       "      <th>A</th>\n",
       "      <th>B</th>\n",
       "      <th>C</th>\n",
       "      <th>D</th>\n",
       "      <th>E</th>\n",
       "    </tr>\n",
       "  </thead>\n",
       "  <tbody>\n",
       "    <tr>\n",
       "      <th>0</th>\n",
       "      <td>1</td>\n",
       "      <td>2</td>\n",
       "      <td>3</td>\n",
       "      <td>2</td>\n",
       "      <td>4</td>\n",
       "    </tr>\n",
       "    <tr>\n",
       "      <th>1</th>\n",
       "      <td>3</td>\n",
       "      <td>4</td>\n",
       "      <td>3</td>\n",
       "      <td>4</td>\n",
       "      <td>1</td>\n",
       "    </tr>\n",
       "  </tbody>\n",
       "</table>\n",
       "</div>"
      ],
      "text/plain": [
       "   A  B  C  D  E\n",
       "0  1  2  3  2  4\n",
       "1  3  4  3  4  1"
      ]
     },
     "execution_count": 29,
     "metadata": {},
     "output_type": "execute_result"
    }
   ],
   "source": [
    "df3 = df.join(df2, how=\"inner\")\n",
    "df3"
   ]
  },
  {
   "cell_type": "markdown",
   "id": "4974ebe9",
   "metadata": {},
   "source": [
    "#### Uniones uno a $n$\n",
    "\n",
    "La unión uno a $n$ se hace entre dos bases de datos de acuerdo con las coincidencias entre la llave de la primera y una columna cualquiera de la segunda (esta columna puede contener valores repetidos). Se entiende como una unión uno a $n$, ya que para cada registro de la llave de la primera base de datos pueden existir hasta $n$ coincidencias en la segunda."
   ]
  },
  {
   "cell_type": "markdown",
   "id": "f2e3d7b1",
   "metadata": {},
   "source": [
    "##### Ejemplo 11\n",
    "\n",
    "Consideremos los siguientes `DataFrames`."
   ]
  },
  {
   "cell_type": "code",
   "execution_count": 30,
   "id": "097de931",
   "metadata": {},
   "outputs": [],
   "source": [
    "df = pd.DataFrame(\n",
    "    [\n",
    "        [\"Juan\", \"Contabilidad\", 2100],\n",
    "        [\"Ignacio\", \"Ingeniería\", 2000],\n",
    "        [\"Andrea\", \"Ingeniería\", 2000],\n",
    "    ],\n",
    "    columns=[\"Empleado\", \"Equipo\", \"Salario\"],\n",
    ")\n",
    "\n",
    "df2 = pd.DataFrame(\n",
    "    [[\"Ingeniería\", \"Alex\"], [\"Contabilidad\", \"Antonia\"]],\n",
    "    columns=[\"Equipo\", \"Supervisor\"],\n",
    ")"
   ]
  },
  {
   "cell_type": "markdown",
   "id": "3925da40",
   "metadata": {},
   "source": [
    "Debemos agregar a `df` las columnas de `df2` según coincidencia de índices uno a $n$, preservar todas las filas de `df` y solo las filas que coinciden de `df2`.\n",
    "\n",
    "Utilicemos el método `merge`, especificando que la unión será por coincidencias interiores (que suceden en ambos), y que la columna `\"Equipo\"` existe en ambos `DataFrames`."
   ]
  },
  {
   "cell_type": "code",
   "execution_count": 31,
   "id": "394ac921",
   "metadata": {},
   "outputs": [
    {
     "data": {
      "text/html": [
       "<div>\n",
       "<style scoped>\n",
       "    .dataframe tbody tr th:only-of-type {\n",
       "        vertical-align: middle;\n",
       "    }\n",
       "\n",
       "    .dataframe tbody tr th {\n",
       "        vertical-align: top;\n",
       "    }\n",
       "\n",
       "    .dataframe thead th {\n",
       "        text-align: right;\n",
       "    }\n",
       "</style>\n",
       "<table border=\"1\" class=\"dataframe\">\n",
       "  <thead>\n",
       "    <tr style=\"text-align: right;\">\n",
       "      <th></th>\n",
       "      <th>Empleado</th>\n",
       "      <th>Equipo</th>\n",
       "      <th>Salario</th>\n",
       "      <th>Supervisor</th>\n",
       "    </tr>\n",
       "  </thead>\n",
       "  <tbody>\n",
       "    <tr>\n",
       "      <th>0</th>\n",
       "      <td>Juan</td>\n",
       "      <td>Contabilidad</td>\n",
       "      <td>2100</td>\n",
       "      <td>Antonia</td>\n",
       "    </tr>\n",
       "    <tr>\n",
       "      <th>1</th>\n",
       "      <td>Ignacio</td>\n",
       "      <td>Ingeniería</td>\n",
       "      <td>2000</td>\n",
       "      <td>Alex</td>\n",
       "    </tr>\n",
       "    <tr>\n",
       "      <th>2</th>\n",
       "      <td>Andrea</td>\n",
       "      <td>Ingeniería</td>\n",
       "      <td>2000</td>\n",
       "      <td>Alex</td>\n",
       "    </tr>\n",
       "  </tbody>\n",
       "</table>\n",
       "</div>"
      ],
      "text/plain": [
       "  Empleado        Equipo  Salario Supervisor\n",
       "0     Juan  Contabilidad     2100    Antonia\n",
       "1  Ignacio    Ingeniería     2000       Alex\n",
       "2   Andrea    Ingeniería     2000       Alex"
      ]
     },
     "execution_count": 31,
     "metadata": {},
     "output_type": "execute_result"
    }
   ],
   "source": [
    "df3 = df.merge(df2, how=\"inner\", on=\"Equipo\")\n",
    "df3"
   ]
  },
  {
   "cell_type": "markdown",
   "id": "459e98da",
   "metadata": {},
   "source": [
    "Habriamos podido especificar cuál columna usar en cada `DataFrame`, pero esto no fue necesario puesto que las columnas tienen el mismo nombre."
   ]
  },
  {
   "cell_type": "code",
   "execution_count": null,
   "id": "93d9ea41",
   "metadata": {},
   "outputs": [],
   "source": [
    "df3 = df.merge(df2, how=\"inner\", left_on=\"Equipo\", right_on=\"Equipo\")\n",
    "df3"
   ]
  },
  {
   "cell_type": "markdown",
   "id": "ce6de10c",
   "metadata": {},
   "source": [
    "Si quisieramos usar el método `join` debemos indexar el segundo `DataFrame` según su columna con la que evaluamos las coincidencias."
   ]
  },
  {
   "cell_type": "code",
   "execution_count": null,
   "id": "0fee9cda",
   "metadata": {},
   "outputs": [],
   "source": [
    "df2 = df2.set_index(\"Equipo\")\n",
    "df3 = df.join(df2, how=\"inner\", on=\"Equipo\")\n",
    "df3"
   ]
  },
  {
   "cell_type": "markdown",
   "id": "c120325c",
   "metadata": {},
   "source": [
    "#### Uniones $n$ a 1 \n",
    "\n",
    "Es equivalente a una unión uno a $n$, donde la columna seleccionada para las coincidencias de la primera base de datos puede tener valores repetidos y las coincidencias con la segunda base de datos se evalúan utilizando su llave."
   ]
  },
  {
   "cell_type": "markdown",
   "id": "ef5859d3",
   "metadata": {},
   "source": [
    "#### Uniones $n$ a $n$ \n",
    "\n",
    "La unión $n$ a $n$ se hace entre dos bases de datos de acuerdo con las coincidencias entre una columna (o grupo de columnas) de la primera y una columna (o grupo de columnas) de la segunda. Se entiende como una unión $n$ a $n$, ya que para cada registro (repetido o no) de la primera base de datos pueden existir hasta $n$ coincidencias en la segunda. No es relevante que en una o en otra se evalúe la coincidencia de una llave.\n",
    "\n",
    "Es importante mencionar que este tipo de unión es poco común y en ocasiones hasta desaconsejado por algunos programas especializados en manejo de datos (Stata, 2013)."
   ]
  },
  {
   "cell_type": "markdown",
   "id": "8dcf5257",
   "metadata": {},
   "source": [
    "##### Ejemplo 12\n",
    "\n",
    "Consideramos los siguientes `DataFrame`."
   ]
  },
  {
   "cell_type": "code",
   "execution_count": null,
   "id": "bc526bae",
   "metadata": {},
   "outputs": [],
   "source": [
    "df = pd.DataFrame(\n",
    "    [[\"Juan\", \"Tennis\"], [\"Ignacio\", \"Tennis\"], [\"Andrea\", \"Baloncesto\"]],\n",
    "    columns=[\"Alex\", \"Deporte\"],\n",
    ")\n",
    "\n",
    "df2 = pd.DataFrame(\n",
    "    [\n",
    "        [\"Tennis\", \"Raquetas\"],\n",
    "        [\"Tennis\", \"Pelotas\"],\n",
    "        [\"Baloncesto\", \"Balón\"],\n",
    "        [\"Baloncesto\", \"Red\"],\n",
    "        [\"Natación\", \"Piscina\"],\n",
    "    ],\n",
    "    columns=[\"Deporte\", \"Implemento\"],\n",
    ")"
   ]
  },
  {
   "cell_type": "markdown",
   "id": "c1b4a6b6",
   "metadata": {},
   "source": [
    "Debemos unir los `DataFrame` de la celda de código en una relación $n$ a $n$ entre las columnas `\"Tutoriales\"`. Además debemos emplear todas las coincidencias.\n",
    "\n",
    "Debemos agregar a `df`las columnas de `df2` según coincidencia de índices $n$ a $n$, preservar todas las filas de `df` y todas las filas de `df2`.\n",
    "\n",
    "Utilizamos el método `merge`: "
   ]
  },
  {
   "cell_type": "code",
   "execution_count": null,
   "id": "7328ec91",
   "metadata": {},
   "outputs": [],
   "source": [
    "df3 = df.merge(df2, how=\"outer\", on=\"Deporte\")\n",
    "df3"
   ]
  },
  {
   "cell_type": "markdown",
   "id": "adbca74b",
   "metadata": {},
   "source": [
    "Declaramos `\"Deporte\"` como el índice para poder utilizar el método `join`."
   ]
  },
  {
   "cell_type": "code",
   "execution_count": null,
   "id": "f0d4f3b1",
   "metadata": {},
   "outputs": [],
   "source": [
    "df2 = df2.set_index(\"Deporte\")\n",
    "df3 = df.join(df2, how=\"outer\", on=\"Deporte\")\n",
    "df3"
   ]
  },
  {
   "cell_type": "markdown",
   "id": "ffe76ded",
   "metadata": {},
   "source": [
    "### 4.3 Unir bases de datos por coincidencia de filas o columnas\n",
    "\n",
    "#### Método `concat `\n",
    "\n",
    "Agrega por coincidencia de filas o columnas (no ambas al tiempo) y permite flexibilidad para nombrar los índices y las columnas.\n",
    "\n",
    "    concat(objs, axis = 0, join = 'outer', ignore_index = False, keys = None, sort = False)\n",
    "\n",
    "* `objs`: en este caso no hay un `DataFrame` que llame al método. Para este argumento debe incluirse una lista con dos o más `DataFrame` para unir.<br><br>\n",
    "\n",
    "* `axis`: es `0` por defecto.<br><br>\n",
    "\n",
    "    * `axis = 0`: define la unión de los `DataFrame` por coincidencia de filas.\n",
    "    * `axis = 1`: define la unión de los `DataFrame` por coincidencia de columnas.<br><br>\n",
    "\n",
    "* `join`: es `\"outer\"` por defecto.<br><br>\n",
    "\n",
    "    * `join = \"inner\"`: permite únicamente permite coincidencias mutuas.\n",
    "    * `join = \"outer\"`: permite la totalidad de las filas de ambos.<br><br>\n",
    "\n",
    "* `ignore_index`: es `False` por defecto.<br><br>\n",
    "\n",
    "    * `ignore_index = True`: la base de datos resultante no tendrá en cuenta los índices de ninguno de los dos `DataFrame` y asignará un índice numérico.\n",
    "\n",
    "    * `ignore_index = False`: el índice de la base de datos resultante conserva los índices de los dos `DataFrame` originales. <br><br>\n",
    "\n",
    "* `keys`: con el objetivo de conservar las columnas o los índices de ambas bases de datos se le puede asignar una llave por cada `DataFrame`, de tal manera que se pueda construir un índice múltiple o columnas múltiple. Los índices y columnas pasan de ser sencillos a representarse con tuplas.<br><br>\n",
    "\n",
    "* `sort`: es `False` por defecto.<br><br>\n",
    "\n",
    "    * `sort = True`: asigna un orden lexicográfico a las filas o columnas del `DataFrame` resultante.\n",
    "\n",
    "    * `sort = False`: preserva el orden en el que aparecen las filas o columnas de los `DataFrame` originales."
   ]
  },
  {
   "cell_type": "markdown",
   "id": "855779a0",
   "metadata": {},
   "source": [
    "##### Ejemplo 13\n",
    "\n",
    "Consideramos los siguientes `DataFrame`."
   ]
  },
  {
   "cell_type": "code",
   "execution_count": null,
   "id": "ad184e8a",
   "metadata": {
    "scrolled": true
   },
   "outputs": [],
   "source": [
    "df = pd.DataFrame([[1, 2], [3, 4], [1, 3]], columns=[\"A\", \"B\"])\n",
    "\n",
    "df2 = pd.DataFrame([[3, 2, 4], [3, 4, 6], [1, 0, 1]], columns=[\"B\", \"C\", \"E\"])"
   ]
  },
  {
   "cell_type": "markdown",
   "id": "3d2d99ca",
   "metadata": {},
   "source": [
    "Debemos unir los `DataFrame` por coincidencia de columnas y crear un índice múltiple (de tipo tupla) para diferenciar la información proveniente de cada uno de ellos."
   ]
  },
  {
   "cell_type": "code",
   "execution_count": null,
   "id": "be3a71f2",
   "metadata": {
    "scrolled": true
   },
   "outputs": [],
   "source": [
    "df3 = pd.concat([df, df2], keys=[\"d1\", \"d2\"], sort=True)\n",
    "df3"
   ]
  },
  {
   "cell_type": "markdown",
   "id": "c0179291",
   "metadata": {},
   "source": [
    "El índice del `DataFrame` está compuesto por tuplas, y no por valores sencillos como en los `DataFrame` vistos anteriormente."
   ]
  },
  {
   "cell_type": "code",
   "execution_count": null,
   "id": "cf784c14",
   "metadata": {},
   "outputs": [],
   "source": [
    "df3.index"
   ]
  },
  {
   "cell_type": "markdown",
   "id": "c7671dbb",
   "metadata": {},
   "source": [
    "Ahora, uniremos los `DataFrame` por coincidencia de filas y crearemos un índice múltiple (de tipo tupla) para diferenciar la información proveniente de cada uno de ellos."
   ]
  },
  {
   "cell_type": "code",
   "execution_count": null,
   "id": "7d59406c",
   "metadata": {},
   "outputs": [],
   "source": [
    "df4 = pd.concat([df, df2], axis=1, keys=[\"d1\", \"d2\"], sort=True)\n",
    "df4"
   ]
  },
  {
   "cell_type": "markdown",
   "id": "f4c1a48a",
   "metadata": {},
   "source": [
    "Las columnas del `DataFrame` están compuestas por tuplas, y no por valores sencillos como en los `DataFrame` vistos anteriormente."
   ]
  },
  {
   "cell_type": "code",
   "execution_count": null,
   "id": "93bcbb2a",
   "metadata": {},
   "outputs": [],
   "source": [
    "df4.columns"
   ]
  },
  {
   "cell_type": "markdown",
   "id": "15875a2c",
   "metadata": {},
   "source": [
    "## Referencias\n",
    "\n",
    "Bolsa de Valores de Colombia (2020). Índices de TES de Corto Plazo [Base deDatos]. Recuperado el 14 de diciembre de 2020 de :\n",
    "https://www.bvc.com.co/pps/tibco/portalbvc\n",
    "\n",
    "Python (2021). Documentación sobre `datetime`. Recuperado el 29 de diciembre de 2021 de: \n",
    "https://docs.python.org/es/3/library/datetime.html\n",
    "\n",
    "Stata (2021). Documentación sobre Merge. Recuperado el 29 de diciembre de 2021 de: \n",
    "https://www.stata.com/manuals13/dmerge.pdf\n",
    "\n",
    "J. VanderPlas (2016) Python Data Science Handbook: Essential Tools for Working with Data O'Reilly Media, Inc."
   ]
  }
 ],
 "metadata": {
  "kernelspec": {
   "display_name": "Python 3",
   "language": "python",
   "name": "python3"
  },
  "language_info": {
   "codemirror_mode": {
    "name": "ipython",
    "version": 3
   },
   "file_extension": ".py",
   "mimetype": "text/x-python",
   "name": "python",
   "nbconvert_exporter": "python",
   "pygments_lexer": "ipython3",
   "version": "3.11.5"
  }
 },
 "nbformat": 4,
 "nbformat_minor": 5
}
