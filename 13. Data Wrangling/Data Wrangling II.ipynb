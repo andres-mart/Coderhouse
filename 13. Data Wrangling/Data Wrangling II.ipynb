{
 "cells": [
  {
   "cell_type": "markdown",
   "id": "898248c8",
   "metadata": {},
   "source": [
    "# **CODERHOUSE DS - 22745**\n",
    "## Clase 28. Data Wrangling II"
   ]
  },
  {
   "cell_type": "markdown",
   "id": "ef52263f",
   "metadata": {},
   "source": [
    "## Objetivos\n",
    "\n",
    "1. Identificar las funciones de manipulación de datos de `pandas`.\n",
    "2. Hacer un repaso de algunas de las más usadas.\n"
   ]
  },
  {
   "cell_type": "markdown",
   "id": "35011b77",
   "metadata": {},
   "source": [
    "# Explorar bases de datos\n",
    "\n",
    "Explorar bases de datos es uno de los pasos esenciales en cualquier proyecto de analítica de datos, pues nos permite identificar aspectos útiles del caso de estudio."
   ]
  },
  {
   "cell_type": "markdown",
   "id": "8acb8128",
   "metadata": {},
   "source": [
    "## 1. Indexar un `DataFrame`\n",
    "\n",
    "Entre los aspectos a detallar al explorar una base de datos, se encuentra la llave o el *ID* que distingue un registro de otro. Esta llave no siempre se conoce de antemano o, en ocasiones, deseamos modificarla.\n",
    "\n",
    "Para distinguir una observación (o fila) de otra en un `DataFrame`, `pandas` define un objeto de tipo `Index` (o `MultiIndex`).\n",
    "\n",
    "Al analizar datos generalmente requerimos que el índice de un `DataFrame` corresponda a una llave de la base de datos. Todo registro debe tener asignada una llave única, con el fin de distinguirlo de los demás registros. En ocasiones debemos usar más de una característica del registro para crear una llave, es decir, debemos definir un índice de múltiples niveles.\n",
    "\n",
    "Importamos el paquete `pandas`."
   ]
  },
  {
   "cell_type": "code",
   "execution_count": null,
   "id": "2160317d",
   "metadata": {},
   "outputs": [],
   "source": [
    "import numpy as np\n",
    "import pandas as pd"
   ]
  },
  {
   "cell_type": "markdown",
   "id": "9b456d10",
   "metadata": {},
   "source": [
    "Veamos el siguiente ejemplo para considerar un caso en el que se necesite más de una columna para indexar un `DataFrame`: "
   ]
  },
  {
   "cell_type": "markdown",
   "id": "feb50c84",
   "metadata": {},
   "source": [
    "##### Ejemplo 1 \n",
    "\n",
    "En la siguiente celda de código declaramos un `DataFrame` que contiene información de algunas personas."
   ]
  },
  {
   "cell_type": "code",
   "execution_count": null,
   "id": "5e9e8195",
   "metadata": {},
   "outputs": [],
   "source": [
    "nombres = pd.DataFrame([[\"Jorge\", \"Suárez\", 28, \"Bogotá\"],\n",
    "                        [\"Laura\", \"Poveda\", 37, \"Lima\"  ],\n",
    "                        [\"Pablo\", \"Stecco\", 30, \"Lima\"  ],\n",
    "                        [\"Jorge\", \"Poveda\", 30, \"Bogotá\"]],\n",
    "                       columns = [\"Nombre\", \"Apellido\", \"Edad\", \"Ciudad\"])\n",
    "nombres"
   ]
  },
  {
   "cell_type": "markdown",
   "id": "8cd1eb90",
   "metadata": {},
   "source": [
    "Si bien es posible utilizar la columna `\"nombre\"` para indexar la base de datos, este índice no sería una llave, puesto que uno de los valores del índice (`\"Jorge\"`) corresponde a más de un registro:\n",
    "* `[\"Jorge\", \"Suárez\", 28, \"Bogotá\"]` y\n",
    "* `[\"Jorge\", \"Poveda\", 30, \"Bogotá\"]`."
   ]
  },
  {
   "cell_type": "code",
   "execution_count": null,
   "id": "43f1ca32",
   "metadata": {},
   "outputs": [],
   "source": [
    "nombres.index = nombres['Nombre']\n",
    "nombres.loc['Jorge']"
   ]
  },
  {
   "cell_type": "markdown",
   "id": "b09581e7",
   "metadata": {},
   "source": [
    "Dado que queremos utilizar el nombre para construir la llave de nuestra base de datos, podemos agregar a cada valor del índice el apellido del registro y así evitar valores duplicados."
   ]
  },
  {
   "cell_type": "code",
   "execution_count": null,
   "id": "6358dd58",
   "metadata": {},
   "outputs": [],
   "source": [
    "nombres_indice = pd.Index(data = nombres[[\"Nombre\", \"Apellido\"]])\n",
    "nombres.index = nombres_indice\n",
    "\n",
    "nombres"
   ]
  },
  {
   "cell_type": "markdown",
   "id": "0e9ae26e",
   "metadata": {},
   "source": [
    "Con la modificación anterior podemos referirnos a la información de `\"Jorge Suárez\"` o de `\"Jorge Poveda\"`."
   ]
  },
  {
   "cell_type": "code",
   "execution_count": null,
   "id": "33fea3a1",
   "metadata": {
    "scrolled": true
   },
   "outputs": [],
   "source": [
    "nombres.loc[[(\"Jorge\", \"Poveda\")]]"
   ]
  },
  {
   "cell_type": "markdown",
   "id": "981fbfc3",
   "metadata": {},
   "source": [
    "### 1.1. Objeto de tipo `MultiIndex`\n",
    "\n",
    "La clase `MultiIndex` permite crear un índice múltiple para los registros de un `DataFrame` o un `Series`. Podemos declarar objetos de tipo `MultiIndex` a partir de métodos que reciben diferentes tipos de objeto por parámetro.\n",
    "\n",
    "\n",
    "|Métodos|<center>Descripción</center>|\n",
    "|:-:|:-|\n",
    "|`from_arrays`| A partir de un arreglo de arreglos|\n",
    "|`from_product`| A partir del producto cartesiano de estructuras de datos|\n",
    "|`from_tuples`| A partir de una lista de tuplas|\n",
    "|`from_frame`| A partir de la lista actual con otra lista|"
   ]
  },
  {
   "cell_type": "markdown",
   "id": "68464fb6",
   "metadata": {},
   "source": [
    "##### Ejemplo 2\n",
    "\n",
    "Creamos un `MultiIndex` a partir de las columnas `\"nombre\"` y `\"apellido\"`y lo utilizamos para indexar el `DataFrame` contenido en la variable `nombres`.\n",
    "\n",
    "Usamos el método `from_arrays`."
   ]
  },
  {
   "cell_type": "code",
   "execution_count": null,
   "id": "8d4954eb",
   "metadata": {},
   "outputs": [],
   "source": [
    "nombres_indice = pd.MultiIndex.from_arrays([nombres[\"Nombre\"],nombres[\"Apellido\"]])\n",
    "nombres_indice"
   ]
  },
  {
   "cell_type": "markdown",
   "id": "0c8d4156",
   "metadata": {},
   "source": [
    "Después usamos el método `reindex` para asignar el nuevo `MultiIndex`. "
   ]
  },
  {
   "cell_type": "code",
   "execution_count": null,
   "id": "39367124",
   "metadata": {},
   "outputs": [],
   "source": [
    "nombres.reindex(nombres_indice)"
   ]
  },
  {
   "cell_type": "markdown",
   "id": "7040a203",
   "metadata": {},
   "source": [
    "También podemos nombrar columnas que tengan múltiples niveles a partir de un objeto `MultiIndex`."
   ]
  },
  {
   "cell_type": "markdown",
   "id": "757ec991",
   "metadata": {},
   "source": [
    "##### Ejemplo 3\n",
    "\n",
    "A continuación importamos una base de datos llamada `\"Bid-Cornell.csv\"` que reúne información sobre un grupo de ciudadanos y los medios de comunicación que utilizan para informarse sobre noticias generales o noticias acerca del COVID-19."
   ]
  },
  {
   "cell_type": "code",
   "execution_count": null,
   "id": "57bd6dec",
   "metadata": {
    "scrolled": true
   },
   "outputs": [],
   "source": [
    "df_covid_19 = pd.read_csv(\"BID-Cornell.csv\", index_col = 0)\n",
    "df_covid_19"
   ]
  },
  {
   "cell_type": "markdown",
   "id": "d14e33f7",
   "metadata": {},
   "source": [
    "Los nombres de las columnas de `df_covid_19` están estructurados de la siguiente manera:\n",
    "\n",
    "0. Prefijo:\n",
    "\n",
    "    * Medios de comunicación (`\"medios\"`).\n",
    "\n",
    "\n",
    "1. Contexto de la información: \n",
    "\n",
    "    * Noticias generales (`\"noti\"`).\n",
    "    * Noticias sobre el COVID-19 (`\"covid\"`).\n",
    "    \n",
    "    \n",
    "2. Medio de comunicación empleado:\n",
    "\n",
    "    * Redes Sociales (`\"redessociales\"`).\n",
    "    * Chat (`\"chat\"`).\n",
    "    * Periodicos (`\"periodicos\"`).\n",
    "    * TV (`\"tv\"`).\n",
    "    * Radio (`\"radio\"`).\n",
    "\n",
    "Por ejemplo, `\"medios_noti_redessociales\"` representa que el medio de comunicación utilizado para informarse acerca de noticias generales es las redes sociales.\n",
    "\n",
    "Podemos utilizar un objeto `MultiIndex` para nombrar las columnas con un mejor orden, coherente con la estructura descrita. Seccionamos el nombre de cada columna donde coincidan guiones bajos (`\"_\"`) empleando métodos de `pandas` para columnas con datos de tipo `str`."
   ]
  },
  {
   "cell_type": "code",
   "execution_count": null,
   "id": "5a0d3dac",
   "metadata": {},
   "outputs": [],
   "source": [
    "df_covid_19.columns = df_covid_19.columns.str[7:]\n",
    "indice_multiple_columnas = df_covid_19.columns.str.split(\"_\", expand = True)\n",
    "indice_multiple_columnas"
   ]
  },
  {
   "cell_type": "code",
   "execution_count": null,
   "id": "3698c07c",
   "metadata": {
    "scrolled": true
   },
   "outputs": [],
   "source": [
    "df_covid_19.columns = indice_multiple_columnas\n",
    "df_covid_19"
   ]
  },
  {
   "cell_type": "markdown",
   "id": "001e4b79",
   "metadata": {},
   "source": [
    "De esta manera, si queremos tener acceso a la información sobre el uso de las redes sociales como medio de comunicación para informarse sobre el COVID-19, podemos usar el método `loc`."
   ]
  },
  {
   "cell_type": "code",
   "execution_count": null,
   "id": "4b9ebbed",
   "metadata": {
    "scrolled": true
   },
   "outputs": [],
   "source": [
    "df_covid_19.loc[:, ('covid', 'redessociales')]"
   ]
  },
  {
   "cell_type": "markdown",
   "id": "513cb471",
   "metadata": {},
   "source": [
    "## 2. Filtrar bases de datos utilizando la librería `pandas`"
   ]
  },
  {
   "cell_type": "markdown",
   "id": "926ab972",
   "metadata": {},
   "source": [
    "### 2.1. Filtrado de posiciones no consecutivas\n",
    "\n",
    "Si las posiciones que queremos seleccionar no son consecutivas, debemos representarlas en una lista. A continuación, vemos un ejemplo de esto."
   ]
  },
  {
   "cell_type": "markdown",
   "id": "77707279",
   "metadata": {},
   "source": [
    "##### Ejemplo 5\n",
    "\n",
    "Se nos solicita mostrar un `DataFrame` que contenga únicamente las 10 primeras y las 10 últimas observaciones del `DataFrame` `df_covid_19`."
   ]
  },
  {
   "cell_type": "code",
   "execution_count": null,
   "id": "4475f2b4",
   "metadata": {},
   "outputs": [],
   "source": [
    "posiciones_filas"
   ]
  },
  {
   "cell_type": "code",
   "execution_count": null,
   "id": "7498210c",
   "metadata": {},
   "outputs": [],
   "source": [
    "posiciones_filas = list(range(10)) + list(range(-10,0))\n",
    "df_10_y_10 = df_covid_19.iloc[posiciones_filas, : ]\n",
    "df_10_y_10"
   ]
  },
  {
   "cell_type": "markdown",
   "id": "108f8204",
   "metadata": {},
   "source": [
    "##### Ejemplo 6\n",
    "\n",
    "Se nos solicita mostrar un `DataFrame` que contenga únicamente las 3 primeras columnas y de la columna 6 en adelante del `DataFrame` `df_covid_19`."
   ]
  },
  {
   "cell_type": "code",
   "execution_count": null,
   "id": "fce87dcc",
   "metadata": {
    "scrolled": true
   },
   "outputs": [],
   "source": [
    "posiciones_columnas = list(range(3)) + list(range(5, len(df_covid_19.columns)))\n",
    "df_3_y_6_en_adelante = df_covid_19.iloc[ : , posiciones_columnas]\n",
    "df_3_y_6_en_adelante"
   ]
  },
  {
   "cell_type": "markdown",
   "id": "914baef0",
   "metadata": {},
   "source": [
    "### 2.2. Filtrado por niveles \n",
    "\n",
    "El objeto `IndexSlice` nos permite indicar, para cada nivel de un objeto `MultiIndex`, qué elementos queremos incluir."
   ]
  },
  {
   "cell_type": "markdown",
   "id": "30ba4966",
   "metadata": {},
   "source": [
    "##### Ejemplo 7\n",
    "\n",
    "A partir de la base de datos del BID, nos solicitan seleccionar las columnas que tengan información de noticias generales (`\"noti\"`) sobre el uso del `\"chat\"` o `\"tv\"`:"
   ]
  },
  {
   "cell_type": "code",
   "execution_count": null,
   "id": "3adad133",
   "metadata": {
    "scrolled": false
   },
   "outputs": [],
   "source": [
    "df_covid_19.loc[:, pd.IndexSlice[\"noti\", ('chat','tv')]]"
   ]
  },
  {
   "cell_type": "markdown",
   "id": "5d254311",
   "metadata": {},
   "source": [
    "### 2.3. Filtrado condicional\n",
    "\n",
    "El filtrado condicional nos permite indicarle a un `DataFrame`, mediante un arreglo de objetos tipo `bool`, cuales elementos incluir. Podemos declarar un arreglo de objetos tipo `bool` aplicando, término a término, los operadores relacionales (`==`, `!=`, `>`, `<`, `>=`, `<=`) o lógicos (`&`, `|`, `~`) que ya conoces.\n",
    "\n",
    "A continuación, encuentras un ejemplo utilizando un operador relacional:\n",
    "\n",
    "```python\n",
    "np.array([2, 2, 3, 4]) >= 3\n",
    "\n",
    ">>> array([False, False, True, True])\n",
    "```\n",
    "\n",
    "A continuación, encuentras un ejemplo utilizando un operador lógico:\n",
    "\n",
    "```python\n",
    "np.array([True, False, False, True]) | np.array([False, True, False, True])\n",
    "\n",
    ">>> array([ True,  True, False,  True])\n",
    "```\n",
    "\n",
    "Veamos un ejemplo de cómo aplicar filtrado condicional a las filas de un `DataFrame`.\n",
    "\n",
    "##### Ejemplo 8\n",
    "\n",
    "Seleccionemos los registros correspondientes a personas menores de 35 años, oriundas de `\"Lima\"`."
   ]
  },
  {
   "cell_type": "code",
   "execution_count": null,
   "id": "c18af442",
   "metadata": {
    "scrolled": true
   },
   "outputs": [],
   "source": [
    "nombres[(nombres['Edad'] <= 35) & (nombres['Ciudad'] == \"Lima\")]"
   ]
  },
  {
   "cell_type": "markdown",
   "id": "9ba37f4e",
   "metadata": {},
   "source": [
    "Veamos un ejemplo de cómo aplicar filtrado condicional a las columnas de un `DataFrame`."
   ]
  },
  {
   "cell_type": "markdown",
   "id": "8d86ded6",
   "metadata": {},
   "source": [
    "##### Ejemplo 9\n",
    "\n",
    "Seleccionemos los registros correspondientes a personas menores de 35 años, oriundas de `\"Lima\"`, exluyendo las columnas cuyo nombre tenga menos de 6 caracteres.\n",
    "\n",
    "Para esto, utilizamos el atributo `loc`."
   ]
  },
  {
   "cell_type": "code",
   "execution_count": null,
   "id": "82095ce3",
   "metadata": {
    "scrolled": false
   },
   "outputs": [],
   "source": [
    "nombres.loc[(nombres['Edad'] <= 35) & (nombres['Ciudad'] == \"Lima\"), nombres.columns.str.len() > 5]"
   ]
  },
  {
   "cell_type": "markdown",
   "id": "0e5b69d3",
   "metadata": {},
   "source": [
    "# Modificar bases de datos  \n",
    "\n",
    "Al finalizar la exploración de una base de datos procedemos a modificarla. En esta sección expandimos la explicación de los métodos de la librería `pandas` vistos anteriormente y presentamos métodos adicionales para integrarlos en procesos de modificación de bases de datos. \n",
    "\n",
    "La librería `pandas` nos permite importar archivos en múltiples formatos para procesarlos como un `DataFrame`. Entre estos formatos, se encuentran los archivos de tipo texto, de tipo binario y de tipo SQL. En las referencias encuentras la lista completa de métodos de lectura y escritura según el tipo de archivo. A manera de ejemplo expondremos el método `read_fwf` el cuál permite procesar archivos de ancho fijo. \n",
    "\n",
    "    pd.read_fwf(filepath_or_buffer, colspecs, **kwds)\n",
    "\n",
    "* **filepath_or_buffer:** ruta del archivo de texto a procesar.  \n",
    "\n",
    "* **colspecs:** lista de tuplas que identifica la posición donde empieza y termina cada columna. Especificando `colspecs = 'infer'` el método infiere las columnas del archivo. \n",
    "\n",
    "* ** **kwds:** indica que podemos especificar los parámetros disponibles en el método `read_csv`. "
   ]
  },
  {
   "cell_type": "markdown",
   "id": "0a75ac95",
   "metadata": {},
   "source": [
    "El archivo `\"mfh.txt\"` (*Major foreign holders*) el cual contiene la distribución del monto de títulos del tesoro americano de los Estados Unidos que se encuentra en cuentas afuera de su país. Dado que este es un archivo de ancho fijo, utilizaremos parte del código que aprendimos anteriormente para obtener las posiciones de inicio y de fin de las columnas que conforman el archivo."
   ]
  },
  {
   "cell_type": "code",
   "execution_count": null,
   "id": "eca42816",
   "metadata": {},
   "outputs": [],
   "source": [
    "with open(\"mfh.txt\", \"r\") as mfh: \n",
    "    # Leemos el archivo y lo almacenamos en una sola cadena de caracteres\n",
    "    mfh = mfh.read()\n",
    "    # Seleccionamos la cadena de caracteres que se encuentra entre la palabra 'Period' y la palabra 'Grand'\n",
    "    mfh = mfh.split('PERIOD')[1].split('Grand')[0]\n",
    "    # Declaramos una lista con las líneas de nuestra cadena de caracteres\n",
    "    lista_mfh = mfh.splitlines()\n",
    "    # Nos quedamos únicamente con las líneas no vacías\n",
    "    lista_mfh = [x for x in lista_mfh if x]\n",
    "    \n",
    "# Lista vacía para almacenar las posiciones de inicio de cada columna de números.\n",
    "lista_inicio_cols = []\n",
    "# Lista vacía para almacenar la última posición de cada columna de números. \n",
    "lista_fin_cols = []\n",
    "# Cadena de caracteres que almacena la fila de guíones contenida en el archivo.\n",
    "fila_guiones = lista_mfh[2]\n",
    "# Variable de tipo entero para marcar el inicio de la busqueda a partir de cada columna. \n",
    "inicio_columna = 0\n",
    "# Variable de tipo lógica para indicar si ya llegamos al final de la lista.\n",
    "criterio_parada = True\n",
    "\n",
    "while(criterio_parada):\n",
    "    # Declaramos el inicio de una nueva columna encontrando la palabra guión.\n",
    "    pos_inicio = inicio_columna + fila_guiones[inicio_columna:].find('-')\n",
    "    # Declaramos el ancho de la columna encontrando el siguiente espacio vacío.  \n",
    "    ancho_columna = fila_guiones[pos_inicio:].find(' ')\n",
    "    # Si encuentra dicho espacio\n",
    "    if(ancho_columna != -1):\n",
    "        # Almacenamos la posición de inicio de la columna.\n",
    "        lista_inicio_cols.append(pos_inicio)\n",
    "        # Declaramos la posición final de la columna.\n",
    "        pos_final = pos_inicio + ancho_columna \n",
    "        # Almacenamos la posición final de la columna.\n",
    "        lista_fin_cols.append(pos_final) \n",
    "        # Actualizamos el inicio de la columna para la siguiente iteración.\n",
    "        inicio_columna = pos_final\n",
    "    #Si no se pudo encontrar mas espacios no se se sigue iterando ya que no hay mas columnas.    \n",
    "    else:\n",
    "        criterio_parada = False\n",
    "\n",
    "ancho_cols = [(0,lista_inicio_cols[0])]+list(zip(lista_inicio_cols, lista_fin_cols))\n",
    "ancho_cols"
   ]
  },
  {
   "cell_type": "code",
   "execution_count": null,
   "id": "af17ae47",
   "metadata": {
    "scrolled": true
   },
   "outputs": [],
   "source": [
    "mfh = pd.read_fwf(\"mfh.txt\", skiprows = range(8), skipfooter = 21,\n",
    "                  colspecs = ancho_cols, index_col = [0], header = [0,1])\n",
    "# Eliminamos las dos primeras entradas ya que no contienen información relevante. \n",
    "mfh = mfh[1:-2]\n",
    "mfh"
   ]
  },
  {
   "cell_type": "markdown",
   "id": "dc339577",
   "metadata": {},
   "source": [
    "Al observar el `DataFrame` de la celda anterior nos damos cuenta que sería deseable rotular correctamente los niveles de las columnas y el índice, para esto podemos usar el método `rename_axis`: "
   ]
  },
  {
   "cell_type": "code",
   "execution_count": null,
   "id": "116e901b",
   "metadata": {},
   "outputs": [],
   "source": [
    "mfh = mfh.rename_axis(\"Pais\")\n",
    "mfh = mfh.rename_axis([\"Mes\",\"Año\"], axis = 1)\n",
    "mfh"
   ]
  },
  {
   "cell_type": "markdown",
   "id": "e1d74ed2",
   "metadata": {},
   "source": [
    "## 3. Métodos para la modificación de bases de datos  "
   ]
  },
  {
   "cell_type": "markdown",
   "id": "c9b85095",
   "metadata": {},
   "source": [
    "### 3.1. Método `set_index` \n",
    "\n",
    "Permite utilizar una o varias columnas para sustituir o modificar el índice de un `DataFrame`. Además de columnas podemos utilizar arreglos de `pandas` (`Series` e `Index`) o de arreglos de `numpy`. \n",
    "\n",
    "    pandas.DataFrame.set_index(keys, drop, append, inplace, verify_integrity)\n",
    "\n",
    "* **keys:** indica la(s) llave(s) a usar como nuevo índice.\n",
    "\n",
    "* **drop:** elimina del `DataFrame` las columnas que se emplearon como llaves en el método. Por defecto es `True`.\n",
    "\n",
    "* **append:** preseva el índice original de la base de datos y le agrega la llave ingresada por parámetro. Por defecto es `False`.\n",
    "\n",
    "\n",
    "* **inplace:** por defecto es `False`. <br><br>\n",
    "    * `inplace = True`: retorna `None` y  ejecuta las operaciones sobre el dataframe oríginal. <br>\n",
    "    * `inplace = False`: retorna una copia del `DataFrame` con las modificaciones. <br><br>\n",
    "    \n",
    "* **verify_integrity:** solo aplica si ignore_index = False. Por defecto, `verify_integrity = False`.<br><br>\n",
    "    * `verify_integrity = True`: arroja ValueError si en el DataFrame resultante hay indices duplicados.<br>\n",
    "    * `verify_integrity = False`: permite tener índices repetidos en el DataFrame resultante.<br><br>\n",
    "\n",
    "**Nota:** si utilizamos un arreglo externo al dataframe, debemos asegurarnos que tenga el mismo tamaño que el que tiene actualmente el `DataFrame`."
   ]
  },
  {
   "cell_type": "markdown",
   "id": "56e3b75b",
   "metadata": {},
   "source": [
    "##### Ejemplo 10\n",
    "\n",
    "Requerimos analizar como se distribuye la tenencia de los títulos del tesoros entre dos grupos de países: los países miembros de la OECD y los países llamados paraísos fiscales. Ambos grupos no son mutuamente excluyentes por lo que pueden haber coincidencias entre ambos. A continuación, se encuentra declarada una lista para cada grupo de países."
   ]
  },
  {
   "cell_type": "code",
   "execution_count": null,
   "id": "9c9e7664",
   "metadata": {},
   "outputs": [],
   "source": [
    "lista_paraisos_fiscales = [\"Belgium\", \"Ireland\", \"Luxembourg\", \"Malta\", \"Netherlands\", \"Cayman Island\",\n",
    "                           \"Singapore\", \"Puerto Rico\", \"Hong Kong\", \"Switzerland\"]\n",
    "\n",
    "lista_oecd = [\"Austria\", \"Australia\", \"Belgium\", \"Canada\", \"Chile\", \"Colombia\", \"Czech Republic\", \"Denmark\", \n",
    "              \"Estonia\", \"Finland\", \"France\", \"Germany\", \"Greece\", \"Hungary\", \"Iceland\", \"Ireland\", \"Israel\", \n",
    "              \"Italy\", \"Japan\", \"Korea\", \"Latvia\", \"Lithuania\", \"Luxembourg\", \"Mexico\",  \"Netherlands\", \n",
    "              \"New Zealand\", \"Norway\", \"Poland\", \"Portugal\", \"Slovak Republic\", \"Slovenia\", \"Spain\", \"Sweden\", \n",
    "              \"Switzerland\", \"Turkey\", \"United Kingdom\", \"United States\"]"
   ]
  },
  {
   "cell_type": "markdown",
   "id": "5227c8e2",
   "metadata": {},
   "source": [
    "Creamos las columnas correspondientes para posteriormente añadirlas al índice."
   ]
  },
  {
   "cell_type": "code",
   "execution_count": null,
   "id": "f1f5c5e3",
   "metadata": {},
   "outputs": [],
   "source": [
    "mfh.loc[mfh.index.isin(lista_oecd), 'OECD'] = \"Pertenece\"\n",
    "mfh"
   ]
  },
  {
   "cell_type": "code",
   "execution_count": null,
   "id": "499f5721",
   "metadata": {
    "scrolled": true
   },
   "outputs": [],
   "source": [
    "# Creamos las columnas \"Clasificación Fiscal\" y \"OECD\" \n",
    "mfh.loc[:,'Clasificación_Fiscal'] = \"Tributación Regular\"\n",
    "mfh.loc[:,'OECD'] = \"No pertenece\"\n",
    "# Definimos cuales países son considerado paraisos fiscales y cuáles son miembros de la OECD\n",
    "mfh.loc[mfh.index.isin(lista_paraisos_fiscales), 'Clasificación_Fiscal'] = \"Paraiso Fiscal\"\n",
    "mfh.loc[mfh.index.isin(lista_oecd), 'OECD'] = \"Pertenece\"\n",
    "# Utilizamos set_index para añadir estas columnas al índice\n",
    "mfh.set_index(keys =['Clasificación_Fiscal','OECD'], append = True, inplace = True)\n",
    "mfh"
   ]
  },
  {
   "cell_type": "markdown",
   "id": "b277ea6e",
   "metadata": {},
   "source": [
    "### 3.2. Método `reset_index`\n",
    "\n",
    "Resetea el índice de un `DataFrame`. Si se trata de un multi-índice permite eliminar uno o más niveles, dejando la opción de preservarlos como columnas.\n",
    "\n",
    "    pandas.DataFrame.reset_index(level, drop)\n",
    "\n",
    "* **level:** etiqueta o índice del multi-índice a eliminar. <br><br>\n",
    "\n",
    "* **drop:** por defecto es `False` <br><br>\n",
    "`Drop = True`: se eliminan los niveles. <br><br>\n",
    "`Drop = False`: los niveles pasan a ser una columna. "
   ]
  },
  {
   "cell_type": "markdown",
   "id": "3666b02e",
   "metadata": {},
   "source": [
    "### 2.3. Método `drop`\n",
    "\n",
    "Permite eliminar filas o columnas especificando su nombre o su índice. \n",
    "\n",
    "    pandas.DataFrame.drop(labels, axis, index, columns, level, inplace, errors)\n",
    "\n",
    "* **labels:** indica el nombre o la posición de las filas o columnas a eliminar.\n",
    "\n",
    "* **axis:** por defecto es 0. <br><br>\n",
    "    * `axis = 1`: indica que vamos a eliminar columnas. <br>\n",
    "    * `axis = 0`: indica que vamos a eliminar filas.<br><br>\n",
    "\n",
    "\n",
    "* **index:** se utiliza únicamente para eliminar filas, especificando el nombre o el índice de las filas a eliminar. Cuando utilizamos este parámetro no es necesario utilizar los parámetros `labels` y `axis`.\n",
    "\n",
    "* **columns:** se utiliza únicamente para eliminar columnas, especificando el nombre o el índice de las columnas a eliminar. Cuando utilizamos este parámetro no es necesario utilizar los parámetros `labels` y `axis`.\n",
    "\n",
    "* **level:** indica por nombre o por posición a cuál de los niveles del índice múltiple se le aplicará el método.\n",
    "\n",
    "\n",
    "* **inplace:** por defecto es `False`. <br><br>\n",
    "    * `inplace = True`: retorna `None` y  ejecuta las operaciones sobre el dataframe oríginal. <br>\n",
    "    * `inplace = False`: retorna una copia del `DataFrame` con las modificaciones. <br><br>"
   ]
  },
  {
   "cell_type": "markdown",
   "id": "7cbfeec9",
   "metadata": {},
   "source": [
    "##### Ejemplo 11\n",
    "\n",
    "Requerimos eliminar las observaciones del `DataFrame` `mfh` correspondientes al año 2020, y almacenar el `DataFrame` resultante en un `DataFrame` llamado `mfh_2021`.\n",
    "\n",
    "Procedemos entonces utilizando el método `drop`."
   ]
  },
  {
   "cell_type": "code",
   "execution_count": null,
   "id": "f25c4915",
   "metadata": {},
   "outputs": [],
   "source": [
    "mfh_2021 = mfh.drop(labels = '2020', axis = 1, level = 1 )  \n",
    "mfh_2021"
   ]
  },
  {
   "cell_type": "markdown",
   "id": "e534dbf1",
   "metadata": {},
   "source": [
    "### 2.4. Método `Groupby`\n",
    "\n",
    "El método groupby permite realizar las siguientes tres operaciones a la vez: \n",
    "* (1) Separar en grupos el `DataFrame` de acuerdo a un criterio.\n",
    "* (2) Aplicar una función a cada grupo. \n",
    "* (3) Combinar los resultados en un nuevo `DataFrame`.\n",
    "\n",
    "La sintaxis para usar groupby es la siguiente:\n",
    "\n",
    "    pandas.DataFrame.groupby(by, axis, level)\n",
    "\n",
    "* **by:** indica el criterio para realizar el paso (1). Puede usarse un diccionario, un `Series`, entre otros.\n",
    "\n",
    "* **axis:** por defecto es 0. <br><br>\n",
    "    * `axis = 1`: indica que vamos a agrupar columnas. <br>\n",
    "    * `axis = 0`: indica que vamos a agrupar filas.<br><br>\n",
    "\n",
    "* **level:** indica por nombre o por posición a cuál de los niveles del índice múltiple se le aplicará el método."
   ]
  },
  {
   "cell_type": "markdown",
   "id": "982fd887",
   "metadata": {},
   "source": [
    "##### Ejemplo 12\n",
    "\n",
    "Requerimos un `DataFrame` llamado `mfh_resumen` que sume el total de títulos del tesoro para los niveles del índice múltiple. \n",
    "\n",
    "Transformamos los valores de nuestro `DataFrame` a `float` y después aplicamos el método `groupby`."
   ]
  },
  {
   "cell_type": "code",
   "execution_count": null,
   "id": "db368767",
   "metadata": {
    "scrolled": false
   },
   "outputs": [],
   "source": [
    "mfh = mfh.astype(float)\n",
    "mfh_resumen = mfh.groupby(level = ['Clasificación_Fiscal','OECD']).sum()\n",
    "mfh_resumen"
   ]
  },
  {
   "cell_type": "markdown",
   "id": "f01b80c5",
   "metadata": {},
   "source": [
    "### 3.5. Método `apply`\n",
    "\n",
    "El método `apply` lleva a cabo una función bien sea sobre las columnas o sobre las filas de un `DataFrame`. \n",
    "\n",
    "    pandas.DataFrame.apply(func, axis)\n",
    "\n",
    "* **func:** función a aplicar. <br><br>\n",
    "\n",
    "* **axis:**  por defecto es 0. <br><br>\n",
    "\n",
    "    * `axis = 1`: indica que vamos a aplicar la función sobre las columnas. <br>\n",
    "    * `axis = 0`: indica que vamos a aplicar la función sobre las filas.<br><br>\n",
    "\n",
    "A continuación explicaremos tres ventajas que presenta el método `apply`: "
   ]
  },
  {
   "cell_type": "markdown",
   "id": "d220d5d1",
   "metadata": {},
   "source": [
    "#### Trabajar con funciones declaradas previamente \n",
    "\n",
    "El parámetro `func` puede tomar el valor de una función declarada previamente."
   ]
  },
  {
   "cell_type": "markdown",
   "id": "4b8534b9",
   "metadata": {},
   "source": [
    "##### Ejemplo 13\n",
    "\n",
    "Requerimos calcular el porcentaje de títulos distribuido en las cuentas de los países clasificados como paraíso fiscal y guardar este resultado en un `DataFrame` llamado `mfh_paraisos_fiscales`. \n",
    "\n",
    "Para esto declaramos la función `calcular_porcentaje`."
   ]
  },
  {
   "cell_type": "code",
   "execution_count": null,
   "id": "2e7606ec",
   "metadata": {},
   "outputs": [],
   "source": [
    "def calcular_porcentaje(lista):\n",
    "    \n",
    "    rta = lista / sum(lista)\n",
    "    \n",
    "    return rta "
   ]
  },
  {
   "cell_type": "code",
   "execution_count": null,
   "id": "544c1b92",
   "metadata": {},
   "outputs": [],
   "source": [
    "idx = pd.IndexSlice\n",
    "mfh_paraisos_fiscales = mfh.loc[idx[:,'Paraiso Fiscal',],]\n",
    "mfh_paraisos_fiscales"
   ]
  },
  {
   "cell_type": "markdown",
   "id": "3ceb9113",
   "metadata": {},
   "source": [
    "Después la usamos como parámetro del método `apply`."
   ]
  },
  {
   "cell_type": "code",
   "execution_count": null,
   "id": "a10a23cd",
   "metadata": {},
   "outputs": [],
   "source": [
    "# Declaramos el Segmentador de Índices\n",
    "idx = pd.IndexSlice\n",
    "mfh_paraisos_fiscales = mfh.loc[idx[:,'Paraiso Fiscal',],]\n",
    "mfh_paraisos_fiscales = mfh_paraisos_fiscales.apply(calcular_porcentaje)\n",
    "mfh_paraisos_fiscales"
   ]
  },
  {
   "cell_type": "markdown",
   "id": "ed554cbe",
   "metadata": {},
   "source": [
    "#### Encadenar métodos \n",
    "\n",
    "En `pandas` podemos encadenar métodos, esto significa que se puede invocar un método tras otro sin redefinir el `DataFrame` repetidamente. El método `apply` puede encadenarse con otros métodos, lo que resulta práctico en términos de ahorro de líneas de código y claridad de lectura. "
   ]
  },
  {
   "cell_type": "markdown",
   "id": "bf23577b",
   "metadata": {},
   "source": [
    "##### Ejemplo 14\n",
    "\n",
    "Filtra la base para solo trabajar con aquellos países que son parte de la OECD, de tal forma que pueda calcular el porcentaje de títulos bajo posesión de cada país.\n",
    "\n",
    "Hacemos entonces el filtrado y directamente realizamos el `apply`."
   ]
  },
  {
   "cell_type": "code",
   "execution_count": null,
   "id": "baff22b9",
   "metadata": {},
   "outputs": [],
   "source": [
    "mfh_oecd = mfh.loc[idx[:,:,'Pertenece'],].apply(calcular_porcentaje,axis = 0)\n",
    "mfh_oecd"
   ]
  },
  {
   "cell_type": "markdown",
   "id": "2d71d32e",
   "metadata": {},
   "source": [
    "#### Múltiples operaciones simultaneamente\n",
    "\n",
    "El método `apply` permite ejecutar varias operaciones a la vez, lo cual nos ahorra líneas de código o encadenar más métodos de los necesarios. "
   ]
  },
  {
   "cell_type": "markdown",
   "id": "484f1e16",
   "metadata": {},
   "source": [
    "##### Ejemplo 15\n",
    "\n",
    "Requerimos nuevamente filtrar la base para solo trabajar con aquellos países que son parte de la OECD, de tal forma que calculemos el porcentaje de títulos bajo posesión de cada país. Esta vez, redondearemos el resultado a tres cifras decimales. \n",
    "\n",
    "Una manera de solucionar este requerimiento es utilizar la división de objetos y el método `round` de `pandas`."
   ]
  },
  {
   "cell_type": "code",
   "execution_count": null,
   "id": "46b25cfe",
   "metadata": {},
   "outputs": [],
   "source": [
    "mfh_oecd = mfh.loc[idx[:,:,'Pertenece'],]\n",
    "mfh_oecd_norm = (mfh_oecd / mfh_oecd.sum()).round(3)\n",
    "mfh_oecd_norm"
   ]
  },
  {
   "cell_type": "markdown",
   "id": "aa9472c4",
   "metadata": {},
   "source": [
    "En cambio podríamos haber usado una sola línea de código para cubrir este requerimiento."
   ]
  },
  {
   "cell_type": "code",
   "execution_count": null,
   "id": "eb771c5d",
   "metadata": {},
   "outputs": [],
   "source": [
    "mfh_oecd_norm = mfh.loc[idx[:,:,'Pertenece'],].apply(lambda x: round(x / x.sum(),3))\n",
    "mfh_oecd_norm"
   ]
  },
  {
   "cell_type": "markdown",
   "id": "3f1905ce",
   "metadata": {},
   "source": [
    "### 3.6. Método `rename`\n",
    "\n",
    "El método `rename` sirve para renombrar columnas o índices. \n",
    "\n",
    "    pandas.DataFrame.rename(mapper, index, columns, axis, inplace, level)\n",
    "\n",
    "* **mapper:** diccionario o función para renombrar las columnas o índices. <br><br>\n",
    "\n",
    "* **index:** diccionario o función para renombrar índices. Cuando utilizamos este parámetro no es necesario utilizar los parámetros `mapper` y `axis`. <br><br>\n",
    "\n",
    "* **columns:** diccionario o función para renombrar columnas. Cuando utilizamos este parámetro no es necesario utilizar los parámetros `mapper` y `axis`. <br><br>\n",
    "\n",
    "* **axis:** por defecto es 0. <br><br>\n",
    "    * `axis = 1`:  indica que vamos a renombrar columnas.<br>\n",
    "    * `axis = 0`: indica que vamos a renombrar filas.<br>\n",
    "\n",
    "* **inplace:** por defecto es `False`. <br><br>\n",
    "    * `inplace = True`: retorna `None` y  ejecuta las operaciones sobre el dataframe oríginal. <br>\n",
    "    * `inplace = False`: retorna una copia del `DataFrame` con las modificaciones. <br><br>\n",
    "\n",
    "* **level:** indica por nombre o por posición a cuál de los niveles del índice múltiple se le debe aplicar el diccionario o la función. "
   ]
  },
  {
   "cell_type": "markdown",
   "id": "3256c368",
   "metadata": {},
   "source": [
    "##### Ejemplo 16\n",
    "\n",
    "En la siguiente celda encuentras un diccionario con los nombres de los países en inglés y en español."
   ]
  },
  {
   "cell_type": "code",
   "execution_count": null,
   "id": "eaf6f33d",
   "metadata": {},
   "outputs": [],
   "source": [
    "df_paises = pd.read_csv(\"DiccionarioPaises.csv\", encoding = 'utf-8-sig', sep = \";\", index_col = [1])\n",
    "dicc_paises = df_paises.to_dict()['País en español']\n",
    "dicc_paises"
   ]
  },
  {
   "cell_type": "markdown",
   "id": "de7a8754",
   "metadata": {},
   "source": [
    "A continuación encuentras un diccionario con las abreviaturas de los meses en inglés y en español."
   ]
  },
  {
   "cell_type": "code",
   "execution_count": null,
   "id": "acacc375",
   "metadata": {},
   "outputs": [],
   "source": [
    "dicc_meses = {'Jan':'ENE', 'Feb': 'FEB', 'Mar':'MAR', 'Apr':'ABR', 'May':'MAY' ,'Jun': 'JUN', 'Jul':'JUL',\n",
    "                    'Aug': 'AGO', 'Sep': 'SEP', 'Oct':'OCT','Nov':'NOV', 'Dec':'DIC'}"
   ]
  },
  {
   "cell_type": "markdown",
   "id": "e4c37b96",
   "metadata": {},
   "source": [
    "Requerimos traducir al español los meses y países del `DataFrame` utilizando los diccionarios provistos "
   ]
  },
  {
   "cell_type": "code",
   "execution_count": null,
   "id": "aacd839f",
   "metadata": {},
   "outputs": [],
   "source": [
    "mfh = mfh.rename(mapper = dicc_paises)\n",
    "mfh = mfh.rename(columns = dicc_meses) \n",
    "mfh"
   ]
  },
  {
   "cell_type": "markdown",
   "id": "6aecfcd8",
   "metadata": {},
   "source": [
    "### 3.7. Método `replace`\n",
    "\n",
    "El método `replace` usa la siguiente sintaxis para reemplazar un valor por otro.\n",
    "\n",
    "    pandas.DataFrame.replace( to_replace, value, inplace) \n",
    "\n",
    "* **to_replace:** valor específico, estructura de datos. <br><br>\n",
    "\n",
    "* **value:** valor que sustituirá el valor a reemplazar.<br><br>\n",
    "\n",
    "* **inplace:** por defecto es `False`. <br><br>\n",
    "    * `inplace = True`: retorna `None` y  ejecuta las operaciones sobre el dataframe oríginal. <br>\n",
    "    * `inplace = False`: retorna una copia del `DataFrame` con las modificaciones. <br><br>"
   ]
  },
  {
   "cell_type": "markdown",
   "id": "ad02c545",
   "metadata": {},
   "source": [
    "### 3.8. Método `stack`\n",
    "\n",
    "El método `stack` transfiere uno o varios niveles de las columnas al índice. Al emplearlo, el número de niveles del índice se va a ver aumentando y el número de niveles de las columnas se va a ver disminuido. \n",
    "\n",
    "    pandas.DataFrame.stack(level, fill_value) \n",
    "\n",
    "* **level:** nombre o índice del nivel a transferir. Por defecto es -1 (el último nivel) \n",
    "\n",
    "* **fill_value:** valor para reemplazar los datos faltantes que se generen. "
   ]
  },
  {
   "cell_type": "markdown",
   "id": "b74076f0",
   "metadata": {},
   "source": [
    "##### Ejemplo 17\n",
    "\n",
    "Pasa el nivel correspondiente a los meses al índice de `mfh_2021`.\n",
    "\n",
    "Procedemos entonces usando el método `stack`."
   ]
  },
  {
   "cell_type": "code",
   "execution_count": null,
   "id": "8e7f0dc3",
   "metadata": {},
   "outputs": [],
   "source": [
    "mfh_2021 = mfh_2021.stack(\"Mes\") \n",
    "mfh_2021"
   ]
  },
  {
   "cell_type": "markdown",
   "id": "6b244500",
   "metadata": {},
   "source": [
    "### 3.9. Método `unstack`\n",
    "\n",
    "El método `unstack` transfiere uno o varios niveles del índice a las columna. Al emplearlo, el número de niveles de las columnas se va a ver aumentando y el número de niveles del índice se va a ver disminuido. \n",
    "\n",
    "    pandas.DataFrame.unstack(level, fill_value) \n",
    "\n",
    "* **level:** nombre o índice del nivel a transferir. Por defecto es -1 (el último nivel) \n",
    "\n",
    "* **fill_value:** valor para reemplazar los datos faltantes que se generen. "
   ]
  },
  {
   "cell_type": "markdown",
   "id": "d616152d",
   "metadata": {},
   "source": [
    "#### Ejemplo 18\n",
    "\n",
    "Se te solicita revertir el cambio realizado en el ejemplo anterior.\n",
    "\n",
    "Utilizamos el método `unstack` para revertir el cambio realizado."
   ]
  },
  {
   "cell_type": "code",
   "execution_count": null,
   "id": "56d703ff",
   "metadata": {},
   "outputs": [],
   "source": [
    "mfh_2021 = mfh_2021.unstack(\"Mes\")\n",
    "mfh_2021"
   ]
  },
  {
   "cell_type": "markdown",
   "id": "7d3268fc",
   "metadata": {},
   "source": [
    "### 3.9. Método `pivot`\n",
    "\n",
    "El método `pivot` rota una tabla convirtiendo los valores únicos de una columna en múltiples columnas. A su vez, ejecuta agregaciones donde se requieren en cualquier valor de columna restante que se desee en el resultado final.\n",
    "\n",
    "    pandas.DataFrame.pivot(index, columns, values) \n",
    "\n",
    "* **index:** columna a usar para crear el nuevo indice del DataFrame resultante. Si no se define se usa el índice existente.\n",
    "\n",
    "* **columns:** columna usar para definir las nuevas columnas.\n",
    "\n",
    "* **values:** columna(s) a usar para poblar el nuevo dataframe. Si no se especifica, todas las columnas restantes serán usadas y el resultado tendrá columnas indexadas jerárquicamente.\n",
    "\n",
    "#### Ejemplo 19"
   ]
  },
  {
   "cell_type": "code",
   "execution_count": null,
   "id": "58bec4b7",
   "metadata": {},
   "outputs": [],
   "source": [
    "# Crear un DataFrame\n",
    "\n",
    "df = pd.DataFrame({'A': ['John', 'Boby', 'Mina'],\n",
    "      'B': ['Masters', 'Graduate', 'Graduate'],\n",
    "      'C': [27, 23, 21]})\n",
    "\n",
    "df"
   ]
  },
  {
   "cell_type": "code",
   "execution_count": null,
   "id": "7a235122",
   "metadata": {},
   "outputs": [],
   "source": [
    "df.pivot(columns='B')"
   ]
  },
  {
   "cell_type": "code",
   "execution_count": null,
   "id": "59e95570",
   "metadata": {},
   "outputs": [],
   "source": [
    "df.pivot(index ='A', columns ='B', values =['C'])"
   ]
  },
  {
   "cell_type": "code",
   "execution_count": null,
   "id": "89708181",
   "metadata": {},
   "outputs": [],
   "source": [
    "df.pivot(index='A',columns= 'B',values= 'C')"
   ]
  },
  {
   "cell_type": "markdown",
   "id": "16421a81",
   "metadata": {},
   "source": [
    "## Referencias\n",
    "\n",
    "Pandas (2020). Documentación sobre el método .iloc(). Recuperado de: https://pandas.pydata.org/pandas-docs/stable/reference/api/pandas.DataFrame.iloc.html\n",
    "\n",
    "Pandas (2020). Documentación sobre el método .loc(). Recuperado de: https://pandas.pydata.org/pandas-docs/stable/reference/api/pandas.DataFrame.loc.html\n",
    "\n",
    "Pandas (2020). Documentación sobre el método .IndexSlice() . Recuperado de: https://pandas.pydata.org/pandas-docs/stable/reference/api/pandas.IndexSlice.html\n",
    "\n",
    "BID (2020). Encuesta Coronavirus BID/Cornell. Recuperado de: https://data.iadb.org/DataCatalog/Dataset#DataCatalogID=11319/28452\n",
    "\n",
    "Pandas (2021). Documentación sobre I/O tools (text, CSV, HDF5...). Recuperado de: https://pandas.pydata.org/pandas-docs/stable/user_guide/io.html \n",
    "\n",
    "Pandas (2020). Documentación sobre los objetos índices. Recuperado de: https://pandas.pydata.org/pandas-docs/stable/reference/api/pandas.IndexSlice.html\n",
    "\n",
    "Pandas (2020). Documentación sobre los métodos DataFrame. Recuperado de: https://pandas.pydata.org/docs/reference/frame.html\n",
    "\n",
    "Departamento del Tesoro Americano (2020). Principales tenedores foráneos de títulos del tesoro [Base de Datos]. Recuperado  de : \n",
    "https://ticdata.treasury.gov/Publish/mfh.txt."
   ]
  }
 ],
 "metadata": {
  "kernelspec": {
   "display_name": "Python 3",
   "language": "python",
   "name": "python3"
  },
  "language_info": {
   "codemirror_mode": {
    "name": "ipython",
    "version": 3
   },
   "file_extension": ".py",
   "mimetype": "text/x-python",
   "name": "python",
   "nbconvert_exporter": "python",
   "pygments_lexer": "ipython3",
   "version": "3.8.8"
  }
 },
 "nbformat": 4,
 "nbformat_minor": 5
}
