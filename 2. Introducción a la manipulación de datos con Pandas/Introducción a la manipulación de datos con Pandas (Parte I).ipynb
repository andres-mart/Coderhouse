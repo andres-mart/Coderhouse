{
 "cells": [
  {
   "attachments": {},
   "cell_type": "markdown",
   "metadata": {},
   "source": [
    "## Clase 5. Introducción a la manipulación de datos con Pandas (Parte I)"
   ]
  },
  {
   "attachments": {},
   "cell_type": "markdown",
   "metadata": {},
   "source": [
    "## Objetivos\n",
    "\n",
    "Al final de esta sesión habrás:\n",
    "\n",
    "**1.** Conocer las estructuras de datos en `pandas`. <br>\n",
    "**2.** Comprender el uso de `pandas` para operaciones básicas. <br>"
   ]
  },
  {
   "attachments": {},
   "cell_type": "markdown",
   "metadata": {},
   "source": [
    "## 1. Librería `pandas`\n",
    "`Pandas` es una librería abierta de Python que permite llevar a cabo manipulación y exploración de datos de forma sencilla. Sus estructuras básicas son llamadas `Series` y `DataFrame`, y nos permiten almacenar, limpiar y analizar datos.<br>\n",
    "Es recomendable importar la libería `pandas` utilizando el nombre `pd` (su alias más frecuentemente usado), como se muestra a continuación."
   ]
  },
  {
   "cell_type": "code",
   "execution_count": 2,
   "metadata": {},
   "outputs": [],
   "source": [
    "import pandas as pd"
   ]
  },
  {
   "attachments": {},
   "cell_type": "markdown",
   "metadata": {},
   "source": [
    "### 1.1. Objeto `Series`\n",
    "Un `Serie` es un objeto unidimensional similar a una columna de una matriz, en el cual podemos almacenar datos. Una `Serie` esta compuesta por índices y datos almacenados.\n",
    "\n",
    "\n",
    "| Índice | Datos |\n",
    "|:-:|:-:|\n",
    "| 1      | \"A\"   |\n",
    "| 2      | \"B\"   |\n",
    "| 3      | \"C\"   |\n",
    "| 4      | \"D\"   |\n",
    "| 5      | \"E\"   |"
   ]
  },
  {
   "attachments": {},
   "cell_type": "markdown",
   "metadata": {},
   "source": [
    "#### Declaración\n",
    "Podemos declarar una `Serie` a partir de diferentes estructuras de datos. A continuación, vemos un ejemplo de declaración a partir de una lista:"
   ]
  },
  {
   "attachments": {},
   "cell_type": "markdown",
   "metadata": {},
   "source": [
    "##### Ejemplo 1. Declaración basada en una lista"
   ]
  },
  {
   "cell_type": "code",
   "execution_count": 3,
   "metadata": {},
   "outputs": [
    {
     "data": {
      "text/plain": [
       "0    A\n",
       "1    B\n",
       "2    C\n",
       "3    D\n",
       "4    E\n",
       "dtype: object"
      ]
     },
     "execution_count": 3,
     "metadata": {},
     "output_type": "execute_result"
    }
   ],
   "source": [
    "# Ejemplo 1\n",
    "serie = pd.Series(['A','B','C','D','E'])\n",
    "serie"
   ]
  },
  {
   "attachments": {},
   "cell_type": "markdown",
   "metadata": {},
   "source": [
    "##### Ejemplo 2. Declaración basada en un rango de datos"
   ]
  },
  {
   "cell_type": "code",
   "execution_count": 4,
   "metadata": {},
   "outputs": [
    {
     "data": {
      "text/plain": [
       "0    50\n",
       "1    52\n",
       "2    54\n",
       "3    56\n",
       "4    58\n",
       "5    60\n",
       "6    62\n",
       "7    64\n",
       "8    66\n",
       "9    68\n",
       "dtype: int64"
      ]
     },
     "execution_count": 4,
     "metadata": {},
     "output_type": "execute_result"
    }
   ],
   "source": [
    "# Ejemplo 2\n",
    "Numeros = range(50, 70, 2) \n",
    "Numeros_serie = pd.Series(Numeros)\n",
    "Numeros_serie"
   ]
  },
  {
   "attachments": {},
   "cell_type": "markdown",
   "metadata": {},
   "source": [
    "También podemos usar diccionarios para declarar `Series`, a continuación vemos un ejemplo de cómo hacerlo:"
   ]
  }
 ],
 "metadata": {
  "kernelspec": {
   "display_name": "Python 3",
   "language": "python",
   "name": "python3"
  },
  "language_info": {
   "codemirror_mode": {
    "name": "ipython",
    "version": 3
   },
   "file_extension": ".py",
   "mimetype": "text/x-python",
   "name": "python",
   "nbconvert_exporter": "python",
   "pygments_lexer": "ipython3",
   "version": "3.11.0"
  },
  "orig_nbformat": 4,
  "vscode": {
   "interpreter": {
    "hash": "c261aea317cc0286b3b3261fbba9abdec21eaa57589985bb7a274bf54d6cc0a7"
   }
  }
 },
 "nbformat": 4,
 "nbformat_minor": 2
}
