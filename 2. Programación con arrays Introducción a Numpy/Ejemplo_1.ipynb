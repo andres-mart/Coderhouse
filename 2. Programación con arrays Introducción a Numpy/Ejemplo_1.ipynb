{
 "cells": [
  {
   "attachments": {},
   "cell_type": "markdown",
   "metadata": {},
   "source": [
    "## Introducción a Numpy"
   ]
  },
  {
   "cell_type": "code",
   "execution_count": 26,
   "metadata": {},
   "outputs": [],
   "source": [
    "import numpy as np"
   ]
  },
  {
   "attachments": {},
   "cell_type": "markdown",
   "metadata": {},
   "source": [
    "### Ejercicio 1\n",
    "¿Cómo sabemos qué versión de Numpy está siendo importada?"
   ]
  },
  {
   "cell_type": "code",
   "execution_count": 27,
   "metadata": {},
   "outputs": [
    {
     "name": "stdout",
     "output_type": "stream",
     "text": [
      "1.23.5\n"
     ]
    }
   ],
   "source": [
    "# Solución\n",
    "print(np.__version__)"
   ]
  },
  {
   "attachments": {},
   "cell_type": "markdown",
   "metadata": {},
   "source": [
    "### Ejercicio 2\n",
    "A continuación vemos dos arreglos. Cada uno contiene los salarios (en USD) de los funcionarios de un área de una empresa."
   ]
  },
  {
   "cell_type": "code",
   "execution_count": 28,
   "metadata": {},
   "outputs": [],
   "source": [
    "mercadeo = np.array([2000, 1500, 1300, 1600])\n",
    "logistica = np.array([1800, 1600, 1200, 1600])"
   ]
  },
  {
   "attachments": {},
   "cell_type": "markdown",
   "metadata": {},
   "source": [
    "Implementar una función llamada `promedio` que reciba dos arreglos por parámetro, los una y retorne el promedio de los elementos de la unión.\n",
    "\n",
    "*Esta función debe retornar un `float`*."
   ]
  },
  {
   "cell_type": "code",
   "execution_count": 29,
   "metadata": {},
   "outputs": [
    {
     "name": "stdout",
     "output_type": "stream",
     "text": [
      "El promedio de los arreglos es:  1575.0\n"
     ]
    }
   ],
   "source": [
    "# Solución\n",
    "\n",
    "# Definimos una función para concatenar ambos arreglos y luego calcular el promedio de ambos:\n",
    "def promedio(arreglo_1, arreglo_2):\n",
    "    concatenado = np.concatenate((arreglo_1, arreglo_2))\n",
    "    media = concatenado.mean()\n",
    "    return media\n",
    "\n",
    "print('El promedio de los arreglos es: ', promedio(mercadeo, logistica))"
   ]
  },
  {
   "attachments": {},
   "cell_type": "markdown",
   "metadata": {},
   "source": [
    "### Ejercicio 3\n",
    "El conocimiento de algunas herramientas de álgebra lineal puede ser muy útil para un Científico de Datos, uno de los conceptos más básicos es la matriz Identidad, compuesta de 0's y 1's en la diagonal de izquierda o derecha."
   ]
  },
  {
   "cell_type": "code",
   "execution_count": 30,
   "metadata": {},
   "outputs": [
    {
     "data": {
      "text/plain": [
       "array([[1., 0., 0., 0., 0., 0., 0., 0.],\n",
       "       [0., 1., 0., 0., 0., 0., 0., 0.],\n",
       "       [0., 0., 1., 0., 0., 0., 0., 0.],\n",
       "       [0., 0., 0., 1., 0., 0., 0., 0.],\n",
       "       [0., 0., 0., 0., 1., 0., 0., 0.],\n",
       "       [0., 0., 0., 0., 0., 1., 0., 0.],\n",
       "       [0., 0., 0., 0., 0., 0., 1., 0.],\n",
       "       [0., 0., 0., 0., 0., 0., 0., 1.]])"
      ]
     },
     "execution_count": 30,
     "metadata": {},
     "output_type": "execute_result"
    }
   ],
   "source": [
    "# Solución\n",
    "\n",
    "np.eye(8)"
   ]
  },
  {
   "attachments": {},
   "cell_type": "markdown",
   "metadata": {},
   "source": [
    "### Ejercicio 4\n",
    "Un compañero de curso desea conocer cuales son los índices de dos arreglos que contienen los mismos valores."
   ]
  },
  {
   "cell_type": "code",
   "execution_count": 31,
   "metadata": {},
   "outputs": [],
   "source": [
    "a = np.array([1,2,3,4,5])\n",
    "b = np.array([1,3,2,4,5])"
   ]
  },
  {
   "cell_type": "code",
   "execution_count": 32,
   "metadata": {},
   "outputs": [
    {
     "data": {
      "text/plain": [
       "(array([0, 3, 4], dtype=int64),)"
      ]
     },
     "execution_count": 32,
     "metadata": {},
     "output_type": "execute_result"
    }
   ],
   "source": [
    "# Solución\n",
    "np.where(a==b)"
   ]
  },
  {
   "attachments": {},
   "cell_type": "markdown",
   "metadata": {},
   "source": [
    "### Ejercicio 5\n",
    "Lectura de un archivo de datos originario de Excel. Usando el paquete numpy es posible lograr obtener datos externos de un archivo, el truco si este se encuentra en formato `.xls` o `.xlsx` es transformar este archivo a un archivo `.txt` o `.csv`.\n",
    "\n",
    "**Nota:** Siempre revisar si los datos están limpios, tanto para este ejercicio como para su vida realacionada con analítica de datos.<br>\n",
    "\n",
    "**Sintaxis General para lectura**\n",
    "\n",
    "np.genfromtxt(nombre_archivo, dtype = 'tipo_de_datos', delimiter = 'separador', usecols = (numero_columnas), skip_header = numero_filas_eliminar, filling_values = 0)"
   ]
  },
  {
   "attachments": {},
   "cell_type": "markdown",
   "metadata": {},
   "source": [
    "#### 5.1\n",
    "Cree un arreglo que contenga las nacionalidades de las personas encuestadas."
   ]
  },
  {
   "cell_type": "code",
   "execution_count": 35,
   "metadata": {},
   "outputs": [
    {
     "data": {
      "text/plain": [
       "array(['Argentina', 'Argentina', 'Argentina', ..., 'Argentina',\n",
       "       'Argentina', 'Argentina'], dtype='<U20')"
      ]
     },
     "execution_count": 35,
     "metadata": {},
     "output_type": "execute_result"
    }
   ],
   "source": [
    "# Solución\n",
    "data_path = open('...\\\\Ejemplo_1.csv', 'r')\n",
    "np.genfromtxt(data_path, dtype = 'str', delimiter = ';', usecols = (3), skip_header = 1, filling_values = 0)"
   ]
  },
  {
   "cell_type": "code",
   "execution_count": 38,
   "metadata": {},
   "outputs": [],
   "source": [
    "data_path.read()\n",
    "data_path.close()"
   ]
  },
  {
   "attachments": {},
   "cell_type": "markdown",
   "metadata": {},
   "source": [
    "#### 5.2\n",
    "Calcule la media de las edades de los encuestados."
   ]
  },
  {
   "cell_type": "code",
   "execution_count": 42,
   "metadata": {},
   "outputs": [
    {
     "data": {
      "text/plain": [
       "40.74060795011691"
      ]
     },
     "execution_count": 42,
     "metadata": {},
     "output_type": "execute_result"
    }
   ],
   "source": [
    "# Solución\n",
    "data_path = open('...\\\\Ejemplo_1.csv')\n",
    "Edades = np.genfromtxt(data_path, delimiter = ';', usecols = (2) , skip_header = 1, filling_values = 0)\n",
    "Edades.mean()"
   ]
  },
  {
   "attachments": {},
   "cell_type": "markdown",
   "metadata": {},
   "source": [
    "#### 5.3\n",
    "Calcule la media del Salario Bruto."
   ]
  },
  {
   "cell_type": "code",
   "execution_count": 49,
   "metadata": {},
   "outputs": [
    {
     "data": {
      "text/plain": [
       "262287.04108215123"
      ]
     },
     "execution_count": 49,
     "metadata": {},
     "output_type": "execute_result"
    }
   ],
   "source": [
    "# Solución\n",
    "data_path = open('...\\\\Ejemplo_1.csv')\n",
    "Sal_bruto = np.genfromtxt(data_path, delimiter = ';', usecols = (4), skip_header = 1, filling_values = 0) # Completamos con 0 missing values\n",
    "Sal_bruto.mean()"
   ]
  }
 ],
 "metadata": {
  "kernelspec": {
   "display_name": "Python 3",
   "language": "python",
   "name": "python3"
  },
  "language_info": {
   "codemirror_mode": {
    "name": "ipython",
    "version": 3
   },
   "file_extension": ".py",
   "mimetype": "text/x-python",
   "name": "python",
   "nbconvert_exporter": "python",
   "pygments_lexer": "ipython3",
   "version": "3.11.0"
  },
  "orig_nbformat": 4,
  "vscode": {
   "interpreter": {
    "hash": "c261aea317cc0286b3b3261fbba9abdec21eaa57589985bb7a274bf54d6cc0a7"
   }
  }
 },
 "nbformat": 4,
 "nbformat_minor": 2
}
