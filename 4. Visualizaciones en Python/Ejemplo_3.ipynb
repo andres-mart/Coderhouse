{
 "cells": [
  {
   "attachments": {},
   "cell_type": "markdown",
   "metadata": {},
   "source": [
    "## Visualizaciones de datos en Python III"
   ]
  },
  {
   "attachments": {},
   "cell_type": "markdown",
   "metadata": {},
   "source": [
    "## Objetivos:\n",
    "\n",
    "**1.** Crear diferentes tipos de visualizaciones en `plotly` y personalizarlas de manera amigable. <br />\n",
    "**2.** Utilizar `ipywidgets` para explorar datos de forma interactiva. <br />\n",
    "**3.** Crear visualizaciones interactivas en `plotly` con `ipywidgets`.<br> \n",
    "**4.** Definir los componentes necesarios para crear un tablero de control. <br> \n",
    "**5.** Personalizar tableros de control con gráficos y controles para generar distintas visualizaciones interactivas."
   ]
  },
  {
   "attachments": {},
   "cell_type": "markdown",
   "metadata": {},
   "source": [
    "## 1. Librería `plotly`\n",
    "`Plotly` es una librería interactiva de uso abierto para el lenguaje Python, que soporta más de 40 tipos de visualizaciones únicas. Estas cubren una amplia gama de casos de uso estadístico, financiero, geográfico y científico. Esta librería nos permite crear visualizaciones interactivas que podemos mostrar en Jupyter Notebook, guardar en archivos HTML o utilizar como parte de aplicaciones web construidas con Python utilizando Dash. "
   ]
  }
 ],
 "metadata": {
  "kernelspec": {
   "display_name": "Python 3",
   "language": "python",
   "name": "python3"
  },
  "language_info": {
   "name": "python",
   "version": "3.11.0"
  },
  "orig_nbformat": 4,
  "vscode": {
   "interpreter": {
    "hash": "c261aea317cc0286b3b3261fbba9abdec21eaa57589985bb7a274bf54d6cc0a7"
   }
  }
 },
 "nbformat": 4,
 "nbformat_minor": 2
}
