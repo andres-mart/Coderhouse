{
 "cells": [
  {
   "attachments": {},
   "cell_type": "markdown",
   "metadata": {},
   "source": [
    "## Visualizaciones de datos en Python (Parte I)"
   ]
  },
  {
   "attachments": {},
   "cell_type": "markdown",
   "metadata": {},
   "source": [
    "# Objetivos\n",
    "\n",
    "1. Graficar datos en Python.\n",
    "2. Uso básico de las librerías más utilizadas: Matplotlib y Seaborn."
   ]
  },
  {
   "attachments": {},
   "cell_type": "markdown",
   "metadata": {},
   "source": [
    "## 1. Paquete `matplotlib`\n",
    "\n",
    "Es la librería más ampliamente utilizada en Python para la visualización. Es además el constructo básico de graficación de muchas otras librerías de uso común. Es posible compararla con `numpy` en el sentido que ha servido de piedra angular para integrar otras herramientas útiles."
   ]
  }
 ],
 "metadata": {
  "language_info": {
   "name": "python"
  },
  "orig_nbformat": 4
 },
 "nbformat": 4,
 "nbformat_minor": 2
}
