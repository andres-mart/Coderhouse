{
 "cells": [
  {
   "attachments": {},
   "cell_type": "markdown",
   "metadata": {},
   "source": [
    "## Herramientas de Visualización"
   ]
  },
  {
   "cell_type": "code",
   "execution_count": null,
   "metadata": {},
   "outputs": [],
   "source": [
    "import matplotlib\n",
    "import matplotlib.pyplot as plt\n",
    "import pandas as pd\n",
    "import numpy as np\n",
    "import seaborn as sns"
   ]
  },
  {
   "attachments": {},
   "cell_type": "markdown",
   "metadata": {},
   "source": [
    "## Gráficos de Barras"
   ]
  },
  {
   "attachments": {},
   "cell_type": "markdown",
   "metadata": {},
   "source": [
    "#### Ejemplo 1\n",
    "Tenemos las puntuaciones de 5 equipos, del E1 al E5, separados por categorías, nombradas como Categoría 1 en color azul y Categoría 2 en color anaranjado."
   ]
  },
  {
   "cell_type": "code",
   "execution_count": null,
   "metadata": {},
   "outputs": [],
   "source": [
    "labels = ['E1', 'E2', 'E3', 'E4', 'E5']\n",
    "men_means = [20, 34, 30, 35, 27]\n",
    "women_means = [25, 32, 34, 20, 25]\n",
    "\n",
    "x = np.arange(len(labels))  # Ubicación de las etiquetas\n",
    "width = 0.35  # Ancho de las barras\n",
    "\n",
    "fig, ax = plt.subplots()\n",
    "rects1 = ax.bar(x - width/2, men_means, width, label='Categoría 1')\n",
    "rects2 = ax.bar(x + width/2, women_means, width, label='Categoría 2')\n",
    "\n",
    "# Add some text for labels, title and custom x-axis tick labels, etc.\n",
    "ax.set_ylabel('Puntuaciones')\n",
    "ax.set_title('Puntuaciones por equipo y categoría')\n",
    "ax.set_xticks(x)\n",
    "ax.set_xticklabels(labels)\n",
    "ax.legend()\n",
    "\n",
    "fig.tight_layout()  # Ajusta el espaciado de los elementos del gráfico para que quepa todo en la figura.\n",
    "\n",
    "plt.show()"
   ]
  },
  {
   "attachments": {},
   "cell_type": "markdown",
   "metadata": {},
   "source": [
    "#### Ejemplo 2"
   ]
  },
  {
   "cell_type": "code",
   "execution_count": null,
   "metadata": {},
   "outputs": [],
   "source": [
    "# Valores Generales\n",
    "np.random.seed(111)\n",
    "paises = ['CO','MX','AR','CL','EC','UY','PE']\n",
    "salarios_minimos = np.random.randint(low=100, high=None, size = len(paises))\n",
    "salarios_maximos = np.random.randint(low=300, high=None, size = len(paises))\n",
    "x = np.arange(len(paises))  # Ubicación de las etiquetas\n",
    "width = 0.35  # Ancho de las barras\n",
    "fig, ax = plt.subplots(figsize =(16,8))\n",
    "\n",
    "# Grafico \n",
    "rects1 = ax.bar(x - width/2,salarios_minimos, width, label='Minimos')\n",
    "rects2 = ax.bar(x + width/2,salarios_maximos, width, label='Maximos')\n",
    "# Add some text for labels, title and custom x-axis tick labels, etc.\n",
    "ax.set_ylabel('Puntuaciones')\n",
    "ax.set_xlabel('Pais')\n",
    "ax.set_title('Puntuaciones por equipo y categoría')\n",
    "ax.set_xticks(x)\n",
    "ax.set_xticklabels(paises)\n",
    "ax.legend()\n",
    "\n",
    "\n",
    "plt.show()"
   ]
  },
  {
   "attachments": {},
   "cell_type": "markdown",
   "metadata": {},
   "source": [
    "## Histogramas"
   ]
  },
  {
   "attachments": {},
   "cell_type": "markdown",
   "metadata": {},
   "source": [
    "#### Ejemplo 1\n",
    "\n",
    "Considere una distribución normal. A partir de su función de densidad realice un histograma para 500 estimaciones aleatorias, con una media $\\mu = 170$ y una varianza de $\\sigma^2 = 100$. <br> $f(x | \\mu, \\sigma^2) = \\frac{1}{\\sigma\\sqrt{2\\pi} } \\; e^{ -\\frac{(x-\\mu)^2}{2\\sigma^2} }$"
   ]
  },
  {
   "cell_type": "code",
   "execution_count": null,
   "metadata": {},
   "outputs": [],
   "source": [
    "np.random.seed(1970627)   # Elegimos un número al azar de semilla\n",
    "\n",
    "# Parámetros para generar una distribución normal:\n",
    "mu = 170       # Media\n",
    "sigma = 10     # Desviación estándar\n",
    "x = mu + sigma * np.random.randn(500)   # Generación aleatoria de puntos a partir de los parámetros\n",
    "x = np.round(x, decimals=2)\n",
    "\n",
    "num_bins = 500      # Muestra de 500 alturas aleatorias\n",
    "\n",
    "# 1, 2: especifica que se creará una fila de dos subplots.\n",
    "# sharey = False: especifica que los subplots no compartirán el eje y.\n",
    "# Esto significa que el rango del eje y en cada subplot puede ser diferente.\n",
    "\n",
    "fig, ax = plt.subplots(1, 2, sharey=False, figsize =(10,3))\n",
    "\n",
    "# Histograma de datos:\n",
    "\n",
    "# n: es un arreglo que contiene el número de observaciones en cada contenedor del histograma. Es decir, \n",
    "# si se define que el histograma tendrá 10 contenedores, n es un arreglo de 10 elementos, donde cada elemento \n",
    "# representa el número de observaciones que caen dentro de ese contenedor.\n",
    "\n",
    "# bins: es un arreglo que contiene los límites de los contenedores utilizados en el histograma. Es decir, \n",
    "# si se define que el histograma tendrá 10 contenedores, bins es un arreglo de 11 elementos que \n",
    "# define los límites de los 10 contenedores.\n",
    "\n",
    "# patches: es una lista de objetos que representan los contenedores gráficos del histograma. \n",
    "# Cada objeto patch contiene información sobre la ubicación, tamaño y color de cada contenedor.\n",
    "\n",
    "n, bins, patches = ax[0].hist(x, density=False)   # Frecuencia absoluta\n",
    "n, bins, patches = ax[1].hist(x, density=True)    # Frecuencia relativa\n",
    "\n",
    "\n",
    "# Ajuste de linea de densidad estimada:\n",
    "y = ((1 / (np.sqrt(2 * np.pi) * sigma)) *\n",
    "     np.exp(-0.5 * (1 / sigma * (bins - mu))**2))\n",
    "\n",
    "#ax[0].plot(bins, y, '--')\n",
    "ax[1].set_xlabel('Altura en cm')\n",
    "ax[1].set_ylabel('Frecuencia relativa')\n",
    "ax[1].set_title(r'Histograma de alturas de 500 individuos')\n",
    "\n",
    "#ax[1].plot(bins, y, '--')\n",
    "ax[0].set_xlabel('Altura en cm')\n",
    "ax[0].set_ylabel('Frecuencia absoluta')\n",
    "ax[0].set_title(r'Histograma de alturas de 500 individuos')\n",
    "\n",
    "plt.show()"
   ]
  },
  {
   "attachments": {},
   "cell_type": "markdown",
   "metadata": {},
   "source": [
    "#### Ejemplo 2"
   ]
  },
  {
   "cell_type": "code",
   "execution_count": null,
   "metadata": {},
   "outputs": [],
   "source": [
    "# Utilizamos la biblioteca Seaborn para generar un histograma de la longitud de la aleta de los pingüinos:\n",
    "\n",
    "penguins = sns.load_dataset(\"penguins\")   # Cargamos el conjunto de datos desde Seaborn\n",
    "sns.histplot(data=penguins, x=\"flipper_length_mm\", bins=30)     # Ploteamos un histograma\n",
    "plt.show()"
   ]
  },
  {
   "cell_type": "code",
   "execution_count": null,
   "metadata": {},
   "outputs": [],
   "source": [
    "# Utilizamos el parámetro 'hue' para agregar una dimensión adicional al gráfico, en este caso,\n",
    "# se creará un histograma separado para cada especie de pingüino:\n",
    "\n",
    "sns.histplot(data=penguins, x=\"flipper_length_mm\", hue=\"species\")\n",
    "plt.show()"
   ]
  },
  {
   "attachments": {},
   "cell_type": "markdown",
   "metadata": {},
   "source": [
    "## Series de Tiempo\n",
    "\n",
    "#### Ejemplo"
   ]
  },
  {
   "cell_type": "code",
   "execution_count": null,
   "metadata": {},
   "outputs": [],
   "source": [
    "# Cargamos nuestro DF:\n",
    "df = pd.read_csv('https://raw.githubusercontent.com/selva86/datasets/master/a10.csv', parse_dates=['date'], index_col='date')\n",
    "\n",
    "# Definimos la función 'plot_df' para generar un gráfico en Matplotlib:\n",
    "def plot_df(df, x, y, title=\"\", xlabel='Fecha', ylabel='Valor', dpi=100):\n",
    "    plt.figure(figsize=(16,5), dpi=dpi)\n",
    "    plt.plot(x, y, color='tab:red')\n",
    "    plt.gca().set(title=title, xlabel=xlabel, ylabel=ylabel)\n",
    "    plt.show()\n",
    "\n",
    "plot_df(df, x=df.index, y=df.value, title='Ventas Mensuales de medicamentos Anti-Diabetes en Australia del 1992 al 2008.') "
   ]
  },
  {
   "attachments": {},
   "cell_type": "markdown",
   "metadata": {},
   "source": [
    "El siguiente código generará un gráfico en 3D de puntos aleatorios en un espacio tridimensional:\n",
    "\n",
    "- En la primera línea, se establece la semilla del generador de números aleatorios de numpy para asegurar la reproducibilidad de los resultados.\n",
    "- La función `randrange` se define para generar un conjunto de `n` números aleatorios dentro de un rango dado (`vmin` y `vmax`).\n",
    "- Luego, se crea una figura y un objeto Axes3D para el gráfico en 3D.\n",
    "- Se establece el estilo y la posición de los marcadores de los puntos en el espacio tridimensional mediante la función `scatter` de Axes3D. La posición de cada punto se determina por las coordenadas (x,y,z) generadas por la función randrange.\n",
    "- Se establecen las etiquetas de los ejes x, y, y z mediante los métodos `set_xlabel`, `set_ylabel`, y `set_zlabel`.\n",
    "- Finalmente, se muestra el gráfico mediante la función `show` de matplotlib."
   ]
  },
  {
   "cell_type": "code",
   "execution_count": null,
   "metadata": {},
   "outputs": [],
   "source": [
    "np.random.seed(19700627)\n",
    "\n",
    "def randrange(n, vmin, vmax):\n",
    "    return (vmax - vmin)*np.random.rand(n) + vmin\n",
    "\n",
    "fig = plt.figure()\n",
    "ax = fig.add_subplot(projection='3d')\n",
    "\n",
    "n = 100\n",
    "\n",
    "m, zlow, zhigh = ('o', -50, -25)\n",
    "xs = randrange(n, 23, 32)\n",
    "ys = randrange(n, 0, 100)\n",
    "zs = randrange(n, zlow, zhigh)\n",
    "ax.scatter(xs, ys, zs, marker=m)\n",
    "\n",
    "\n",
    "ax.set_xlabel('Variable x')\n",
    "ax.set_ylabel('Variable y')\n",
    "ax.set_zlabel('Variable z')\n",
    "\n",
    "plt.show()"
   ]
  },
  {
   "cell_type": "code",
   "execution_count": null,
   "metadata": {},
   "outputs": [],
   "source": [
    "sns.pairplot(penguins)\n",
    "plt.show()"
   ]
  },
  {
   "attachments": {},
   "cell_type": "markdown",
   "metadata": {},
   "source": [
    "## Boxplots and Violin\n",
    "\n",
    "#### Ejemplo"
   ]
  },
  {
   "cell_type": "code",
   "execution_count": null,
   "metadata": {},
   "outputs": [],
   "source": [
    "tips = sns.load_dataset(\"tips\")\n",
    "sns.catplot(x=\"sex\", y=\"total_bill\",\n",
    "                hue=\"smoker\", col=\"time\",\n",
    "                data=tips, kind=\"box\", #split=True,\n",
    "                height=4, aspect=.7)\n",
    "plt.show()"
   ]
  },
  {
   "attachments": {},
   "cell_type": "markdown",
   "metadata": {},
   "source": [
    "## Gráfico de Radar\n",
    "\n",
    "#### Ejemplo"
   ]
  },
  {
   "cell_type": "code",
   "execution_count": null,
   "metadata": {},
   "outputs": [],
   "source": [
    "from math import pi\n",
    " \n",
    "# Set data\n",
    "df = pd.DataFrame({\n",
    "'group': ['A','B','C','D'],\n",
    "'var1': [38, 1.5, 30, 4],\n",
    "'var2': [29, 10, 9, 34],\n",
    "'var3': [8, 39, 23, 24],\n",
    "'var4': [7, 31, 33, 14],\n",
    "'var5': [28, 15, 32, 14]\n",
    "})\n",
    " \n",
    "# ------- PART 1: Define a function that do a plot for one line of the dataset!\n",
    " \n",
    "def make_spider( row, title, color):\n",
    "\n",
    "    # number of variable\n",
    "    categories=list(df)[1:]\n",
    "    N = len(categories)\n",
    "\n",
    "    # What will be the angle of each axis in the plot? (we divide the plot / number of variable)\n",
    "    angles = [n / float(N) * 2 * pi for n in range(N)]\n",
    "    angles += angles[:1]\n",
    "\n",
    "    # Initialise the spider plot\n",
    "    ax = plt.subplot(2,2,row+1, polar=True, )\n",
    "\n",
    "    # If you want the first axis to be on top:\n",
    "    ax.set_theta_offset(pi / 2)\n",
    "    ax.set_theta_direction(-1)\n",
    "\n",
    "    # Draw one axe per variable + add labels labels yet\n",
    "    plt.xticks(angles[:-1], categories, color='grey', size=8)\n",
    "\n",
    "    # Draw ylabels\n",
    "    ax.set_rlabel_position(0)\n",
    "    plt.yticks([10,20,30], [\"10\",\"20\",\"30\"], color=\"grey\", size=7)\n",
    "    plt.ylim(0,40)\n",
    "\n",
    "    # Ind1\n",
    "    values=df.loc[row].drop('group').values.flatten().tolist()\n",
    "    values += values[:1]\n",
    "    ax.plot(angles, values, color=color, linewidth=2, linestyle='solid')\n",
    "    ax.fill(angles, values, color=color, alpha=0.4)\n",
    "\n",
    "    # Add a title\n",
    "    plt.title(title, size=11, color=color, y=1.1)\n",
    "\n",
    "    \n",
    "# ------- PART 2: Apply the function to all individuals\n",
    "# initialize the figure\n",
    "my_dpi=96\n",
    "plt.figure(figsize=(1000/my_dpi, 1000/my_dpi), dpi=my_dpi)\n",
    " \n",
    "# Create a color palette:\n",
    "my_palette = plt.cm.get_cmap(\"Set2\", len(df.index))\n",
    " \n",
    "# Loop to plot\n",
    "for row in range(0, len(df.index)):\n",
    "    make_spider( row=row, title='Grupo '+df['group'][row], color=my_palette(row))"
   ]
  }
 ],
 "metadata": {
  "kernelspec": {
   "display_name": "Python 3",
   "language": "python",
   "name": "python3"
  },
  "language_info": {
   "codemirror_mode": {
    "name": "ipython",
    "version": 3
   },
   "file_extension": ".py",
   "mimetype": "text/x-python",
   "name": "python",
   "nbconvert_exporter": "python",
   "pygments_lexer": "ipython3",
   "version": "3.11.0"
  },
  "orig_nbformat": 4,
  "vscode": {
   "interpreter": {
    "hash": "c261aea317cc0286b3b3261fbba9abdec21eaa57589985bb7a274bf54d6cc0a7"
   }
  }
 },
 "nbformat": 4,
 "nbformat_minor": 2
}
