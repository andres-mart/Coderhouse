{
 "cells": [
  {
   "attachments": {},
   "cell_type": "markdown",
   "metadata": {},
   "source": [
    "## Introducción al análisis predictivo con Regresión"
   ]
  },
  {
   "attachments": {},
   "cell_type": "markdown",
   "metadata": {},
   "source": [
    "## Ejercicio de Mínimos Cuadrados Ordinarios\n",
    "\n",
    "\n",
    "1. Construir una regresión lineal simple para predecir la variable \"SALES\" con base al variable \"TV\" calculando de forma manual: Beta, Alfa, construir la ecuacion, calcular el SMC(Sumatoria de la distancias al cuadrado), SRC(Sumatoria de los residuos al cuadrado), SCT(Sumatoria de los totales al cuadrado) , R2.\n",
    "2. Realizar una gráfica donde se puedan ver los valores reales vs los predichos."
   ]
  }
 ],
 "metadata": {
  "language_info": {
   "name": "python"
  },
  "orig_nbformat": 4
 },
 "nbformat": 4,
 "nbformat_minor": 2
}
