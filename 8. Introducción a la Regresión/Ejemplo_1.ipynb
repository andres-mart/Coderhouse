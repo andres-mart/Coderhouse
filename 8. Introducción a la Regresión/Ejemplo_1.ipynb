{
 "cells": [
  {
   "attachments": {},
   "cell_type": "markdown",
   "metadata": {},
   "source": [
    "# Introducción al análisis predictivo con Regresión"
   ]
  },
  {
   "attachments": {},
   "cell_type": "markdown",
   "metadata": {},
   "source": [
    "## Ejercicio de Mínimos Cuadrados Ordinarios\n",
    "\n",
    "\n",
    "1. Construir una regresión lineal simple para predecir la variable \"SALES\" con base al variable \"TV\" calculando de forma manual: Beta, Alfa, construir la ecuacion, calcular el SMC(Sumatoria de la distancias al cuadrado), SRC(Sumatoria de los residuos al cuadrado), SCT(Sumatoria de los totales al cuadrado) , R2.\n",
    "2. Realizar una gráfica donde se puedan ver los valores reales vs los predichos."
   ]
  },
  {
   "attachments": {},
   "cell_type": "markdown",
   "metadata": {},
   "source": [
    "## Mínimos Cuadrados Ordinarios"
   ]
  },
  {
   "attachments": {},
   "cell_type": "markdown",
   "metadata": {},
   "source": [
    "### 1. Preparación de datos en python\n",
    "\n",
    "### 1.1. Lectura de datos\n",
    "Primero procedemos a leer los datos usando la función `read_csv` del paquete `pandas.`"
   ]
  },
  {
   "cell_type": "code",
   "execution_count": 2,
   "metadata": {},
   "outputs": [
    {
     "data": {
      "text/html": [
       "<div>\n",
       "<style scoped>\n",
       "    .dataframe tbody tr th:only-of-type {\n",
       "        vertical-align: middle;\n",
       "    }\n",
       "\n",
       "    .dataframe tbody tr th {\n",
       "        vertical-align: top;\n",
       "    }\n",
       "\n",
       "    .dataframe thead th {\n",
       "        text-align: right;\n",
       "    }\n",
       "</style>\n",
       "<table border=\"1\" class=\"dataframe\">\n",
       "  <thead>\n",
       "    <tr style=\"text-align: right;\">\n",
       "      <th></th>\n",
       "      <th>TV</th>\n",
       "      <th>Radio</th>\n",
       "      <th>Newspaper</th>\n",
       "      <th>Sales</th>\n",
       "    </tr>\n",
       "  </thead>\n",
       "  <tbody>\n",
       "    <tr>\n",
       "      <th>0</th>\n",
       "      <td>230.1</td>\n",
       "      <td>37.8</td>\n",
       "      <td>69.2</td>\n",
       "      <td>22.1</td>\n",
       "    </tr>\n",
       "    <tr>\n",
       "      <th>1</th>\n",
       "      <td>44.5</td>\n",
       "      <td>39.3</td>\n",
       "      <td>45.1</td>\n",
       "      <td>10.4</td>\n",
       "    </tr>\n",
       "    <tr>\n",
       "      <th>2</th>\n",
       "      <td>17.2</td>\n",
       "      <td>45.9</td>\n",
       "      <td>69.3</td>\n",
       "      <td>12.0</td>\n",
       "    </tr>\n",
       "    <tr>\n",
       "      <th>3</th>\n",
       "      <td>151.5</td>\n",
       "      <td>41.3</td>\n",
       "      <td>58.5</td>\n",
       "      <td>16.5</td>\n",
       "    </tr>\n",
       "    <tr>\n",
       "      <th>4</th>\n",
       "      <td>180.8</td>\n",
       "      <td>10.8</td>\n",
       "      <td>58.4</td>\n",
       "      <td>17.9</td>\n",
       "    </tr>\n",
       "    <tr>\n",
       "      <th>...</th>\n",
       "      <td>...</td>\n",
       "      <td>...</td>\n",
       "      <td>...</td>\n",
       "      <td>...</td>\n",
       "    </tr>\n",
       "    <tr>\n",
       "      <th>195</th>\n",
       "      <td>38.2</td>\n",
       "      <td>3.7</td>\n",
       "      <td>13.8</td>\n",
       "      <td>7.6</td>\n",
       "    </tr>\n",
       "    <tr>\n",
       "      <th>196</th>\n",
       "      <td>94.2</td>\n",
       "      <td>4.9</td>\n",
       "      <td>8.1</td>\n",
       "      <td>14.0</td>\n",
       "    </tr>\n",
       "    <tr>\n",
       "      <th>197</th>\n",
       "      <td>177.0</td>\n",
       "      <td>9.3</td>\n",
       "      <td>6.4</td>\n",
       "      <td>14.8</td>\n",
       "    </tr>\n",
       "    <tr>\n",
       "      <th>198</th>\n",
       "      <td>283.6</td>\n",
       "      <td>42.0</td>\n",
       "      <td>66.2</td>\n",
       "      <td>25.5</td>\n",
       "    </tr>\n",
       "    <tr>\n",
       "      <th>199</th>\n",
       "      <td>232.1</td>\n",
       "      <td>8.6</td>\n",
       "      <td>8.7</td>\n",
       "      <td>18.4</td>\n",
       "    </tr>\n",
       "  </tbody>\n",
       "</table>\n",
       "<p>200 rows × 4 columns</p>\n",
       "</div>"
      ],
      "text/plain": [
       "        TV  Radio  Newspaper  Sales\n",
       "0    230.1   37.8       69.2   22.1\n",
       "1     44.5   39.3       45.1   10.4\n",
       "2     17.2   45.9       69.3   12.0\n",
       "3    151.5   41.3       58.5   16.5\n",
       "4    180.8   10.8       58.4   17.9\n",
       "..     ...    ...        ...    ...\n",
       "195   38.2    3.7       13.8    7.6\n",
       "196   94.2    4.9        8.1   14.0\n",
       "197  177.0    9.3        6.4   14.8\n",
       "198  283.6   42.0       66.2   25.5\n",
       "199  232.1    8.6        8.7   18.4\n",
       "\n",
       "[200 rows x 4 columns]"
      ]
     },
     "execution_count": 2,
     "metadata": {},
     "output_type": "execute_result"
    }
   ],
   "source": [
    "import pandas as pd\n",
    "\n",
    "# Leemos los datos:\n",
    "\n",
    "data = \"D://Coderhouse//8. Introducción a la Regresión//CORRELACION_VENTAS.csv\"\n",
    "datos = pd.read_csv(data)\n",
    "datos"
   ]
  },
  {
   "attachments": {},
   "cell_type": "markdown",
   "metadata": {},
   "source": [
    "### 1.2. Definición de variables\n",
    "Se crean los objetos de Python que contienen nuestras matrices de valores para los ejes X y Y."
   ]
  },
  {
   "cell_type": "code",
   "execution_count": 3,
   "metadata": {},
   "outputs": [],
   "source": [
    "# Definir variables de analisis\n",
    "x = datos[\"TV\"]\n",
    "\n",
    "y = datos[\"Sales\"]"
   ]
  },
  {
   "attachments": {},
   "cell_type": "markdown",
   "metadata": {},
   "source": [
    "### 2. Uso de paquete estadístico integrado de Python"
   ]
  },
  {
   "cell_type": "code",
   "execution_count": 4,
   "metadata": {},
   "outputs": [
    {
     "name": "stdout",
     "output_type": "stream",
     "text": [
      "                            OLS Regression Results                            \n",
      "==============================================================================\n",
      "Dep. Variable:                  Sales   R-squared:                       0.812\n",
      "Model:                            OLS   Adj. R-squared:                  0.811\n",
      "Method:                 Least Squares   F-statistic:                     856.2\n",
      "Date:                Wed, 07 Jun 2023   Prob (F-statistic):           7.93e-74\n",
      "Time:                        06:04:00   Log-Likelihood:                -448.99\n",
      "No. Observations:                 200   AIC:                             902.0\n",
      "Df Residuals:                     198   BIC:                             908.6\n",
      "Df Model:                           1                                         \n",
      "Covariance Type:            nonrobust                                         \n",
      "==============================================================================\n",
      "                 coef    std err          t      P>|t|      [0.025      0.975]\n",
      "------------------------------------------------------------------------------\n",
      "const          6.9748      0.323     21.624      0.000       6.339       7.611\n",
      "TV             0.0555      0.002     29.260      0.000       0.052       0.059\n",
      "==============================================================================\n",
      "Omnibus:                        0.013   Durbin-Watson:                   2.029\n",
      "Prob(Omnibus):                  0.993   Jarque-Bera (JB):                0.043\n",
      "Skew:                          -0.018   Prob(JB):                        0.979\n",
      "Kurtosis:                       2.938   Cond. No.                         338.\n",
      "==============================================================================\n",
      "\n",
      "Notes:\n",
      "[1] Standard Errors assume that the covariance matrix of the errors is correctly specified.\n"
     ]
    }
   ],
   "source": [
    "# Usamos la librería statsmodels para construir un modelo de regresión por mínimos cuadrados ordinarios\n",
    "import statsmodels.api as sm\n",
    "\n",
    "x_new = sm.add_constant(x)\n",
    "mod = sm.OLS(y, x_new)\n",
    "res = mod.fit()\n",
    "print(res.summary())"
   ]
  },
  {
   "attachments": {},
   "cell_type": "markdown",
   "metadata": {},
   "source": [
    "### 3. Construcción del modelo 'a mano' (Aproximación de 'fuerza bruta')\n",
    "\n",
    "En MCO (Mínimos cuadrados ordinarios) los estimadores de la regresión lineal se pueden describir como :\n",
    "\n",
    "$$y = β_0 + β_1X_1 + β_2X_2 + ... + β_nX_n + e$$\n",
    "\n",
    "dónde el estimador de la variable y será $\\hat y$:\n",
    "\n",
    "$$\\hat y =\\hat β_0 +\\hat β_1X_1 +\\hat β_2X_2 + ... +\\hat β_nX_n + \\hat e$$\n",
    "\n",
    "De esta manera podemos determinar que si la regresión de nuestro interés fuera de la forma:\n",
    "\n",
    "$$y = β_0 + β_1X + e  ----->  y = \\alpha + βX + e  $$\n",
    "\n",
    "+ $β_0$ es la altura a la que la recta corta al eje Y, la cual se denomina intercepto o alfa.\n",
    "\n",
    "+ $β_1$ es el incremento que se produce en la variable $y$ cuando la variable $X$ aumenta una unidad, el cual se denomina pendiente de la recta o beta.\n",
    "\n",
    "\n",
    "Al aplicar la derivación parcial e igualar a cero cada uno de los terminos de la ecuación se tiene que por MCO:\n",
    "\n",
    "$$\\alpha = \\bar{y} - β\\bar{x} $$\n",
    "\n",
    "$$\\beta = \\frac {Cov{x,y}}{var(x)} $$"
   ]
  },
  {
   "attachments": {},
   "cell_type": "markdown",
   "metadata": {},
   "source": [
    "### Fórmulas de utilidad:\n",
    "\n",
    "+ Media\n",
    "\n",
    "$$\\bar{x} = \\frac{\\sum_{i=1}^{N} x_{i}}{N}$$\n",
    "\n",
    "$$\\bar{y} = \\frac{\\sum_{i=1}^{N} y_{i}}{N}$$\n",
    "\n",
    "+ Varianza\n",
    "\n",
    "$$\\sigma_{x}^{2} = \\frac{\\sum (x_{i} - \\bar{x})^{2}}{N}$$\n",
    "\n",
    "$$\\sigma_{y}^{2} = \\frac{\\sum (y_{i} - \\bar{y})^{2}}{N}$$\n",
    "\n",
    "+ Covarianza\n",
    "\n",
    "$$Cov_{x,y} = \\frac{\\sum (x_{i} - \\bar{x}) (y_{i} - \\bar{y}) }{N}$$\n",
    "\n",
    "+ Suma de cuadrados explicada por la regresión SMC\n",
    "\n",
    "$$SMC =\\sum (\\hat{y}_{i} - \\bar{y})^{2}$$\n",
    "\n",
    "+ Suma de cuadrados de los errores o residuos SRC\n",
    "\n",
    "$$SRC =\\sum (y_{i} - \\hat{y})^{2}$$\n",
    "\n",
    "+ Suma de cuadrados totales\n",
    "\n",
    "$$STC =\\sum (y_{i} - \\bar{y})^{2} = SMC + SRC $$\n",
    "\n",
    "\n",
    "+ Coeficiente de determinación $R^{2}$\n",
    "\n",
    "$$R^{2} =  \\frac{SMC}{STC}$$"
   ]
  }
 ],
 "metadata": {
  "kernelspec": {
   "display_name": "Python 3",
   "language": "python",
   "name": "python3"
  },
  "language_info": {
   "codemirror_mode": {
    "name": "ipython",
    "version": 3
   },
   "file_extension": ".py",
   "mimetype": "text/x-python",
   "name": "python",
   "nbconvert_exporter": "python",
   "pygments_lexer": "ipython3",
   "version": "3.11.3"
  },
  "orig_nbformat": 4
 },
 "nbformat": 4,
 "nbformat_minor": 2
}
