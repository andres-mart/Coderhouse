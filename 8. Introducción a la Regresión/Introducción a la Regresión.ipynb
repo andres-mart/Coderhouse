{
  "cells": [
    {
      "attachments": {},
      "cell_type": "markdown",
      "id": "4375c2f1",
      "metadata": {
        "id": "4375c2f1"
      },
      "source": [
        "# Introducción al análisis predictivo con Regresión"
      ]
    },
    {
      "attachments": {},
      "cell_type": "markdown",
      "id": "245b2452",
      "metadata": {
        "id": "245b2452"
      },
      "source": [
        "## Objetivos\n",
        "\n",
        "1. Conocer los conceptos de Correlación, causalidad y dependencia y función lineal.\n",
        "2. Entender el modelo de regresión lineal y sus condiciones a cumplir. \n",
        "3. Conocer cómo usarlo.\n"
      ]
    },
    {
      "attachments": {},
      "cell_type": "markdown",
      "id": "0a258000",
      "metadata": {
        "id": "0a258000"
      },
      "source": [
        "## Aproximación Clásica"
      ]
    },
    {
      "cell_type": "code",
      "execution_count": 2,
      "id": "54c01a8f",
      "metadata": {
        "id": "54c01a8f"
      },
      "outputs": [
        {
          "name": "stdout",
          "output_type": "stream",
          "text": [
            "0     0.0\n",
            "1     0.0\n",
            "2     0.0\n",
            "3     0.0\n",
            "4     1.0\n",
            "5     0.0\n",
            "6     0.0\n",
            "7     0.0\n",
            "8     0.0\n",
            "9     1.0\n",
            "10    0.0\n",
            "11    0.0\n",
            "12    0.0\n",
            "13    1.0\n",
            "14    0.0\n",
            "15    0.0\n",
            "16    0.0\n",
            "17    0.0\n",
            "18    0.0\n",
            "19    1.0\n",
            "20    0.0\n",
            "21    1.0\n",
            "22    0.0\n",
            "23    0.0\n",
            "24    1.0\n",
            "25    1.0\n",
            "26    1.0\n",
            "27    0.0\n",
            "28    1.0\n",
            "29    1.0\n",
            "30    0.0\n",
            "31    1.0\n",
            "Name: GRADE, dtype: float64\n"
          ]
        }
      ],
      "source": [
        "import numpy as np\n",
        "import statsmodels.api as sm\n",
        "\n",
        "spector_data = sm.datasets.spector.load()\n",
        "spector_data.exog = sm.add_constant(spector_data.exog, prepend=False)\n",
        "print(spector_data.endog)"
      ]
    },
    {
      "cell_type": "code",
      "execution_count": 4,
      "id": "64a3619a",
      "metadata": {
        "id": "64a3619a"
      },
      "outputs": [
        {
          "name": "stdout",
          "output_type": "stream",
          "text": [
            "                            OLS Regression Results                            \n",
            "==============================================================================\n",
            "Dep. Variable:                  GRADE   R-squared:                       0.416\n",
            "Model:                            OLS   Adj. R-squared:                  0.353\n",
            "Method:                 Least Squares   F-statistic:                     6.646\n",
            "Date:                Thu, 18 May 2023   Prob (F-statistic):            0.00157\n",
            "Time:                        07:26:44   Log-Likelihood:                -12.978\n",
            "No. Observations:                  32   AIC:                             33.96\n",
            "Df Residuals:                      28   BIC:                             39.82\n",
            "Df Model:                           3                                         \n",
            "Covariance Type:            nonrobust                                         \n",
            "==============================================================================\n",
            "                 coef    std err          t      P>|t|      [0.025      0.975]\n",
            "------------------------------------------------------------------------------\n",
            "GPA            0.4639      0.162      2.864      0.008       0.132       0.796\n",
            "TUCE           0.0105      0.019      0.539      0.594      -0.029       0.050\n",
            "PSI            0.3786      0.139      2.720      0.011       0.093       0.664\n",
            "const         -1.4980      0.524     -2.859      0.008      -2.571      -0.425\n",
            "==============================================================================\n",
            "Omnibus:                        0.176   Durbin-Watson:                   2.346\n",
            "Prob(Omnibus):                  0.916   Jarque-Bera (JB):                0.167\n",
            "Skew:                           0.141   Prob(JB):                        0.920\n",
            "Kurtosis:                       2.786   Cond. No.                         176.\n",
            "==============================================================================\n",
            "\n",
            "Notes:\n",
            "[1] Standard Errors assume that the covariance matrix of the errors is correctly specified.\n"
          ]
        }
      ],
      "source": [
        "import numpy as np\n",
        "import statsmodels.api as sm\n",
        "\n",
        "spector_data = sm.datasets.spector.load()\n",
        "\n",
        "spector_data.exog = sm.add_constant(spector_data.exog, prepend=False)\n",
        "\n",
        "# Ajustar un modelo de mínimos cuadrados generalizados (Ordinary Least Squares -- OLS)\n",
        "mod = sm.OLS(spector_data.endog, spector_data.exog)\n",
        "\n",
        "res = mod.fit()\n",
        "\n",
        "print(res.summary())"
      ]
    },
    {
      "attachments": {},
      "cell_type": "markdown",
      "id": "cec17f3b",
      "metadata": {
        "id": "cec17f3b"
      },
      "source": [
        "## 1. Modelos de *machine learning*\n",
        "\n",
        "El propósito de los modelos de *machine learning* es encontrar características en datos conocidos (del pasado), ya sea para comprender algún fenómeno o para hacer alguna estimación sobre datos nuevos (del futuro). En cualquier caso, estos modelos son \"entrenados\" con base en datos observados.\n",
        "\n",
        "Los modelos de *machine learning* comúnmente se clasifican en dos categorias: supervisados, los cuales cuentan con una variable de respuesta que se quiere predecir; no supervisados, los cuales se enfocan en encontrar relaciones subyacentes entre los datos sin necesidad de una variable de respuesta. Por ejemplo, si tenemos imágenes médicas acompañadas del diagnóstico de un profesional, quien indica si existe una patología o no, podriamos plantear un modelo de aprendizaje supervisado. Si clasificamos las observaciones en estas dos categorías (patología, no patología), podemos utilizarlas para \"entrenar\" nuestro modelo y posteriormente determinar, sin la ayuda del médico, si nuevas imágenes corresponden a la patología o no.\n",
        "\n",
        "El aprendizaje supervisado nos permite abordar dos tipos de problemas: regresión y clasificación. En los problemas de regresión el objetivo es predecir una variable de respuesta que toma valores continuos (p.ej., estimar el precio de una casa con base en sus características), mientras que en los problemas de clasificación el objetivo es predecir una variable de respuesta que toma valores discretos (p.ej., estimar si una imagen corresponde a un objeto u otro).\n",
        "\n",
        "El aprendizaje no supervisado nos permite abordar dos tipos de problemas: clustering y reducción de dimensionalidad. En los problemas de clustering el objetivo es encontrar conjuntos de observaciones con características similares que podrían pertenecer a una misma clase o grupo. En los problemas de reducción de dimensionalidad el objetivo es encontrar las características que representan la información relevante de un conjunto de datos de la manera más concisa."
      ]
    },
    {
      "attachments": {},
      "cell_type": "markdown",
      "id": "a3afd095",
      "metadata": {
        "id": "a3afd095"
      },
      "source": [
        "### 1.1. Pasos típicos para desarrollar un modelo en el paquete scikit-learn\n",
        "\n",
        "Scikit-learn es un paquete que provee implementaciones eficientes de muchos algoritmos comunes de *machine learning* con una API (interfaz de programación de aplicaciones) sencilla de utilizar. En general, llevamos a cabo los siguientes pasos al momento de crear un modelo:\n",
        "\n",
        "**1. Importar un módulo del paquete `sklearn` que contiene el modelo que vamos a utilizar:** por ejemplo, si queremos desarrollar un modelo de regresión lineal, debemos importar el módulo correspondiente: `linear_model`.\n",
        "~~~ python\n",
        "from sklearn import linear_model\n",
        "~~~\n",
        "\n",
        "**2. Elegir los datos que queremos analizar:** en general, podemos pensar en los datos de entrada de un modelo de *machine learning* como una matriz, que llamaremos $X$, con $m$ filas y $n$ columnas, donde $m$ corresponde al número de muestras u observaciones (*samples*) y $n$ corresponde al número de variables o características (*features*). En el caso de modelos no supervisados, esa matriz será suficiente. Para un modelo supervisado, requerimos una columna adicional de datos, $y$ (con $m$ filas, una por muestra), correspondientes a la variable de respuesta. Supongamos que contamos con un `DataFrame` (`DF`) en el que las columnas 0 a 4 son variables independientes (*features*) y la columna 5 es la variable de respuesta. La selección de datos para la regresión será:\n",
        "~~~python\n",
        "X = DF.iloc[:,:5]\n",
        "y = DF.iloc[:,5]\n",
        "~~~\n",
        "\n",
        "**3. Crear conjuntos de datos para entrenamiento y prueba:** luego de dividir los datos en $X$ y en $y$, debemos crear un conjunto de datos de entrenamiento, con el cual se entrenará el modelo, y un conjunto de datos de prueba, con el cual se verificará la efectividad del modelo. Es fundamental llevar a cabo este paso ya que, de lo contrario, estaríamos entrenando y probando al modelo con el mismo set de datos, lo cual no nos permitiría saber si el modelo funciona correctamente o si simplemente se “aprendió” los resultados óptimos. Una analogía útil al momento de pensar en esta situación es la de un profesor que le muestra las respuestas de un parcial a sus estudiantes y luego los evalúa con las mismas preguntas. Normalmente utilizamos el 80% de los datos para entrenar el modelo y el 20% para probarlo.\n",
        "~~~python\n",
        "from sklearn.model_selection import train_test_split\n",
        "X_train, X_test, y_train, y_test = train_test_split(X, y, test_size=0.2)\n",
        "~~~\n",
        "\n",
        "**4. Declarar una instancia del modelo:** cada módulo dispone de diversos modelos. Por ejemplo, dentro de `linear_model` podemos encontrar la clase `LinearRegression`, que contiene los elementos necesarios para desarrollar un modelo de regresión lineal. Para proceder, debemos declarar un objeto de la clase `LinearRegression` como se muestra a continuación.\n",
        "~~~python\n",
        "mi_modelo = linear_model.LinearRegression()\n",
        "~~~\n",
        "\n",
        "**5. Entrenar el modelo:** el objeto `mi_modelo` cuenta con los métodos y atributos necesarios para desarrollar un modelo de regresión. El método más común en los modelos de *machine learning* es `fit`, pues es el encargado de entrenar el modelo de acuerdo a los datos suministrados para encontrar los parámetros que mejor se ajustan. A contiuación vemos la instrucción para entrenar el modelo:\n",
        "~~~python\n",
        "mi_modelo.fit(X_train,y_train)\n",
        "~~~\n",
        "\n",
        "**6. Consultar los resultados del modelo:** en el caso del modelo de regresión lineal, nos interesa conocer los coeficientes que acompañan a cada una de las variables del modelo. Cuando ejecutamos el método `fit`, estos valores son almacenados en el atributo `coef_`; el caracter ( _ ) es una convención para los atributos calculados internamente por el método `fit`. Así, podemos consultar estos valores de la siguiente manera:\n",
        "~~~python\n",
        "print(mi_modelo.coef_)\n",
        "~~~\n",
        "\n",
        "**7. Utilizar el modelo para predecir:** por lo general, queremos aplicar nuestro modelo entrenado a nuevas observaciones de datos. Para esto utilizamos el método `predict`, que recibe por parámetro las columnas correspondientes a variables independientes ($X$) y genera las predicciones correspondientes para la variable de respuesta ($y$). A continuación, utilizamos los datos de prueba (`X_test`) para predecir la variable de respuesta.\n",
        "~~~python\n",
        "y_estimado = mi_modelo.predict(X_test)\n",
        "~~~\n",
        "\n",
        "**8. Evaluar el desempeño del modelo:** es importante asegurarnos que el modelo que hemos entrenado se desempeña bien con datos nuevos y no se ha sobreajustado con los datos de entrenamiento. En este caso, lo usual es medir qué tan cercanas son las predicciones hechas por el modelo (`y_estimado`) a los valores reales de la variable de respuesta de los datos de prueba (`y_test`). En el caso de la regresión lineal, una métrica común es el $R^2$, el cual puede ser calculado con el método `r2_score` del módulo `sklearn.metrics`. Procedemos a importar la funcion y estimar la métrica:\n",
        "~~~python\n",
        "from sklearn.metrics import r2_score\n",
        "mi_r2 = r2_score(y_test, y_estimado)\n",
        "~~~\n",
        "\n",
        "También podemos usar el método `score` para conocer la precisión del modelo a partir de los datos de prueba:\n",
        "~~~python\n",
        "mi_r2 = mi_modelo.score(X_test, y_test)\n",
        "~~~  "
      ]
    },
    {
      "attachments": {},
      "cell_type": "markdown",
      "id": "474b7762",
      "metadata": {
        "id": "474b7762"
      },
      "source": [
        "## 2. Modelos de regresión\n",
        "Un modelo de regresión es un modelo matemático que busca determinar la relación de una variable dependiente $Y$ con respecto a una o más variables independientes $X$. Para ello debemos postular una ecuación que relacione estas variables. Por ejemplo, queremos saber si el rendimiento de un producto químico está relacionado con su temperatura. Podemos construir un modelo de regresión para identificar la relación que existe entre las variables y predecir el rendimiento de un producto dada una temperatura."
      ]
    },
    {
      "attachments": {},
      "cell_type": "markdown",
      "id": "a54570b1",
      "metadata": {
        "id": "a54570b1"
      },
      "source": [
        "Veremos tres tipos de modelos de regresión:\n",
        "1.\tRegresión lineal simple\n",
        "2.\tRegresión múltiple\n",
        "3.\tRegresión logística\n",
        "\n",
        "En este tutorial veremos cómo implementar estos modelos en el contexto de analítica de datos sin explicar su trasfondo estadístico, veremos esta explicación en otros cursos de la Maestría."
      ]
    },
    {
      "attachments": {},
      "cell_type": "markdown",
      "id": "777b9630",
      "metadata": {
        "id": "777b9630"
      },
      "source": [
        "### 2.1. Regresión lineal simple\n",
        "\n",
        "Una regresión lineal simple se basa en una sola variable independiente $X$, una variable dependiente $y$ y supone que existe una relación lineal entre estas. La ecuación general para este tipo de regresión es la siguiente:$$y = β_0 + β_1X + e$$\n",
        "\n",
        "+ $β_0$ es la altura a la que la recta corta al eje Y, la cual se denomina término independiente.\n",
        "\n",
        "+ $β_1$ es el incremento que se produce en la variable $y$ cuando la variable $X$ aumenta una unidad, el cual se denomina pendiente de la recta."
      ]
    },
    {
      "attachments": {},
      "cell_type": "markdown",
      "id": "1057e68e",
      "metadata": {
        "id": "1057e68e"
      },
      "source": [
        "<a id='ej1'></a>\n",
        "##### Ejemplo 1\n",
        "En este ejemplo utilizaremos los datos de vivienda en Boston y seguiremos los pasos vistos anteriormente, para llevar a cabo una regresión lineal que nos permita identificar cuál es la relación entre el precio de venta de una casa y el número de habitaciones que tiene."
      ]
    },
    {
      "attachments": {},
      "cell_type": "markdown",
      "id": "1ce219ae",
      "metadata": {
        "id": "1ce219ae"
      },
      "source": [
        "Empecemos cargando los datos y filtrando la información relevante:"
      ]
    },
    {
      "cell_type": "code",
      "execution_count": 4,
      "id": "57ee9e61",
      "metadata": {
        "id": "57ee9e61"
      },
      "outputs": [
        {
          "data": {
            "text/html": [
              "<div>\n",
              "<style scoped>\n",
              "    .dataframe tbody tr th:only-of-type {\n",
              "        vertical-align: middle;\n",
              "    }\n",
              "\n",
              "    .dataframe tbody tr th {\n",
              "        vertical-align: top;\n",
              "    }\n",
              "\n",
              "    .dataframe thead th {\n",
              "        text-align: right;\n",
              "    }\n",
              "</style>\n",
              "<table border=\"1\" class=\"dataframe\">\n",
              "  <thead>\n",
              "    <tr style=\"text-align: right;\">\n",
              "      <th></th>\n",
              "      <th>0</th>\n",
              "      <th>1</th>\n",
              "      <th>2</th>\n",
              "      <th>3</th>\n",
              "      <th>4</th>\n",
              "      <th>5</th>\n",
              "      <th>6</th>\n",
              "      <th>7</th>\n",
              "      <th>8</th>\n",
              "      <th>9</th>\n",
              "      <th>10</th>\n",
              "    </tr>\n",
              "  </thead>\n",
              "  <tbody>\n",
              "    <tr>\n",
              "      <th>0</th>\n",
              "      <td>0.00632</td>\n",
              "      <td>18.00</td>\n",
              "      <td>2.31</td>\n",
              "      <td>0.0</td>\n",
              "      <td>0.538</td>\n",
              "      <td>6.575</td>\n",
              "      <td>65.2</td>\n",
              "      <td>4.0900</td>\n",
              "      <td>1.0</td>\n",
              "      <td>296.0</td>\n",
              "      <td>15.3</td>\n",
              "    </tr>\n",
              "    <tr>\n",
              "      <th>1</th>\n",
              "      <td>396.90000</td>\n",
              "      <td>4.98</td>\n",
              "      <td>24.00</td>\n",
              "      <td>NaN</td>\n",
              "      <td>NaN</td>\n",
              "      <td>NaN</td>\n",
              "      <td>NaN</td>\n",
              "      <td>NaN</td>\n",
              "      <td>NaN</td>\n",
              "      <td>NaN</td>\n",
              "      <td>NaN</td>\n",
              "    </tr>\n",
              "    <tr>\n",
              "      <th>2</th>\n",
              "      <td>0.02731</td>\n",
              "      <td>0.00</td>\n",
              "      <td>7.07</td>\n",
              "      <td>0.0</td>\n",
              "      <td>0.469</td>\n",
              "      <td>6.421</td>\n",
              "      <td>78.9</td>\n",
              "      <td>4.9671</td>\n",
              "      <td>2.0</td>\n",
              "      <td>242.0</td>\n",
              "      <td>17.8</td>\n",
              "    </tr>\n",
              "    <tr>\n",
              "      <th>3</th>\n",
              "      <td>396.90000</td>\n",
              "      <td>9.14</td>\n",
              "      <td>21.60</td>\n",
              "      <td>NaN</td>\n",
              "      <td>NaN</td>\n",
              "      <td>NaN</td>\n",
              "      <td>NaN</td>\n",
              "      <td>NaN</td>\n",
              "      <td>NaN</td>\n",
              "      <td>NaN</td>\n",
              "      <td>NaN</td>\n",
              "    </tr>\n",
              "    <tr>\n",
              "      <th>4</th>\n",
              "      <td>0.02729</td>\n",
              "      <td>0.00</td>\n",
              "      <td>7.07</td>\n",
              "      <td>0.0</td>\n",
              "      <td>0.469</td>\n",
              "      <td>7.185</td>\n",
              "      <td>61.1</td>\n",
              "      <td>4.9671</td>\n",
              "      <td>2.0</td>\n",
              "      <td>242.0</td>\n",
              "      <td>17.8</td>\n",
              "    </tr>\n",
              "    <tr>\n",
              "      <th>...</th>\n",
              "      <td>...</td>\n",
              "      <td>...</td>\n",
              "      <td>...</td>\n",
              "      <td>...</td>\n",
              "      <td>...</td>\n",
              "      <td>...</td>\n",
              "      <td>...</td>\n",
              "      <td>...</td>\n",
              "      <td>...</td>\n",
              "      <td>...</td>\n",
              "      <td>...</td>\n",
              "    </tr>\n",
              "    <tr>\n",
              "      <th>1007</th>\n",
              "      <td>396.90000</td>\n",
              "      <td>5.64</td>\n",
              "      <td>23.90</td>\n",
              "      <td>NaN</td>\n",
              "      <td>NaN</td>\n",
              "      <td>NaN</td>\n",
              "      <td>NaN</td>\n",
              "      <td>NaN</td>\n",
              "      <td>NaN</td>\n",
              "      <td>NaN</td>\n",
              "      <td>NaN</td>\n",
              "    </tr>\n",
              "    <tr>\n",
              "      <th>1008</th>\n",
              "      <td>0.10959</td>\n",
              "      <td>0.00</td>\n",
              "      <td>11.93</td>\n",
              "      <td>0.0</td>\n",
              "      <td>0.573</td>\n",
              "      <td>6.794</td>\n",
              "      <td>89.3</td>\n",
              "      <td>2.3889</td>\n",
              "      <td>1.0</td>\n",
              "      <td>273.0</td>\n",
              "      <td>21.0</td>\n",
              "    </tr>\n",
              "    <tr>\n",
              "      <th>1009</th>\n",
              "      <td>393.45000</td>\n",
              "      <td>6.48</td>\n",
              "      <td>22.00</td>\n",
              "      <td>NaN</td>\n",
              "      <td>NaN</td>\n",
              "      <td>NaN</td>\n",
              "      <td>NaN</td>\n",
              "      <td>NaN</td>\n",
              "      <td>NaN</td>\n",
              "      <td>NaN</td>\n",
              "      <td>NaN</td>\n",
              "    </tr>\n",
              "    <tr>\n",
              "      <th>1010</th>\n",
              "      <td>0.04741</td>\n",
              "      <td>0.00</td>\n",
              "      <td>11.93</td>\n",
              "      <td>0.0</td>\n",
              "      <td>0.573</td>\n",
              "      <td>6.030</td>\n",
              "      <td>80.8</td>\n",
              "      <td>2.5050</td>\n",
              "      <td>1.0</td>\n",
              "      <td>273.0</td>\n",
              "      <td>21.0</td>\n",
              "    </tr>\n",
              "    <tr>\n",
              "      <th>1011</th>\n",
              "      <td>396.90000</td>\n",
              "      <td>7.88</td>\n",
              "      <td>11.90</td>\n",
              "      <td>NaN</td>\n",
              "      <td>NaN</td>\n",
              "      <td>NaN</td>\n",
              "      <td>NaN</td>\n",
              "      <td>NaN</td>\n",
              "      <td>NaN</td>\n",
              "      <td>NaN</td>\n",
              "      <td>NaN</td>\n",
              "    </tr>\n",
              "  </tbody>\n",
              "</table>\n",
              "<p>1012 rows × 11 columns</p>\n",
              "</div>"
            ],
            "text/plain": [
              "             0      1      2    3      4      5     6       7    8      9    \n",
              "0       0.00632  18.00   2.31  0.0  0.538  6.575  65.2  4.0900  1.0  296.0  \\\n",
              "1     396.90000   4.98  24.00  NaN    NaN    NaN   NaN     NaN  NaN    NaN   \n",
              "2       0.02731   0.00   7.07  0.0  0.469  6.421  78.9  4.9671  2.0  242.0   \n",
              "3     396.90000   9.14  21.60  NaN    NaN    NaN   NaN     NaN  NaN    NaN   \n",
              "4       0.02729   0.00   7.07  0.0  0.469  7.185  61.1  4.9671  2.0  242.0   \n",
              "...         ...    ...    ...  ...    ...    ...   ...     ...  ...    ...   \n",
              "1007  396.90000   5.64  23.90  NaN    NaN    NaN   NaN     NaN  NaN    NaN   \n",
              "1008    0.10959   0.00  11.93  0.0  0.573  6.794  89.3  2.3889  1.0  273.0   \n",
              "1009  393.45000   6.48  22.00  NaN    NaN    NaN   NaN     NaN  NaN    NaN   \n",
              "1010    0.04741   0.00  11.93  0.0  0.573  6.030  80.8  2.5050  1.0  273.0   \n",
              "1011  396.90000   7.88  11.90  NaN    NaN    NaN   NaN     NaN  NaN    NaN   \n",
              "\n",
              "        10  \n",
              "0     15.3  \n",
              "1      NaN  \n",
              "2     17.8  \n",
              "3      NaN  \n",
              "4     17.8  \n",
              "...    ...  \n",
              "1007   NaN  \n",
              "1008  21.0  \n",
              "1009   NaN  \n",
              "1010  21.0  \n",
              "1011   NaN  \n",
              "\n",
              "[1012 rows x 11 columns]"
            ]
          },
          "execution_count": 4,
          "metadata": {},
          "output_type": "execute_result"
        }
      ],
      "source": [
        "import numpy as np\n",
        "import pandas as pd\n",
        "from sklearn import linear_model\n",
        "import matplotlib.pyplot as plt\n",
        "\n",
        "# Importamos los datos\n",
        "data_boston = \"http://lib.stat.cmu.edu/datasets/boston\"\n",
        "\n",
        "# Creamos un DataFrame para visualizarlos\n",
        "df = pd.read_csv(data_boston, sep=\"\\s+\", skiprows=22, header=None)\n",
        "df"
      ]
    },
    {
      "cell_type": "code",
      "execution_count": 5,
      "id": "ea568e23",
      "metadata": {},
      "outputs": [],
      "source": [
        "data = np.hstack([df.values[::2, :], df.values[1::2, :2]])\n",
        "target = df.values[1::2, 2]"
      ]
    },
    {
      "cell_type": "code",
      "execution_count": 9,
      "id": "55939e8f",
      "metadata": {
        "id": "55939e8f"
      },
      "outputs": [],
      "source": [
        "# Elegimos los datos que queremos analizar\n",
        "\n",
        "# Definimos la variable independiente como el número de habitaciones (columna 5 de los datos)\n",
        "X = data[:, np.newaxis, 5]\n",
        "\n",
        "# Definimos la variable de respuesta utilizando el atributo target del dataset de sklearn\n",
        "y = target"
      ]
    },
    {
      "attachments": {},
      "cell_type": "markdown",
      "id": "c6419ba5",
      "metadata": {
        "id": "c6419ba5"
      },
      "source": [
        "Ahora, visualicemos los datos para darnos una idea de si existe una relación lineal entre las variables."
      ]
    },
    {
      "cell_type": "code",
      "execution_count": 10,
      "id": "f9080f93",
      "metadata": {
        "id": "f9080f93",
        "scrolled": true
      },
      "outputs": [
        {
          "data": {
            "image/png": "[encoded data removed]",
            "text/plain": [
              "<Figure size 640x480 with 1 Axes>"
            ]
          },
          "metadata": {},
          "output_type": "display_data"
        }
      ],
      "source": [
        "# Graficamos los datos correspondientes:\n",
        "plt.scatter(X, y)\n",
        "plt.xlabel('Número de habitaciones')\n",
        "plt.ylabel('Precio')\n",
        "plt.show()"
      ]
    },
    {
      "attachments": {},
      "cell_type": "markdown",
      "id": "6e98ea26",
      "metadata": {
        "id": "6e98ea26"
      },
      "source": [
        "Después, creamos el modelo de regresión siguiendo los pasos vistos anteriormente:"
      ]
    },
    {
      "cell_type": "code",
      "execution_count": 11,
      "id": "b950b971",
      "metadata": {
        "id": "b950b971"
      },
      "outputs": [
        {
          "data": {
            "image/png": "[encoded data removed]",
            "text/plain": [
              "<Figure size 640x480 with 1 Axes>"
            ]
          },
          "metadata": {},
          "output_type": "display_data"
        }
      ],
      "source": [
        "from sklearn.model_selection import train_test_split\n",
        "\n",
        "# Creamos conjuntos de datos para entrenamiento y prueba:\n",
        "X_train, X_test, y_train, y_test = train_test_split(X, y, test_size=0.2)\n",
        "\n",
        "# Declaramos una instancia del modelo:\n",
        "lr = linear_model.LinearRegression()\n",
        "\n",
        "# Entrenamos el modelo:\n",
        "lr.fit(X_train, y_train)\n",
        "\n",
        "# Utilizamos el modelo para predecir\n",
        "y_estimado = lr.predict(X_test)\n",
        "\n",
        "# Graficamos los datos y las predicciones hechas por el modelo\n",
        "plt.scatter(X_test, y_test)\n",
        "plt.plot(X_test, y_estimado, color='red', linewidth=3)\n",
        "plt.xlabel('Número de habitaciones')\n",
        "plt.ylabel('Precio')\n",
        "plt.show()"
      ]
    },
    {
      "attachments": {},
      "cell_type": "markdown",
      "id": "0921d9a3",
      "metadata": {
        "id": "0921d9a3"
      },
      "source": [
        "Como podemos ver, parece que el modelo de regresión se ajusta bien a los datos de vivienda de Boston. Para comprobarlo, evaluemos el desempeño del modelo:"
      ]
    },
    {
      "cell_type": "code",
      "execution_count": 12,
      "id": "9b3c436f",
      "metadata": {
        "id": "9b3c436f",
        "scrolled": true
      },
      "outputs": [
        {
          "data": {
            "text/plain": [
              "0.5252281669940768"
            ]
          },
          "execution_count": 12,
          "metadata": {},
          "output_type": "execute_result"
        }
      ],
      "source": [
        "lr.score(X_test, y_test)"
      ]
    },
    {
      "attachments": {},
      "cell_type": "markdown",
      "id": "7281aa81",
      "metadata": {
        "id": "7281aa81"
      },
      "source": [
        "El desempeño del modelo no es muy alto. Esto nos indica que, aunque a simple vista pareciera que el número de habitaciones es suficiente para estimar el precio de una vivienda, es probable que necesitemos considerar más variables con el fin de encontrar una mejor aproximación del precio de una casa."
      ]
    },
    {
      "attachments": {},
      "cell_type": "markdown",
      "id": "0d0411e6",
      "metadata": {
        "id": "0d0411e6"
      },
      "source": [
        "### 2.2. Regresión lineal múltiple\n",
        "\n",
        "Una regresión lineal múltiple es el caso de una regresión lineal simple con múltiples variables independientes $X$. La ecuación general para este tipo de regresión es la siguiente:$$y = β_0 + β_1X_1 + β_2X_2 + ... + β_nX_n + e$$"
      ]
    },
    {
      "attachments": {},
      "cell_type": "markdown",
      "id": "13c397a0",
      "metadata": {
        "id": "13c397a0"
      },
      "source": [
        "El objetivo de este tipo de regresión es incorporar la información de varias variables para explicar conjuntamente el comportamiento de la variable de respuesta."
      ]
    },
    {
      "attachments": {},
      "cell_type": "markdown",
      "id": "553f7ac1",
      "metadata": {
        "id": "553f7ac1"
      },
      "source": [
        "##### Ejemplo 2.\n",
        "Retomemos el [Ejemplo 1](#ej1). Esta vez queremos predecir el precio de una casa a partir de múltiples variables. Para esto usaremos todas las variables que existen en el set de datos de vivienda de Boston. Entre estas variables encontramos el número de habitaciones de la vivienda, número de crímenes en el área cercana, costo de impuestos, y algunas más."
      ]
    },
    {
      "attachments": {},
      "cell_type": "markdown",
      "id": "239ab1b0",
      "metadata": {
        "id": "239ab1b0"
      },
      "source": [
        "De este modo, empezaremos cargando el set de datos y separando la variable de interes de las otras variables:"
      ]
    },
    {
      "cell_type": "code",
      "execution_count": 13,
      "id": "1c7e5aae",
      "metadata": {
        "id": "1c7e5aae"
      },
      "outputs": [
        {
          "ename": "ImportError",
          "evalue": "\n`load_boston` has been removed from scikit-learn since version 1.2.\n\nThe Boston housing prices dataset has an ethical problem: as\ninvestigated in [1], the authors of this dataset engineered a\nnon-invertible variable \"B\" assuming that racial self-segregation had a\npositive impact on house prices [2]. Furthermore the goal of the\nresearch that led to the creation of this dataset was to study the\nimpact of air quality but it did not give adequate demonstration of the\nvalidity of this assumption.\n\nThe scikit-learn maintainers therefore strongly discourage the use of\nthis dataset unless the purpose of the code is to study and educate\nabout ethical issues in data science and machine learning.\n\nIn this special case, you can fetch the dataset from the original\nsource::\n\n    import pandas as pd\n    import numpy as np\n\n    data_url = \"http://lib.stat.cmu.edu/datasets/boston\"\n    raw_df = pd.read_csv(data_url, sep=\"\\s+\", skiprows=22, header=None)\n    data = np.hstack([raw_df.values[::2, :], raw_df.values[1::2, :2]])\n    target = raw_df.values[1::2, 2]\n\nAlternative datasets include the California housing dataset and the\nAmes housing dataset. You can load the datasets as follows::\n\n    from sklearn.datasets import fetch_california_housing\n    housing = fetch_california_housing()\n\nfor the California housing dataset and::\n\n    from sklearn.datasets import fetch_openml\n    housing = fetch_openml(name=\"house_prices\", as_frame=True)\n\nfor the Ames housing dataset.\n\n[1] M Carlisle.\n\"Racist data destruction?\"\n<https://medium.com/@docintangible/racist-data-destruction-113e3eff54a8>\n\n[2] Harrison Jr, David, and Daniel L. Rubinfeld.\n\"Hedonic housing prices and the demand for clean air.\"\nJournal of environmental economics and management 5.1 (1978): 81-102.\n<https://www.researchgate.net/publication/4974606_Hedonic_housing_prices_and_the_demand_for_clean_air>\n",
          "output_type": "error",
          "traceback": [
            "\u001b[0;31m---------------------------------------------------------------------------\u001b[0m",
            "\u001b[0;31mImportError\u001b[0m                               Traceback (most recent call last)",
            "Cell \u001b[0;32mIn[13], line 6\u001b[0m\n\u001b[1;32m      3\u001b[0m \u001b[39mimport\u001b[39;00m \u001b[39mmatplotlib\u001b[39;00m\u001b[39m.\u001b[39;00m\u001b[39mpyplot\u001b[39;00m \u001b[39mas\u001b[39;00m \u001b[39mplt\u001b[39;00m\n\u001b[1;32m      5\u001b[0m \u001b[39m#Importamos los datos\u001b[39;00m\n\u001b[0;32m----> 6\u001b[0m data_boston \u001b[39m=\u001b[39m datasets\u001b[39m.\u001b[39;49mload_boston()\n\u001b[1;32m      8\u001b[0m \u001b[39m# Elegimos los datos que queremos analizar\u001b[39;00m\n\u001b[1;32m      9\u001b[0m \n\u001b[1;32m     10\u001b[0m \u001b[39m# Definimos todas las variables como variables independientes\u001b[39;00m\n\u001b[1;32m     11\u001b[0m X \u001b[39m=\u001b[39m data_boston\u001b[39m.\u001b[39mdata\n",
            "File \u001b[0;32m~/.local/lib/python3.10/site-packages/sklearn/datasets/__init__.py:156\u001b[0m, in \u001b[0;36m__getattr__\u001b[0;34m(name)\u001b[0m\n\u001b[1;32m    105\u001b[0m \u001b[39mif\u001b[39;00m name \u001b[39m==\u001b[39m \u001b[39m\"\u001b[39m\u001b[39mload_boston\u001b[39m\u001b[39m\"\u001b[39m:\n\u001b[1;32m    106\u001b[0m     msg \u001b[39m=\u001b[39m textwrap\u001b[39m.\u001b[39mdedent(\n\u001b[1;32m    107\u001b[0m \u001b[39m        \u001b[39m\u001b[39m\"\"\"\u001b[39;00m\n\u001b[1;32m    108\u001b[0m \u001b[39m        `load_boston` has been removed from scikit-learn since version 1.2.\u001b[39;00m\n\u001b[0;32m   (...)\u001b[0m\n\u001b[1;32m    154\u001b[0m \u001b[39m        \"\"\"\u001b[39;00m\n\u001b[1;32m    155\u001b[0m     )\n\u001b[0;32m--> 156\u001b[0m     \u001b[39mraise\u001b[39;00m \u001b[39mImportError\u001b[39;00m(msg)\n\u001b[1;32m    157\u001b[0m \u001b[39mtry\u001b[39;00m:\n\u001b[1;32m    158\u001b[0m     \u001b[39mreturn\u001b[39;00m \u001b[39mglobals\u001b[39m()[name]\n",
            "\u001b[0;31mImportError\u001b[0m: \n`load_boston` has been removed from scikit-learn since version 1.2.\n\nThe Boston housing prices dataset has an ethical problem: as\ninvestigated in [1], the authors of this dataset engineered a\nnon-invertible variable \"B\" assuming that racial self-segregation had a\npositive impact on house prices [2]. Furthermore the goal of the\nresearch that led to the creation of this dataset was to study the\nimpact of air quality but it did not give adequate demonstration of the\nvalidity of this assumption.\n\nThe scikit-learn maintainers therefore strongly discourage the use of\nthis dataset unless the purpose of the code is to study and educate\nabout ethical issues in data science and machine learning.\n\nIn this special case, you can fetch the dataset from the original\nsource::\n\n    import pandas as pd\n    import numpy as np\n\n    data_url = \"http://lib.stat.cmu.edu/datasets/boston\"\n    raw_df = pd.read_csv(data_url, sep=\"\\s+\", skiprows=22, header=None)\n    data = np.hstack([raw_df.values[::2, :], raw_df.values[1::2, :2]])\n    target = raw_df.values[1::2, 2]\n\nAlternative datasets include the California housing dataset and the\nAmes housing dataset. You can load the datasets as follows::\n\n    from sklearn.datasets import fetch_california_housing\n    housing = fetch_california_housing()\n\nfor the California housing dataset and::\n\n    from sklearn.datasets import fetch_openml\n    housing = fetch_openml(name=\"house_prices\", as_frame=True)\n\nfor the Ames housing dataset.\n\n[1] M Carlisle.\n\"Racist data destruction?\"\n<https://medium.com/@docintangible/racist-data-destruction-113e3eff54a8>\n\n[2] Harrison Jr, David, and Daniel L. Rubinfeld.\n\"Hedonic housing prices and the demand for clean air.\"\nJournal of environmental economics and management 5.1 (1978): 81-102.\n<https://www.researchgate.net/publication/4974606_Hedonic_housing_prices_and_the_demand_for_clean_air>\n"
          ]
        }
      ],
      "source": [
        "import numpy as np\n",
        "from sklearn import datasets, linear_model\n",
        "import matplotlib.pyplot as plt\n",
        "\n",
        "#Importamos los datos\n",
        "data_boston = datasets.load_boston()\n",
        "\n",
        "# Elegimos los datos que queremos analizar\n",
        "\n",
        "# Definimos todas las variables como variables independientes\n",
        "X = data_boston.data\n",
        "\n",
        "# Definimos la variable de respuesta utilizando el atributo target del dataset de sklearn\n",
        "y = data_boston.target"
      ]
    },
    {
      "attachments": {},
      "cell_type": "markdown",
      "id": "eb5905bc",
      "metadata": {
        "id": "eb5905bc"
      },
      "source": [
        "Luego, debemos crear el modelo de la misma manera que en la regresión lineal simple."
      ]
    },
    {
      "cell_type": "code",
      "execution_count": null,
      "id": "f96f5c75",
      "metadata": {
        "id": "f96f5c75"
      },
      "outputs": [],
      "source": [
        "from sklearn.model_selection import train_test_split\n",
        "\n",
        "# Creamos conjuntos de datos para entrenamiento y prueba\n",
        "X_train, X_test, y_train, y_test = train_test_split(X, y, test_size=0.2)\n",
        "\n",
        "# Declaramos una instancia del modelo\n",
        "lr = linear_model.LinearRegression()\n",
        "\n",
        "# Entrenamos el modelo\n",
        "lr.fit(X_train, y_train)\n",
        "\n",
        "# Utilizamos el modelo para predecir\n",
        "y_pred = lr.predict(X_test)"
      ]
    },
    {
      "attachments": {},
      "cell_type": "markdown",
      "id": "ed101b95",
      "metadata": {
        "id": "ed101b95"
      },
      "source": [
        "Finalmente, evaluemos el desempeño del modelo:"
      ]
    },
    {
      "cell_type": "code",
      "execution_count": null,
      "id": "a7e3ea9e",
      "metadata": {
        "id": "a7e3ea9e"
      },
      "outputs": [],
      "source": [
        "lr.score(X_test, y_test)"
      ]
    },
    {
      "attachments": {},
      "cell_type": "markdown",
      "id": "a806139d",
      "metadata": {
        "id": "a806139d"
      },
      "source": [
        "Como podemos observar, el modelo obtuvo una precisión mucho mayor que cuando solo se usó el número de habitaciones. A partir de este resultado, podemos concluir que el precio de una casa en Boston puede ser explicado conjuntamente por numerosos factores y no por uno en particular."
      ]
    },
    {
      "cell_type": "code",
      "execution_count": null,
      "id": "ef5c4bf6",
      "metadata": {
        "id": "ef5c4bf6"
      },
      "outputs": [],
      "source": [
        "spector_data.endog"
      ]
    }
  ],
  "metadata": {
    "colab": {
      "provenance": []
    },
    "kernelspec": {
      "display_name": "Python 3",
      "language": "python",
      "name": "python3"
    },
    "language_info": {
      "codemirror_mode": {
        "name": "ipython",
        "version": 3
      },
      "file_extension": ".py",
      "mimetype": "text/x-python",
      "name": "python",
      "nbconvert_exporter": "python",
      "pygments_lexer": "ipython3",
      "version": "3.10.4"
    }
  },
  "nbformat": 4,
  "nbformat_minor": 5
}
